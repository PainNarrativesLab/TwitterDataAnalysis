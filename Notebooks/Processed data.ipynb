{
 "cells": [
  {
   "cell_type": "markdown",
   "metadata": {},
   "source": [
    "This notebook contains tools for examining and managing the processed data files\n",
    "\n",
    "It includes tasks like: \n",
    "\n",
    "- Creating a stopword free database file\n",
    "\n",
    "- Adding indexes to the database file\n",
    "\n",
    "- Manually deleting records with non-usable strings"
   ]
  },
  {
   "cell_type": "code",
   "execution_count": null,
   "metadata": {},
   "outputs": [],
   "source": [
    "%cd twitteranalysis\n",
    "import sqlite3\n",
    "import environment\n",
    "import pandas as pd\n",
    "import seaborn as sns\n",
    "%matplotlib inline\n",
    "from matplotlib import pyplot as plt\n",
    "\n",
    "\n",
    "#let pandas dataframe listings go long\n",
    "pd.options.display.max_rows = 999"
   ]
  },
  {
   "cell_type": "code",
   "execution_count": null,
   "metadata": {},
   "outputs": [],
   "source": [
    "from SearchTools.WordMaps import get_adjacent_word_counts, get_adjacent_word_counts_in_tweets, get_user_ids_for_word, get_tweet_ids_for_word\n",
    "from DataTools import SqliteDataTools as DT"
   ]
  },
  {
   "cell_type": "markdown",
   "metadata": {},
   "source": [
    "# Properties of master.db"
   ]
  },
  {
   "cell_type": "markdown",
   "metadata": {},
   "source": [
    "## row counts"
   ]
  },
  {
   "cell_type": "code",
   "execution_count": null,
   "metadata": {},
   "outputs": [],
   "source": [
    "%%time\n",
    "count_words(environment.USER_DB_NO_STOP)\n",
    "# environment.USER_DB_NO_STOP\n",
    "# 11.4 without index\n",
    "# 6.31 with index"
   ]
  },
  {
   "cell_type": "code",
   "execution_count": null,
   "metadata": {},
   "outputs": [],
   "source": [
    "DT.count_rows(environment.TWEET_DB_MASTER)"
   ]
  },
  {
   "cell_type": "code",
   "execution_count": null,
   "metadata": {},
   "outputs": [],
   "source": [
    "DT.count_rows(environment.TWEET_DB_NO_STOP)"
   ]
  },
  {
   "cell_type": "code",
   "execution_count": null,
   "metadata": {},
   "outputs": [],
   "source": [
    "DT.count_tweets(environment.TWEET_DB_MASTER)"
   ]
  },
  {
   "cell_type": "code",
   "execution_count": null,
   "metadata": {},
   "outputs": [],
   "source": [
    "DT.count_rows(environment.TWEET_DB_NO_STOP)"
   ]
  },
  {
   "cell_type": "code",
   "execution_count": null,
   "metadata": {},
   "outputs": [],
   "source": [
    "DT.count_rows(environment.TWEET_DB_MASTER)"
   ]
  },
  {
   "cell_type": "code",
   "execution_count": null,
   "metadata": {},
   "outputs": [],
   "source": [
    "# Distinct users\n",
    "DT.count_users()"
   ]
  },
  {
   "cell_type": "markdown",
   "metadata": {},
   "source": [
    "with exceptions in filter\n",
    "    - 156590\n",
    "\n",
    "without \n",
    "    - 164499\n",
    "\n",
    "with regex\n",
    "    - 144807, 145514"
   ]
  },
  {
   "cell_type": "code",
   "execution_count": null,
   "metadata": {},
   "outputs": [],
   "source": []
  },
  {
   "cell_type": "markdown",
   "metadata": {},
   "source": [
    "# Maintenance"
   ]
  },
  {
   "cell_type": "markdown",
   "metadata": {},
   "source": [
    "## Remove bad records"
   ]
  },
  {
   "cell_type": "code",
   "execution_count": null,
   "metadata": {},
   "outputs": [],
   "source": [
    "to_prune = [\n",
    "    '\\\\n',\n",
    "    '\\\\n\\\\n',\n",
    "    '\\\\xc2\\\\x96',\n",
    "    '\\\\xc3\\\\xa0',\n",
    "    '\\\\xe2\\\\x80\\\\x93',\n",
    "    '\\\\xe2\\\\x80\\\\x94',\n",
    "    '\\\\xe2\\\\x80\\\\xa6',\n",
    "    '\\\\xeb\\\\x8c\\\\x80\\\\xeb\\\\xb0\\\\x95',\n",
    "    '\\\\xf0\\\\x9f\\\\x91\\\\x8a\\\\xf0\\\\x9f\\\\x8f\\\\xbb',\n",
    "    '\\\\xf0\\\\x9f\\\\x98\\\\x94',\n",
    "    '\\\\xf0\\\\x9f\\\\x98\\\\xa2',\n",
    "    '\\\\xf0\\\\x9f\\\\x98\\\\xa9',\n",
    "    '\\\\xf0\\\\x9f\\\\x98\\\\xab',\n",
    "    '\\\\xf0\\\\x9f\\\\x98\\\\xad',\n",
    "    '\\\\xf0\\\\x9f\\\\x98\\\\xbc\\\\xf0\\\\x9f\\\\x98\\\\xb9\\\\xf0\\\\x9f\\\\x99\\\\x80',\n",
    "    '/\\\\xe2\\\\x80\\\\xa6',\n",
    "    'h\\\\xe2\\\\x80\\\\xa6',\n",
    "    'ht\\\\xe2\\\\x80\\\\xa6',\n",
    "    'htt\\\\xe2\\\\x80\\\\xa6',\n",
    "    \"'\\\\xeb\\\\x8d\\\\x94\\\\xeb\\\\xb8\\\\x94\\\\xec\\\\x97\\\\x90\\\\xec\\\\x8a\\\\xa4301'\\\\xec\\\\x9d\\\\x84\",\n",
    "    \"'\\\\xeb\\\\x8d\\\\x94\\\\xec\\\\x87\\\\xbc\",\n",
    "    \"'\\\\xeb\\\\x8d\\\\x94\\\\xec\\\\x87\\\\xbc'\\\\xec\\\\x97\\\\x90\\\\xec\\\\x84\\\\x9c\",\n",
    "    '\\xeb\\x8d\\x94\\xec\\x87\\xbc',\n",
    "    '\\xea\\xb9\\x80\\xea\\xb7\\x9c\\xec\\xa2\\x85',\n",
    "    '\\xed\\x97\\x88\\xec\\x98\\x81\\xec\\x83\\x9d'\n",
    "    '\\xea\\xb9\\x80\\xea\\xb7\\x9c\\xec\\xa2\\x85',\n",
    "    '//\\\\xe2\\\\x80\\\\xa6',\n",
    "     '//t.\\\\xe2\\\\x80\\\\xa6',\n",
    "     '//t.c\\\\xe2\\\\x80\\\\xa6',\n",
    "     '//t\\\\xe2\\\\x80\\\\xa6',\n",
    "     '\\\\xe2\\\\x80\\\\x9c',\n",
    "     '\\\\xea\\\\xb9\\\\x80\\\\xea\\\\xb7\\\\x9c\\\\xec\\\\xa2\\\\x85',\n",
    "     '\\\\xea\\\\xb9\\\\x80\\\\xed\\\\x98\\\\x95\\\\xec\\\\xa4\\\\x80',\n",
    "     '\\\\xeb\\\\x8d\\\\x94\\\\xeb\\\\xb8\\\\x94\\\\xec\\\\x97\\\\x90\\\\xec\\\\x8a\\\\xa4301',\n",
    "     '\\\\xeb\\\\x8d\\\\x94\\\\xec\\\\x87\\\\xbc',\n",
    "    '\\xed\\x97\\x88\\xec\\x98\\x81\\xec\\x83\\x9d'\n",
    "]\n",
    "\n",
    "def prune_map(db):\n",
    "    conn = sqlite3.connect(db)\n",
    "    query = \"DELETE FROM word_map WHERE word = ?\"\n",
    "    with conn:\n",
    "        for t in to_prune:\n",
    "            word = (t, )\n",
    "            conn.execute(query, word)\n",
    "            print(u\"deleted: %s\" % t)"
   ]
  },
  {
   "cell_type": "code",
   "execution_count": null,
   "metadata": {},
   "outputs": [],
   "source": [
    "prune_map(environment.TWEET_DB_NO_STOP)\n",
    "\n",
    "# Before run: \n",
    "# 59756272 rows in /Users/adam/Dropbox/PainNarrativesLab/private_data/tweet-databases/tweets-no-stop.db\n",
    "# After run:\n",
    "# 59064116 rows in /Users/adam/Dropbox/PainNarrativesLab/private_data/tweet-databases/tweets-no-stop.db\n",
    "# Removed 692,156 rows"
   ]
  },
  {
   "cell_type": "code",
   "execution_count": null,
   "metadata": {},
   "outputs": [],
   "source": []
  },
  {
   "cell_type": "code",
   "execution_count": null,
   "metadata": {},
   "outputs": [],
   "source": []
  },
  {
   "cell_type": "markdown",
   "metadata": {},
   "source": [
    "## Add indexes"
   ]
  },
  {
   "cell_type": "code",
   "execution_count": null,
   "metadata": {},
   "outputs": [],
   "source": [
    "import sqlite3\n",
    "def add_indexes(db):\n",
    "    fields = ['user_id', 'tweet_id', 'word']\n",
    "    query = \"create index %s_idx on word_map(%s)\"\n",
    "    conn = sqlite3.connect(db)\n",
    "    with conn:\n",
    "        for f in fields:\n",
    "            q = query % (f, f)\n",
    "            conn.execute(q)\n",
    "    \n",
    "# environment.TWEET_DB_MASTER\n",
    "# 2.3GB before indexes added\n",
    "# 5.88 GB after\n",
    "    "
   ]
  },
  {
   "cell_type": "code",
   "execution_count": null,
   "metadata": {},
   "outputs": [],
   "source": [
    "# add_indexes(environment.TWEET_DB_NO_STOP)"
   ]
  },
  {
   "cell_type": "code",
   "execution_count": null,
   "metadata": {},
   "outputs": [],
   "source": []
  },
  {
   "cell_type": "markdown",
   "metadata": {},
   "source": [
    "## Create stopword free db"
   ]
  },
  {
   "cell_type": "code",
   "execution_count": null,
   "metadata": {
    "ExecuteTime": {
     "end_time": "2018-06-01T01:54:07.895468Z",
     "start_time": "2018-06-01T01:54:07.891471Z"
    }
   },
   "outputs": [],
   "source": [
    "%cd twitteranalysis\n",
    "import sqlite3\n",
    "from nltk.corpus import stopwords\n",
    "import environment"
   ]
  },
  {
   "cell_type": "code",
   "execution_count": null,
   "metadata": {},
   "outputs": [],
   "source": [
    "def remove_old_table_name(db):\n",
    "    q = \"alter table word_map_deux rename to word_map\"\n",
    "    conn = sqlite3.connect(db)\n",
    "    conn.execute(q)\n",
    "    conn.commit()\n",
    "    conn.close()"
   ]
  },
  {
   "cell_type": "code",
   "execution_count": null,
   "metadata": {},
   "outputs": [],
   "source": [
    "english_stops = stopwords.words('english')\n",
    "\n",
    "def make_stopword_exclusion_query(stops):\n",
    "    st = \" AND word != '%s'\"\n",
    "    query = \"SELECT * FROM word_map WHERE word != '2' \"\n",
    "    for s in stops:\n",
    "        n = st % s\n",
    "        query += n \n",
    "    return query\n",
    "\n",
    "\n",
    "def row_generator(source_db, query):\n",
    "    conn = sqlite3.connect(source_db)\n",
    "    try:\n",
    "        r = conn.execute(query)\n",
    "        while True:\n",
    "            v = r.fetchone()\n",
    "            if v is None: raise StopIteration\n",
    "            yield v\n",
    "    finally:\n",
    "        conn.close()\n",
    "\n",
    "\n",
    "\n",
    "\n",
    "def remove_stopwords(source_db, target_db):\n",
    "    query = make_stopword_exclusion_query(english_stops)\n",
    "\n",
    "    conn2 = sqlite3.connect(target_db)\n",
    "\n",
    "    try:\n",
    "        userQuery = \"\"\"INSERT INTO word_map (tweet_id, user_id, word, sentence_index, word_index) VALUES (?, ?, ?, ?, ?)\"\"\"\n",
    "        conn2.executemany( userQuery, row_generator(source_db, query) )\n",
    "        conn2.commit()\n",
    "    except StopIteration:\n",
    "        print('stopped')\n",
    "    finally:\n",
    "        conn2.close()\n",
    "        print('done')\n",
    "\n"
   ]
  },
  {
   "cell_type": "code",
   "execution_count": null,
   "metadata": {
    "deletable": false,
    "editable": false,
    "run_control": {
     "frozen": true
    }
   },
   "outputs": [],
   "source": [
    "\n",
    "gen = row_generator(environment.TWEET_DB_MASTER, query)\n",
    "conn2 = sqlite3.connect(environment.TWEET_DB_NO_STOP)\n",
    "\n",
    "size = 1000\n",
    "queue = []\n",
    "\n",
    "cnt = 0\n",
    "\n",
    "\n",
    "def save_rows(rows, conn):\n",
    "#     print('save_rows called; count is %s' % cnt)\n",
    "    userQuery = \"\"\"INSERT INTO word_map (tweet_id, user_id, word, sentence_index, word_index) VALUES (?, ?, ?, ?, ?)\"\"\"\n",
    "    conn.executemany( userQuery, rows )\n",
    "    conn.commit()\n",
    "\n",
    "\n",
    "prev = 'j'\n",
    "try:\n",
    "\n",
    "    while True:    \n",
    "        cnt += 1\n",
    "        try:\n",
    "            if len(queue) >= size:\n",
    "                save_rows(queue, conn2)\n",
    "                queue = []\n",
    "            v = next(gen)\n",
    "            prev = v\n",
    "            if v is not None:\n",
    "                queue.append(v)\n",
    "\n",
    "        except StopIteration:\n",
    "            save_rows(queue, conn2)\n",
    "            \n",
    "            break\n",
    "\n",
    "    print('jip')\n",
    "    \n",
    "except Exception as e:\n",
    "    print(e)\n",
    "    print(prev)\n",
    "    \n",
    "finally:\n",
    "    conn2.close()\n",
    "    print(\"count is %s\" % cnt)\n"
   ]
  },
  {
   "cell_type": "code",
   "execution_count": null,
   "metadata": {},
   "outputs": [],
   "source": []
  },
  {
   "cell_type": "markdown",
   "metadata": {},
   "source": [
    "# Add user ids to the sqlite files to make searching easier\n",
    "\n",
    "Because we thought leaving them out would save time.... ugh."
   ]
  },
  {
   "cell_type": "code",
   "execution_count": 1,
   "metadata": {
    "ExecuteTime": {
     "end_time": "2018-06-01T02:05:10.856806Z",
     "start_time": "2018-06-01T02:05:10.729030Z"
    }
   },
   "outputs": [
    {
     "name": "stdout",
     "output_type": "stream",
     "text": [
      "(bookmark:twitteranalysis) -> /Users/adam/Dropbox/PainNarrativesLab/TwitterDataAnalysis\n",
      "/Users/adam/Dropbox/PainNarrativesLab/TwitterDataAnalysis\n"
     ]
    }
   ],
   "source": [
    "%cd twitteranalysis\n",
    "import environment\n",
    "import os\n",
    "import DataTools\n",
    "import sqlite3\n",
    "from DataTools.Cursors import WindowedTweetCursor\n",
    "from DataTools import SqliteDataTools as DT\n",
    "\n",
    "test_db = '%s/test-ids.db' % environment.LOG_FOLDER_PATH\n"
   ]
  },
  {
   "cell_type": "markdown",
   "metadata": {},
   "source": [
    "## Create user id - twitter id map db"
   ]
  },
  {
   "cell_type": "code",
   "execution_count": null,
   "metadata": {
    "ExecuteTime": {
     "end_time": "2018-06-01T01:58:12.323752Z",
     "start_time": "2018-06-01T01:58:12.319992Z"
    }
   },
   "outputs": [],
   "source": [
    "\n",
    "def initialize_id_map_table(db=environment.ID_MAP_DB):\n",
    "    query = \"\"\"CREATE TABLE `id_map` (\n",
    "    `tweet_id` int(20) DEFAULT NULL,\n",
    "    `user_id` int(20) DEFAULT NULL\n",
    "    )\n",
    "  \"\"\"\n",
    "    fields = ['user_id', 'tweet_id']\n",
    "    query2 = \"create index %s_idx on id_map(%s)\"\n",
    "    conn = sqlite3.connect(db)\n",
    "    with conn:\n",
    "        # create the table\n",
    "        conn.execute( query )\n",
    "        conn.commit()\n",
    " \n",
    "        for f in fields:\n",
    "            q = query2 % (f, f)\n",
    "            conn.execute(q)\n",
    "        \n",
    "        conn.commit()\n"
   ]
  },
  {
   "cell_type": "code",
   "execution_count": null,
   "metadata": {
    "deletable": false,
    "editable": false,
    "run_control": {
     "frozen": true
    }
   },
   "outputs": [],
   "source": [
    "os.remove( environment.ID_MAP_DB)"
   ]
  },
  {
   "cell_type": "code",
   "execution_count": null,
   "metadata": {
    "ExecuteTime": {
     "end_time": "2018-06-01T01:58:14.184243Z",
     "start_time": "2018-06-01T01:58:14.176958Z"
    },
    "deletable": false,
    "editable": false,
    "run_control": {
     "frozen": true
    }
   },
   "outputs": [],
   "source": [
    "initialize_id_map_table(environment.ID_MAP_DB)"
   ]
  },
  {
   "cell_type": "markdown",
   "metadata": {},
   "source": [
    "## Populate the id map table"
   ]
  },
  {
   "cell_type": "code",
   "execution_count": 2,
   "metadata": {
    "ExecuteTime": {
     "end_time": "2018-06-01T02:05:25.436486Z",
     "start_time": "2018-06-01T02:05:25.432168Z"
    }
   },
   "outputs": [],
   "source": [
    "def populate_id_map(cursor, db=environment.ID_MAP_DB, batch_size=10000):\n",
    "    query = \"\"\"insert into id_map(user_id, tweet_id) values(?, ?)\"\"\"\n",
    "    conn = sqlite3.connect(db)\n",
    "    queue = []\n",
    "    with conn:\n",
    "        while True:\n",
    "            try:\n",
    "                tweet = cursor.next()\n",
    "                vals = (tweet.userID, tweet.tweetID)\n",
    "                queue.append(vals)\n",
    "                if len(queue) % batch_size == 0:\n",
    "                    conn.executemany(query, queue)\n",
    "                    conn.commit()\n",
    "                    queue = []\n",
    "            except StopIteration: \n",
    "                conn.executemany(query, queue)   \n",
    "                conn.commit()\n",
    "                break\n",
    "            \n",
    "            "
   ]
  },
  {
   "cell_type": "code",
   "execution_count": null,
   "metadata": {
    "ExecuteTime": {
     "end_time": "2018-06-01T01:58:35.523839Z",
     "start_time": "2018-06-01T01:58:30.305035Z"
    },
    "deletable": false,
    "editable": false,
    "run_control": {
     "frozen": true
    }
   },
   "outputs": [],
   "source": [
    "%%time\n",
    "cursor = WindowedTweetCursor( language='en' )\n",
    "populate_id_map(cursor)\n",
    "# 37 min 12s"
   ]
  },
  {
   "cell_type": "markdown",
   "metadata": {},
   "source": [
    "## Add them in to the files\n",
    "\n",
    "This is probably best done by attaching the id map file and then doing a massive select and insert.\n",
    "\n"
   ]
  },
  {
   "cell_type": "code",
   "execution_count": 3,
   "metadata": {
    "ExecuteTime": {
     "end_time": "2018-06-01T02:05:33.945729Z",
     "start_time": "2018-06-01T02:05:33.943120Z"
    }
   },
   "outputs": [],
   "source": [
    "gen = DT.master_row_generator()"
   ]
  },
  {
   "cell_type": "code",
   "execution_count": 4,
   "metadata": {
    "ExecuteTime": {
     "end_time": "2018-06-01T02:05:34.914289Z",
     "start_time": "2018-06-01T02:05:34.902841Z"
    }
   },
   "outputs": [
    {
     "data": {
      "text/plain": [
       "(331539141059809280, None, 'spoonie', 0, 18)"
      ]
     },
     "execution_count": 4,
     "metadata": {},
     "output_type": "execute_result"
    }
   ],
   "source": [
    "next(gen)"
   ]
  },
  {
   "cell_type": "code",
   "execution_count": null,
   "metadata": {},
   "outputs": [],
   "source": []
  },
  {
   "cell_type": "code",
   "execution_count": 7,
   "metadata": {
    "ExecuteTime": {
     "end_time": "2018-06-01T02:06:17.268179Z",
     "start_time": "2018-06-01T02:06:17.265252Z"
    }
   },
   "outputs": [],
   "source": [
    "query = \"\"\"\n",
    "UPDATE \n",
    "    word_map\n",
    "SET \n",
    "    user_id = (\n",
    "        SELECT user_id \n",
    "        FROM id_map \n",
    "        WHERE word_map.tweet_id = id_map.tweet_id\n",
    "        )\n",
    "\"\"\""
   ]
  },
  {
   "cell_type": "code",
   "execution_count": 8,
   "metadata": {
    "ExecuteTime": {
     "end_time": "2018-06-01T02:08:36.268989Z",
     "start_time": "2018-06-01T02:06:17.921191Z"
    }
   },
   "outputs": [
    {
     "ename": "OperationalError",
     "evalue": "database is locked",
     "output_type": "error",
     "traceback": [
      "\u001b[0;31m---------------------------------------------------------------------------\u001b[0m",
      "\u001b[0;31mOperationalError\u001b[0m                          Traceback (most recent call last)",
      "\u001b[0;32m<timed exec>\u001b[0m in \u001b[0;36m<module>\u001b[0;34m()\u001b[0m\n",
      "\u001b[0;31mOperationalError\u001b[0m: database is locked"
     ]
    }
   ],
   "source": [
    "%%time\n",
    "conn = sqlite3.connect( environment.MASTER_DB )\n",
    "with conn:\n",
    "#     curs = conn.cursor()  # Attach cursor\n",
    "#     query0 = \"\"\"ATTACH DATABASE '%s' as id_map\"\"\" % test_db\n",
    "    query0 = \"\"\"ATTACH DATABASE '%s' as id_map\"\"\" % environment.ID_MAP_DB\n",
    "    conn.execute(query0)\n",
    "    conn.commit()\n",
    "    conn.execute(query)\n",
    "    conn.commit()\n"
   ]
  },
  {
   "cell_type": "markdown",
   "metadata": {},
   "source": [
    "## check whether successful"
   ]
  },
  {
   "cell_type": "code",
   "execution_count": null,
   "metadata": {
    "ExecuteTime": {
     "end_time": "2018-06-01T02:02:01.546275Z",
     "start_time": "2018-06-01T02:02:01.536052Z"
    }
   },
   "outputs": [],
   "source": [
    "# check amount in id_map\n",
    "# conn = sqlite3.connect( environment.ID_MAP_DB )\n",
    "conn = sqlite3.connect( test_db )\n",
    "with conn:\n",
    "    q = \"select count(tweet_id) from id_map where user_id > 0\"\n",
    "    r = conn.execute(q)\n",
    "    result = r.fetchall()\n",
    "print(result)"
   ]
  },
  {
   "cell_type": "code",
   "execution_count": 9,
   "metadata": {
    "ExecuteTime": {
     "end_time": "2018-06-01T02:11:36.264775Z",
     "start_time": "2018-06-01T02:11:27.940647Z"
    }
   },
   "outputs": [
    {
     "name": "stdout",
     "output_type": "stream",
     "text": [
      "[(0,)]\n"
     ]
    }
   ],
   "source": [
    "# check number of tweets without user id\n",
    "conn = sqlite3.connect( environment.MASTER_DB )\n",
    "with conn:\n",
    "    q = \"select count(tweet_id) from word_map where user_id > 0\"\n",
    "    r = conn.execute(q)\n",
    "    result = r.fetchall()\n",
    "print(result)"
   ]
  },
  {
   "cell_type": "code",
   "execution_count": null,
   "metadata": {},
   "outputs": [],
   "source": []
  }
 ],
 "metadata": {
  "kernelspec": {
   "display_name": "Python 3",
   "language": "python",
   "name": "python3"
  },
  "language_info": {
   "codemirror_mode": {
    "name": "ipython",
    "version": 3
   },
   "file_extension": ".py",
   "mimetype": "text/x-python",
   "name": "python",
   "nbconvert_exporter": "python",
   "pygments_lexer": "ipython3",
   "version": "3.6.4"
  },
  "latex_envs": {
   "LaTeX_envs_menu_present": true,
   "autoclose": false,
   "autocomplete": true,
   "bibliofile": "biblio.bib",
   "cite_by": "apalike",
   "current_citInitial": 1,
   "eqLabelWithNumbers": true,
   "eqNumInitial": 1,
   "hotkeys": {
    "equation": "Ctrl-E",
    "itemize": "Ctrl-I"
   },
   "labels_anchors": false,
   "latex_user_defs": false,
   "report_style_numbering": false,
   "user_envs_cfg": false
  },
  "toc": {
   "base_numbering": 1,
   "nav_menu": {},
   "number_sections": true,
   "sideBar": true,
   "skip_h1_title": false,
   "title_cell": "Table of Contents",
   "title_sidebar": "Contents",
   "toc_cell": false,
   "toc_position": {},
   "toc_section_display": true,
   "toc_window_display": false
  }
 },
 "nbformat": 4,
 "nbformat_minor": 2
}
