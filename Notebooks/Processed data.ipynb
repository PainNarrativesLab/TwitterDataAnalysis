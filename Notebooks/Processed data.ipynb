{
 "cells": [
  {
   "cell_type": "code",
   "execution_count": null,
   "metadata": {},
   "outputs": [],
   "source": [
    "%cd twitteranalysis\n",
    "import sqlite3\n",
    "import environment"
   ]
  },
  {
   "cell_type": "markdown",
   "metadata": {},
   "source": [
    "# Explore data"
   ]
  },
  {
   "cell_type": "markdown",
   "metadata": {},
   "source": [
    "## row counts"
   ]
  },
  {
   "cell_type": "code",
   "execution_count": 11,
   "metadata": {
    "ExecuteTime": {
     "end_time": "2018-04-24T00:20:00.426822Z",
     "start_time": "2018-04-24T00:20:00.418015Z"
    }
   },
   "outputs": [
    {
     "name": "stdout",
     "output_type": "stream",
     "text": [
      "16729 rows in /Users/adam/Desktop/TwitterDataAnalysisLogs/master.db \n"
     ]
    },
    {
     "data": {
      "text/plain": [
       "16729"
      ]
     },
     "execution_count": 11,
     "metadata": {},
     "output_type": "execute_result"
    }
   ],
   "source": [
    "def get_row_count(db_path):\n",
    "    conn = sqlite3.connect(db_path)\n",
    "    r = conn.execute(\"select count(word) from word_map\")\n",
    "    n = r.fetchone()\n",
    "    print(\"%s rows in %s \" % (n[0], db_path))\n",
    "    conn.close()\n",
    "    return n[0]\n",
    "get_row_count(environment.MASTER_DB)"
   ]
  },
  {
   "cell_type": "code",
   "execution_count": null,
   "metadata": {},
   "outputs": [],
   "source": [
    "# unique words\n",
    "conn = sqlite3.connect(environment.USER_DB_MASTER)\n",
    "r = conn.execute(\"select count(distinct word) from word_map_deux\")\n",
    "n = r.fetchone()\n",
    "print(\"%s unique words in the master user db\" % n[0])\n",
    "conn.close()"
   ]
  },
  {
   "cell_type": "code",
   "execution_count": null,
   "metadata": {
    "ExecuteTime": {
     "end_time": "2018-04-24T00:20:00.326107Z",
     "start_time": "2018-04-24T00:20:00.321031Z"
    }
   },
   "outputs": [],
   "source": [
    "def master_row_generator():\n",
    "    conn = sqlite3.connect(environment.MASTER_DB)\n",
    "    r = conn.execute(\"select * from word_map_deux\")\n",
    "    while True:\n",
    "        yield r.fetchone()\n",
    "\n",
    "def db_row_generator(filepath):\n",
    "    conn = sqlite3.connect(filepath)\n",
    "    r = conn.execute(\"select * from word_map_deux\")\n",
    "    while True:\n",
    "        yield r.fetchone()\n"
   ]
  },
  {
   "cell_type": "code",
   "execution_count": null,
   "metadata": {
    "ExecuteTime": {
     "end_time": "2018-04-24T00:20:00.333839Z",
     "start_time": "2018-04-24T00:20:00.329695Z"
    }
   },
   "outputs": [],
   "source": [
    "gen = db_row_generator(environment)"
   ]
  },
  {
   "cell_type": "code",
   "execution_count": null,
   "metadata": {
    "ExecuteTime": {
     "end_time": "2018-04-24T00:20:00.371382Z",
     "start_time": "2018-04-24T00:20:00.337634Z"
    }
   },
   "outputs": [],
   "source": [
    "for i in range(0, 22):\n",
    "    print(next(gen)[2])"
   ]
  },
  {
   "cell_type": "code",
   "execution_count": null,
   "metadata": {},
   "outputs": [],
   "source": []
  },
  {
   "cell_type": "markdown",
   "metadata": {},
   "source": [
    "with exceptions in filter\n",
    "    - 156590\n",
    "\n",
    "without \n",
    "    - 164499\n",
    "\n",
    "with regex\n",
    "    - 144807, 145514"
   ]
  },
  {
   "cell_type": "code",
   "execution_count": null,
   "metadata": {},
   "outputs": [],
   "source": []
  },
  {
   "cell_type": "markdown",
   "metadata": {},
   "source": [
    "## Word search"
   ]
  },
  {
   "cell_type": "code",
   "execution_count": null,
   "metadata": {},
   "outputs": [],
   "source": [
    "def get_user_ids_for_word(word, db=environment.USER_DB_NO_STOP):\n",
    "    query = \"\"\"\n",
    "          SELECT m.user_id AS uid, \n",
    "          m.word_index - 1 AS wix\n",
    "          FROM word_map_deux m\n",
    "          WHERE m.word=?\n",
    "    \"\"\"\n",
    "    conn = sqlite3.connect(db)\n",
    "    s = (word,)\n",
    "    r = conn.execute(query, s)\n",
    "    return r.fetchall()\n",
    "    conn.close()"
   ]
  },
  {
   "cell_type": "code",
   "execution_count": null,
   "metadata": {},
   "outputs": [],
   "source": [
    "r = get_user_ids_for_word('remo')"
   ]
  },
  {
   "cell_type": "code",
   "execution_count": null,
   "metadata": {},
   "outputs": [],
   "source": [
    "len(r)"
   ]
  },
  {
   "cell_type": "code",
   "execution_count": null,
   "metadata": {},
   "outputs": [],
   "source": []
  },
  {
   "cell_type": "code",
   "execution_count": null,
   "metadata": {},
   "outputs": [],
   "source": []
  },
  {
   "cell_type": "code",
   "execution_count": null,
   "metadata": {},
   "outputs": [],
   "source": [
    "def get_preceeding_words(word, db=environment.USER_DB_NO_STOP):\n",
    "    query = \"\"\"\n",
    "          SELECT a.word AS rwid, a.user_id\n",
    "          FROM word_map_deux a\n",
    "          JOIN (\n",
    "              SELECT m.user_id AS uid, \n",
    "              m.word_index - 1 AS wix\n",
    "              FROM word_map_deux m\n",
    "              WHERE m.word=?\n",
    "              ) AS b\n",
    "            ON (a.user_id = b.uid)\n",
    "            WHERE a.word_index = b.wix\n",
    "        \"\"\"\n",
    "    conn = sqlite3.connect(db)\n",
    "    s = (word,)\n",
    "    r = conn.execute(query, s)\n",
    "    return r.fetchall()\n",
    "    conn.close()"
   ]
  },
  {
   "cell_type": "code",
   "execution_count": null,
   "metadata": {},
   "outputs": [],
   "source": [
    "r = get_preceeding_word('remo')"
   ]
  },
  {
   "cell_type": "code",
   "execution_count": null,
   "metadata": {},
   "outputs": [],
   "source": [
    "len(r)"
   ]
  },
  {
   "cell_type": "code",
   "execution_count": null,
   "metadata": {},
   "outputs": [],
   "source": [
    "r"
   ]
  },
  {
   "cell_type": "code",
   "execution_count": 47,
   "metadata": {},
   "outputs": [],
   "source": [
    "\n",
    "def get_preceeding_word_counts(word, cutoff=None, db=environment.USER_DB_NO_STOP):\n",
    "    query = \"\"\"\n",
    "    SELECT a.word, count(a.word)\n",
    "          FROM word_map a\n",
    "          JOIN (\n",
    "              SELECT m.user_id AS uid, \n",
    "              m.word_index - 1 AS wix\n",
    "              FROM word_map m\n",
    "              WHERE m.word=?\n",
    "              ) AS b\n",
    "            ON (a.user_id = b.uid)\n",
    "            WHERE a.word_index = b.wix\n",
    "            group by a.word\n",
    "        \"\"\"\n",
    "    conn = sqlite3.connect(db)\n",
    "    s = (word,)\n",
    "    r = conn.execute(query, s)\n",
    "\n",
    "    if cutoff is None:\n",
    "        return r.fetchall()\n",
    "    return [x for x in r if x[1] >= cutoff]"
   ]
  },
  {
   "cell_type": "code",
   "execution_count": 54,
   "metadata": {},
   "outputs": [
    {
     "name": "stdout",
     "output_type": "stream",
     "text": [
      "CPU times: user 12.9 s, sys: 955 ms, total: 13.9 s\n",
      "Wall time: 14.5 s\n"
     ]
    }
   ],
   "source": [
    "%%time\n",
    "\n",
    "result = get_preceeding_word_counts('pain', cutoff=10)"
   ]
  },
  {
   "cell_type": "code",
   "execution_count": 55,
   "metadata": {},
   "outputs": [
    {
     "data": {
      "text/plain": [
       "91"
      ]
     },
     "execution_count": 55,
     "metadata": {},
     "output_type": "execute_result"
    }
   ],
   "source": [
    "len(result)"
   ]
  },
  {
   "cell_type": "code",
   "execution_count": 56,
   "metadata": {},
   "outputs": [
    {
     "data": {
      "text/plain": [
       "[('acute', 37),\n",
       " ('advanced', 15),\n",
       " ('alleviate', 14),\n",
       " ('alleviating', 10),\n",
       " ('ankle', 18),\n",
       " ('arthritis', 21),\n",
       " ('back', 489),\n",
       " ('based', 11),\n",
       " ('best', 14),\n",
       " ('body', 14),\n",
       " ('cancer', 12),\n",
       " ('certified', 17),\n",
       " ('chronic', 1610),\n",
       " ('comprehensive', 14),\n",
       " ('constant', 20),\n",
       " ('drug-free', 11),\n",
       " ('du', 12),\n",
       " ('effective', 13),\n",
       " ('eliminate', 15),\n",
       " ('emotional', 13),\n",
       " ('every', 11),\n",
       " ('experience', 12),\n",
       " ('facial', 21),\n",
       " ('family', 11),\n",
       " ('feel', 33),\n",
       " ('fibromyalgia', 15),\n",
       " ('foot', 31),\n",
       " ('free', 20),\n",
       " ('general', 12),\n",
       " ('get', 10),\n",
       " ('health', 18),\n",
       " ('heel', 22),\n",
       " ('help', 17),\n",
       " ('hip', 10),\n",
       " ('holistic', 10),\n",
       " ('https', 18),\n",
       " ('interventional', 76),\n",
       " ('intractable', 17),\n",
       " ('joint', 102),\n",
       " ('knee', 39),\n",
       " ('know', 22),\n",
       " ('le', 12),\n",
       " ('less', 31),\n",
       " ('let', 14),\n",
       " ('life', 14),\n",
       " ('limb', 11),\n",
       " ('live', 21),\n",
       " ('living', 19),\n",
       " ('love', 23),\n",
       " ('manage', 12),\n",
       " ('medical', 10),\n",
       " ('mom', 16),\n",
       " ('much', 19),\n",
       " ('multidisciplinary', 10),\n",
       " ('muscle', 31),\n",
       " ('musculoskeletal', 22),\n",
       " ('natural', 49),\n",
       " ('neck', 150),\n",
       " ('nerve', 21),\n",
       " ('neuropathic', 31),\n",
       " ('new', 10),\n",
       " ('pain', 86),\n",
       " ('pediatric', 38),\n",
       " ('pelvic', 74),\n",
       " ('persistent', 30),\n",
       " ('physical', 27),\n",
       " ('providing', 17),\n",
       " ('real', 11),\n",
       " ('reduce', 47),\n",
       " ('reducing', 12),\n",
       " ('regional', 76),\n",
       " ('relieve', 63),\n",
       " ('relieves', 11),\n",
       " ('relieving', 17),\n",
       " ('responsible', 11),\n",
       " ('severe', 15),\n",
       " ('shoulder', 29),\n",
       " ('specialist', 14),\n",
       " ('spinal', 15),\n",
       " ('spine', 16),\n",
       " ('sports', 11),\n",
       " ('stop', 13),\n",
       " ('therapy', 10),\n",
       " ('time', 13),\n",
       " ('topical', 11),\n",
       " ('treating', 25),\n",
       " ('true', 11),\n",
       " ('us', 20),\n",
       " ('w/chronic', 10),\n",
       " ('wants', 19),\n",
       " ('without', 39)]"
      ]
     },
     "execution_count": 56,
     "metadata": {},
     "output_type": "execute_result"
    }
   ],
   "source": [
    "result"
   ]
  },
  {
   "cell_type": "code",
   "execution_count": 44,
   "metadata": {},
   "outputs": [
    {
     "data": {
      "text/plain": [
       "[('alcohol', 23),\n",
       " ('coffee', 11),\n",
       " ('drug', 28),\n",
       " ('new', 11),\n",
       " ('sex', 11),\n",
       " ('slight', 14),\n",
       " ('unhealthy', 14)]"
      ]
     },
     "execution_count": 44,
     "metadata": {},
     "output_type": "execute_result"
    }
   ],
   "source": [
    "b"
   ]
  },
  {
   "cell_type": "markdown",
   "metadata": {},
   "source": [
    "Addict (>30)\n",
    "\n",
    "[('beauty', 48),\n",
    " ('blogger', 44),\n",
    " ('book', 138),\n",
    " ('caffeine', 116),\n",
    " ('cat', 42),\n",
    " ('chocolate', 83),\n",
    " ('coffee', 690),\n",
    " ('disney', 42),\n",
    " ('enjoy', 32),\n",
    " ('fashion', 66),\n",
    " ('fitness', 88),\n",
    " ('food', 98),\n",
    " ('football', 40),\n",
    " ('gym', 105),\n",
    " ('instagram', 38),\n",
    " ('internet', 62),\n",
    " ('love', 106),\n",
    " ('lover', 97),\n",
    " ('makeup', 61),\n",
    " ('media', 129),\n",
    " ('movie', 98),\n",
    " ('music', 340),\n",
    " ('netflix', 35),\n",
    " ('new', 41),\n",
    " ('news', 65),\n",
    " ('polish', 31),\n",
    " ('porn', 31),\n",
    " ('recovering', 35),\n",
    " ('series', 42),\n",
    " ('sex', 42),\n",
    " ('shoe', 52),\n",
    " ('sports', 77),\n",
    " ('starbucks', 76),\n",
    " ('tattoo', 65),\n",
    " ('tea', 182),\n",
    " ('travel', 80),\n",
    " ('tv', 200),\n",
    " ('twitter', 79),\n",
    " ('visit', 62),\n",
    " ('wife', 39),\n",
    " ('writer', 58),\n",
    " ('youtube', 44)]"
   ]
  },
  {
   "cell_type": "markdown",
   "metadata": {},
   "source": [
    "Addiction (>10)\n",
    "[('alcohol', 23),\n",
    " ('coffee', 11),\n",
    " ('drug', 28),\n",
    " ('new', 11),\n",
    " ('sex', 11),\n",
    " ('slight', 14),\n",
    " ('unhealthy', 14)]"
   ]
  },
  {
   "cell_type": "markdown",
   "metadata": {},
   "source": [
    "Pain >10\n",
    "[('acute', 37),\n",
    " ('advanced', 15),\n",
    " ('alleviate', 14),\n",
    " ('alleviating', 10),\n",
    " ('ankle', 18),\n",
    " ('arthritis', 21),\n",
    " ('back', 489),\n",
    " ('based', 11),\n",
    " ('best', 14),\n",
    " ('body', 14),\n",
    " ('cancer', 12),\n",
    " ('certified', 17),\n",
    " ('chronic', 1610),\n",
    " ('comprehensive', 14),\n",
    " ('constant', 20),\n",
    " ('drug-free', 11),\n",
    " ('du', 12),\n",
    " ('effective', 13),\n",
    " ('eliminate', 15),\n",
    " ('emotional', 13),\n",
    " ('every', 11),\n",
    " ('experience', 12),\n",
    " ('facial', 21),\n",
    " ('family', 11),\n",
    " ('feel', 33),\n",
    " ('fibromyalgia', 15),\n",
    " ('foot', 31),\n",
    " ('free', 20),\n",
    " ('general', 12),\n",
    " ('get', 10),\n",
    " ('health', 18),\n",
    " ('heel', 22),\n",
    " ('help', 17),\n",
    " ('hip', 10),\n",
    " ('holistic', 10),\n",
    " ('https', 18),\n",
    " ('interventional', 76),\n",
    " ('intractable', 17),\n",
    " ('joint', 102),\n",
    " ('knee', 39),\n",
    " ('know', 22),\n",
    " ('le', 12),\n",
    " ('less', 31),\n",
    " ('let', 14),\n",
    " ('life', 14),\n",
    " ('limb', 11),\n",
    " ('live', 21),\n",
    " ('living', 19),\n",
    " ('love', 23),\n",
    " ('manage', 12),\n",
    " ('medical', 10),\n",
    " ('mom', 16),\n",
    " ('much', 19),\n",
    " ('multidisciplinary', 10),\n",
    " ('muscle', 31),\n",
    " ('musculoskeletal', 22),\n",
    " ('natural', 49),\n",
    " ('neck', 150),\n",
    " ('nerve', 21),\n",
    " ('neuropathic', 31),\n",
    " ('new', 10),\n",
    " ('pain', 86),\n",
    " ('pediatric', 38),\n",
    " ('pelvic', 74),\n",
    " ('persistent', 30),\n",
    " ('physical', 27),\n",
    " ('providing', 17),\n",
    " ('real', 11),\n",
    " ('reduce', 47),\n",
    " ('reducing', 12),\n",
    " ('regional', 76),\n",
    " ('relieve', 63),\n",
    " ('relieves', 11),\n",
    " ('relieving', 17),\n",
    " ('responsible', 11),\n",
    " ('severe', 15),\n",
    " ('shoulder', 29),\n",
    " ('specialist', 14),\n",
    " ('spinal', 15),\n",
    " ('spine', 16),\n",
    " ('sports', 11),\n",
    " ('stop', 13),\n",
    " ('therapy', 10),\n",
    " ('time', 13),\n",
    " ('topical', 11),\n",
    " ('treating', 25),\n",
    " ('true', 11),\n",
    " ('us', 20),\n",
    " ('w/chronic', 10),\n",
    " ('wants', 19),\n",
    " ('without', 39)]"
   ]
  },
  {
   "cell_type": "code",
   "execution_count": null,
   "metadata": {},
   "outputs": [],
   "source": []
  },
  {
   "cell_type": "markdown",
   "metadata": {},
   "source": [
    "# Create stopword free db"
   ]
  },
  {
   "cell_type": "code",
   "execution_count": 1,
   "metadata": {},
   "outputs": [
    {
     "name": "stdout",
     "output_type": "stream",
     "text": [
      "(bookmark:twitteranalysis) -> /Users/adam/Dropbox/PainNarrativesLab/TwitterDataAnalysis\n",
      "/Users/adam/Dropbox/PainNarrativesLab/TwitterDataAnalysis\n"
     ]
    }
   ],
   "source": [
    "%cd twitteranalysis\n",
    "import sqlite3\n",
    "from nltk.corpus import stopwords\n",
    "import environment"
   ]
  },
  {
   "cell_type": "code",
   "execution_count": 3,
   "metadata": {},
   "outputs": [],
   "source": [
    "english_stops = stopwords.words('english')\n",
    "\n",
    "def make_stopword_exclusion_query(stops):\n",
    "    st = \" AND word != '%s'\"\n",
    "    query = \"SELECT * FROM word_map WHERE word != '2' \"\n",
    "    for s in stops:\n",
    "        n = st % s\n",
    "        query += n \n",
    "    return query\n",
    "\n",
    "\n",
    "def row_generator(source_db, query):\n",
    "    conn = sqlite3.connect(source_db)\n",
    "    try:\n",
    "        r = conn.execute(query)\n",
    "        while True:\n",
    "            v = r.fetchone()\n",
    "            if v is None: raise StopIteration\n",
    "            yield v\n",
    "    finally:\n",
    "        conn.close()\n",
    "\n",
    "\n",
    "query = make_stopword_exclusion_query(english_stops)\n"
   ]
  },
  {
   "cell_type": "code",
   "execution_count": 25,
   "metadata": {},
   "outputs": [],
   "source": [
    "def remove_old_table_name(db):\n",
    "    q = \"alter table word_map_deux rename to word_map\"\n",
    "    conn = sqlite3.connect(db)\n",
    "    conn.execute(q)\n",
    "    conn.commit()\n",
    "    conn.close()"
   ]
  },
  {
   "cell_type": "code",
   "execution_count": 27,
   "metadata": {},
   "outputs": [
    {
     "name": "stderr",
     "output_type": "stream",
     "text": [
      "/Users/adam/.pyenv/versions/3.6.4/lib/python3.6/site-packages/ipykernel_launcher.py:9: DeprecationWarning: generator 'row_generator' raised StopIteration\n",
      "  if __name__ == '__main__':\n"
     ]
    },
    {
     "name": "stdout",
     "output_type": "stream",
     "text": [
      "j\n"
     ]
    }
   ],
   "source": [
    "def remove_stopwords(source_db, target_db):\n",
    "    query = make_stopword_exclusion_query(english_stops)\n",
    "\n",
    "    conn2 = sqlite3.connect(target_db)\n",
    "\n",
    "    try:\n",
    "        userQuery = \"\"\"INSERT INTO word_map (tweet_id, user_id, word, sentence_index, word_index) VALUES (?, ?, ?, ?, ?)\"\"\"\n",
    "        conn2.executemany( userQuery, row_generator(source_db, query) )\n",
    "        conn2.commit()\n",
    "    except StopIteration:\n",
    "        print('stopped')\n",
    "    finally:\n",
    "        conn2.close()\n",
    "        print('done')\n",
    "\n",
    "    \n",
    "target_db = environment.USER_DB_NO_STOP\n",
    "source_db = "
   ]
  },
  {
   "cell_type": "code",
   "execution_count": null,
   "metadata": {},
   "outputs": [],
   "source": []
  },
  {
   "cell_type": "code",
   "execution_count": null,
   "metadata": {},
   "outputs": [],
   "source": []
  },
  {
   "cell_type": "markdown",
   "metadata": {},
   "source": [
    "\n",
    "gen = row_generator(environment.USER_DB_MASTER, query)\n",
    "conn2 = sqlite3.connect(environment.USER_DB_NO_STOP)\n",
    "\n",
    "size = 1000\n",
    "queue = []\n",
    "\n",
    "cnt = 0\n",
    "\n",
    "\n",
    "def save_rows(rows, conn):\n",
    "#     print('save_rows called; count is %s' % cnt)\n",
    "    userQuery = \"\"\"INSERT INTO word_map (tweet_id, user_id, word, sentence_index, word_index) VALUES (?, ?, ?, ?, ?)\"\"\"\n",
    "    conn.executemany( userQuery, rows )\n",
    "    conn.commit()\n",
    "\n",
    "\n",
    "prev = 'j'\n",
    "try:\n",
    "\n",
    "    while True:    \n",
    "        cnt += 1\n",
    "        try:\n",
    "            if len(queue) >= size:\n",
    "                save_rows(queue, conn2)\n",
    "                queue = []\n",
    "            v = next(gen)\n",
    "            prev = v\n",
    "            if v is not None:\n",
    "                queue.append(v)\n",
    "\n",
    "        except StopIteration:\n",
    "            save_rows(queue, conn2)\n",
    "            \n",
    "            break\n",
    "\n",
    "    print('jip')\n",
    "    \n",
    "except Exception as e:\n",
    "    print(e)\n",
    "    print(prev)\n",
    "    \n",
    "finally:\n",
    "    conn2.close()\n",
    "    print(\"count is %s\" % cnt)\n"
   ]
  },
  {
   "cell_type": "code",
   "execution_count": 21,
   "metadata": {},
   "outputs": [
    {
     "name": "stdout",
     "output_type": "stream",
     "text": [
      "12107 rows in /Users/adam/Desktop/TwitterDataAnalysisLogs/user-test.db \n"
     ]
    },
    {
     "data": {
      "text/plain": [
       "12107"
      ]
     },
     "execution_count": 21,
     "metadata": {},
     "output_type": "execute_result"
    }
   ],
   "source": [
    "get_row_count(test)"
   ]
  },
  {
   "cell_type": "code",
   "execution_count": 22,
   "metadata": {},
   "outputs": [
    {
     "name": "stdout",
     "output_type": "stream",
     "text": [
      "16729 rows in /Users/adam/Desktop/TwitterDataAnalysisLogs/master.db \n",
      "12107 rows in /Users/adam/Desktop/TwitterDataAnalysisLogs/user-test.db \n"
     ]
    },
    {
     "data": {
      "text/plain": [
       "4622"
      ]
     },
     "execution_count": 22,
     "metadata": {},
     "output_type": "execute_result"
    }
   ],
   "source": [
    "get_row_count(environment.MASTER_DB) - get_row_count(test)"
   ]
  },
  {
   "cell_type": "code",
   "execution_count": null,
   "metadata": {},
   "outputs": [],
   "source": []
  },
  {
   "cell_type": "code",
   "execution_count": null,
   "metadata": {},
   "outputs": [],
   "source": []
  },
  {
   "cell_type": "code",
   "execution_count": 12,
   "metadata": {},
   "outputs": [
    {
     "name": "stdout",
     "output_type": "stream",
     "text": [
      "0 rows in /Users/adam/Desktop/TwitterDataAnalysisLogs/user-test.db \n"
     ]
    },
    {
     "data": {
      "text/plain": [
       "0"
      ]
     },
     "execution_count": 12,
     "metadata": {},
     "output_type": "execute_result"
    }
   ],
   "source": []
  },
  {
   "cell_type": "code",
   "execution_count": null,
   "metadata": {},
   "outputs": [],
   "source": [
    "15510416 - n[0]"
   ]
  },
  {
   "cell_type": "code",
   "execution_count": null,
   "metadata": {},
   "outputs": [],
   "source": []
  },
  {
   "cell_type": "code",
   "execution_count": null,
   "metadata": {},
   "outputs": [],
   "source": []
  },
  {
   "cell_type": "code",
   "execution_count": null,
   "metadata": {},
   "outputs": [],
   "source": []
  },
  {
   "cell_type": "code",
   "execution_count": null,
   "metadata": {},
   "outputs": [],
   "source": []
  },
  {
   "cell_type": "code",
   "execution_count": null,
   "metadata": {},
   "outputs": [],
   "source": []
  },
  {
   "cell_type": "code",
   "execution_count": null,
   "metadata": {},
   "outputs": [],
   "source": []
  },
  {
   "cell_type": "code",
   "execution_count": null,
   "metadata": {},
   "outputs": [],
   "source": []
  },
  {
   "cell_type": "code",
   "execution_count": null,
   "metadata": {},
   "outputs": [],
   "source": []
  },
  {
   "cell_type": "code",
   "execution_count": null,
   "metadata": {},
   "outputs": [],
   "source": []
  },
  {
   "cell_type": "code",
   "execution_count": null,
   "metadata": {},
   "outputs": [],
   "source": []
  }
 ],
 "metadata": {
  "kernelspec": {
   "display_name": "Python 3",
   "language": "python",
   "name": "python3"
  },
  "language_info": {
   "codemirror_mode": {
    "name": "ipython",
    "version": 3
   },
   "file_extension": ".py",
   "mimetype": "text/x-python",
   "name": "python",
   "nbconvert_exporter": "python",
   "pygments_lexer": "ipython3",
   "version": "3.6.4"
  }
 },
 "nbformat": 4,
 "nbformat_minor": 2
}
