{
 "cells": [
  {
   "cell_type": "markdown",
   "metadata": {},
   "source": [
    "This notebook is for creating dummy data for testing"
   ]
  },
  {
   "cell_type": "markdown",
   "metadata": {},
   "source": [
    "# Dummy data structure\n",
    "\n",
    "\n",
    "1 tweet which has no words in common with any other tweet\n",
    "\n",
    "    t1: w01 w02 w03 w04 w05\n",
    "\n",
    "2 tweets with all the same words\n",
    "\n",
    "    t2: w06 w07 w08 w09\n",
    "    \n",
    "    t3: w06 w07 w08 w09\n",
    "\n",
    "\n",
    "Three tweets\n",
    "\n",
    "    t4: w1 w2 w4\n",
    "    \n",
    "    t5: w1 w2 w3 w5\n",
    "    \n",
    "    t6: w1 w3 w6\n",
    " \n",
    " Frequencies\n",
    " \n",
    "     w1 : 3\n",
    "     \n",
    "     w2 : 2\n",
    "     \n",
    "     w3 : 2\n",
    "     \n",
    "     w4 : 1\n",
    "\n",
    "     w5 : 1\n",
    "     \n",
    "     w6 : 1\n",
    "\n",
    "Co-occurrences\n",
    "\n",
    "    w1 - w2 : 2\n",
    "    \n",
    "    w1 - w3 : 2\n",
    "    \n",
    "    w1 - w4 : 1\n",
    "    \n",
    "    w2 - w3 : 1\n",
    "    \n",
    "    w2 - w4 : 1"
   ]
  },
  {
   "cell_type": "markdown",
   "metadata": {},
   "source": [
    "# Make fake sqlite word_map for in memory use"
   ]
  },
  {
   "cell_type": "code",
   "execution_count": 1,
   "metadata": {
    "ExecuteTime": {
     "end_time": "2018-06-22T01:00:03.358207Z",
     "start_time": "2018-06-22T01:00:03.347048Z"
    }
   },
   "outputs": [
    {
     "name": "stdout",
     "output_type": "stream",
     "text": [
      "(bookmark:twitteranalysis) -> /Users/adam/Dropbox/PainNarrativesLab/TwitterDataAnalysis\n",
      "/Users/adam/Dropbox/PainNarrativesLab/TwitterDataAnalysis\n"
     ]
    }
   ],
   "source": [
    "%cd twitteranalysis\n",
    "\n",
    "import sqlite3\n",
    "\n",
    "from DataTools.SqliteTools import word_map_table_creation_query"
   ]
  },
  {
   "cell_type": "code",
   "execution_count": null,
   "metadata": {},
   "outputs": [],
   "source": [
    "# create db in memory"
   ]
  },
  {
   "cell_type": "code",
   "execution_count": null,
   "metadata": {},
   "outputs": [],
   "source": [
    "conn = sqlite3.connect(\":memory:\")"
   ]
  },
  {
   "cell_type": "code",
   "execution_count": null,
   "metadata": {},
   "outputs": [],
   "source": [
    "# create db\n",
    "conn.execute(word_map_table_creation_query)\n",
    "conn.commit()"
   ]
  },
  {
   "cell_type": "code",
   "execution_count": null,
   "metadata": {},
   "outputs": [],
   "source": []
  },
  {
   "cell_type": "code",
   "execution_count": null,
   "metadata": {},
   "outputs": [],
   "source": []
  },
  {
   "cell_type": "code",
   "execution_count": null,
   "metadata": {},
   "outputs": [],
   "source": [
    "conn.close()"
   ]
  },
  {
   "cell_type": "code",
   "execution_count": null,
   "metadata": {},
   "outputs": [],
   "source": []
  },
  {
   "cell_type": "code",
   "execution_count": null,
   "metadata": {},
   "outputs": [],
   "source": [
    "word_map_table_creation_query"
   ]
  },
  {
   "cell_type": "code",
   "execution_count": null,
   "metadata": {},
   "outputs": [],
   "source": [
    "conn2 = sqlite3.connect(\":memory:\")\n",
    "\n",
    "    try:\n",
    "        userQuery = \"\"\"INSERT INTO word_map (tweet_id, user_id, word, sentence_index, word_index) VALUES (?, ?, ?, ?, ?)\"\"\"\n",
    "        conn2.executemany( userQuery, row_generator(source_db, query) )\n",
    "        conn2.commit()\n",
    "    except StopIteration:\n",
    "        print('stopped')\n",
    "    finally:\n",
    "        conn2.close()\n",
    "        print('done')"
   ]
  }
 ],
 "metadata": {
  "kernelspec": {
   "display_name": "Python 3",
   "language": "python",
   "name": "python3"
  },
  "language_info": {
   "codemirror_mode": {
    "name": "ipython",
    "version": 3
   },
   "file_extension": ".py",
   "mimetype": "text/x-python",
   "name": "python",
   "nbconvert_exporter": "python",
   "pygments_lexer": "ipython3",
   "version": "3.6.4"
  },
  "latex_envs": {
   "LaTeX_envs_menu_present": true,
   "autoclose": false,
   "autocomplete": true,
   "bibliofile": "biblio.bib",
   "cite_by": "apalike",
   "current_citInitial": 1,
   "eqLabelWithNumbers": true,
   "eqNumInitial": 1,
   "hotkeys": {
    "equation": "Ctrl-E",
    "itemize": "Ctrl-I"
   },
   "labels_anchors": false,
   "latex_user_defs": false,
   "report_style_numbering": false,
   "user_envs_cfg": false
  },
  "toc": {
   "base_numbering": 1,
   "nav_menu": {},
   "number_sections": true,
   "sideBar": true,
   "skip_h1_title": false,
   "title_cell": "Table of Contents",
   "title_sidebar": "Contents",
   "toc_cell": false,
   "toc_position": {},
   "toc_section_display": true,
   "toc_window_display": false
  }
 },
 "nbformat": 4,
 "nbformat_minor": 2
}
