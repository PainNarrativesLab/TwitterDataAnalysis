{
 "cells": [
  {
   "cell_type": "markdown",
   "metadata": {},
   "source": [
    "This runs and displays benchmark performance for various tools"
   ]
  },
  {
   "cell_type": "code",
   "execution_count": 1,
   "metadata": {
    "ExecuteTime": {
     "end_time": "2018-04-24T22:23:47.426572Z",
     "start_time": "2018-04-24T22:23:46.372435Z"
    }
   },
   "outputs": [
    {
     "name": "stdout",
     "output_type": "stream",
     "text": [
      "(bookmark:twitteranalysis) -> /Users/adam/Dropbox/PainNarrativesLab/TwitterDataAnalysis\n",
      "/Users/adam/Dropbox/PainNarrativesLab/TwitterDataAnalysis\n"
     ]
    }
   ],
   "source": [
    "%cd twitteranalysis\n",
    "%run -i environment.py\n",
    "\n",
    "import pandas as pd\n",
    "#Plotting \n",
    "%matplotlib inline\n",
    "from matplotlib import pyplot as plt\n",
    "import seaborn as sns\n",
    "sns.set(style=\"whitegrid\")\n",
    "\n",
    "# Timing etc tools (e.g., @timefn)\n",
    "from OptimizationTools import *\n"
   ]
  },
  {
   "cell_type": "code",
   "execution_count": 2,
   "metadata": {
    "ExecuteTime": {
     "end_time": "2018-04-24T22:23:47.431906Z",
     "start_time": "2018-04-24T22:23:47.428745Z"
    }
   },
   "outputs": [],
   "source": [
    "# numberUsersProcessed = 100\n",
    "numberUsersProcessed = 4352\n",
    "actualUsers = 1328927\n",
    "pctActual = numberUsersProcessed / actualUsers"
   ]
  },
  {
   "cell_type": "code",
   "execution_count": 3,
   "metadata": {
    "ExecuteTime": {
     "end_time": "2018-04-24T22:23:51.752492Z",
     "start_time": "2018-04-24T22:23:47.434654Z"
    }
   },
   "outputs": [
    {
     "ename": "FileNotFoundError",
     "evalue": "File b'/Users/adam/Desktop/TwitterDataAnalysisLogs/request_log.csv' does not exist",
     "output_type": "error",
     "traceback": [
      "\u001b[0;31m---------------------------------------------------------------------------\u001b[0m",
      "\u001b[0;31mFileNotFoundError\u001b[0m                         Traceback (most recent call last)",
      "\u001b[0;32m~/Dropbox/PainNarrativesLab/TwitterDataAnalysis/environment.py\u001b[0m in \u001b[0;36m<module>\u001b[0;34m()\u001b[0m\n\u001b[1;32m     25\u001b[0m \u001b[0mqueries\u001b[0m\u001b[0;34m.\u001b[0m\u001b[0mdropna\u001b[0m\u001b[0;34m(\u001b[0m\u001b[0minplace\u001b[0m\u001b[0;34m=\u001b[0m\u001b[0;32mTrue\u001b[0m\u001b[0;34m)\u001b[0m\u001b[0;34m\u001b[0m\u001b[0m\n\u001b[1;32m     26\u001b[0m \u001b[0;34m\u001b[0m\u001b[0m\n\u001b[0;32m---> 27\u001b[0;31m \u001b[0mrequests\u001b[0m \u001b[0;34m=\u001b[0m \u001b[0mpd\u001b[0m\u001b[0;34m.\u001b[0m\u001b[0mread_csv\u001b[0m\u001b[0;34m(\u001b[0m\u001b[0mrequest_log\u001b[0m\u001b[0;34m,\u001b[0m  \u001b[0mheader\u001b[0m\u001b[0;34m=\u001b[0m\u001b[0;32mNone\u001b[0m\u001b[0;34m,\u001b[0m \u001b[0mnames\u001b[0m\u001b[0;34m=\u001b[0m\u001b[0;34m[\u001b[0m\u001b[0;34m'runtime'\u001b[0m\u001b[0;34m]\u001b[0m\u001b[0;34m)\u001b[0m\u001b[0;34m\u001b[0m\u001b[0m\n\u001b[0m\u001b[1;32m     28\u001b[0m \u001b[0mrequest_timestamps\u001b[0m \u001b[0;34m=\u001b[0m \u001b[0mpd\u001b[0m\u001b[0;34m.\u001b[0m\u001b[0mread_csv\u001b[0m\u001b[0;34m(\u001b[0m\u001b[0mrequest_time_log\u001b[0m\u001b[0;34m,\u001b[0m  \u001b[0mheader\u001b[0m\u001b[0;34m=\u001b[0m\u001b[0;32mNone\u001b[0m\u001b[0;34m,\u001b[0m \u001b[0mnames\u001b[0m\u001b[0;34m=\u001b[0m\u001b[0;34m[\u001b[0m\u001b[0;34m'runTimestamp'\u001b[0m\u001b[0;34m]\u001b[0m\u001b[0;34m)\u001b[0m\u001b[0;34m\u001b[0m\u001b[0m\n\u001b[1;32m     29\u001b[0m \u001b[0mrequest_timestamps\u001b[0m \u001b[0;34m=\u001b[0m \u001b[0mrequest_timestamps\u001b[0m\u001b[0;34m.\u001b[0m\u001b[0mapply\u001b[0m\u001b[0;34m(\u001b[0m\u001b[0;32mlambda\u001b[0m \u001b[0mx\u001b[0m\u001b[0;34m:\u001b[0m \u001b[0mr\u001b[0m\u001b[0;34m(\u001b[0m\u001b[0mx\u001b[0m\u001b[0;34m.\u001b[0m\u001b[0mrunTimestamp\u001b[0m\u001b[0;34m)\u001b[0m\u001b[0;34m,\u001b[0m \u001b[0maxis\u001b[0m\u001b[0;34m=\u001b[0m\u001b[0;36m1\u001b[0m\u001b[0;34m)\u001b[0m\u001b[0;34m\u001b[0m\u001b[0m\n",
      "\u001b[0;32m~/.pyenv/versions/3.6.4/lib/python3.6/site-packages/pandas/io/parsers.py\u001b[0m in \u001b[0;36mparser_f\u001b[0;34m(filepath_or_buffer, sep, delimiter, header, names, index_col, usecols, squeeze, prefix, mangle_dupe_cols, dtype, engine, converters, true_values, false_values, skipinitialspace, skiprows, nrows, na_values, keep_default_na, na_filter, verbose, skip_blank_lines, parse_dates, infer_datetime_format, keep_date_col, date_parser, dayfirst, iterator, chunksize, compression, thousands, decimal, lineterminator, quotechar, quoting, escapechar, comment, encoding, dialect, tupleize_cols, error_bad_lines, warn_bad_lines, skipfooter, skip_footer, doublequote, delim_whitespace, as_recarray, compact_ints, use_unsigned, low_memory, buffer_lines, memory_map, float_precision)\u001b[0m\n\u001b[1;32m    707\u001b[0m                     skip_blank_lines=skip_blank_lines)\n\u001b[1;32m    708\u001b[0m \u001b[0;34m\u001b[0m\u001b[0m\n\u001b[0;32m--> 709\u001b[0;31m         \u001b[0;32mreturn\u001b[0m \u001b[0m_read\u001b[0m\u001b[0;34m(\u001b[0m\u001b[0mfilepath_or_buffer\u001b[0m\u001b[0;34m,\u001b[0m \u001b[0mkwds\u001b[0m\u001b[0;34m)\u001b[0m\u001b[0;34m\u001b[0m\u001b[0m\n\u001b[0m\u001b[1;32m    710\u001b[0m \u001b[0;34m\u001b[0m\u001b[0m\n\u001b[1;32m    711\u001b[0m     \u001b[0mparser_f\u001b[0m\u001b[0;34m.\u001b[0m\u001b[0m__name__\u001b[0m \u001b[0;34m=\u001b[0m \u001b[0mname\u001b[0m\u001b[0;34m\u001b[0m\u001b[0m\n",
      "\u001b[0;32m~/.pyenv/versions/3.6.4/lib/python3.6/site-packages/pandas/io/parsers.py\u001b[0m in \u001b[0;36m_read\u001b[0;34m(filepath_or_buffer, kwds)\u001b[0m\n\u001b[1;32m    447\u001b[0m \u001b[0;34m\u001b[0m\u001b[0m\n\u001b[1;32m    448\u001b[0m     \u001b[0;31m# Create the parser.\u001b[0m\u001b[0;34m\u001b[0m\u001b[0;34m\u001b[0m\u001b[0m\n\u001b[0;32m--> 449\u001b[0;31m     \u001b[0mparser\u001b[0m \u001b[0;34m=\u001b[0m \u001b[0mTextFileReader\u001b[0m\u001b[0;34m(\u001b[0m\u001b[0mfilepath_or_buffer\u001b[0m\u001b[0;34m,\u001b[0m \u001b[0;34m**\u001b[0m\u001b[0mkwds\u001b[0m\u001b[0;34m)\u001b[0m\u001b[0;34m\u001b[0m\u001b[0m\n\u001b[0m\u001b[1;32m    450\u001b[0m \u001b[0;34m\u001b[0m\u001b[0m\n\u001b[1;32m    451\u001b[0m     \u001b[0;32mif\u001b[0m \u001b[0mchunksize\u001b[0m \u001b[0;32mor\u001b[0m \u001b[0miterator\u001b[0m\u001b[0;34m:\u001b[0m\u001b[0;34m\u001b[0m\u001b[0m\n",
      "\u001b[0;32m~/.pyenv/versions/3.6.4/lib/python3.6/site-packages/pandas/io/parsers.py\u001b[0m in \u001b[0;36m__init__\u001b[0;34m(self, f, engine, **kwds)\u001b[0m\n\u001b[1;32m    816\u001b[0m             \u001b[0mself\u001b[0m\u001b[0;34m.\u001b[0m\u001b[0moptions\u001b[0m\u001b[0;34m[\u001b[0m\u001b[0;34m'has_index_names'\u001b[0m\u001b[0;34m]\u001b[0m \u001b[0;34m=\u001b[0m \u001b[0mkwds\u001b[0m\u001b[0;34m[\u001b[0m\u001b[0;34m'has_index_names'\u001b[0m\u001b[0;34m]\u001b[0m\u001b[0;34m\u001b[0m\u001b[0m\n\u001b[1;32m    817\u001b[0m \u001b[0;34m\u001b[0m\u001b[0m\n\u001b[0;32m--> 818\u001b[0;31m         \u001b[0mself\u001b[0m\u001b[0;34m.\u001b[0m\u001b[0m_make_engine\u001b[0m\u001b[0;34m(\u001b[0m\u001b[0mself\u001b[0m\u001b[0;34m.\u001b[0m\u001b[0mengine\u001b[0m\u001b[0;34m)\u001b[0m\u001b[0;34m\u001b[0m\u001b[0m\n\u001b[0m\u001b[1;32m    819\u001b[0m \u001b[0;34m\u001b[0m\u001b[0m\n\u001b[1;32m    820\u001b[0m     \u001b[0;32mdef\u001b[0m \u001b[0mclose\u001b[0m\u001b[0;34m(\u001b[0m\u001b[0mself\u001b[0m\u001b[0;34m)\u001b[0m\u001b[0;34m:\u001b[0m\u001b[0;34m\u001b[0m\u001b[0m\n",
      "\u001b[0;32m~/.pyenv/versions/3.6.4/lib/python3.6/site-packages/pandas/io/parsers.py\u001b[0m in \u001b[0;36m_make_engine\u001b[0;34m(self, engine)\u001b[0m\n\u001b[1;32m   1047\u001b[0m     \u001b[0;32mdef\u001b[0m \u001b[0m_make_engine\u001b[0m\u001b[0;34m(\u001b[0m\u001b[0mself\u001b[0m\u001b[0;34m,\u001b[0m \u001b[0mengine\u001b[0m\u001b[0;34m=\u001b[0m\u001b[0;34m'c'\u001b[0m\u001b[0;34m)\u001b[0m\u001b[0;34m:\u001b[0m\u001b[0;34m\u001b[0m\u001b[0m\n\u001b[1;32m   1048\u001b[0m         \u001b[0;32mif\u001b[0m \u001b[0mengine\u001b[0m \u001b[0;34m==\u001b[0m \u001b[0;34m'c'\u001b[0m\u001b[0;34m:\u001b[0m\u001b[0;34m\u001b[0m\u001b[0m\n\u001b[0;32m-> 1049\u001b[0;31m             \u001b[0mself\u001b[0m\u001b[0;34m.\u001b[0m\u001b[0m_engine\u001b[0m \u001b[0;34m=\u001b[0m \u001b[0mCParserWrapper\u001b[0m\u001b[0;34m(\u001b[0m\u001b[0mself\u001b[0m\u001b[0;34m.\u001b[0m\u001b[0mf\u001b[0m\u001b[0;34m,\u001b[0m \u001b[0;34m**\u001b[0m\u001b[0mself\u001b[0m\u001b[0;34m.\u001b[0m\u001b[0moptions\u001b[0m\u001b[0;34m)\u001b[0m\u001b[0;34m\u001b[0m\u001b[0m\n\u001b[0m\u001b[1;32m   1050\u001b[0m         \u001b[0;32melse\u001b[0m\u001b[0;34m:\u001b[0m\u001b[0;34m\u001b[0m\u001b[0m\n\u001b[1;32m   1051\u001b[0m             \u001b[0;32mif\u001b[0m \u001b[0mengine\u001b[0m \u001b[0;34m==\u001b[0m \u001b[0;34m'python'\u001b[0m\u001b[0;34m:\u001b[0m\u001b[0;34m\u001b[0m\u001b[0m\n",
      "\u001b[0;32m~/.pyenv/versions/3.6.4/lib/python3.6/site-packages/pandas/io/parsers.py\u001b[0m in \u001b[0;36m__init__\u001b[0;34m(self, src, **kwds)\u001b[0m\n\u001b[1;32m   1693\u001b[0m         \u001b[0mkwds\u001b[0m\u001b[0;34m[\u001b[0m\u001b[0;34m'allow_leading_cols'\u001b[0m\u001b[0;34m]\u001b[0m \u001b[0;34m=\u001b[0m \u001b[0mself\u001b[0m\u001b[0;34m.\u001b[0m\u001b[0mindex_col\u001b[0m \u001b[0;32mis\u001b[0m \u001b[0;32mnot\u001b[0m \u001b[0;32mFalse\u001b[0m\u001b[0;34m\u001b[0m\u001b[0m\n\u001b[1;32m   1694\u001b[0m \u001b[0;34m\u001b[0m\u001b[0m\n\u001b[0;32m-> 1695\u001b[0;31m         \u001b[0mself\u001b[0m\u001b[0;34m.\u001b[0m\u001b[0m_reader\u001b[0m \u001b[0;34m=\u001b[0m \u001b[0mparsers\u001b[0m\u001b[0;34m.\u001b[0m\u001b[0mTextReader\u001b[0m\u001b[0;34m(\u001b[0m\u001b[0msrc\u001b[0m\u001b[0;34m,\u001b[0m \u001b[0;34m**\u001b[0m\u001b[0mkwds\u001b[0m\u001b[0;34m)\u001b[0m\u001b[0;34m\u001b[0m\u001b[0m\n\u001b[0m\u001b[1;32m   1696\u001b[0m \u001b[0;34m\u001b[0m\u001b[0m\n\u001b[1;32m   1697\u001b[0m         \u001b[0;31m# XXX\u001b[0m\u001b[0;34m\u001b[0m\u001b[0;34m\u001b[0m\u001b[0m\n",
      "\u001b[0;32mpandas/_libs/parsers.pyx\u001b[0m in \u001b[0;36mpandas._libs.parsers.TextReader.__cinit__\u001b[0;34m()\u001b[0m\n",
      "\u001b[0;32mpandas/_libs/parsers.pyx\u001b[0m in \u001b[0;36mpandas._libs.parsers.TextReader._setup_parser_source\u001b[0;34m()\u001b[0m\n",
      "\u001b[0;31mFileNotFoundError\u001b[0m: File b'/Users/adam/Desktop/TwitterDataAnalysisLogs/request_log.csv' does not exist"
     ]
    }
   ],
   "source": [
    "\n",
    "BASE = os.getenv(\"HOME\")\n",
    "# todo restore environment\n",
    "# from TwitterDataAnalysis.environment import *\n",
    "\n",
    "# Logging\n",
    "LOG_FOLDER_PATH = \"%s/Desktop/TwitterDataAnalysisLogs\" % BASE\n",
    "\n",
    "query_log = '%s/query_log.csv' % LOG_FOLDER_PATH\n",
    "query_time_log = '%s/query_time_log.csv' % LOG_FOLDER_PATH\n",
    "\n",
    "\n",
    "request_log = '%s/request_log.csv' % LOG_FOLDER_PATH\n",
    "request_time_log = '%s/request_time_log.csv' % LOG_FOLDER_PATH\n",
    "\n",
    "\n",
    "def r(x):\n",
    "    if x[0] == '0':\n",
    "        x = '2%s' % x \n",
    "    return pd.to_datetime(x)\n",
    "\n",
    "queries = pd.read_csv(query_log,  header=None, names=['runtime'])\n",
    "query_timestamps = pd.read_csv(query_time_log,  header=None, names=['runTimestamp'])\n",
    "query_timestamps = query_timestamps.apply(lambda x: r(x.runTimestamp), axis=1)\n",
    "queries.dropna(inplace=True)\n",
    "\n",
    "requests = pd.read_csv(request_log,  header=None, names=['runtime'])\n",
    "request_timestamps = pd.read_csv(request_time_log,  header=None, names=['runTimestamp'])\n",
    "request_timestamps = request_timestamps.apply(lambda x: r(x.runTimestamp), axis=1)\n",
    "requests.dropna(inplace=True)"
   ]
  },
  {
   "cell_type": "markdown",
   "metadata": {},
   "source": [
    "# DB query log"
   ]
  },
  {
   "cell_type": "code",
   "execution_count": null,
   "metadata": {},
   "outputs": [],
   "source": []
  },
  {
   "cell_type": "code",
   "execution_count": null,
   "metadata": {
    "ExecuteTime": {
     "end_time": "2018-04-24T02:27:51.566794Z",
     "start_time": "2018-04-24T02:27:51.562220Z"
    }
   },
   "outputs": [],
   "source": [
    "totalSeconds = queries.runtime.sum()\n",
    "meanRuntime = queries.runtime.mean()\n",
    "totalRecords = len(queries)\n",
    "print(\"Made %s queries in %s seconds (%s minutes). \" %(totalRecords, totalSeconds, totalSeconds/60))"
   ]
  },
  {
   "cell_type": "code",
   "execution_count": null,
   "metadata": {
    "ExecuteTime": {
     "end_time": "2018-04-24T02:27:57.071329Z",
     "start_time": "2018-04-24T02:27:57.063800Z"
    }
   },
   "outputs": [],
   "source": [
    "queriesPerUser = len(queries) / numberUsersProcessed \n",
    "print(\"%s queries per user\" % queriesPerUser)\n",
    "estQueryTime = queriesPerUser * meanRuntime * actualUsers\n",
    "estQueryTime"
   ]
  },
  {
   "cell_type": "code",
   "execution_count": null,
   "metadata": {
    "ExecuteTime": {
     "end_time": "2018-04-24T02:28:05.343334Z",
     "start_time": "2018-04-24T02:28:05.338401Z"
    }
   },
   "outputs": [],
   "source": [
    "elapsedTime = query_timestamps.max() -query_timestamps.min()\n",
    "elapsedTime"
   ]
  },
  {
   "cell_type": "code",
   "execution_count": null,
   "metadata": {
    "ExecuteTime": {
     "end_time": "2018-04-24T02:28:19.348332Z",
     "start_time": "2018-04-24T02:28:19.330221Z"
    }
   },
   "outputs": [],
   "source": [
    "queries.describe()"
   ]
  },
  {
   "cell_type": "code",
   "execution_count": null,
   "metadata": {
    "ExecuteTime": {
     "end_time": "2018-04-24T02:04:16.076380Z",
     "start_time": "2018-04-24T02:04:15.877854Z"
    }
   },
   "outputs": [],
   "source": [
    "sns.boxplot(queries)"
   ]
  },
  {
   "cell_type": "code",
   "execution_count": null,
   "metadata": {
    "ExecuteTime": {
     "end_time": "2018-04-24T02:29:21.516397Z",
     "start_time": "2018-04-24T02:29:21.508065Z"
    }
   },
   "outputs": [],
   "source": [
    "queries[:4]"
   ]
  },
  {
   "cell_type": "code",
   "execution_count": null,
   "metadata": {
    "ExecuteTime": {
     "end_time": "2018-04-24T02:29:03.309289Z",
     "start_time": "2018-04-24T02:29:03.303996Z"
    },
    "run_control": {
     "marked": true
    }
   },
   "outputs": [],
   "source": [
    "totalEstTime = queries.index.max() - queries.index.min()\n",
    "actualUsers * (totalEstTime / numberUsersProcessed)"
   ]
  },
  {
   "cell_type": "code",
   "execution_count": null,
   "metadata": {
    "ExecuteTime": {
     "end_time": "2018-04-24T02:30:10.419917Z",
     "start_time": "2018-04-24T02:30:10.197653Z"
    }
   },
   "outputs": [],
   "source": [
    "queries.plot()"
   ]
  },
  {
   "cell_type": "code",
   "execution_count": null,
   "metadata": {
    "ExecuteTime": {
     "end_time": "2018-04-24T02:30:14.719659Z",
     "start_time": "2018-04-24T02:30:14.510099Z"
    }
   },
   "outputs": [],
   "source": [
    "query_timestamps.T.plot()"
   ]
  },
  {
   "cell_type": "code",
   "execution_count": null,
   "metadata": {
    "ExecuteTime": {
     "end_time": "2018-04-06T21:28:41.662827Z",
     "start_time": "2018-04-06T21:28:41.658549Z"
    }
   },
   "outputs": [],
   "source": [
    "d = queries[:50]\n",
    "d = d.reset_index()"
   ]
  },
  {
   "cell_type": "code",
   "execution_count": null,
   "metadata": {
    "ExecuteTime": {
     "end_time": "2018-04-06T21:28:52.950373Z",
     "start_time": "2018-04-06T21:28:52.945003Z"
    }
   },
   "outputs": [],
   "source": [
    "d.runTimestamp[0]"
   ]
  },
  {
   "cell_type": "code",
   "execution_count": null,
   "metadata": {},
   "outputs": [],
   "source": []
  },
  {
   "cell_type": "markdown",
   "metadata": {},
   "source": [
    "# Request time logs"
   ]
  },
  {
   "cell_type": "code",
   "execution_count": null,
   "metadata": {
    "ExecuteTime": {
     "end_time": "2018-04-24T18:57:59.270821Z",
     "start_time": "2018-04-24T18:57:59.259035Z"
    }
   },
   "outputs": [],
   "source": [
    "totalSeconds = requests.runtime.sum()\n",
    "meanRuntime = requests.runtime.mean()\n",
    "totalRecords = len(requests)\n",
    "print(\"Handled %s requests in %s seconds (%s minutes). \" %(totalRecords, totalSeconds, totalSeconds/60))"
   ]
  },
  {
   "cell_type": "code",
   "execution_count": null,
   "metadata": {
    "ExecuteTime": {
     "end_time": "2018-04-24T18:57:59.831701Z",
     "start_time": "2018-04-24T18:57:59.802134Z"
    }
   },
   "outputs": [],
   "source": [
    "requests.describe()"
   ]
  },
  {
   "cell_type": "code",
   "execution_count": null,
   "metadata": {
    "ExecuteTime": {
     "end_time": "2018-04-24T02:06:42.619701Z",
     "start_time": "2018-04-24T02:06:42.615157Z"
    }
   },
   "outputs": [],
   "source": [
    "avgRequestsPerUser = totalRecords / numberUsersProcessed\n",
    "print(\"Average requests per user %s\" % avgRequestsPerUser)\n",
    "\n",
    "expectedRequests = totalUsers * avgRequestsPerUser\n",
    "print(\"Estimated number of requests required: %s\" % round(expectedRequests))\n",
    "expRun = expectedRequests * meanRuntime \n",
    "print(\"Expected runtime: %s hours\" % (expRun / 60))"
   ]
  },
  {
   "cell_type": "code",
   "execution_count": null,
   "metadata": {
    "ExecuteTime": {
     "end_time": "2018-04-24T02:09:00.378326Z",
     "start_time": "2018-04-24T02:09:00.060172Z"
    }
   },
   "outputs": [],
   "source": [
    "requests.plot()"
   ]
  },
  {
   "cell_type": "code",
   "execution_count": null,
   "metadata": {
    "ExecuteTime": {
     "end_time": "2018-04-24T02:09:57.903715Z",
     "start_time": "2018-04-24T02:09:57.666859Z"
    }
   },
   "outputs": [],
   "source": [
    "request_timestamps.T.plot()"
   ]
  },
  {
   "cell_type": "code",
   "execution_count": null,
   "metadata": {
    "ExecuteTime": {
     "end_time": "2018-04-24T02:12:50.899531Z",
     "start_time": "2018-04-24T02:12:50.892819Z"
    }
   },
   "outputs": [],
   "source": [
    "elapsedTime = request_timestamps.max() - request_timestamps.min()\n",
    "elapsedTime"
   ]
  },
  {
   "cell_type": "code",
   "execution_count": null,
   "metadata": {
    "ExecuteTime": {
     "end_time": "2018-04-24T02:13:37.211927Z",
     "start_time": "2018-04-24T02:13:37.206721Z"
    }
   },
   "outputs": [],
   "source": [
    "totalTime = requests.runtime.sum()\n",
    "totalTime"
   ]
  },
  {
   "cell_type": "code",
   "execution_count": null,
   "metadata": {},
   "outputs": [],
   "source": []
  },
  {
   "cell_type": "markdown",
   "metadata": {},
   "source": [
    "It took 1 minute to process 4352 users, how many minutes to process all?"
   ]
  },
  {
   "cell_type": "code",
   "execution_count": null,
   "metadata": {
    "ExecuteTime": {
     "end_time": "2018-04-24T02:23:39.489950Z",
     "start_time": "2018-04-24T02:23:39.485143Z"
    }
   },
   "outputs": [],
   "source": [
    "(actualUsers / numberUsersProcessed) / 60"
   ]
  },
  {
   "cell_type": "code",
   "execution_count": null,
   "metadata": {},
   "outputs": [],
   "source": [
    "#set index\n",
    "def ffff(row):\n",
    "    return Period(row.runtime, freq=\"D\")\n",
    "#     return Period(row.purchaseDate, freq=\"%sD\" % row.days)\n",
    "\n",
    "mjPurchases['standardDate'] = mjPurchases.apply(lambda x: ffff(x), axis=1)\n"
   ]
  },
  {
   "cell_type": "code",
   "execution_count": null,
   "metadata": {
    "ExecuteTime": {
     "end_time": "2018-04-24T19:01:39.117342Z",
     "start_time": "2018-04-24T19:01:38.563649Z"
    }
   },
   "outputs": [],
   "source": [
    "d = []\n",
    "for idx, row in request_timestamps.iteritems():\n",
    "    d.append(row - request_timestamps.iloc[idx -1])\n",
    "d = pd.Series(d)"
   ]
  },
  {
   "cell_type": "code",
   "execution_count": null,
   "metadata": {
    "ExecuteTime": {
     "end_time": "2018-04-24T19:01:46.432083Z",
     "start_time": "2018-04-24T19:01:46.179098Z"
    }
   },
   "outputs": [],
   "source": [
    "d.plot()"
   ]
  },
  {
   "cell_type": "code",
   "execution_count": null,
   "metadata": {},
   "outputs": [],
   "source": []
  },
  {
   "cell_type": "markdown",
   "metadata": {},
   "source": [
    "# Storage requirements estimation"
   ]
  },
  {
   "cell_type": "code",
   "execution_count": 13,
   "metadata": {
    "ExecuteTime": {
     "end_time": "2018-04-24T23:05:10.526944Z",
     "start_time": "2018-04-24T23:05:10.523827Z"
    }
   },
   "outputs": [],
   "source": [
    "masterdb_bytes = 1523712\n",
    "processed = 4014"
   ]
  },
  {
   "cell_type": "code",
   "execution_count": 8,
   "metadata": {
    "ExecuteTime": {
     "end_time": "2018-04-24T23:00:47.711482Z",
     "start_time": "2018-04-24T23:00:47.707375Z"
    }
   },
   "outputs": [
    {
     "data": {
      "text/plain": [
       "1.0030204819376836"
      ]
     },
     "execution_count": 8,
     "metadata": {},
     "output_type": "execute_result"
    }
   ],
   "source": [
    "processed = 4014\n",
    "mult = 1 + (processed / actualUsers)\n",
    "mult"
   ]
  },
  {
   "cell_type": "code",
   "execution_count": null,
   "metadata": {},
   "outputs": [],
   "source": [
    "spacePerUser"
   ]
  },
  {
   "cell_type": "code",
   "execution_count": 11,
   "metadata": {
    "ExecuteTime": {
     "end_time": "2018-04-24T23:03:17.351491Z",
     "start_time": "2018-04-24T23:03:17.347262Z"
    }
   },
   "outputs": [
    {
     "data": {
      "text/plain": [
       "4026.124214497862"
      ]
     },
     "execution_count": 11,
     "metadata": {},
     "output_type": "execute_result"
    }
   ],
   "source": [
    "processed * mult"
   ]
  },
  {
   "cell_type": "code",
   "execution_count": 10,
   "metadata": {
    "ExecuteTime": {
     "end_time": "2018-04-24T23:01:37.585122Z",
     "start_time": "2018-04-24T23:01:37.580445Z"
    }
   },
   "outputs": [
    {
     "data": {
      "text/plain": [
       "1528314.3445742317"
      ]
     },
     "execution_count": 10,
     "metadata": {},
     "output_type": "execute_result"
    }
   ],
   "source": [
    "masterdb_bytes = 1523712\n",
    "mult * masterdb_bytes"
   ]
  },
  {
   "cell_type": "code",
   "execution_count": 15,
   "metadata": {
    "ExecuteTime": {
     "end_time": "2018-04-24T23:05:47.696073Z",
     "start_time": "2018-04-24T23:05:47.691286Z"
    }
   },
   "outputs": [
    {
     "data": {
      "text/plain": [
       "504459894.62481314"
      ]
     },
     "execution_count": 15,
     "metadata": {},
     "output_type": "execute_result"
    }
   ],
   "source": [
    "spacePerUser = masterdb_bytes / processed\n",
    "neededBytes = actualUsers * spacePerUser\n",
    "neededBytes"
   ]
  },
  {
   "cell_type": "code",
   "execution_count": null,
   "metadata": {},
   "outputs": [],
   "source": [
    "# 504,459,894 \n",
    "# ~ 504 MB"
   ]
  },
  {
   "cell_type": "code",
   "execution_count": null,
   "metadata": {},
   "outputs": [],
   "source": []
  },
  {
   "cell_type": "code",
   "execution_count": null,
   "metadata": {},
   "outputs": [],
   "source": []
  },
  {
   "cell_type": "code",
   "execution_count": null,
   "metadata": {},
   "outputs": [],
   "source": []
  },
  {
   "cell_type": "code",
   "execution_count": null,
   "metadata": {},
   "outputs": [],
   "source": []
  },
  {
   "cell_type": "code",
   "execution_count": null,
   "metadata": {},
   "outputs": [],
   "source": []
  },
  {
   "cell_type": "markdown",
   "metadata": {},
   "source": [
    "# Benchmark tweet text processing tools"
   ]
  },
  {
   "cell_type": "code",
   "execution_count": null,
   "metadata": {
    "ExecuteTime": {
     "end_time": "2018-04-06T23:17:15.533805Z",
     "start_time": "2018-04-06T23:17:14.035596Z"
    }
   },
   "outputs": [],
   "source": [
    "%cd twitteranalysis\n",
    "\n",
    "%run -i profiling/optimizing_string_processor.py"
   ]
  },
  {
   "cell_type": "code",
   "execution_count": null,
   "metadata": {},
   "outputs": [],
   "source": []
  },
  {
   "cell_type": "code",
   "execution_count": null,
   "metadata": {},
   "outputs": [],
   "source": []
  },
  {
   "cell_type": "code",
   "execution_count": null,
   "metadata": {},
   "outputs": [],
   "source": []
  },
  {
   "cell_type": "code",
   "execution_count": null,
   "metadata": {},
   "outputs": [],
   "source": []
  },
  {
   "cell_type": "markdown",
   "metadata": {},
   "source": [
    "# Display results of benchmark runs"
   ]
  },
  {
   "cell_type": "markdown",
   "metadata": {
    "ExecuteTime": {
     "end_time": "2018-02-16T22:34:42.204981Z",
     "start_time": "2018-02-16T22:34:42.202391Z"
    }
   },
   "source": [
    "## String processing worker with different datastructures"
   ]
  },
  {
   "cell_type": "code",
   "execution_count": null,
   "metadata": {
    "ExecuteTime": {
     "end_time": "2018-02-17T00:07:34.153405Z",
     "start_time": "2018-02-17T00:07:33.788143Z"
    },
    "scrolled": true
   },
   "outputs": [],
   "source": [
    "\n",
    "\n",
    "NUMTWEETS = 1181\n",
    "\n",
    "def a(row):\n",
    "    #correct experiment which iterated over the string\n",
    "    if len(row.dataStructure) == 1:\n",
    "        row.dataStructure = 'tuple'\n",
    "        \n",
    "    if row.tweetTime > 1 or row.numTweets > NUMTWEETS:\n",
    "        row.tweetTime = row.totalTime / NUMTWEETS\n",
    "    return row\n",
    "\n",
    "\n",
    "\n",
    "#load from file\n",
    "data = pd.read_csv(\"%s/tests/benchmarks/StringProcessingWorker.csv\" % TEXT_TOOLS_PATH)\n",
    "data.set_index(['id'], inplace=True)\n",
    "#fix incorrectly calculated tweet times\n",
    "data = data.apply(lambda x: a(x), axis=1)\n",
    "#get rid of outliers from pycharm indexing\n",
    "data = data[data.totalTime < 80]\n",
    "data.drop(['module', 'note', 'timestamp'], axis=1, inplace=True)\n",
    "len(data)"
   ]
  },
  {
   "cell_type": "code",
   "execution_count": null,
   "metadata": {
    "ExecuteTime": {
     "end_time": "2018-02-17T00:07:42.382912Z",
     "start_time": "2018-02-17T00:07:42.081658Z"
    }
   },
   "outputs": [],
   "source": [
    "fig, ax = plt.subplots(2)\n",
    "# sns.boxplot(data=data[['totalTime', 'tweetTime']], orient='h', ax=ax[0])\n",
    "sns.boxplot(data=data.totalTime, orient='h', ax=ax[0])\n",
    "sns.boxplot(data=data.tweetTime, orient='h', ax=ax[1])\n",
    "fig.tight_layout()"
   ]
  },
  {
   "cell_type": "code",
   "execution_count": null,
   "metadata": {
    "ExecuteTime": {
     "end_time": "2018-02-17T00:07:50.904239Z",
     "start_time": "2018-02-17T00:07:43.087397Z"
    }
   },
   "outputs": [],
   "source": [
    "fig, ax = plt.subplots(2, figsize=(12,6))\n",
    "sns.boxplot(x=\"numThreads\", y=\"totalTime\", hue=\"dataStructure\", data=data, ax=ax[0])\n",
    "sns.boxplot(x=\"numThreads\", y=\"tweetTime\", hue=\"dataStructure\", data=data, ax=ax[1])"
   ]
  },
  {
   "cell_type": "code",
   "execution_count": null,
   "metadata": {
    "ExecuteTime": {
     "end_time": "2018-02-17T00:07:53.085259Z",
     "start_time": "2018-02-17T00:07:50.906013Z"
    }
   },
   "outputs": [],
   "source": [
    "\n",
    "import matplotlib.ticker as ticker\n",
    "# sns.set_style( {'xtick.major.size': 5.0})\n",
    "g = sns.violinplot(x=\"numThreads\", y=\"tweetTime\", hue=\"dataStructure\", data=data)\n",
    "# g.set_xticklabels([i for i in range(0, 50, 5)])\n",
    "# g.set(xticklabels=[i for i in range(0, 50, 5)])\n",
    "# g.xaxis.set_major_locator(ticker.MultipleLocator(5))\n",
    "# f = plt.gcf().get_axes()[0]\n",
    "# f.set_xticks(5)"
   ]
  },
  {
   "cell_type": "code",
   "execution_count": null,
   "metadata": {},
   "outputs": [],
   "source": [
    "fig, ax = plt.subplots(2)\n",
    "sns.distplot(data.totalTime, kde=True, rug=True, ax=ax[0])\n",
    "sns.distplot(data.tweetTime, kde=True, rug=True, ax=ax[1])\n",
    "fig.tight_layout()"
   ]
  },
  {
   "cell_type": "code",
   "execution_count": null,
   "metadata": {},
   "outputs": [],
   "source": [
    "import sys\n",
    "sys.byteorder"
   ]
  },
  {
   "cell_type": "code",
   "execution_count": null,
   "metadata": {},
   "outputs": [],
   "source": []
  },
  {
   "cell_type": "code",
   "execution_count": null,
   "metadata": {},
   "outputs": [],
   "source": [
    "sns.factorplot(x=\"numThreads\", y=\"totalTime\", hue=\"dataStructure\", data=data) #, kind=\"swarm\") #, ax=axes[0])\n",
    "fig = plt.gcf()\n",
    "fig.set_size_inches(12,4)\n",
    "fig.tight_layout()\n",
    "# fig.get_axes()[0].set_ylim(0.025,0.04)"
   ]
  },
  {
   "cell_type": "code",
   "execution_count": null,
   "metadata": {},
   "outputs": [],
   "source": [
    "sns.factorplot(x=\"numThreads\", y=\"tweetTime\", hue=\"dataStructure\", data=data) #,ax=axes[1]);\n",
    "fig = plt.gcf()\n",
    "fig.set_size_inches(12,4)\n",
    "fig.get_axes()[0].set_ylim(0.028,0.032)\n",
    "fig.tight_layout()"
   ]
  },
  {
   "cell_type": "code",
   "execution_count": null,
   "metadata": {},
   "outputs": [],
   "source": []
  },
  {
   "cell_type": "code",
   "execution_count": null,
   "metadata": {},
   "outputs": [],
   "source": []
  },
  {
   "cell_type": "code",
   "execution_count": null,
   "metadata": {},
   "outputs": [],
   "source": []
  },
  {
   "cell_type": "code",
   "execution_count": null,
   "metadata": {},
   "outputs": [],
   "source": []
  },
  {
   "cell_type": "code",
   "execution_count": null,
   "metadata": {},
   "outputs": [],
   "source": []
  },
  {
   "cell_type": "code",
   "execution_count": null,
   "metadata": {},
   "outputs": [],
   "source": []
  },
  {
   "cell_type": "code",
   "execution_count": null,
   "metadata": {},
   "outputs": [],
   "source": []
  }
 ],
 "metadata": {
  "kernelspec": {
   "display_name": "Python 3",
   "language": "python",
   "name": "python3"
  },
  "language_info": {
   "codemirror_mode": {
    "name": "ipython",
    "version": 3
   },
   "file_extension": ".py",
   "mimetype": "text/x-python",
   "name": "python",
   "nbconvert_exporter": "python",
   "pygments_lexer": "ipython3",
   "version": "3.6.4"
  },
  "latex_envs": {
   "bibliofile": "biblio.bib",
   "cite_by": "apalike",
   "current_citInitial": 1,
   "eqLabelWithNumbers": true,
   "eqNumInitial": 0
  },
  "toc": {
   "colors": {
    "hover_highlight": "#DAA520",
    "navigate_num": "#000000",
    "navigate_text": "#333333",
    "running_highlight": "#FF0000",
    "selected_highlight": "#FFD700",
    "sidebar_border": "#EEEEEE",
    "wrapper_background": "#FFFFFF"
   },
   "moveMenuLeft": true,
   "nav_menu": {
    "height": "12px",
    "width": "252px"
   },
   "navigate_menu": true,
   "number_sections": true,
   "sideBar": true,
   "threshold": 4,
   "toc_cell": false,
   "toc_section_display": "block",
   "toc_window_display": true,
   "widenNotebook": false
  }
 },
 "nbformat": 4,
 "nbformat_minor": 2
}
