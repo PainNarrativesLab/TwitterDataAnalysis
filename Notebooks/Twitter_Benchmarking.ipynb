{
 "cells": [
  {
   "cell_type": "markdown",
   "metadata": {},
   "source": [
    "This runs and displays benchmark performance for various tools"
   ]
  },
  {
   "cell_type": "code",
   "execution_count": 32,
   "metadata": {
    "ExecuteTime": {
     "end_time": "2018-04-18T02:05:50.254362Z",
     "start_time": "2018-04-18T02:05:50.242932Z"
    }
   },
   "outputs": [
    {
     "name": "stdout",
     "output_type": "stream",
     "text": [
      "(bookmark:twitteranalysis) -> /Users/adam/Dropbox/PainNarrativesLab/TwitterDataAnalysis\n",
      "/Users/adam/Dropbox/PainNarrativesLab/TwitterDataAnalysis\n"
     ]
    }
   ],
   "source": [
    "%cd twitteranalysis\n",
    "%run -i environment.py\n",
    "\n",
    "import pandas as pd\n",
    "#Plotting \n",
    "%matplotlib inline\n",
    "from matplotlib import pyplot as plt\n",
    "import seaborn as sns\n",
    "sns.set(style=\"whitegrid\")\n",
    "\n",
    "# Timing etc tools (e.g., @timefn)\n",
    "from OptimizationTools import *\n"
   ]
  },
  {
   "cell_type": "code",
   "execution_count": 33,
   "metadata": {
    "ExecuteTime": {
     "end_time": "2018-04-18T02:05:50.780824Z",
     "start_time": "2018-04-18T02:05:50.776159Z"
    }
   },
   "outputs": [],
   "source": [
    "import datetime"
   ]
  },
  {
   "cell_type": "markdown",
   "metadata": {},
   "source": [
    "# DB query log"
   ]
  },
  {
   "cell_type": "code",
   "execution_count": 34,
   "metadata": {
    "ExecuteTime": {
     "end_time": "2018-04-18T02:05:57.666134Z",
     "start_time": "2018-04-18T02:05:51.622137Z"
    }
   },
   "outputs": [],
   "source": [
    "\n",
    "BASE = os.getenv(\"HOME\")\n",
    "# todo restore environment\n",
    "# from TwitterDataAnalysis.environment import *\n",
    "\n",
    "# Logging\n",
    "LOG_FOLDER_PATH = \"%s/Desktop/TwitterDataAnalysisLogs\" % BASE\n",
    "\n",
    "query_log = '%s/query_log.csv' % LOG_FOLDER_PATH\n",
    "query_time_log = '%s/query_time_log.csv' % LOG_FOLDER_PATH\n",
    "\n",
    "def r(x):\n",
    "    if x[0] == '0':\n",
    "        x = '2%s' % x \n",
    "    return pd.to_datetime(x)\n",
    "\n",
    "queries = pd.read_csv(query_log,  header=None, names=['runtime'])\n",
    "timestamps = pd.read_csv(query_time_log,  header=None, names=['runTimestamp'])\n",
    "\n",
    "\n",
    "timestamps = timestamps.apply(lambda x: r(x.runTimestamp), axis=1)\n",
    "# queries = queries.apply(lambda x: float(x))\n",
    "queries.dropna(inplace=True)\n"
   ]
  },
  {
   "cell_type": "code",
   "execution_count": 35,
   "metadata": {
    "ExecuteTime": {
     "end_time": "2018-04-18T02:05:58.028136Z",
     "start_time": "2018-04-18T02:05:58.021749Z"
    }
   },
   "outputs": [
    {
     "name": "stdout",
     "output_type": "stream",
     "text": [
      "67905 long before cutting\n",
      "67905 long after\n"
     ]
    }
   ],
   "source": [
    "\n",
    "\n",
    "queries.dropna(inplace=True)\n",
    "# timestamps.runTimestamp = queries.apply(lambda x: r(x.runTimestamp), axis=1)\n",
    "\n",
    "# queries.runtime = queries.apply(lambda x: float(x.runtime), axis=1)\n",
    "\n",
    "print(\"%s long before cutting\" % len(queries))\n",
    "# queries.set_index('runTimestamp', inplace=True)\n",
    "# queries = queries['2018']\n",
    "print(\"%s long after\" % len(queries))"
   ]
  },
  {
   "cell_type": "code",
   "execution_count": 36,
   "metadata": {
    "ExecuteTime": {
     "end_time": "2018-04-18T02:06:47.940518Z",
     "start_time": "2018-04-18T02:06:47.934742Z"
    }
   },
   "outputs": [
    {
     "name": "stdout",
     "output_type": "stream",
     "text": [
      "67905 records in 37.8193306923 seconds (0.630322178205 minutes). \n",
      "Avg: 0.000556944712352 \n"
     ]
    }
   ],
   "source": [
    "totalSeconds = queries.runtime.sum()\n",
    "meanRuntime = queries.runtime.mean()\n",
    "\n",
    "# totalSeconds = queries.sum()\n",
    "# meanRuntime = queries.mean()\n",
    "totalRecords = len(queries)\n",
    "print(\"%s records in %s seconds (%s minutes). \" %(totalRecords, totalSeconds, totalSeconds/60))\n",
    "print(\"Avg: %s \" % (meanRuntime))"
   ]
  },
  {
   "cell_type": "code",
   "execution_count": 37,
   "metadata": {
    "ExecuteTime": {
     "end_time": "2018-04-18T02:07:00.467134Z",
     "start_time": "2018-04-18T02:07:00.462702Z"
    }
   },
   "outputs": [
    {
     "name": "stdout",
     "output_type": "stream",
     "text": [
      "Average queries per user 15.603170955882353\n",
      "Expected runtime: 192.47522089 hours\n"
     ]
    }
   ],
   "source": [
    "# numberUsersProcessed = 100\n",
    "numberUsersProcessed = 4352\n",
    "\n",
    "totalUsers = 1328927\n",
    "\n",
    "avgQueriesPerUser = totalRecords / numberUsersProcessed\n",
    "print(\"Average queries per user %s\" % avgQueriesPerUser)\n",
    "\n",
    "expectedQueries = totalUsers * avgQueriesPerUser\n",
    "expRun = expectedQueries * meanRuntime \n",
    "print(\"Expected runtime: %s hours\" % (expRun / 60))"
   ]
  },
  {
   "cell_type": "code",
   "execution_count": 38,
   "metadata": {
    "ExecuteTime": {
     "end_time": "2018-04-18T02:07:16.888716Z",
     "start_time": "2018-04-18T02:07:16.870495Z"
    }
   },
   "outputs": [
    {
     "data": {
      "text/html": [
       "<div>\n",
       "<style scoped>\n",
       "    .dataframe tbody tr th:only-of-type {\n",
       "        vertical-align: middle;\n",
       "    }\n",
       "\n",
       "    .dataframe tbody tr th {\n",
       "        vertical-align: top;\n",
       "    }\n",
       "\n",
       "    .dataframe thead th {\n",
       "        text-align: right;\n",
       "    }\n",
       "</style>\n",
       "<table border=\"1\" class=\"dataframe\">\n",
       "  <thead>\n",
       "    <tr style=\"text-align: right;\">\n",
       "      <th></th>\n",
       "      <th>runtime</th>\n",
       "    </tr>\n",
       "  </thead>\n",
       "  <tbody>\n",
       "    <tr>\n",
       "      <th>count</th>\n",
       "      <td>67905.000000</td>\n",
       "    </tr>\n",
       "    <tr>\n",
       "      <th>mean</th>\n",
       "      <td>0.000557</td>\n",
       "    </tr>\n",
       "    <tr>\n",
       "      <th>std</th>\n",
       "      <td>0.014214</td>\n",
       "    </tr>\n",
       "    <tr>\n",
       "      <th>min</th>\n",
       "      <td>0.000073</td>\n",
       "    </tr>\n",
       "    <tr>\n",
       "      <th>25%</th>\n",
       "      <td>0.000112</td>\n",
       "    </tr>\n",
       "    <tr>\n",
       "      <th>50%</th>\n",
       "      <td>0.000140</td>\n",
       "    </tr>\n",
       "    <tr>\n",
       "      <th>75%</th>\n",
       "      <td>0.000168</td>\n",
       "    </tr>\n",
       "    <tr>\n",
       "      <th>max</th>\n",
       "      <td>2.000000</td>\n",
       "    </tr>\n",
       "  </tbody>\n",
       "</table>\n",
       "</div>"
      ],
      "text/plain": [
       "            runtime\n",
       "count  67905.000000\n",
       "mean       0.000557\n",
       "std        0.014214\n",
       "min        0.000073\n",
       "25%        0.000112\n",
       "50%        0.000140\n",
       "75%        0.000168\n",
       "max        2.000000"
      ]
     },
     "execution_count": 38,
     "metadata": {},
     "output_type": "execute_result"
    }
   ],
   "source": [
    "queries.describe()"
   ]
  },
  {
   "cell_type": "code",
   "execution_count": 39,
   "metadata": {
    "ExecuteTime": {
     "end_time": "2018-04-18T02:07:34.782704Z",
     "start_time": "2018-04-18T02:07:34.569112Z"
    }
   },
   "outputs": [
    {
     "name": "stderr",
     "output_type": "stream",
     "text": [
      "/Users/adam/.pyenv/versions/3.4.3/lib/python3.4/site-packages/seaborn/categorical.py:2171: UserWarning: The boxplot API has been changed. Attempting to adjust your arguments for the new API (which might not work). Please update your code. See the version 0.6 release notes for more info.\n",
      "  warnings.warn(msg, UserWarning)\n",
      "/Users/adam/.pyenv/versions/3.4.3/lib/python3.4/site-packages/seaborn/categorical.py:454: FutureWarning: remove_na is deprecated and is a private function. Do not use.\n",
      "  box_data = remove_na(group_data)\n"
     ]
    },
    {
     "data": {
      "text/plain": [
       "<matplotlib.axes._subplots.AxesSubplot at 0x10a1f19b0>"
      ]
     },
     "execution_count": 39,
     "metadata": {},
     "output_type": "execute_result"
    },
    {
     "data": {
      "image/png": "[encoded data removed]",
      "text/plain": [
       "<matplotlib.figure.Figure at 0x109d1d5c0>"
      ]
     },
     "metadata": {},
     "output_type": "display_data"
    }
   ],
   "source": [
    "sns.boxplot(queries)"
   ]
  },
  {
   "cell_type": "code",
   "execution_count": 40,
   "metadata": {
    "ExecuteTime": {
     "end_time": "2018-04-18T02:07:37.631339Z",
     "start_time": "2018-04-18T02:07:37.626198Z"
    }
   },
   "outputs": [
    {
     "data": {
      "text/plain": [
       "0.00055694471235242268"
      ]
     },
     "execution_count": 40,
     "metadata": {},
     "output_type": "execute_result"
    }
   ],
   "source": [
    "queries.runtime.mean()"
   ]
  },
  {
   "cell_type": "code",
   "execution_count": 41,
   "metadata": {
    "ExecuteTime": {
     "end_time": "2018-04-18T02:07:37.939889Z",
     "start_time": "2018-04-18T02:07:37.933280Z"
    },
    "run_control": {
     "marked": true
    }
   },
   "outputs": [
    {
     "data": {
      "text/plain": [
       "20735169.80882353"
      ]
     },
     "execution_count": 41,
     "metadata": {},
     "output_type": "execute_result"
    }
   ],
   "source": [
    "totalEstTime = queries.index.max() - queries.index.min()\n",
    "totalUsers * (totalEstTime / numberUsersProcessed)"
   ]
  },
  {
   "cell_type": "code",
   "execution_count": 42,
   "metadata": {
    "ExecuteTime": {
     "end_time": "2018-04-18T02:07:38.885885Z",
     "start_time": "2018-04-18T02:07:38.212527Z"
    }
   },
   "outputs": [
    {
     "data": {
      "text/plain": [
       "<matplotlib.axes._subplots.AxesSubplot at 0x103d9cdd8>"
      ]
     },
     "execution_count": 42,
     "metadata": {},
     "output_type": "execute_result"
    },
    {
     "data": {
      "image/png": "[encoded data removed]",
      "text/plain": [
       "<matplotlib.figure.Figure at 0x10b6f9080>"
      ]
     },
     "metadata": {},
     "output_type": "display_data"
    }
   ],
   "source": [
    "queries.plot()"
   ]
  },
  {
   "cell_type": "code",
   "execution_count": null,
   "metadata": {},
   "outputs": [],
   "source": []
  },
  {
   "cell_type": "code",
   "execution_count": null,
   "metadata": {
    "ExecuteTime": {
     "end_time": "2018-04-06T21:28:41.662827Z",
     "start_time": "2018-04-06T21:28:41.658549Z"
    }
   },
   "outputs": [],
   "source": [
    "d = queries[:50]\n",
    "d = d.reset_index()"
   ]
  },
  {
   "cell_type": "code",
   "execution_count": null,
   "metadata": {
    "ExecuteTime": {
     "end_time": "2018-04-06T21:28:52.950373Z",
     "start_time": "2018-04-06T21:28:52.945003Z"
    }
   },
   "outputs": [],
   "source": [
    "d.runTimestamp[0]"
   ]
  },
  {
   "cell_type": "code",
   "execution_count": null,
   "metadata": {},
   "outputs": [],
   "source": []
  },
  {
   "cell_type": "code",
   "execution_count": null,
   "metadata": {},
   "outputs": [],
   "source": []
  },
  {
   "cell_type": "markdown",
   "metadata": {},
   "source": [
    "# Benchmark tweet text processing tools"
   ]
  },
  {
   "cell_type": "code",
   "execution_count": null,
   "metadata": {
    "ExecuteTime": {
     "end_time": "2018-04-06T23:17:15.533805Z",
     "start_time": "2018-04-06T23:17:14.035596Z"
    }
   },
   "outputs": [],
   "source": [
    "%cd twitteranalysis\n",
    "\n",
    "%run -i profiling/optimizing_string_processor.py"
   ]
  },
  {
   "cell_type": "code",
   "execution_count": null,
   "metadata": {},
   "outputs": [],
   "source": []
  },
  {
   "cell_type": "code",
   "execution_count": null,
   "metadata": {},
   "outputs": [],
   "source": []
  },
  {
   "cell_type": "code",
   "execution_count": null,
   "metadata": {},
   "outputs": [],
   "source": []
  },
  {
   "cell_type": "code",
   "execution_count": null,
   "metadata": {},
   "outputs": [],
   "source": []
  },
  {
   "cell_type": "markdown",
   "metadata": {},
   "source": [
    "# Display results of benchmark runs"
   ]
  },
  {
   "cell_type": "markdown",
   "metadata": {
    "ExecuteTime": {
     "end_time": "2018-02-16T22:34:42.204981Z",
     "start_time": "2018-02-16T22:34:42.202391Z"
    }
   },
   "source": [
    "## String processing worker with different datastructures"
   ]
  },
  {
   "cell_type": "code",
   "execution_count": null,
   "metadata": {
    "ExecuteTime": {
     "end_time": "2018-02-17T00:07:34.153405Z",
     "start_time": "2018-02-17T00:07:33.788143Z"
    },
    "scrolled": true
   },
   "outputs": [],
   "source": [
    "\n",
    "\n",
    "NUMTWEETS = 1181\n",
    "\n",
    "def a(row):\n",
    "    #correct experiment which iterated over the string\n",
    "    if len(row.dataStructure) == 1:\n",
    "        row.dataStructure = 'tuple'\n",
    "        \n",
    "    if row.tweetTime > 1 or row.numTweets > NUMTWEETS:\n",
    "        row.tweetTime = row.totalTime / NUMTWEETS\n",
    "    return row\n",
    "\n",
    "\n",
    "\n",
    "#load from file\n",
    "data = pd.read_csv(\"%s/tests/benchmarks/StringProcessingWorker.csv\" % TEXT_TOOLS_PATH)\n",
    "data.set_index(['id'], inplace=True)\n",
    "#fix incorrectly calculated tweet times\n",
    "data = data.apply(lambda x: a(x), axis=1)\n",
    "#get rid of outliers from pycharm indexing\n",
    "data = data[data.totalTime < 80]\n",
    "data.drop(['module', 'note', 'timestamp'], axis=1, inplace=True)\n",
    "len(data)"
   ]
  },
  {
   "cell_type": "code",
   "execution_count": null,
   "metadata": {
    "ExecuteTime": {
     "end_time": "2018-02-17T00:07:42.382912Z",
     "start_time": "2018-02-17T00:07:42.081658Z"
    }
   },
   "outputs": [],
   "source": [
    "fig, ax = plt.subplots(2)\n",
    "# sns.boxplot(data=data[['totalTime', 'tweetTime']], orient='h', ax=ax[0])\n",
    "sns.boxplot(data=data.totalTime, orient='h', ax=ax[0])\n",
    "sns.boxplot(data=data.tweetTime, orient='h', ax=ax[1])\n",
    "fig.tight_layout()"
   ]
  },
  {
   "cell_type": "code",
   "execution_count": null,
   "metadata": {
    "ExecuteTime": {
     "end_time": "2018-02-17T00:07:50.904239Z",
     "start_time": "2018-02-17T00:07:43.087397Z"
    }
   },
   "outputs": [],
   "source": [
    "fig, ax = plt.subplots(2, figsize=(12,6))\n",
    "sns.boxplot(x=\"numThreads\", y=\"totalTime\", hue=\"dataStructure\", data=data, ax=ax[0])\n",
    "sns.boxplot(x=\"numThreads\", y=\"tweetTime\", hue=\"dataStructure\", data=data, ax=ax[1])"
   ]
  },
  {
   "cell_type": "code",
   "execution_count": null,
   "metadata": {
    "ExecuteTime": {
     "end_time": "2018-02-17T00:07:53.085259Z",
     "start_time": "2018-02-17T00:07:50.906013Z"
    }
   },
   "outputs": [],
   "source": [
    "\n",
    "import matplotlib.ticker as ticker\n",
    "# sns.set_style( {'xtick.major.size': 5.0})\n",
    "g = sns.violinplot(x=\"numThreads\", y=\"tweetTime\", hue=\"dataStructure\", data=data)\n",
    "# g.set_xticklabels([i for i in range(0, 50, 5)])\n",
    "# g.set(xticklabels=[i for i in range(0, 50, 5)])\n",
    "# g.xaxis.set_major_locator(ticker.MultipleLocator(5))\n",
    "# f = plt.gcf().get_axes()[0]\n",
    "# f.set_xticks(5)"
   ]
  },
  {
   "cell_type": "code",
   "execution_count": null,
   "metadata": {},
   "outputs": [],
   "source": [
    "fig, ax = plt.subplots(2)\n",
    "sns.distplot(data.totalTime, kde=True, rug=True, ax=ax[0])\n",
    "sns.distplot(data.tweetTime, kde=True, rug=True, ax=ax[1])\n",
    "fig.tight_layout()"
   ]
  },
  {
   "cell_type": "code",
   "execution_count": null,
   "metadata": {},
   "outputs": [],
   "source": [
    "import sys\n",
    "sys.byteorder"
   ]
  },
  {
   "cell_type": "code",
   "execution_count": null,
   "metadata": {},
   "outputs": [],
   "source": []
  },
  {
   "cell_type": "code",
   "execution_count": null,
   "metadata": {},
   "outputs": [],
   "source": [
    "sns.factorplot(x=\"numThreads\", y=\"totalTime\", hue=\"dataStructure\", data=data) #, kind=\"swarm\") #, ax=axes[0])\n",
    "fig = plt.gcf()\n",
    "fig.set_size_inches(12,4)\n",
    "fig.tight_layout()\n",
    "# fig.get_axes()[0].set_ylim(0.025,0.04)"
   ]
  },
  {
   "cell_type": "code",
   "execution_count": null,
   "metadata": {},
   "outputs": [],
   "source": [
    "sns.factorplot(x=\"numThreads\", y=\"tweetTime\", hue=\"dataStructure\", data=data) #,ax=axes[1]);\n",
    "fig = plt.gcf()\n",
    "fig.set_size_inches(12,4)\n",
    "fig.get_axes()[0].set_ylim(0.028,0.032)\n",
    "fig.tight_layout()"
   ]
  },
  {
   "cell_type": "code",
   "execution_count": null,
   "metadata": {},
   "outputs": [],
   "source": []
  },
  {
   "cell_type": "code",
   "execution_count": null,
   "metadata": {},
   "outputs": [],
   "source": []
  },
  {
   "cell_type": "code",
   "execution_count": null,
   "metadata": {},
   "outputs": [],
   "source": []
  },
  {
   "cell_type": "code",
   "execution_count": null,
   "metadata": {},
   "outputs": [],
   "source": []
  },
  {
   "cell_type": "code",
   "execution_count": null,
   "metadata": {},
   "outputs": [],
   "source": []
  },
  {
   "cell_type": "code",
   "execution_count": null,
   "metadata": {},
   "outputs": [],
   "source": []
  },
  {
   "cell_type": "code",
   "execution_count": null,
   "metadata": {},
   "outputs": [],
   "source": []
  }
 ],
 "metadata": {
  "kernelspec": {
   "display_name": "Python 3",
   "language": "python",
   "name": "python3"
  },
  "language_info": {
   "codemirror_mode": {
    "name": "ipython",
    "version": 3
   },
   "file_extension": ".py",
   "mimetype": "text/x-python",
   "name": "python",
   "nbconvert_exporter": "python",
   "pygments_lexer": "ipython3",
   "version": "3.4.3"
  },
  "latex_envs": {
   "bibliofile": "biblio.bib",
   "cite_by": "apalike",
   "current_citInitial": 1,
   "eqLabelWithNumbers": true,
   "eqNumInitial": 0
  },
  "toc": {
   "colors": {
    "hover_highlight": "#DAA520",
    "navigate_num": "#000000",
    "navigate_text": "#333333",
    "running_highlight": "#FF0000",
    "selected_highlight": "#FFD700",
    "sidebar_border": "#EEEEEE",
    "wrapper_background": "#FFFFFF"
   },
   "moveMenuLeft": true,
   "nav_menu": {
    "height": "12px",
    "width": "252px"
   },
   "navigate_menu": true,
   "number_sections": true,
   "sideBar": true,
   "threshold": 4,
   "toc_cell": false,
   "toc_section_display": "block",
   "toc_window_display": true,
   "widenNotebook": false
  }
 },
 "nbformat": 4,
 "nbformat_minor": 1
}
