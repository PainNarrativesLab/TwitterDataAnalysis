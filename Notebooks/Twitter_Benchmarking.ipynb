{
 "cells": [
  {
   "cell_type": "markdown",
   "metadata": {},
   "source": [
    "This runs and displays benchmark performance for various tools"
   ]
  },
  {
   "cell_type": "code",
   "execution_count": 1,
   "metadata": {
    "ExecuteTime": {
     "end_time": "2018-04-24T02:27:49.186380Z",
     "start_time": "2018-04-24T02:27:48.485635Z"
    }
   },
   "outputs": [
    {
     "name": "stdout",
     "output_type": "stream",
     "text": [
      "(bookmark:twitteranalysis) -> /Users/adam/Dropbox/PainNarrativesLab/TwitterDataAnalysis\n",
      "/Users/adam/Dropbox/PainNarrativesLab/TwitterDataAnalysis\n"
     ]
    }
   ],
   "source": [
    "%cd twitteranalysis\n",
    "%run -i environment.py\n",
    "\n",
    "import pandas as pd\n",
    "#Plotting \n",
    "%matplotlib inline\n",
    "from matplotlib import pyplot as plt\n",
    "import seaborn as sns\n",
    "sns.set(style=\"whitegrid\")\n",
    "\n",
    "# Timing etc tools (e.g., @timefn)\n",
    "from OptimizationTools import *\n"
   ]
  },
  {
   "cell_type": "code",
   "execution_count": 2,
   "metadata": {
    "ExecuteTime": {
     "end_time": "2018-04-24T02:27:49.191865Z",
     "start_time": "2018-04-24T02:27:49.188636Z"
    }
   },
   "outputs": [],
   "source": [
    "# numberUsersProcessed = 100\n",
    "numberUsersProcessed = 4352\n",
    "\n",
    "actualUsers = 1328927"
   ]
  },
  {
   "cell_type": "code",
   "execution_count": 3,
   "metadata": {
    "ExecuteTime": {
     "end_time": "2018-04-24T02:27:50.585411Z",
     "start_time": "2018-04-24T02:27:49.417648Z"
    }
   },
   "outputs": [],
   "source": [
    "\n",
    "BASE = os.getenv(\"HOME\")\n",
    "# todo restore environment\n",
    "# from TwitterDataAnalysis.environment import *\n",
    "\n",
    "# Logging\n",
    "LOG_FOLDER_PATH = \"%s/Desktop/TwitterDataAnalysisLogs\" % BASE\n",
    "\n",
    "query_log = '%s/query_log.csv' % LOG_FOLDER_PATH\n",
    "query_time_log = '%s/query_time_log.csv' % LOG_FOLDER_PATH\n",
    "\n",
    "\n",
    "request_log = '%s/request_log.csv' % LOG_FOLDER_PATH\n",
    "request_time_log = '%s/request_time_log.csv' % LOG_FOLDER_PATH\n",
    "\n",
    "\n",
    "def r(x):\n",
    "    if x[0] == '0':\n",
    "        x = '2%s' % x \n",
    "    return pd.to_datetime(x)\n",
    "\n",
    "queries = pd.read_csv(query_log,  header=None, names=['runtime'])\n",
    "query_timestamps = pd.read_csv(query_time_log,  header=None, names=['runTimestamp'])\n",
    "query_timestamps = query_timestamps.apply(lambda x: r(x.runTimestamp), axis=1)\n",
    "queries.dropna(inplace=True)\n",
    "\n",
    "requests = pd.read_csv(request_log,  header=None, names=['runtime'])\n",
    "request_timestamps = pd.read_csv(request_time_log,  header=None, names=['runTimestamp'])\n",
    "request_timestamps = request_timestamps.apply(lambda x: r(x.runTimestamp), axis=1)\n",
    "requests.dropna(inplace=True)"
   ]
  },
  {
   "cell_type": "markdown",
   "metadata": {},
   "source": [
    "# DB query log"
   ]
  },
  {
   "cell_type": "code",
   "execution_count": null,
   "metadata": {},
   "outputs": [],
   "source": []
  },
  {
   "cell_type": "code",
   "execution_count": 4,
   "metadata": {
    "ExecuteTime": {
     "end_time": "2018-04-24T02:27:51.566794Z",
     "start_time": "2018-04-24T02:27:51.562220Z"
    }
   },
   "outputs": [
    {
     "name": "stdout",
     "output_type": "stream",
     "text": [
      "Made 164 queries in 0.25013756752 seconds (0.00416895945867 minutes). \n"
     ]
    }
   ],
   "source": [
    "totalSeconds = queries.runtime.sum()\n",
    "meanRuntime = queries.runtime.mean()\n",
    "totalRecords = len(queries)\n",
    "print(\"Made %s queries in %s seconds (%s minutes). \" %(totalRecords, totalSeconds, totalSeconds/60))"
   ]
  },
  {
   "cell_type": "code",
   "execution_count": 5,
   "metadata": {
    "ExecuteTime": {
     "end_time": "2018-04-24T02:27:57.071329Z",
     "start_time": "2018-04-24T02:27:57.063800Z"
    }
   },
   "outputs": [
    {
     "name": "stdout",
     "output_type": "stream",
     "text": [
      "0.03768382352941176 queries per user\n"
     ]
    },
    {
     "data": {
      "text/plain": [
       "76.382023711360105"
      ]
     },
     "execution_count": 5,
     "metadata": {},
     "output_type": "execute_result"
    }
   ],
   "source": [
    "queriesPerUser = len(queries) / numberUsersProcessed \n",
    "print(\"%s queries per user\" % queriesPerUser)\n",
    "estQueryTime = queriesPerUser * meanRuntime * actualUsers\n",
    "estQueryTime"
   ]
  },
  {
   "cell_type": "code",
   "execution_count": 6,
   "metadata": {
    "ExecuteTime": {
     "end_time": "2018-04-24T02:28:05.343334Z",
     "start_time": "2018-04-24T02:28:05.338401Z"
    }
   },
   "outputs": [
    {
     "data": {
      "text/plain": [
       "Timedelta('0 days 00:00:15.393389')"
      ]
     },
     "execution_count": 6,
     "metadata": {},
     "output_type": "execute_result"
    }
   ],
   "source": [
    "elapsedTime = query_timestamps.max() -query_timestamps.min()\n",
    "elapsedTime"
   ]
  },
  {
   "cell_type": "code",
   "execution_count": 7,
   "metadata": {
    "ExecuteTime": {
     "end_time": "2018-04-24T02:28:19.348332Z",
     "start_time": "2018-04-24T02:28:19.330221Z"
    }
   },
   "outputs": [
    {
     "data": {
      "text/html": [
       "<div>\n",
       "<style scoped>\n",
       "    .dataframe tbody tr th:only-of-type {\n",
       "        vertical-align: middle;\n",
       "    }\n",
       "\n",
       "    .dataframe tbody tr th {\n",
       "        vertical-align: top;\n",
       "    }\n",
       "\n",
       "    .dataframe thead th {\n",
       "        text-align: right;\n",
       "    }\n",
       "</style>\n",
       "<table border=\"1\" class=\"dataframe\">\n",
       "  <thead>\n",
       "    <tr style=\"text-align: right;\">\n",
       "      <th></th>\n",
       "      <th>runtime</th>\n",
       "    </tr>\n",
       "  </thead>\n",
       "  <tbody>\n",
       "    <tr>\n",
       "      <th>count</th>\n",
       "      <td>164.000000</td>\n",
       "    </tr>\n",
       "    <tr>\n",
       "      <th>mean</th>\n",
       "      <td>0.001525</td>\n",
       "    </tr>\n",
       "    <tr>\n",
       "      <th>std</th>\n",
       "      <td>0.001393</td>\n",
       "    </tr>\n",
       "    <tr>\n",
       "      <th>min</th>\n",
       "      <td>0.000236</td>\n",
       "    </tr>\n",
       "    <tr>\n",
       "      <th>25%</th>\n",
       "      <td>0.000343</td>\n",
       "    </tr>\n",
       "    <tr>\n",
       "      <th>50%</th>\n",
       "      <td>0.000476</td>\n",
       "    </tr>\n",
       "    <tr>\n",
       "      <th>75%</th>\n",
       "      <td>0.002783</td>\n",
       "    </tr>\n",
       "    <tr>\n",
       "      <th>max</th>\n",
       "      <td>0.004885</td>\n",
       "    </tr>\n",
       "  </tbody>\n",
       "</table>\n",
       "</div>"
      ],
      "text/plain": [
       "          runtime\n",
       "count  164.000000\n",
       "mean     0.001525\n",
       "std      0.001393\n",
       "min      0.000236\n",
       "25%      0.000343\n",
       "50%      0.000476\n",
       "75%      0.002783\n",
       "max      0.004885"
      ]
     },
     "execution_count": 7,
     "metadata": {},
     "output_type": "execute_result"
    }
   ],
   "source": [
    "queries.describe()"
   ]
  },
  {
   "cell_type": "code",
   "execution_count": null,
   "metadata": {
    "ExecuteTime": {
     "end_time": "2018-04-24T02:04:16.076380Z",
     "start_time": "2018-04-24T02:04:15.877854Z"
    }
   },
   "outputs": [],
   "source": [
    "sns.boxplot(queries)"
   ]
  },
  {
   "cell_type": "code",
   "execution_count": 10,
   "metadata": {
    "ExecuteTime": {
     "end_time": "2018-04-24T02:29:21.516397Z",
     "start_time": "2018-04-24T02:29:21.508065Z"
    }
   },
   "outputs": [
    {
     "data": {
      "text/html": [
       "<div>\n",
       "<style scoped>\n",
       "    .dataframe tbody tr th:only-of-type {\n",
       "        vertical-align: middle;\n",
       "    }\n",
       "\n",
       "    .dataframe tbody tr th {\n",
       "        vertical-align: top;\n",
       "    }\n",
       "\n",
       "    .dataframe thead th {\n",
       "        text-align: right;\n",
       "    }\n",
       "</style>\n",
       "<table border=\"1\" class=\"dataframe\">\n",
       "  <thead>\n",
       "    <tr style=\"text-align: right;\">\n",
       "      <th></th>\n",
       "      <th>runtime</th>\n",
       "    </tr>\n",
       "  </thead>\n",
       "  <tbody>\n",
       "    <tr>\n",
       "      <th>0</th>\n",
       "      <td>0.004345</td>\n",
       "    </tr>\n",
       "    <tr>\n",
       "      <th>1</th>\n",
       "      <td>0.004272</td>\n",
       "    </tr>\n",
       "    <tr>\n",
       "      <th>2</th>\n",
       "      <td>0.004589</td>\n",
       "    </tr>\n",
       "    <tr>\n",
       "      <th>3</th>\n",
       "      <td>0.004474</td>\n",
       "    </tr>\n",
       "  </tbody>\n",
       "</table>\n",
       "</div>"
      ],
      "text/plain": [
       "    runtime\n",
       "0  0.004345\n",
       "1  0.004272\n",
       "2  0.004589\n",
       "3  0.004474"
      ]
     },
     "execution_count": 10,
     "metadata": {},
     "output_type": "execute_result"
    }
   ],
   "source": [
    "queries[:4]"
   ]
  },
  {
   "cell_type": "code",
   "execution_count": 9,
   "metadata": {
    "ExecuteTime": {
     "end_time": "2018-04-24T02:29:03.309289Z",
     "start_time": "2018-04-24T02:29:03.303996Z"
    },
    "run_control": {
     "marked": true
    }
   },
   "outputs": [
    {
     "data": {
      "text/plain": [
       "49773.69048713235"
      ]
     },
     "execution_count": 9,
     "metadata": {},
     "output_type": "execute_result"
    }
   ],
   "source": [
    "totalEstTime = queries.index.max() - queries.index.min()\n",
    "actualUsers * (totalEstTime / numberUsersProcessed)"
   ]
  },
  {
   "cell_type": "code",
   "execution_count": 11,
   "metadata": {
    "ExecuteTime": {
     "end_time": "2018-04-24T02:30:10.419917Z",
     "start_time": "2018-04-24T02:30:10.197653Z"
    }
   },
   "outputs": [
    {
     "data": {
      "text/plain": [
       "<matplotlib.axes._subplots.AxesSubplot at 0x107e66828>"
      ]
     },
     "execution_count": 11,
     "metadata": {},
     "output_type": "execute_result"
    },
    {
     "data": {
      "image/png": "[encoded data removed]",
      "text/plain": [
       "<matplotlib.figure.Figure at 0x1080b2438>"
      ]
     },
     "metadata": {},
     "output_type": "display_data"
    }
   ],
   "source": [
    "queries.plot()"
   ]
  },
  {
   "cell_type": "code",
   "execution_count": 12,
   "metadata": {
    "ExecuteTime": {
     "end_time": "2018-04-24T02:30:14.719659Z",
     "start_time": "2018-04-24T02:30:14.510099Z"
    }
   },
   "outputs": [
    {
     "data": {
      "text/plain": [
       "<matplotlib.axes._subplots.AxesSubplot at 0x1061c6400>"
      ]
     },
     "execution_count": 12,
     "metadata": {},
     "output_type": "execute_result"
    },
    {
     "data": {
      "image/png": "[encoded data removed]",
      "text/plain": [
       "<matplotlib.figure.Figure at 0x107e66be0>"
      ]
     },
     "metadata": {},
     "output_type": "display_data"
    }
   ],
   "source": [
    "query_timestamps.T.plot()"
   ]
  },
  {
   "cell_type": "code",
   "execution_count": null,
   "metadata": {
    "ExecuteTime": {
     "end_time": "2018-04-06T21:28:41.662827Z",
     "start_time": "2018-04-06T21:28:41.658549Z"
    }
   },
   "outputs": [],
   "source": [
    "d = queries[:50]\n",
    "d = d.reset_index()"
   ]
  },
  {
   "cell_type": "code",
   "execution_count": null,
   "metadata": {
    "ExecuteTime": {
     "end_time": "2018-04-06T21:28:52.950373Z",
     "start_time": "2018-04-06T21:28:52.945003Z"
    }
   },
   "outputs": [],
   "source": [
    "d.runTimestamp[0]"
   ]
  },
  {
   "cell_type": "code",
   "execution_count": null,
   "metadata": {},
   "outputs": [],
   "source": []
  },
  {
   "cell_type": "markdown",
   "metadata": {},
   "source": [
    "# Request time logs"
   ]
  },
  {
   "cell_type": "code",
   "execution_count": null,
   "metadata": {
    "ExecuteTime": {
     "end_time": "2018-04-24T02:06:21.227205Z",
     "start_time": "2018-04-24T02:06:21.222019Z"
    }
   },
   "outputs": [],
   "source": [
    "totalSeconds = requests.runtime.sum()\n",
    "meanRuntime = requests.runtime.mean()\n",
    "totalRecords = len(requests)\n",
    "print(\"Handled %s requests in %s seconds (%s minutes). \" %(totalRecords, totalSeconds, totalSeconds/60))"
   ]
  },
  {
   "cell_type": "code",
   "execution_count": null,
   "metadata": {
    "ExecuteTime": {
     "end_time": "2018-04-24T02:06:22.603061Z",
     "start_time": "2018-04-24T02:06:22.589148Z"
    }
   },
   "outputs": [],
   "source": [
    "requests.describe()"
   ]
  },
  {
   "cell_type": "code",
   "execution_count": null,
   "metadata": {
    "ExecuteTime": {
     "end_time": "2018-04-24T02:06:42.619701Z",
     "start_time": "2018-04-24T02:06:42.615157Z"
    }
   },
   "outputs": [],
   "source": [
    "avgRequestsPerUser = totalRecords / numberUsersProcessed\n",
    "print(\"Average requests per user %s\" % avgRequestsPerUser)\n",
    "\n",
    "expectedRequests = totalUsers * avgRequestsPerUser\n",
    "print(\"Estimated number of requests required: %s\" % round(expectedRequests))\n",
    "expRun = expectedRequests * meanRuntime \n",
    "print(\"Expected runtime: %s hours\" % (expRun / 60))"
   ]
  },
  {
   "cell_type": "code",
   "execution_count": null,
   "metadata": {
    "ExecuteTime": {
     "end_time": "2018-04-24T02:09:00.378326Z",
     "start_time": "2018-04-24T02:09:00.060172Z"
    }
   },
   "outputs": [],
   "source": [
    "requests.plot()"
   ]
  },
  {
   "cell_type": "code",
   "execution_count": null,
   "metadata": {
    "ExecuteTime": {
     "end_time": "2018-04-24T02:09:57.903715Z",
     "start_time": "2018-04-24T02:09:57.666859Z"
    }
   },
   "outputs": [],
   "source": [
    "request_timestamps.T.plot()"
   ]
  },
  {
   "cell_type": "code",
   "execution_count": null,
   "metadata": {
    "ExecuteTime": {
     "end_time": "2018-04-24T02:12:50.899531Z",
     "start_time": "2018-04-24T02:12:50.892819Z"
    }
   },
   "outputs": [],
   "source": [
    "elapsedTime = request_timestamps.max() - request_timestamps.min()\n",
    "elapsedTime"
   ]
  },
  {
   "cell_type": "code",
   "execution_count": null,
   "metadata": {
    "ExecuteTime": {
     "end_time": "2018-04-24T02:13:37.211927Z",
     "start_time": "2018-04-24T02:13:37.206721Z"
    }
   },
   "outputs": [],
   "source": [
    "totalTime = requests.runtime.sum()\n",
    "totalTime"
   ]
  },
  {
   "cell_type": "code",
   "execution_count": null,
   "metadata": {},
   "outputs": [],
   "source": []
  },
  {
   "cell_type": "markdown",
   "metadata": {},
   "source": [
    "It took 1 minute to process 4352 users, how many minutes to process all?"
   ]
  },
  {
   "cell_type": "code",
   "execution_count": null,
   "metadata": {
    "ExecuteTime": {
     "end_time": "2018-04-24T02:23:39.489950Z",
     "start_time": "2018-04-24T02:23:39.485143Z"
    }
   },
   "outputs": [],
   "source": [
    "(actualUsers / numberUsersProcessed) / 60"
   ]
  },
  {
   "cell_type": "code",
   "execution_count": null,
   "metadata": {},
   "outputs": [],
   "source": []
  },
  {
   "cell_type": "code",
   "execution_count": null,
   "metadata": {},
   "outputs": [],
   "source": []
  },
  {
   "cell_type": "code",
   "execution_count": null,
   "metadata": {},
   "outputs": [],
   "source": []
  },
  {
   "cell_type": "code",
   "execution_count": null,
   "metadata": {},
   "outputs": [],
   "source": []
  },
  {
   "cell_type": "markdown",
   "metadata": {},
   "source": [
    "# Benchmark tweet text processing tools"
   ]
  },
  {
   "cell_type": "code",
   "execution_count": null,
   "metadata": {
    "ExecuteTime": {
     "end_time": "2018-04-06T23:17:15.533805Z",
     "start_time": "2018-04-06T23:17:14.035596Z"
    }
   },
   "outputs": [],
   "source": [
    "%cd twitteranalysis\n",
    "\n",
    "%run -i profiling/optimizing_string_processor.py"
   ]
  },
  {
   "cell_type": "code",
   "execution_count": null,
   "metadata": {},
   "outputs": [],
   "source": []
  },
  {
   "cell_type": "code",
   "execution_count": null,
   "metadata": {},
   "outputs": [],
   "source": []
  },
  {
   "cell_type": "code",
   "execution_count": null,
   "metadata": {},
   "outputs": [],
   "source": []
  },
  {
   "cell_type": "code",
   "execution_count": null,
   "metadata": {},
   "outputs": [],
   "source": []
  },
  {
   "cell_type": "markdown",
   "metadata": {},
   "source": [
    "# Display results of benchmark runs"
   ]
  },
  {
   "cell_type": "markdown",
   "metadata": {
    "ExecuteTime": {
     "end_time": "2018-02-16T22:34:42.204981Z",
     "start_time": "2018-02-16T22:34:42.202391Z"
    }
   },
   "source": [
    "## String processing worker with different datastructures"
   ]
  },
  {
   "cell_type": "code",
   "execution_count": null,
   "metadata": {
    "ExecuteTime": {
     "end_time": "2018-02-17T00:07:34.153405Z",
     "start_time": "2018-02-17T00:07:33.788143Z"
    },
    "scrolled": true
   },
   "outputs": [],
   "source": [
    "\n",
    "\n",
    "NUMTWEETS = 1181\n",
    "\n",
    "def a(row):\n",
    "    #correct experiment which iterated over the string\n",
    "    if len(row.dataStructure) == 1:\n",
    "        row.dataStructure = 'tuple'\n",
    "        \n",
    "    if row.tweetTime > 1 or row.numTweets > NUMTWEETS:\n",
    "        row.tweetTime = row.totalTime / NUMTWEETS\n",
    "    return row\n",
    "\n",
    "\n",
    "\n",
    "#load from file\n",
    "data = pd.read_csv(\"%s/tests/benchmarks/StringProcessingWorker.csv\" % TEXT_TOOLS_PATH)\n",
    "data.set_index(['id'], inplace=True)\n",
    "#fix incorrectly calculated tweet times\n",
    "data = data.apply(lambda x: a(x), axis=1)\n",
    "#get rid of outliers from pycharm indexing\n",
    "data = data[data.totalTime < 80]\n",
    "data.drop(['module', 'note', 'timestamp'], axis=1, inplace=True)\n",
    "len(data)"
   ]
  },
  {
   "cell_type": "code",
   "execution_count": null,
   "metadata": {
    "ExecuteTime": {
     "end_time": "2018-02-17T00:07:42.382912Z",
     "start_time": "2018-02-17T00:07:42.081658Z"
    }
   },
   "outputs": [],
   "source": [
    "fig, ax = plt.subplots(2)\n",
    "# sns.boxplot(data=data[['totalTime', 'tweetTime']], orient='h', ax=ax[0])\n",
    "sns.boxplot(data=data.totalTime, orient='h', ax=ax[0])\n",
    "sns.boxplot(data=data.tweetTime, orient='h', ax=ax[1])\n",
    "fig.tight_layout()"
   ]
  },
  {
   "cell_type": "code",
   "execution_count": null,
   "metadata": {
    "ExecuteTime": {
     "end_time": "2018-02-17T00:07:50.904239Z",
     "start_time": "2018-02-17T00:07:43.087397Z"
    }
   },
   "outputs": [],
   "source": [
    "fig, ax = plt.subplots(2, figsize=(12,6))\n",
    "sns.boxplot(x=\"numThreads\", y=\"totalTime\", hue=\"dataStructure\", data=data, ax=ax[0])\n",
    "sns.boxplot(x=\"numThreads\", y=\"tweetTime\", hue=\"dataStructure\", data=data, ax=ax[1])"
   ]
  },
  {
   "cell_type": "code",
   "execution_count": null,
   "metadata": {
    "ExecuteTime": {
     "end_time": "2018-02-17T00:07:53.085259Z",
     "start_time": "2018-02-17T00:07:50.906013Z"
    }
   },
   "outputs": [],
   "source": [
    "\n",
    "import matplotlib.ticker as ticker\n",
    "# sns.set_style( {'xtick.major.size': 5.0})\n",
    "g = sns.violinplot(x=\"numThreads\", y=\"tweetTime\", hue=\"dataStructure\", data=data)\n",
    "# g.set_xticklabels([i for i in range(0, 50, 5)])\n",
    "# g.set(xticklabels=[i for i in range(0, 50, 5)])\n",
    "# g.xaxis.set_major_locator(ticker.MultipleLocator(5))\n",
    "# f = plt.gcf().get_axes()[0]\n",
    "# f.set_xticks(5)"
   ]
  },
  {
   "cell_type": "code",
   "execution_count": null,
   "metadata": {},
   "outputs": [],
   "source": [
    "fig, ax = plt.subplots(2)\n",
    "sns.distplot(data.totalTime, kde=True, rug=True, ax=ax[0])\n",
    "sns.distplot(data.tweetTime, kde=True, rug=True, ax=ax[1])\n",
    "fig.tight_layout()"
   ]
  },
  {
   "cell_type": "code",
   "execution_count": null,
   "metadata": {},
   "outputs": [],
   "source": [
    "import sys\n",
    "sys.byteorder"
   ]
  },
  {
   "cell_type": "code",
   "execution_count": null,
   "metadata": {},
   "outputs": [],
   "source": []
  },
  {
   "cell_type": "code",
   "execution_count": null,
   "metadata": {},
   "outputs": [],
   "source": [
    "sns.factorplot(x=\"numThreads\", y=\"totalTime\", hue=\"dataStructure\", data=data) #, kind=\"swarm\") #, ax=axes[0])\n",
    "fig = plt.gcf()\n",
    "fig.set_size_inches(12,4)\n",
    "fig.tight_layout()\n",
    "# fig.get_axes()[0].set_ylim(0.025,0.04)"
   ]
  },
  {
   "cell_type": "code",
   "execution_count": null,
   "metadata": {},
   "outputs": [],
   "source": [
    "sns.factorplot(x=\"numThreads\", y=\"tweetTime\", hue=\"dataStructure\", data=data) #,ax=axes[1]);\n",
    "fig = plt.gcf()\n",
    "fig.set_size_inches(12,4)\n",
    "fig.get_axes()[0].set_ylim(0.028,0.032)\n",
    "fig.tight_layout()"
   ]
  },
  {
   "cell_type": "code",
   "execution_count": null,
   "metadata": {},
   "outputs": [],
   "source": []
  },
  {
   "cell_type": "code",
   "execution_count": null,
   "metadata": {},
   "outputs": [],
   "source": []
  },
  {
   "cell_type": "code",
   "execution_count": null,
   "metadata": {},
   "outputs": [],
   "source": []
  },
  {
   "cell_type": "code",
   "execution_count": null,
   "metadata": {},
   "outputs": [],
   "source": []
  },
  {
   "cell_type": "code",
   "execution_count": null,
   "metadata": {},
   "outputs": [],
   "source": []
  },
  {
   "cell_type": "code",
   "execution_count": null,
   "metadata": {},
   "outputs": [],
   "source": []
  },
  {
   "cell_type": "code",
   "execution_count": null,
   "metadata": {},
   "outputs": [],
   "source": []
  }
 ],
 "metadata": {
  "kernelspec": {
   "display_name": "Python 3",
   "language": "python",
   "name": "python3"
  },
  "language_info": {
   "codemirror_mode": {
    "name": "ipython",
    "version": 3
   },
   "file_extension": ".py",
   "mimetype": "text/x-python",
   "name": "python",
   "nbconvert_exporter": "python",
   "pygments_lexer": "ipython3",
   "version": "3.4.3"
  },
  "latex_envs": {
   "bibliofile": "biblio.bib",
   "cite_by": "apalike",
   "current_citInitial": 1,
   "eqLabelWithNumbers": true,
   "eqNumInitial": 0
  },
  "toc": {
   "colors": {
    "hover_highlight": "#DAA520",
    "navigate_num": "#000000",
    "navigate_text": "#333333",
    "running_highlight": "#FF0000",
    "selected_highlight": "#FFD700",
    "sidebar_border": "#EEEEEE",
    "wrapper_background": "#FFFFFF"
   },
   "moveMenuLeft": true,
   "nav_menu": {
    "height": "12px",
    "width": "252px"
   },
   "navigate_menu": true,
   "number_sections": true,
   "sideBar": true,
   "threshold": 4,
   "toc_cell": false,
   "toc_section_display": "block",
   "toc_window_display": true,
   "widenNotebook": false
  }
 },
 "nbformat": 4,
 "nbformat_minor": 2
}
