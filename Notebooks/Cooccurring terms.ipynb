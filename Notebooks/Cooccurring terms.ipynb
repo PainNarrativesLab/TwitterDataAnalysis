{
 "cells": [
  {
   "cell_type": "markdown",
   "metadata": {},
   "source": [
    "This includes tools for examining which words occur together anywhere in a tweet or user profile without regard to their relative positions.\n",
    "\n",
    "Tools for investigating relative positions are in the Word Searching notebook"
   ]
  },
  {
   "cell_type": "code",
   "execution_count": 1,
   "metadata": {
    "ExecuteTime": {
     "end_time": "2018-06-20T18:31:58.888912Z",
     "start_time": "2018-06-20T18:31:57.639842Z"
    }
   },
   "outputs": [
    {
     "name": "stdout",
     "output_type": "stream",
     "text": [
      "(bookmark:twitteranalysis) -> /Users/adam/Dropbox/PainNarrativesLab/TwitterDataAnalysis\n",
      "/Users/adam/Dropbox/PainNarrativesLab/TwitterDataAnalysis\n"
     ]
    }
   ],
   "source": [
    "%cd twitteranalysis\n",
    "import sqlite3\n",
    "import environment\n",
    "import pandas as pd\n",
    "# plotting\n",
    "%matplotlib inline\n",
    "from matplotlib import pyplot as plt\n",
    "import seaborn as sns\n",
    "sns.set(style=\"whitegrid\")\n",
    "%config InlineBackend.figure_format = 'svg'\n",
    "\n",
    "#Set default to svg\n",
    "\n",
    "#let pandas dataframe listings go long\n",
    "pd.options.display.max_rows = 999\n",
    "\n",
    "\n",
    "EXP_TERMS_FILEPATH = '%s/experimental-terms.xlsx' % environment.EXPERIMENTS_FOLDER\n",
    "IDS_FILEPATH = \"%s/temp_output/tweet-ids.csv\" % environment.LOG_FOLDER_PATH\n",
    "\n",
    "def make_term_ids_filepath(term, path=environment.LOG_FOLDER_PATH):\n",
    "    return \"%s/temp_output/tweet-ids/%s-ids.csv\" % (path, term)\n",
    "\n",
    "\n",
    "# load in terms to search for\n",
    "experimentalTerms = pd.read_excel(EXP_TERMS_FILEPATH, sheet_name='terms', squeeze=True)\n",
    "termMap = pd.read_excel(EXP_TERMS_FILEPATH, sheet_name='mapping')\n",
    "\n",
    "terms = [t for t in termMap.T.index]"
   ]
  },
  {
   "cell_type": "code",
   "execution_count": 2,
   "metadata": {
    "ExecuteTime": {
     "end_time": "2018-06-20T18:31:58.895229Z",
     "start_time": "2018-06-20T18:31:58.891478Z"
    }
   },
   "outputs": [],
   "source": [
    "CO_OCCURRING_TERMS_FOLDER = \"%s/co-occurring-terms\" % environment.LOG_FOLDER_PATH\n",
    "\n",
    "def make_filepath(word):\n",
    "    return \"%s/words-in-tweets-using-%s.pickle\" % (CO_OCCURRING_TERMS_FOLDER, word)\n"
   ]
  },
  {
   "cell_type": "markdown",
   "metadata": {},
   "source": [
    "# Create test data"
   ]
  },
  {
   "cell_type": "code",
   "execution_count": null,
   "metadata": {},
   "outputs": [],
   "source": [
    "TEST_DB = \"%s/test-data.db\" % environment.LOG_FOLDER_PATH\n",
    "\n",
    "tweet1 = 'a b c d e f. a b c d.'\n",
    "tweet2 = 'e f g h. i j k l.'\n",
    "tweet3 = 'a e. a. i.'"
   ]
  },
  {
   "cell_type": "code",
   "execution_count": null,
   "metadata": {},
   "outputs": [],
   "source": [
    "expect = {'a' : 2, 'b': 1,'c': 1, 'd': 1,    'e':2,\n",
    "    'f': 1,    'g': 1,\n",
    "    'h': 1,    'i': 2,\n",
    "    'j': 1,    'k': 1,\n",
    "    'l': 1}"
   ]
  },
  {
   "cell_type": "code",
   "execution_count": null,
   "metadata": {},
   "outputs": [],
   "source": []
  },
  {
   "cell_type": "code",
   "execution_count": null,
   "metadata": {},
   "outputs": [],
   "source": []
  },
  {
   "cell_type": "code",
   "execution_count": null,
   "metadata": {},
   "outputs": [],
   "source": []
  },
  {
   "cell_type": "code",
   "execution_count": null,
   "metadata": {},
   "outputs": [],
   "source": []
  },
  {
   "cell_type": "code",
   "execution_count": null,
   "metadata": {},
   "outputs": [],
   "source": []
  },
  {
   "cell_type": "code",
   "execution_count": null,
   "metadata": {},
   "outputs": [],
   "source": []
  },
  {
   "cell_type": "markdown",
   "metadata": {},
   "source": [
    "## All words for tweets"
   ]
  },
  {
   "cell_type": "code",
   "execution_count": null,
   "metadata": {},
   "outputs": [],
   "source": [
    " # query = \"\"\"\n",
    "# SELECT a.word, count(a.word)\n",
    "# FROM word_map a\n",
    "# WHERE a.tweet_id = (\n",
    "# SELECT tweet_id\n",
    "# FROM word_map b\n",
    "# WHERE b.word = ? \n",
    "# )\n",
    "# GROUP BY a.word\n",
    "\n",
    "# \"\"\"\n"
   ]
  },
  {
   "cell_type": "markdown",
   "metadata": {
    "ExecuteTime": {
     "end_time": "2018-06-20T17:44:21.669718Z",
     "start_time": "2018-06-20T17:44:21.667155Z"
    }
   },
   "source": [
    "# Process and save co-occurrence frequencies\n",
    "\n",
    "\n",
    "NB, this uses the stopword free lists"
   ]
  },
  {
   "cell_type": "code",
   "execution_count": 3,
   "metadata": {
    "ExecuteTime": {
     "end_time": "2018-06-20T18:32:05.160525Z",
     "start_time": "2018-06-20T18:32:05.156423Z"
    }
   },
   "outputs": [],
   "source": [
    "def get_all_words_in_tweet(tweetId, db):\n",
    "    \"\"\"\n",
    "    Returns all the words used in the tweet\n",
    "    \n",
    "    Example:\n",
    "        words = get_all_words_in_tweet(331546674315014144, db=environment.TWEET_DB_NO_STOP)\n",
    "        words = [x[2] for x in words]\n",
    "    Result:\n",
    "        words = ['thought', 'crying', \n",
    "        'like', 'crazy',\n",
    "        'im', 'tired', \n",
    "        'pain','inevitability', \n",
    "        'rely', 'life',\n",
    "        'spoonie']\n",
    "    \"\"\"\n",
    "    conn = sqlite3.connect(db)\n",
    "    query = \"SELECT * FROM word_map WHERE tweet_id = ?\"\n",
    "    param = (tweetId, )\n",
    "    with conn:\n",
    "        r = conn.execute(query, param)\n",
    "        return r.fetchall()\n"
   ]
  },
  {
   "cell_type": "code",
   "execution_count": 4,
   "metadata": {
    "ExecuteTime": {
     "end_time": "2018-06-20T18:32:05.783621Z",
     "start_time": "2018-06-20T18:32:05.776263Z"
    }
   },
   "outputs": [],
   "source": [
    "\n",
    "\n",
    "def get_cooccuring_word_frequencies(word, save_path=None, db=environment.TWEET_DB_NO_STOP):\n",
    "    \"\"\"Returns a dataframe of the frequencies with which words\n",
    "    appear in tweets containing the provided word\n",
    "    \n",
    "    todo Must be verified that this is correct!!!!!\n",
    "  \n",
    "    \"\"\"\n",
    "    \n",
    "    query2 =\"\"\"\n",
    "    SELECT a.word, count(distinct a.tweet_id)\n",
    "    FROM word_map a\n",
    "    JOIN word_map b\n",
    "    ON a.tweet_id = b.tweet_id\n",
    "    WHERE b.word = ?\n",
    "    GROUP BY a.word\n",
    "    \"\"\"\n",
    "\n",
    "    conn = sqlite3.connect(db)\n",
    "    param = (word, )\n",
    "    with conn:\n",
    "        r = conn.execute(query2, param)\n",
    "        result = r.fetchall()\n",
    "    result = [{'word' : x[0], 'freq' : x[1]} for x in result]\n",
    "    result = pd.DataFrame(result)\n",
    "    \n",
    "    if save_path != None:\n",
    "        result.to_pickle(save_path)\n",
    "    \n",
    "    return result\n",
    "\n"
   ]
  },
  {
   "cell_type": "markdown",
   "metadata": {},
   "source": [
    "\n",
    "Terms saved:\n",
    "    arthritis\n",
    "    hurt\n",
    "    pain\n",
    "    toothache\n",
    "    \n",
    "    'crps',\n",
    " 'migraine',\n",
    " 'fibromyalgia',\n",
    " 'spoonie',\n",
    " 'vulvodynia',\n",
    " 'endometriosis',\n",
    " 'neuropathy',\n",
    " 'arthritis',\n",
    " 'rhem_arthritis',\n",
    " 'shingles',\n",
    " 'backpain',\n",
    " 'headache'\n",
    "    \n",
    "Execution times:\n",
    "\n",
    "    wall time: 2min 29s\n"
   ]
  },
  {
   "cell_type": "code",
   "execution_count": null,
   "metadata": {
    "ExecuteTime": {
     "end_time": "2018-06-20T17:47:02.981590Z",
     "start_time": "2018-06-20T17:44:33.804686Z"
    },
    "deletable": false,
    "editable": false,
    "run_control": {
     "frozen": true
    }
   },
   "outputs": [],
   "source": [
    "%%time\n",
    "term = 'pain'\n",
    "\n",
    "# Returns a dataframe with columns freq, term\n",
    "# NB, this saves the result to a pickle file\n",
    "result = get_cooccuring_word_frequencies(term, make_filepath(term))\n",
    "print(len(result))"
   ]
  },
  {
   "cell_type": "code",
   "execution_count": 5,
   "metadata": {
    "ExecuteTime": {
     "end_time": "2018-06-20T18:37:36.258005Z",
     "start_time": "2018-06-20T18:32:13.923426Z"
    },
    "deletable": false,
    "editable": false,
    "run_control": {
     "frozen": true
    }
   },
   "outputs": [],
   "source": [
    "# runtime for all but 2 terms: 5m 22s\n",
    "for term in terms:\n",
    "    skip = ['arthritis', 'rhem_arthritis']\n",
    "    if term not in skip:\n",
    "        get_cooccuring_word_frequencies(term, make_filepath(term))\n"
   ]
  },
  {
   "cell_type": "markdown",
   "metadata": {},
   "source": [
    "# Explore co-occurrences"
   ]
  },
  {
   "cell_type": "markdown",
   "metadata": {
    "ExecuteTime": {
     "end_time": "2018-06-20T17:53:50.034622Z",
     "start_time": "2018-06-20T17:53:50.025877Z"
    }
   },
   "source": [
    "## Terms occurring in a tweet containing the term 'pain'"
   ]
  },
  {
   "cell_type": "code",
   "execution_count": null,
   "metadata": {
    "ExecuteTime": {
     "end_time": "2018-06-20T18:11:34.958895Z",
     "start_time": "2018-06-20T18:11:34.956445Z"
    }
   },
   "outputs": [],
   "source": [
    "# variables for this section\n",
    "term = 'pain'\n",
    "cutoff = 10000"
   ]
  },
  {
   "cell_type": "code",
   "execution_count": null,
   "metadata": {
    "ExecuteTime": {
     "end_time": "2018-06-20T18:13:51.545300Z",
     "start_time": "2018-06-20T18:13:51.368595Z"
    }
   },
   "outputs": [],
   "source": [
    "# Load co-occurrences for term\n",
    "data = pd.read_pickle(make_filepath(term))\n",
    "data.set_index('word', inplace=True)\n",
    "\n",
    "# sift out results with frequencies greater than  cutoff\n",
    "data = data[data.freq>cutoff]\n",
    "print(\"%s terms appear with '%s' in more than %s tweets\" % (len(data), term, cutoff))"
   ]
  },
  {
   "cell_type": "code",
   "execution_count": null,
   "metadata": {
    "ExecuteTime": {
     "end_time": "2018-06-20T18:11:40.482773Z",
     "start_time": "2018-06-20T18:11:40.479246Z"
    }
   },
   "outputs": [],
   "source": []
  },
  {
   "cell_type": "code",
   "execution_count": null,
   "metadata": {
    "ExecuteTime": {
     "end_time": "2018-06-20T17:57:08.496479Z",
     "start_time": "2018-06-20T17:57:08.477369Z"
    }
   },
   "outputs": [],
   "source": [
    "# top words which occur somewhere in a tweet where the word\n",
    "# 'pain' occurs.\n",
    "top = data.sort_values('freq').tail(100)\n",
    "top"
   ]
  },
  {
   "cell_type": "code",
   "execution_count": null,
   "metadata": {
    "ExecuteTime": {
     "end_time": "2018-06-20T17:59:11.391860Z",
     "start_time": "2018-06-20T17:59:11.224558Z"
    }
   },
   "outputs": [],
   "source": [
    "fig, axes = plt.subplots(figsize=(7, 5))\n",
    "sns.violinplot(top.freq, ax=axes); \n",
    "axes.set_title('Frequency in the top 100 terms co-occuring with %s' % term); fig.tight_layout()"
   ]
  },
  {
   "cell_type": "code",
   "execution_count": null,
   "metadata": {},
   "outputs": [],
   "source": [
    "d = pd.read_pickle(make_filepath(term))\n",
    "d.set_index('word', inplace=True)\n",
    "len(d)"
   ]
  },
  {
   "cell_type": "code",
   "execution_count": null,
   "metadata": {},
   "outputs": [],
   "source": [
    "d.sort_values('freq').head(100)"
   ]
  },
  {
   "cell_type": "code",
   "execution_count": null,
   "metadata": {},
   "outputs": [],
   "source": [
    "fig, axes = plt.subplots(figsize=(8,8))\n",
    "sns.violinplot(d, ax=axes)\n",
    "fig.tight_layout()"
   ]
  },
  {
   "cell_type": "markdown",
   "metadata": {},
   "source": [
    "# Term co-occurrence frequencies\n",
    "\n",
    "How often do the most common terms for each of our experimental terms occur \n"
   ]
  },
  {
   "cell_type": "code",
   "execution_count": null,
   "metadata": {},
   "outputs": [],
   "source": [
    "# Load all term data"
   ]
  },
  {
   "cell_type": "code",
   "execution_count": 55,
   "metadata": {
    "ExecuteTime": {
     "end_time": "2018-06-21T21:59:38.177975Z",
     "start_time": "2018-06-21T21:59:38.174323Z"
    }
   },
   "outputs": [],
   "source": [
    "\n",
    "def term_generator(skip=[]):\n",
    "    for term in terms:\n",
    "        if term not in skip:\n",
    "            yield term\n",
    "def rank_gen():\n",
    "    i = 0\n",
    "    while True:\n",
    "        yield i\n",
    "        i += 1\n",
    "         \n",
    "def add_rank_column(frame, term):\n",
    "    rg = rank_gen()\n",
    "    frame[\"%s-rank\" % term] = frame.apply(lambda x: next(rg), axis=1)\n",
    "    return frame"
   ]
  },
  {
   "cell_type": "code",
   "execution_count": 56,
   "metadata": {
    "ExecuteTime": {
     "end_time": "2018-06-21T21:59:38.655447Z",
     "start_time": "2018-06-21T21:59:38.653046Z"
    }
   },
   "outputs": [],
   "source": [
    "r = rank_gen()"
   ]
  },
  {
   "cell_type": "code",
   "execution_count": 57,
   "metadata": {
    "ExecuteTime": {
     "end_time": "2018-06-21T21:59:39.769652Z",
     "start_time": "2018-06-21T21:59:39.765888Z"
    }
   },
   "outputs": [
    {
     "data": {
      "text/plain": [
       "0"
      ]
     },
     "execution_count": 57,
     "metadata": {},
     "output_type": "execute_result"
    }
   ],
   "source": [
    "next(r)"
   ]
  },
  {
   "cell_type": "code",
   "execution_count": 58,
   "metadata": {
    "ExecuteTime": {
     "end_time": "2018-06-21T21:59:40.096767Z",
     "start_time": "2018-06-21T21:59:40.093146Z"
    }
   },
   "outputs": [],
   "source": [
    "f = add_rank_column(frames[0], 'taco')"
   ]
  },
  {
   "cell_type": "code",
   "execution_count": 59,
   "metadata": {
    "ExecuteTime": {
     "end_time": "2018-06-21T21:59:41.112630Z",
     "start_time": "2018-06-21T21:59:41.102444Z"
    }
   },
   "outputs": [
    {
     "data": {
      "text/html": [
       "<div>\n",
       "<style scoped>\n",
       "    .dataframe tbody tr th:only-of-type {\n",
       "        vertical-align: middle;\n",
       "    }\n",
       "\n",
       "    .dataframe tbody tr th {\n",
       "        vertical-align: top;\n",
       "    }\n",
       "\n",
       "    .dataframe thead th {\n",
       "        text-align: right;\n",
       "    }\n",
       "</style>\n",
       "<table border=\"1\" class=\"dataframe\">\n",
       "  <thead>\n",
       "    <tr style=\"text-align: right;\">\n",
       "      <th></th>\n",
       "      <th>crps</th>\n",
       "      <th>%s-rank</th>\n",
       "      <th>taco-rank</th>\n",
       "    </tr>\n",
       "    <tr>\n",
       "      <th>word</th>\n",
       "      <th></th>\n",
       "      <th></th>\n",
       "      <th></th>\n",
       "    </tr>\n",
       "  </thead>\n",
       "  <tbody>\n",
       "    <tr>\n",
       "      <th>mariemcgowin</th>\n",
       "      <td>10513</td>\n",
       "      <td>NaN</td>\n",
       "      <td>0</td>\n",
       "    </tr>\n",
       "    <tr>\n",
       "      <th>fibro</th>\n",
       "      <td>10563</td>\n",
       "      <td>NaN</td>\n",
       "      <td>1</td>\n",
       "    </tr>\n",
       "    <tr>\n",
       "      <th>pls</th>\n",
       "      <td>10566</td>\n",
       "      <td>NaN</td>\n",
       "      <td>2</td>\n",
       "    </tr>\n",
       "    <tr>\n",
       "      <th>spoonie</th>\n",
       "      <td>11309</td>\n",
       "      <td>NaN</td>\n",
       "      <td>3</td>\n",
       "    </tr>\n",
       "    <tr>\n",
       "      <th>help</th>\n",
       "      <td>11448</td>\n",
       "      <td>NaN</td>\n",
       "      <td>4</td>\n",
       "    </tr>\n",
       "  </tbody>\n",
       "</table>\n",
       "</div>"
      ],
      "text/plain": [
       "               crps  %s-rank  taco-rank\n",
       "word                                   \n",
       "mariemcgowin  10513      NaN          0\n",
       "fibro         10563      NaN          1\n",
       "pls           10566      NaN          2\n",
       "spoonie       11309      NaN          3\n",
       "help          11448      NaN          4"
      ]
     },
     "execution_count": 59,
     "metadata": {},
     "output_type": "execute_result"
    }
   ],
   "source": [
    "f[:5]"
   ]
  },
  {
   "cell_type": "code",
   "execution_count": null,
   "metadata": {},
   "outputs": [],
   "source": []
  },
  {
   "cell_type": "code",
   "execution_count": 65,
   "metadata": {
    "ExecuteTime": {
     "end_time": "2018-06-21T22:02:22.600713Z",
     "start_time": "2018-06-21T22:02:17.610490Z"
    }
   },
   "outputs": [
    {
     "name": "stdout",
     "output_type": "stream",
     "text": [
      "crps : 24 \n",
      "migraine : 40 \n",
      "fibromyalgia : 38 \n",
      "spoonie : 52 \n",
      "vulvodynia : 0 \n",
      "endometriosis : 17 \n",
      "neuropathy : 4 \n",
      "arthritis : 61 \n",
      "shingles : 0 \n",
      "backpain : 5 \n",
      "headache : 10 \n"
     ]
    }
   ],
   "source": [
    "cutoff = 10000\n",
    "skip = ['rhem_arthritis']\n",
    "\n",
    "tgen = term_generator(skip)\n",
    "frames = []\n",
    "rankframes = []\n",
    "while True:\n",
    "    try:\n",
    "        term = next(tgen) \n",
    "        d = pd.read_pickle(make_filepath(term))\n",
    "        d.set_index('word', inplace=True)\n",
    "        # sort by frequency\n",
    "        d.sort_values('freq', ascending=False, inplace=True)\n",
    "        # add rank\n",
    "        d = add_rank_column(d, term)\n",
    "        # cull below cutoff\n",
    "        d = d[d.freq>cutoff]\n",
    "        d.rename({'freq': term}, axis=1, inplace=True)  \n",
    "        frames.append(d)\n",
    "        print(\"%s : %s \" % (term, len(d)))\n",
    "    except StopIteration:\n",
    "        break\n"
   ]
  },
  {
   "cell_type": "code",
   "execution_count": 66,
   "metadata": {
    "ExecuteTime": {
     "end_time": "2018-06-21T22:02:28.325529Z",
     "start_time": "2018-06-21T22:02:28.319532Z"
    }
   },
   "outputs": [],
   "source": [
    "data = pd.concat(frames, axis=1)"
   ]
  },
  {
   "cell_type": "code",
   "execution_count": 29,
   "metadata": {
    "ExecuteTime": {
     "end_time": "2018-06-21T21:42:49.142730Z",
     "start_time": "2018-06-21T21:42:49.134648Z"
    }
   },
   "outputs": [
    {
     "data": {
      "text/html": [
       "<div>\n",
       "<style scoped>\n",
       "    .dataframe tbody tr th:only-of-type {\n",
       "        vertical-align: middle;\n",
       "    }\n",
       "\n",
       "    .dataframe tbody tr th {\n",
       "        vertical-align: top;\n",
       "    }\n",
       "\n",
       "    .dataframe thead th {\n",
       "        text-align: right;\n",
       "    }\n",
       "</style>\n",
       "<table border=\"1\" class=\"dataframe\">\n",
       "  <thead>\n",
       "    <tr style=\"text-align: right;\">\n",
       "      <th></th>\n",
       "      <th>j</th>\n",
       "    </tr>\n",
       "    <tr>\n",
       "      <th>word</th>\n",
       "      <th></th>\n",
       "    </tr>\n",
       "  </thead>\n",
       "  <tbody>\n",
       "    <tr>\n",
       "      <th>...</th>\n",
       "      <td>17938</td>\n",
       "    </tr>\n",
       "    <tr>\n",
       "      <th>amp</th>\n",
       "      <td>23165</td>\n",
       "    </tr>\n",
       "    <tr>\n",
       "      <th>awareness</th>\n",
       "      <td>18576</td>\n",
       "    </tr>\n",
       "    <tr>\n",
       "      <th>bnightscrps</th>\n",
       "      <td>11947</td>\n",
       "    </tr>\n",
       "    <tr>\n",
       "      <th>celebrity</th>\n",
       "      <td>13408</td>\n",
       "    </tr>\n",
       "  </tbody>\n",
       "</table>\n",
       "</div>"
      ],
      "text/plain": [
       "                 j\n",
       "word              \n",
       "...          17938\n",
       "amp          23165\n",
       "awareness    18576\n",
       "bnightscrps  11947\n",
       "celebrity    13408"
      ]
     },
     "execution_count": 29,
     "metadata": {},
     "output_type": "execute_result"
    }
   ],
   "source": [
    "frames[0].rename({'freq': 'j'}, axis=1,inplace=True)\n",
    "frames[0][:5]"
   ]
  },
  {
   "cell_type": "code",
   "execution_count": 34,
   "metadata": {
    "ExecuteTime": {
     "end_time": "2018-06-21T21:44:09.767375Z",
     "start_time": "2018-06-21T21:44:09.763324Z"
    }
   },
   "outputs": [
    {
     "data": {
      "text/plain": [
       "130"
      ]
     },
     "execution_count": 34,
     "metadata": {},
     "output_type": "execute_result"
    }
   ],
   "source": [
    "len(data)"
   ]
  },
  {
   "cell_type": "code",
   "execution_count": 68,
   "metadata": {
    "ExecuteTime": {
     "end_time": "2018-06-21T22:49:53.263579Z",
     "start_time": "2018-06-21T22:49:52.916510Z"
    }
   },
   "outputs": [],
   "source": [
    "folder = \"%s/temp_output/co-occurrence\" % environment.LOG_FOLDER_PATH\n",
    "data.to_excel(\"%s/cooccurrences.xlsx\" % folder)"
   ]
  },
  {
   "cell_type": "code",
   "execution_count": null,
   "metadata": {},
   "outputs": [],
   "source": []
  },
  {
   "cell_type": "code",
   "execution_count": null,
   "metadata": {},
   "outputs": [],
   "source": [
    "x = data.sort_values('word')[7:16]\n",
    "[y[1] for y in x.values]"
   ]
  }
 ],
 "metadata": {
  "kernelspec": {
   "display_name": "Python 3",
   "language": "python",
   "name": "python3"
  },
  "language_info": {
   "codemirror_mode": {
    "name": "ipython",
    "version": 3
   },
   "file_extension": ".py",
   "mimetype": "text/x-python",
   "name": "python",
   "nbconvert_exporter": "python",
   "pygments_lexer": "ipython3",
   "version": "3.6.4"
  },
  "latex_envs": {
   "LaTeX_envs_menu_present": true,
   "autoclose": false,
   "autocomplete": true,
   "bibliofile": "biblio.bib",
   "cite_by": "apalike",
   "current_citInitial": 1,
   "eqLabelWithNumbers": true,
   "eqNumInitial": 1,
   "hotkeys": {
    "equation": "Ctrl-E",
    "itemize": "Ctrl-I"
   },
   "labels_anchors": false,
   "latex_user_defs": false,
   "report_style_numbering": false,
   "user_envs_cfg": false
  },
  "toc": {
   "base_numbering": 1,
   "nav_menu": {},
   "number_sections": true,
   "sideBar": true,
   "skip_h1_title": false,
   "title_cell": "Table of Contents",
   "title_sidebar": "Contents",
   "toc_cell": false,
   "toc_position": {},
   "toc_section_display": true,
   "toc_window_display": false
  }
 },
 "nbformat": 4,
 "nbformat_minor": 2
}
