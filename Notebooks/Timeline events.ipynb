{
 "cells": [
  {
   "cell_type": "markdown",
   "metadata": {},
   "source": [
    "This notebook is for looking at changes in tweets depending on news or other events"
   ]
  },
  {
   "cell_type": "markdown",
   "metadata": {},
   "source": [
    "# Potential timeline events\n",
    "\n",
    "Hi Adam! Just a quick glance at what google has to say:\n",
    "\n",
    "Timeline of Selected FDA Activities and Significant Events Addressing Opioid Misuse and Abuse\n",
    "\n",
    "https://www.fda.gov/Drugs/DrugSafety/InformationbyDrugClass/ucm338566.htm\n",
    "\n",
    " \n",
    "\n",
    " \n",
    "\n",
    " \n",
    "\n",
    "https://www.cnn.com/2017/09/18/health/opioid-crisis-fast-facts/index.html\n",
    "\n",
    "May 20, 2015 - The DEA announces that it has arrested 280 people, including 22 doctors and pharmacists, after a 15-month sting operation centered on health care providers who dispense large amounts of opioids. The sting, dubbed Operation Pilluted, is the largest prescription drug bust in the history of the DEA.\n",
    "\n",
    "March 18, 2016 - The CDC publishes guidelines for prescribing opioids for patients with chronic pain. Recommendations include prescribing over-the-counter pain relievers like acetaminophen and ibuprofen in lieu of opioids. Doctors are encouraged to promote exercise and behavioral treatments to help patients cope with pain.\n",
    "\n",
    "March 29, 2017 - President Donald Trump signs an executive order calling for the establishment of the President's Commission on Combating Drug Addiction and the Opioid Crisis. New Jersey Governor Chris Christie is selected as the chairman of the group, with Trump's son-in-law, Jared Kushner, as an adviser.\n",
    "\n",
    "July 31, 2017 - After a delay, the White House panel examining the nation's opioid epidemic releases its interim report, asking President Trump to declare a national public health emergency to combat the ongoing crisis.\n",
    "\n",
    "August 8, 2017 - Trump holds a press briefing on opioids at his New Jersey golf club and says that a stronger law enforcement response is needed to combat the crisis. He stops short of declaring a national public health emergency.\n",
    "\n",
    "August 10, 2017 - The White House issues a press release stating that Trump is directing his \"administration to use all appropriate authority to respond to the opioid emergency.\" The administration does not, however, make a formal declaration of a national public health emergency, which would free up resources and funding to help opioid addicts and jumpstart prevention programs.\n",
    "\n",
    "September 22, 2017 - The pharmacy chain CVS announces that it will implement new restrictions on filling prescriptions for opioids, dispensing a limited seven-day supply to patients who are new to pain therapy.\n",
    "\n",
    "October 26, 2017 - President Trump declares a national public health emergency to combat the opioid crisis, telling an audience in the East Room of the White House that \"we can be the generation that ends the opioid epidemic.\"\n",
    "\n",
    "February 9, 2018 - A $6 billion boost in funding for prevention and law enforcement in the fight against opioid abuse is included in the budget agreement signed by President Trump, ending an overnight government shutdown.\n",
    "\n",
    "February 27, 2018 - Attorney General Jeff Sessions announces a new opioid task force. The Prescription Interdiction & Litigation (PIL) Task Force will target opioid manufacturers and distributors.\n",
    "\n",
    " \n",
    "\n",
    "Faye Weinstein, Ph.D.\n",
    "\n",
    "Associate Professor\n",
    "\n",
    "Director, USC Pain Management Psychology\n",
    "\n",
    "Department of Anesthesiology & Psychiatry\n",
    "\n",
    "Keck School of Medicine\n",
    "\n",
    "1520 San Pablo St., Suite 3450\n",
    "\n",
    "Los Angeles, CA 90033\n",
    "\n",
    "Tel: 323-442-6202\n",
    "\n",
    "Fax:323-442-6255\n",
    "\n",
    "Faye.Weinstein@med.usc.edu\n",
    "\n",
    "\n",
    "\n"
   ]
  }
 ],
 "metadata": {
  "kernelspec": {
   "display_name": "Python 3",
   "language": "python",
   "name": "python3"
  },
  "language_info": {
   "codemirror_mode": {
    "name": "ipython",
    "version": 3
   },
   "file_extension": ".py",
   "mimetype": "text/x-python",
   "name": "python",
   "nbconvert_exporter": "python",
   "pygments_lexer": "ipython3",
   "version": "3.6.4"
  },
  "latex_envs": {
   "LaTeX_envs_menu_present": true,
   "autoclose": false,
   "autocomplete": true,
   "bibliofile": "biblio.bib",
   "cite_by": "apalike",
   "current_citInitial": 1,
   "eqLabelWithNumbers": true,
   "eqNumInitial": 1,
   "hotkeys": {
    "equation": "Ctrl-E",
    "itemize": "Ctrl-I"
   },
   "labels_anchors": false,
   "latex_user_defs": false,
   "report_style_numbering": false,
   "user_envs_cfg": false
  },
  "toc": {
   "base_numbering": 1,
   "nav_menu": {},
   "number_sections": true,
   "sideBar": true,
   "skip_h1_title": false,
   "title_cell": "Table of Contents",
   "title_sidebar": "Contents",
   "toc_cell": false,
   "toc_position": {},
   "toc_section_display": true,
   "toc_window_display": false
  }
 },
 "nbformat": 4,
 "nbformat_minor": 2
}
