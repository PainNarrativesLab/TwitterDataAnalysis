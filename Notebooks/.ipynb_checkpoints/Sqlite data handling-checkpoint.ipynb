{
 "cells": [
  {
   "cell_type": "markdown",
   "metadata": {},
   "source": [
    "# Initialize database files"
   ]
  },
  {
   "cell_type": "code",
   "execution_count": null,
   "metadata": {
    "ExecuteTime": {
     "end_time": "2018-05-09T00:06:58.914757Z",
     "start_time": "2018-05-09T00:06:58.904829Z"
    }
   },
   "outputs": [],
   "source": [
    "%cd twitteranalysis\n",
    "from DataTools.SqliteTools import initialize_master_db, delete_master_db\n",
    "\n",
    "delete_master_db()\n",
    "initialize_master_db()"
   ]
  },
  {
   "cell_type": "code",
   "execution_count": null,
   "metadata": {},
   "outputs": [],
   "source": []
  },
  {
   "cell_type": "markdown",
   "metadata": {},
   "source": [
    "# Run the user parser"
   ]
  },
  {
   "cell_type": "code",
   "execution_count": null,
   "metadata": {
    "ExecuteTime": {
     "end_time": "2018-05-09T21:39:14.839685Z",
     "start_time": "2018-05-09T21:39:14.824216Z"
    }
   },
   "outputs": [],
   "source": [
    "%cd twitteranalysis\n",
    "%run -i Executables/process_user_descriptions_into_words2.py"
   ]
  },
  {
   "cell_type": "raw",
   "metadata": {},
   "source": [
    "%cd twitteranalysis\n",
    "%run -i Executables/parallel_runner.py"
   ]
  },
  {
   "cell_type": "markdown",
   "metadata": {},
   "source": [
    "# Clear queue"
   ]
  },
  {
   "cell_type": "code",
   "execution_count": null,
   "metadata": {
    "ExecuteTime": {
     "end_time": "2018-05-09T00:07:34.466502Z",
     "start_time": "2018-05-09T00:07:34.461371Z"
    }
   },
   "outputs": [],
   "source": [
    "%cd twitteranalysis\n",
    "\n",
    "from Servers.ClientSide import Client\n",
    "c = Client()\n",
    "\n",
    "# Each of the listening request handlers needs its queue flushed\n",
    "c.send_flush_command()\n",
    "\n",
    "#j = c.send_shutdown_command()"
   ]
  },
  {
   "cell_type": "code",
   "execution_count": null,
   "metadata": {
    "ExecuteTime": {
     "end_time": "2018-05-08T23:21:06.767064Z",
     "start_time": "2018-05-08T23:21:06.764920Z"
    }
   },
   "outputs": [],
   "source": [
    "j"
   ]
  },
  {
   "cell_type": "code",
   "execution_count": null,
   "metadata": {},
   "outputs": [],
   "source": []
  },
  {
   "cell_type": "markdown",
   "metadata": {},
   "source": [
    "# Merge the various sqlite files"
   ]
  },
  {
   "cell_type": "code",
   "execution_count": null,
   "metadata": {
    "ExecuteTime": {
     "end_time": "2018-04-24T22:55:32.950432Z",
     "start_time": "2018-04-24T22:55:32.901844Z"
    }
   },
   "outputs": [],
   "source": [
    "\n",
    "%cd twitteranalysis\n",
    "import environment\n",
    "import sqlite3\n",
    "\n",
    "mainDB = environment.MASTER_DB\n",
    "columnNames = \"word_index, sentence_index, word, user_id, tweet_id\"\n",
    "    \n",
    "otherDbNames = [ 'wordmapping%s.db' % (i) \n",
    "            for i in range( 0, environment.MAX_DB_FILES +1)]\n",
    "\n",
    "otherDBs = [ '%s/%s' % (environment.DB_FOLDER, name) \n",
    "            for name in otherDbNames]\n",
    "    \n",
    "for db in otherDbNames:\n",
    "    conn = sqlite3.connect( mainDB )  # Connect to the main database\n",
    "    curs = conn.cursor()  # Connect a cursor\n",
    "    \n",
    "    dbPath = '%s/%s' % (environment.DB_FOLDER, db)\n",
    "    curs.execute( \"ATTACH DATABASE ? as ? ;\", (dbPath, 'db') )\n",
    "\n",
    "    dbNameTableName = \"db.word_map_deux\"\n",
    "    tableName = 'word_map_deux'\n",
    "    curs.execute( \"INSERT INTO %s (%s) SELECT %s FROM %s;\" % (tableName, columnNames, columnNames, dbNameTableName) )\n",
    "    conn.commit()\n",
    "    curs.close()\n",
    "    conn.close()\n"
   ]
  },
  {
   "cell_type": "code",
   "execution_count": null,
   "metadata": {},
   "outputs": [],
   "source": []
  },
  {
   "cell_type": "markdown",
   "metadata": {
    "ExecuteTime": {
     "end_time": "2018-04-21T01:41:48.507100Z",
     "start_time": "2018-04-21T01:41:48.503056Z"
    }
   },
   "source": [
    "# Check data"
   ]
  },
  {
   "cell_type": "code",
   "execution_count": null,
   "metadata": {
    "ExecuteTime": {
     "end_time": "2018-04-24T22:55:36.775801Z",
     "start_time": "2018-04-24T22:55:36.771158Z"
    }
   },
   "outputs": [],
   "source": [
    "%cd twitteranalysis\n",
    "import environment\n",
    "import sqlite3"
   ]
  },
  {
   "cell_type": "code",
   "execution_count": null,
   "metadata": {},
   "outputs": [],
   "source": [
    "actualUsers = 1328927\n",
    "numberProcessed = 4352\n",
    "numberEmpty = 332\n",
    "expectedUsers = numberProcessed - numberEmpty\n",
    "print('should have %s' % expectedUsers)"
   ]
  },
  {
   "cell_type": "code",
   "execution_count": null,
   "metadata": {
    "ExecuteTime": {
     "end_time": "2018-04-24T22:55:37.416442Z",
     "start_time": "2018-04-24T22:55:37.392459Z"
    }
   },
   "outputs": [],
   "source": [
    "conn = sqlite3.connect(environment.MASTER_DB)\n",
    "r1 = conn.execute(\"select count( distinct user_id) from word_map_deux\")\n",
    "num_users = r1.fetchone()[0]\n",
    "print(\"%s Unique user ids\" % num_users)\n",
    "r2 = conn.execute(\"select count( word) from word_map_deux\")\n",
    "print(\"%s rows in master.db\" % r2.fetchone())\n",
    "conn.close()"
   ]
  },
  {
   "cell_type": "code",
   "execution_count": null,
   "metadata": {},
   "outputs": [],
   "source": [
    "missing = expectedUsers - num_users\n",
    "pct_problem = missing / numberProcessed\n",
    "expected_missing = round(actualUsers * pct_problem)\n",
    "\n",
    "print(\"%s users were not saved; this is %s pct of the total processed\" %( missing, pct_problem))\n",
    "print(\"Projecting %s problem cases\" % expected_missing)"
   ]
  },
  {
   "cell_type": "code",
   "execution_count": null,
   "metadata": {},
   "outputs": [],
   "source": []
  },
  {
   "cell_type": "markdown",
   "metadata": {},
   "source": [
    "NB: \n",
    "    - numberUsers processed = 4352\n",
    "    - users w empty descriptions = 332\n",
    "    - users non-english = 129\n",
    "    - expected users: 4020 (less empty)"
   ]
  },
  {
   "cell_type": "markdown",
   "metadata": {},
   "source": [
    "5/15 6.06\n",
    "    - master only \n",
    "    - 3984 unique ids based on master\n",
    "    - 67500 rows in master\n",
    "    - 36 missing\n",
    "    - 10993 projected problems\n",
    "    \n",
    "5/15 1.36\n",
    "    - lock added to sqlite writer\n",
    "    - 4085 unique ids based on files\n",
    "    - 3950 unique ids based on master\n",
    "    - 67002 rows in master and based on files\n",
    "\n",
    "\n",
    "5/15 11.12\n",
    "    - 4059 unique ids based on files\n",
    "    - 3923 unique ids based on master\n",
    "    - 66507 rows in master and based on files\n",
    "\n",
    "5/15 10.39\n",
    "    - 3653 unique ids based on files\n",
    "    - 3529 unique ids based on master\n",
    "    - 60060 rows in master and based on files\n",
    "    \n",
    "\n",
    "5/14 9.00\n",
    "    - 4014 unique ids based on files\n",
    "    - 2510 unique ids based on master\n",
    "    - 41973 rows in master and based on files\n",
    "\n",
    "\n",
    "Before changed to class method w separate call to flush\n",
    "    - 3591 Unique user ids\n",
    "    - 47952 rows in master.db\n",
    "\n",
    "After\n",
    "    - 4014 Unique user ids\n",
    "    - 67940 rows in master.db\n",
    "    \n",
    "\n"
   ]
  },
  {
   "cell_type": "markdown",
   "metadata": {},
   "source": [
    "# Figure out what users are missing"
   ]
  },
  {
   "cell_type": "code",
   "execution_count": 1,
   "metadata": {},
   "outputs": [
    {
     "name": "stdout",
     "output_type": "stream",
     "text": [
      "(bookmark:twitteranalysis) -> /Users/adam/Dropbox/PainNarrativesLab/TwitterDataAnalysis\n",
      "/Users/adam/Dropbox/PainNarrativesLab/TwitterDataAnalysis\n",
      "connection ready\n"
     ]
    }
   ],
   "source": [
    "%cd twitteranalysis\n",
    "import sqlite3\n",
    "import environment\n",
    "import DataTools.Cursors\n",
    "cursor = DataTools.Cursors.WindowedUserCursor( language='en' )\n"
   ]
  },
  {
   "cell_type": "code",
   "execution_count": 2,
   "metadata": {},
   "outputs": [
    {
     "ename": "StopIteration",
     "evalue": "",
     "output_type": "error",
     "traceback": [
      "\u001b[0;31m---------------------------------------------------------------------------\u001b[0m",
      "\u001b[0;31mStopIteration\u001b[0m                             Traceback (most recent call last)",
      "\u001b[0;32m<ipython-input-2-628f9066e2e4>\u001b[0m in \u001b[0;36m<module>\u001b[0;34m()\u001b[0m\n\u001b[1;32m      5\u001b[0m \u001b[0;34m\u001b[0m\u001b[0m\n\u001b[1;32m      6\u001b[0m \u001b[0;32mwhile\u001b[0m \u001b[0;32mTrue\u001b[0m\u001b[0;34m:\u001b[0m\u001b[0;34m\u001b[0m\u001b[0m\n\u001b[0;32m----> 7\u001b[0;31m     \u001b[0muser\u001b[0m \u001b[0;34m=\u001b[0m \u001b[0mcursor\u001b[0m\u001b[0;34m.\u001b[0m\u001b[0mnext\u001b[0m\u001b[0;34m(\u001b[0m\u001b[0;34m)\u001b[0m\u001b[0;34m\u001b[0m\u001b[0m\n\u001b[0m\u001b[1;32m      8\u001b[0m     \u001b[0mq\u001b[0m \u001b[0;34m=\u001b[0m \u001b[0;34m\"select * from word_map_deux where user_id = %s\"\u001b[0m \u001b[0;34m%\u001b[0m \u001b[0muser\u001b[0m\u001b[0;34m.\u001b[0m\u001b[0muserID\u001b[0m\u001b[0;34m\u001b[0m\u001b[0m\n\u001b[1;32m      9\u001b[0m     \u001b[0mr1\u001b[0m \u001b[0;34m=\u001b[0m \u001b[0mcurs\u001b[0m\u001b[0;34m.\u001b[0m\u001b[0mexecute\u001b[0m\u001b[0;34m(\u001b[0m\u001b[0mq\u001b[0m\u001b[0;34m)\u001b[0m\u001b[0;34m\u001b[0m\u001b[0m\n",
      "\u001b[0;32m~/Dropbox/PainNarrativesLab/TwitterDataAnalysis/DataTools/Cursors.py\u001b[0m in \u001b[0;36mnext\u001b[0;34m(self)\u001b[0m\n\u001b[1;32m    198\u001b[0m     \u001b[0;32mdef\u001b[0m \u001b[0mnext\u001b[0m\u001b[0;34m(\u001b[0m \u001b[0mself\u001b[0m \u001b[0;34m)\u001b[0m\u001b[0;34m:\u001b[0m\u001b[0;34m\u001b[0m\u001b[0m\n\u001b[1;32m    199\u001b[0m         \u001b[0mself\u001b[0m\u001b[0;34m.\u001b[0m\u001b[0mcallCount\u001b[0m \u001b[0;34m+=\u001b[0m \u001b[0;36m1\u001b[0m\u001b[0;34m\u001b[0m\u001b[0m\n\u001b[0;32m--> 200\u001b[0;31m         \u001b[0;32mreturn\u001b[0m \u001b[0mnext\u001b[0m\u001b[0;34m(\u001b[0m \u001b[0mself\u001b[0m\u001b[0;34m.\u001b[0m\u001b[0mmy_iter\u001b[0m \u001b[0;34m)\u001b[0m\u001b[0;34m\u001b[0m\u001b[0m\n\u001b[0m\u001b[1;32m    201\u001b[0m \u001b[0;34m\u001b[0m\u001b[0m\n\u001b[1;32m    202\u001b[0m     \u001b[0;32mdef\u001b[0m \u001b[0m_create_iterator\u001b[0m\u001b[0;34m(\u001b[0m \u001b[0mself\u001b[0m \u001b[0;34m)\u001b[0m\u001b[0;34m:\u001b[0m\u001b[0;34m\u001b[0m\u001b[0m\n",
      "\u001b[0;31mStopIteration\u001b[0m: "
     ]
    }
   ],
   "source": [
    "conn = sqlite3.connect(environment.MASTER_DB)\n",
    "curs = conn.cursor()  # Connect a cursor\n",
    "    \n",
    "missing = []\n",
    "\n",
    "while True:\n",
    "    user = cursor.next()\n",
    "    q = \"select * from word_map_deux where user_id = %s\" % user.userID\n",
    "    r1 = curs.execute(q)\n",
    "    r = r1.fetchone()\n",
    "    if r is None:\n",
    "        missing.append(user.userID)\n",
    "\n",
    "\n",
    "curs.close()\n",
    "conn.close()\n",
    "print(len(missing))"
   ]
  },
  {
   "cell_type": "code",
   "execution_count": 3,
   "metadata": {},
   "outputs": [],
   "source": [
    "import pandas as pd\n",
    "from DataTools.DataConnections import MySqlConnection, DAO\n",
    "conn = MySqlConnection(environment.CREDENTIAL_FILE)\n",
    "conn._make_engine()"
   ]
  },
  {
   "cell_type": "code",
   "execution_count": null,
   "metadata": {},
   "outputs": [],
   "source": []
  },
  {
   "cell_type": "code",
   "execution_count": 4,
   "metadata": {},
   "outputs": [
    {
     "data": {
      "text/plain": [
       "425"
      ]
     },
     "execution_count": 4,
     "metadata": {},
     "output_type": "execute_result"
    }
   ],
   "source": [
    "descripts = []\n",
    "for userId in missing:\n",
    "    q = 'select description from users where userID = %s' % userId\n",
    "    v = pd.read_sql_query(q, conn.engine).iloc[0].values[0]\n",
    "    descripts.append((userId, v))\n",
    "len(descripts)"
   ]
  },
  {
   "cell_type": "code",
   "execution_count": 5,
   "metadata": {},
   "outputs": [
    {
     "data": {
      "text/plain": [
       "93"
      ]
     },
     "execution_count": 5,
     "metadata": {},
     "output_type": "execute_result"
    }
   ],
   "source": [
    "substantive = [x for x in descripts if x[1] != '']\n",
    "substantive_ids = [x[0] for x in descripts if x[1] != '']\n",
    "len(substantive)"
   ]
  },
  {
   "cell_type": "code",
   "execution_count": 6,
   "metadata": {},
   "outputs": [
    {
     "data": {
      "text/plain": [
       "[(168391959, '**SKYHIGH**'),\n",
       " (401742354, '✌'),\n",
       " (452749712, ':)'),\n",
       " (818392459,\n",
       "  \"Author of Through Whose Eyes: Rise, Child of God and Toni's Blues. https://t.co/fhT0Jsawce #SURVIVOR #CHILDOFGOD Arizona\"),\n",
       " (819644227,\n",
       "  'Always evolving, always changing. Liberal Democrat. Not politically correct. Live in free association. Goal: To experience reality.'),\n",
       " (820011216,\n",
       "  \"...Some see us as fish out of the water, trouble makers, and oddballs. But really we are gifted, profound, and uniquely brilliant ... MMOT.. We aren't criminals\"),\n",
       " (820290150,\n",
       "  'Registered Dietitian,  Lactation Consultant, Crohns disease.  Passions include: my daughter, the Ocean/ Marine Biology,  Animal rights, Music....'),\n",
       " (821616540,\n",
       "  \"The Council of Academic Hospitals of Ontario (CAHO) is the association of Ontario's 24 research hospitals - a focal point for their strategic initiatives.\"),\n",
       " (821962573,\n",
       "  'Official Twitter Page for California Pain Management. We treat many different Chronic & Acute Pain Conditions with Interventional & Comprehensive Treatment.'),\n",
       " (822232146,\n",
       "  \"Music is only half of my life. And the other half is a story to be told. I'll always speak my mind and won't lie to back someone up. It's not my job.\"),\n",
       " (822515911,\n",
       "  'HIV/AIDS and Disabilities: African Context,YYJ! I refuse to watch my friends detoriate around me, Enuf!'),\n",
       " (824014975, 'Not ready for prime time'),\n",
       " (826003231,\n",
       "  'Philosophy teacher/advocate. Yoga enthusiast. ME/CFS Warrior. All views my own. RT not endorsement.'),\n",
       " (826255657,\n",
       "  \"Doctor,Police Officer,Theology Grad Hendrix College,Runner,Enjoy Nat'l & St.Pk's, a new day is a chance and a choice to be kind to someone!\"),\n",
       " (829184155,\n",
       "  'Editor @EverydayHealth, Co-Founder of @EndoWarriors & Master of Multi-tasking. Tweets about Health, Nutrition, #Endometriosis & Chronic Illness.'),\n",
       " (829825440,\n",
       "  'A specialty mental health clinic in San Diego, CA, providing evidence based treatments for anxiety & stress. Let us help you live a better life!'),\n",
       " (830098664,\n",
       "  'I am that which cannot be defined. I do not change to fit your idea of me, I am as I am, and so shall I remain. Love who I know, and even more what I know'),\n",
       " (830837017,\n",
       "  'Rewards & challenges of a specialist team dedicated to relieving pain. #chronicpain #medicalpractice #pain #medicine #spinalblocks'),\n",
       " (831817183,\n",
       "  'The CSU Institute for Palliative Care is the first statewide educational and workforce development initiative focused on palliative care in the U.S.'),\n",
       " (832822832,\n",
       "  'I can help you with all your online safety training needs.  713.302.3199  #safetytraining\\r\\nhttp://t.co/DLfFv4oV1Q'),\n",
       " (833376937,\n",
       "  '21 y/o endometriosis patient trying to get by...mma fighter (used to be) and nursing student #endowarrior #fighter #champion'),\n",
       " (833400756,\n",
       "  'Singer, songwriter, musician, occasional actress, dreamer by night under the stage name Sari Valda ... Insurance by day. Daughter of the King.'),\n",
       " (834526411,\n",
       "  'News, Music, Events, Entertainment, Announcement in Mesa! Join The Fun! ~~ Want to Post an Event or Announcement? Suzannah@SocialInMesa.com'),\n",
       " (834684848,\n",
       "  \"We're all in the same game, just different levels. Dealing with the same hell, just different devils. !Lupus Fighter! #lupus #fibro\"),\n",
       " (836095850,\n",
       "  'At the Soul Fighter Foundation, we strive to meet the needs of the disabled community & their families through Advocacy, Education, & Guidance. Also on Facebook'),\n",
       " (836367984,\n",
       "  'Take That member and club DJ, this is the official Howard Donald twitter page'),\n",
       " (836666156,\n",
       "  'Mother | Sister | Daughter | #Milbrat | Fmr Navy Corpsman | Now a Veteran Owned Business Builder| Transition Assistance Coach | Speaker | Author |    Survivor'),\n",
       " (1170228427, '|1104|•|0717|'),\n",
       " (1268582460, '☀♑ · ☾♑ · ☿♐ · ♀♒ · ♂♉ · ♃♌ · ♄♑ · ♅♑ · ♆♑ · ♇♏'),\n",
       " (1663687578,\n",
       "  \"I am a newly published author, I write Erotic romance, Second Chances Sammy's story by Annie Edmonds  https://t.co/5ewCSP5JnA\"),\n",
       " (1665557101,\n",
       "  'Dialogue  and ideas between UK hotels  hospitality venues that offer and seek high design standard.s.,'),\n",
       " (1665581275,\n",
       "  'Visita interiora terrae, rectificando invenies occultum lapidem.'),\n",
       " (1665709273,\n",
       "  'Follow and suscribe to my channel. http://t.co/OCp2COToGm\\r\\nI follow back :)'),\n",
       " (1665865105,\n",
       "  'Station Health is a health magazine and a gateway to all kind of information on healthcare and health issues that can help you improve your lifestyle and spirit'),\n",
       " (1666090326, 'Fitness Center, Gym, Personal Training, Yoga, Pilates'),\n",
       " (1667380477,\n",
       "  'I will retweet anything mentioning the great city of Leeds! Keep up to date with all the news & gossip with one follow!'),\n",
       " (1667891341,\n",
       "  'Providers of high quality physiotherapy/rehabilitation supplies to aid full motion and fitness. Dedicated to helping you achieve your goals today!'),\n",
       " (1668048276,\n",
       "  'Located  in Lake County. Committed to serving  information, education, and r,ecreation needs of our community.,'),\n",
       " (1669962326,\n",
       "  'Twitter feed for the Foundation in Primary Care Pain Management module. Cardiff University are not responsible for user-generated content and comments.'),\n",
       " (1670849071,\n",
       "  \"Born on July 1st 1977. Teacher by profession. Loves to sing, dance,drama, write poems, songs. yes that's me.\"),\n",
       " (1671560821,\n",
       "  'Health Care, mHealth, Telehealth, Business & Technology enthusiast. @Columbia alum #health #innovation #wellness. http://t.co/uEIZ6z8MfJ'),\n",
       " (1671686245,\n",
       "  'A crowd-source @book publishing company that directly impacts specific causes.  Get !'),\n",
       " (1671961988,\n",
       "  'Official Twitter Site of the National Fibromyalgia & Chronic Pain Association'),\n",
       " (1674679454,\n",
       "  \"Just a person who occasionally feels like they're taking a chainsaw to the face. I cope with humour, m'kay?\\n\\nFollow me for a daily dose of spoonie laughs.\"),\n",
       " (1674946165, 'Official Twitter account of the Pain Alliance NI.'),\n",
       " (1674969504, 'Composer, sound , an#d  overall loud man.'),\n",
       " (1675055779,\n",
       "  \"Writer of darkly funny, badass social justice-filled novels. Vasectomized,Vegan Ex-Convict. Search 'Smitowicz' on Amazon for my revenge novel Orange Rain.\"),\n",
       " (1676547132, 'design websites, then live  in @them.'),\n",
       " (1677229116,\n",
       "  \"I'm absolutely ridiculous. Future P.A. Slightly obsessed with my boyfriend and our furchildren. #gobigorgohome\"),\n",
       " (1677395282,\n",
       "  'The most exciting musical-variety program of GMA Network. Sunday noon can be truly fun!'),\n",
       " (1679155496,\n",
       "  'The #Perfect #Stash #Bag - #StashCan type #HideAway for your #Personal items - #Cannabis utensils - #Cash - #Jewellery #Identification - Money to #Community -'),\n",
       " (1680691285,\n",
       "  \"This is a fan page for Aarron 'Lambo' Lambert - #BodyBuilder extraordinaire - #BodyBuilding - 8th in the world - #RepMax - #MuscleTalk - #Beast Industries -\"),\n",
       " (1681395450,\n",
       "  'to Indy, trying to break into consumer  research  and marketing'),\n",
       " (1681479823,\n",
       "  'Creating a coworking community in Maidstone fo,r freelancers, home , small/micro business owners and start-ups to work, chat and collaborate  together.,'),\n",
       " (1683220878,\n",
       "  'Part of @SHC_org, we provide proactive and tailored support for the NHS to involve people in designing and delivering local services'),\n",
       " (1683350642,\n",
       "  '☆Swedish☆ ...#endometriosisvictim...        ♡One Direction♡                                                            ♡5SOS♡'),\n",
       " (1683449258,\n",
       "  'Desarrollando la Farmacia hospitalaria en El Salvador al beneficio de la comunidad.'),\n",
       " (1683679345,\n",
       "  'Estate~ Broker servicing Chicago and Suburbs. Also, I ,enjoy   my family, meditating, reading, and .'),\n",
       " (1684598520,\n",
       "  'Writer. Scientist. Researcher. Bravo lover. Living with chronic complicated migraines.'),\n",
       " (1686081068, 'A NON-INVASIVE PAIN TREATMENT'),\n",
       " (1686818474,\n",
       "  'Amis and Hitch: The Starsky and Hutch of letters. Lover of both (not in the biblical sense). Reasonably libertarian.'),\n",
       " (1686883152,\n",
       "  'Australian Pain Management Association. Options & information for people with persistent pain. PAIN LINK HELPLINE: 1300 340 357. http://t.co/91ZVvqp1AA'),\n",
       " (1732483676, '[ ???¿¿¿???¿¿¿??? ]'),\n",
       " (1942653919,\n",
       "  'Medical team, chiropractic team, physical therapy team.We work on spinal and joint conditions primarily the knee.'),\n",
       " (1943096588,\n",
       "  'Lizzie. 19. In Love. My thoughts scare me. Follow if you dare.'),\n",
       " (1943901734, 'RADIOFREQUENCE - QST-CHEPS-TENS-RECOVERY RX'),\n",
       " (1946121392,\n",
       "  'In the fight of Pre-diabetes to prevent diabetes, survivor of dv, Fibro, Lover of #weather & #meteorology Nature Photographer,  Daughter, #Endosister, 3 Fall'),\n",
       " (1947484375,\n",
       "  'Richmond Pickering Ltd are publishers of the My Guide series of self-help, wellness and how-to books, helping people improve their lives in some way.'),\n",
       " (1952156365,\n",
       "  'Getting adjusted to a brand new life with a less capable body.                         Hoping to find new ways to live life to the fullest.'),\n",
       " (1956700424,\n",
       "  'Craft Art Vintage ETSY http://t.co/V9JErLBmfL ZIBBET http://t.co/48TdGeLaWf FB http://t.co/MxdHsCFCbf RMOUSE http://t.co/qmoS7OlKwq PINT http://t.co/ZKIxVmu7g4'),\n",
       " (1958085936,\n",
       "  'Physiotherapy, Exercise Rehabilitation, Corporate Health, Pilates'),\n",
       " (1961129809,\n",
       "  'Montvale Advanced Center for Special Surgery is an outpatient ambulatory surgery center.'),\n",
       " (1965229962,\n",
       "  'We are a state-of-the art center of excellence offering the highest standard of quality care with the most technologically advanced treatments.'),\n",
       " (1966904126,\n",
       "  'Freelance writer/editor specializing in medical communications, health literacy and plain English writing.'),\n",
       " (1967229895,\n",
       "  \"#Cannabis #Tweets! If you're against #Cannabis get the fuck off my profile!! #CannabisCure #FreeTheWeed #TheGiftFromGod #HailQueenMJ #LetsGetHigh\"),\n",
       " (1971054716,\n",
       "  'Laid back! Turn up when i fell like it! Cool ass momma and G-ma going places soon ! Free DJ and Rock a.k.a Rakeem'),\n",
       " (1974223567,\n",
       "  'Motivational speaker.  Suicide survivor, with BPD, Fibromyalgia, Addiction, & PTSD. Helping others stay strong as they travel through hell. DM me anytime!'),\n",
       " (1977458240,\n",
       "  'I have been diagnosed with fibromyalgia, ibs, hypothyroidism, and multiple food allergies. Working on getting a second opinion about the fibro diagnosis.'),\n",
       " (1978158529,\n",
       "  \"Irish Children's Arthritis Network. A parent-run network providing support & information and advocating for best care for those affected by Juvenile Arthritis\"),\n",
       " (2147790896,\n",
       "  'Mountain Mom Adventures~ Life, love, family, photography, hunting, motorcycles, and food, not necessarily in that order. http://t.co/CuCjY3Hr2q'),\n",
       " (2148022776,\n",
       "  'livet er ingen dans på roser, men en kamp i en tornebusk. Skriver om livet som ung og syk'),\n",
       " (2148304566,\n",
       "  'We Change Lives Here. We treat all of your pain conditions and explore any method to help you get your life back.'),\n",
       " (2150423437,\n",
       "  'Age 23. Suffering in Seattle. A place to vent that isnt to your friends and family.'),\n",
       " (2151409467, '#humble #justblaze #spoonielove #lucky13'),\n",
       " (2153422184, 'no'),\n",
       " (2153945834,\n",
       "  'FGXPress PowerStrips are the first of their kind product that can be sold anywhere in the world. PowerStrips™ are a patented, doctor formulated and FDA approved'),\n",
       " (2157188568,\n",
       "  'On a mission to educate the medical profession on treating patients in pain. In my experience not many know how to treat people, let alone people in pain.'),\n",
       " (2163358988, 'Clinical case studies by clinicians'),\n",
       " (2163604778, 'Clinical case study by clinicians'),\n",
       " (2167298995, 'More healthcare information from innovative clinicians!'),\n",
       " (2168963268,\n",
       "  'We are a full service pain management practice with integrated physical therapy at our locations. Your PAIN is our PRIORITY!'),\n",
       " (2177120316,\n",
       "  'Ehlers-Danlos Syndrome Canada.\\nEDS Canada provides knowledge, advocacy and support to individuals and their families living with Ehlers-Danlos Syndrome.'),\n",
       " (2187999841,\n",
       "  \"Recently diagnosed with Chronic Fatigue Syndrome and Chronic Pain, I'm trying to find a lifestyle that reduces the symptoms and makes life fulfilling.\")]"
      ]
     },
     "execution_count": 6,
     "metadata": {},
     "output_type": "execute_result"
    }
   ],
   "source": [
    "substantive"
   ]
  },
  {
   "cell_type": "markdown",
   "metadata": {},
   "source": [
    "These seem to be due to some problem with the filters. \n",
    "they may be behaving as intended..."
   ]
  },
  {
   "cell_type": "code",
   "execution_count": null,
   "metadata": {},
   "outputs": [],
   "source": [
    "pd.read_csv?"
   ]
  },
  {
   "cell_type": "code",
   "execution_count": 7,
   "metadata": {},
   "outputs": [
    {
     "data": {
      "text/plain": [
       "4352"
      ]
     },
     "execution_count": 7,
     "metadata": {},
     "output_type": "execute_result"
    }
   ],
   "source": [
    "pe = pd.read_csv(\"%s/processing-enque.csv\" % environment.PROFILING_LOG_FOLDER_PATH, header=None, names=['timestamp', 'userid', 'note'])\n",
    "len(pe)"
   ]
  },
  {
   "cell_type": "code",
   "execution_count": 11,
   "metadata": {},
   "outputs": [],
   "source": [
    "p = pe[pe.userid.isin(missing)]"
   ]
  },
  {
   "cell_type": "code",
   "execution_count": 14,
   "metadata": {},
   "outputs": [
    {
     "data": {
      "text/html": [
       "<div>\n",
       "<style scoped>\n",
       "    .dataframe tbody tr th:only-of-type {\n",
       "        vertical-align: middle;\n",
       "    }\n",
       "\n",
       "    .dataframe tbody tr th {\n",
       "        vertical-align: top;\n",
       "    }\n",
       "\n",
       "    .dataframe thead th {\n",
       "        text-align: right;\n",
       "    }\n",
       "</style>\n",
       "<table border=\"1\" class=\"dataframe\">\n",
       "  <thead>\n",
       "    <tr style=\"text-align: right;\">\n",
       "      <th></th>\n",
       "      <th>timestamp</th>\n",
       "      <th>userid</th>\n",
       "      <th>note</th>\n",
       "    </tr>\n",
       "  </thead>\n",
       "  <tbody>\n",
       "    <tr>\n",
       "      <th>49</th>\n",
       "      <td>2018-05-15T18:35:48.052669</td>\n",
       "      <td>13688882</td>\n",
       "      <td>userid</td>\n",
       "    </tr>\n",
       "    <tr>\n",
       "      <th>56</th>\n",
       "      <td>2018-05-15T18:35:48.062851</td>\n",
       "      <td>14094929</td>\n",
       "      <td>userid</td>\n",
       "    </tr>\n",
       "    <tr>\n",
       "      <th>177</th>\n",
       "      <td>2018-05-15T18:35:48.318133</td>\n",
       "      <td>16816694</td>\n",
       "      <td>userid</td>\n",
       "    </tr>\n",
       "    <tr>\n",
       "      <th>181</th>\n",
       "      <td>2018-05-15T18:35:48.324236</td>\n",
       "      <td>16895968</td>\n",
       "      <td>userid</td>\n",
       "    </tr>\n",
       "    <tr>\n",
       "      <th>197</th>\n",
       "      <td>2018-05-15T18:35:48.344990</td>\n",
       "      <td>17294750</td>\n",
       "      <td>userid</td>\n",
       "    </tr>\n",
       "    <tr>\n",
       "      <th>227</th>\n",
       "      <td>2018-05-15T18:35:48.393872</td>\n",
       "      <td>17977483</td>\n",
       "      <td>userid</td>\n",
       "    </tr>\n",
       "    <tr>\n",
       "      <th>243</th>\n",
       "      <td>2018-05-15T18:35:48.427504</td>\n",
       "      <td>18681791</td>\n",
       "      <td>userid</td>\n",
       "    </tr>\n",
       "    <tr>\n",
       "      <th>291</th>\n",
       "      <td>2018-05-15T18:35:48.515352</td>\n",
       "      <td>19888843</td>\n",
       "      <td>userid</td>\n",
       "    </tr>\n",
       "    <tr>\n",
       "      <th>300</th>\n",
       "      <td>2018-05-15T18:35:48.528650</td>\n",
       "      <td>19967178</td>\n",
       "      <td>userid</td>\n",
       "    </tr>\n",
       "    <tr>\n",
       "      <th>352</th>\n",
       "      <td>2018-05-15T18:35:48.652898</td>\n",
       "      <td>21157018</td>\n",
       "      <td>userid</td>\n",
       "    </tr>\n",
       "    <tr>\n",
       "      <th>420</th>\n",
       "      <td>2018-05-15T18:35:48.776561</td>\n",
       "      <td>23228842</td>\n",
       "      <td>userid</td>\n",
       "    </tr>\n",
       "    <tr>\n",
       "      <th>425</th>\n",
       "      <td>2018-05-15T18:35:48.782044</td>\n",
       "      <td>23471934</td>\n",
       "      <td>userid</td>\n",
       "    </tr>\n",
       "    <tr>\n",
       "      <th>445</th>\n",
       "      <td>2018-05-15T18:35:48.810130</td>\n",
       "      <td>24218420</td>\n",
       "      <td>userid</td>\n",
       "    </tr>\n",
       "    <tr>\n",
       "      <th>450</th>\n",
       "      <td>2018-05-15T18:35:48.816304</td>\n",
       "      <td>24472503</td>\n",
       "      <td>userid</td>\n",
       "    </tr>\n",
       "    <tr>\n",
       "      <th>457</th>\n",
       "      <td>2018-05-15T18:35:48.834534</td>\n",
       "      <td>24599767</td>\n",
       "      <td>userid</td>\n",
       "    </tr>\n",
       "    <tr>\n",
       "      <th>475</th>\n",
       "      <td>2018-05-15T18:35:48.858275</td>\n",
       "      <td>25374174</td>\n",
       "      <td>userid</td>\n",
       "    </tr>\n",
       "    <tr>\n",
       "      <th>485</th>\n",
       "      <td>2018-05-15T18:35:48.880245</td>\n",
       "      <td>25890728</td>\n",
       "      <td>userid</td>\n",
       "    </tr>\n",
       "    <tr>\n",
       "      <th>502</th>\n",
       "      <td>2018-05-15T18:35:48.901939</td>\n",
       "      <td>26873191</td>\n",
       "      <td>userid</td>\n",
       "    </tr>\n",
       "    <tr>\n",
       "      <th>530</th>\n",
       "      <td>2018-05-15T18:35:48.957693</td>\n",
       "      <td>27651660</td>\n",
       "      <td>userid</td>\n",
       "    </tr>\n",
       "    <tr>\n",
       "      <th>556</th>\n",
       "      <td>2018-05-15T18:35:48.998147</td>\n",
       "      <td>28860451</td>\n",
       "      <td>userid</td>\n",
       "    </tr>\n",
       "    <tr>\n",
       "      <th>578</th>\n",
       "      <td>2018-05-15T18:35:49.040829</td>\n",
       "      <td>30096245</td>\n",
       "      <td>userid</td>\n",
       "    </tr>\n",
       "    <tr>\n",
       "      <th>579</th>\n",
       "      <td>2018-05-15T18:35:49.041209</td>\n",
       "      <td>30313276</td>\n",
       "      <td>userid</td>\n",
       "    </tr>\n",
       "    <tr>\n",
       "      <th>589</th>\n",
       "      <td>2018-05-15T18:35:49.057066</td>\n",
       "      <td>31098591</td>\n",
       "      <td>userid</td>\n",
       "    </tr>\n",
       "    <tr>\n",
       "      <th>606</th>\n",
       "      <td>2018-05-15T18:35:49.080628</td>\n",
       "      <td>32635229</td>\n",
       "      <td>userid</td>\n",
       "    </tr>\n",
       "    <tr>\n",
       "      <th>623</th>\n",
       "      <td>2018-05-15T18:35:49.111265</td>\n",
       "      <td>34101384</td>\n",
       "      <td>userid</td>\n",
       "    </tr>\n",
       "    <tr>\n",
       "      <th>647</th>\n",
       "      <td>2018-05-15T18:35:49.151433</td>\n",
       "      <td>35661275</td>\n",
       "      <td>userid</td>\n",
       "    </tr>\n",
       "    <tr>\n",
       "      <th>669</th>\n",
       "      <td>2018-05-15T18:35:49.196957</td>\n",
       "      <td>36916605</td>\n",
       "      <td>userid</td>\n",
       "    </tr>\n",
       "    <tr>\n",
       "      <th>688</th>\n",
       "      <td>2018-05-15T18:35:49.221903</td>\n",
       "      <td>38346411</td>\n",
       "      <td>userid</td>\n",
       "    </tr>\n",
       "    <tr>\n",
       "      <th>705</th>\n",
       "      <td>2018-05-15T18:35:49.250424</td>\n",
       "      <td>39171421</td>\n",
       "      <td>userid</td>\n",
       "    </tr>\n",
       "    <tr>\n",
       "      <th>725</th>\n",
       "      <td>2018-05-15T18:35:49.279918</td>\n",
       "      <td>41217332</td>\n",
       "      <td>userid</td>\n",
       "    </tr>\n",
       "    <tr>\n",
       "      <th>...</th>\n",
       "      <td>...</td>\n",
       "      <td>...</td>\n",
       "      <td>...</td>\n",
       "    </tr>\n",
       "    <tr>\n",
       "      <th>4322</th>\n",
       "      <td>2018-05-15T18:35:55.418517</td>\n",
       "      <td>1948062494</td>\n",
       "      <td>userid</td>\n",
       "    </tr>\n",
       "    <tr>\n",
       "      <th>4323</th>\n",
       "      <td>2018-05-15T18:35:55.419013</td>\n",
       "      <td>1952156365</td>\n",
       "      <td>userid</td>\n",
       "    </tr>\n",
       "    <tr>\n",
       "      <th>4324</th>\n",
       "      <td>2018-05-15T18:35:55.422101</td>\n",
       "      <td>1956700424</td>\n",
       "      <td>userid</td>\n",
       "    </tr>\n",
       "    <tr>\n",
       "      <th>4325</th>\n",
       "      <td>2018-05-15T18:35:55.423033</td>\n",
       "      <td>1958085936</td>\n",
       "      <td>userid</td>\n",
       "    </tr>\n",
       "    <tr>\n",
       "      <th>4326</th>\n",
       "      <td>2018-05-15T18:35:55.423627</td>\n",
       "      <td>1961129809</td>\n",
       "      <td>userid</td>\n",
       "    </tr>\n",
       "    <tr>\n",
       "      <th>4327</th>\n",
       "      <td>2018-05-15T18:35:55.424345</td>\n",
       "      <td>1965229962</td>\n",
       "      <td>userid</td>\n",
       "    </tr>\n",
       "    <tr>\n",
       "      <th>4328</th>\n",
       "      <td>2018-05-15T18:35:55.426621</td>\n",
       "      <td>1966904126</td>\n",
       "      <td>userid</td>\n",
       "    </tr>\n",
       "    <tr>\n",
       "      <th>4329</th>\n",
       "      <td>2018-05-15T18:35:55.427337</td>\n",
       "      <td>1967229895</td>\n",
       "      <td>userid</td>\n",
       "    </tr>\n",
       "    <tr>\n",
       "      <th>4330</th>\n",
       "      <td>2018-05-15T18:35:55.428557</td>\n",
       "      <td>1971054716</td>\n",
       "      <td>userid</td>\n",
       "    </tr>\n",
       "    <tr>\n",
       "      <th>4331</th>\n",
       "      <td>2018-05-15T18:35:55.429731</td>\n",
       "      <td>1974223567</td>\n",
       "      <td>userid</td>\n",
       "    </tr>\n",
       "    <tr>\n",
       "      <th>4332</th>\n",
       "      <td>2018-05-15T18:35:55.432783</td>\n",
       "      <td>1977458240</td>\n",
       "      <td>userid</td>\n",
       "    </tr>\n",
       "    <tr>\n",
       "      <th>4333</th>\n",
       "      <td>2018-05-15T18:35:55.433831</td>\n",
       "      <td>1978158529</td>\n",
       "      <td>userid</td>\n",
       "    </tr>\n",
       "    <tr>\n",
       "      <th>4334</th>\n",
       "      <td>2018-05-15T18:35:55.434795</td>\n",
       "      <td>1978687165</td>\n",
       "      <td>userid</td>\n",
       "    </tr>\n",
       "    <tr>\n",
       "      <th>4335</th>\n",
       "      <td>2018-05-15T18:35:55.435264</td>\n",
       "      <td>2147790896</td>\n",
       "      <td>userid</td>\n",
       "    </tr>\n",
       "    <tr>\n",
       "      <th>4336</th>\n",
       "      <td>2018-05-15T18:35:55.438050</td>\n",
       "      <td>2148022776</td>\n",
       "      <td>userid</td>\n",
       "    </tr>\n",
       "    <tr>\n",
       "      <th>4337</th>\n",
       "      <td>2018-05-15T18:35:55.439016</td>\n",
       "      <td>2148304566</td>\n",
       "      <td>userid</td>\n",
       "    </tr>\n",
       "    <tr>\n",
       "      <th>4338</th>\n",
       "      <td>2018-05-15T18:35:55.440491</td>\n",
       "      <td>2150423437</td>\n",
       "      <td>userid</td>\n",
       "    </tr>\n",
       "    <tr>\n",
       "      <th>4339</th>\n",
       "      <td>2018-05-15T18:35:55.441645</td>\n",
       "      <td>2151409467</td>\n",
       "      <td>userid</td>\n",
       "    </tr>\n",
       "    <tr>\n",
       "      <th>4340</th>\n",
       "      <td>2018-05-15T18:35:55.444193</td>\n",
       "      <td>2153422184</td>\n",
       "      <td>userid</td>\n",
       "    </tr>\n",
       "    <tr>\n",
       "      <th>4341</th>\n",
       "      <td>2018-05-15T18:35:55.444974</td>\n",
       "      <td>2153945834</td>\n",
       "      <td>userid</td>\n",
       "    </tr>\n",
       "    <tr>\n",
       "      <th>4342</th>\n",
       "      <td>2018-05-15T18:35:55.445996</td>\n",
       "      <td>2157188568</td>\n",
       "      <td>userid</td>\n",
       "    </tr>\n",
       "    <tr>\n",
       "      <th>4343</th>\n",
       "      <td>2018-05-15T18:35:55.447086</td>\n",
       "      <td>2163358988</td>\n",
       "      <td>userid</td>\n",
       "    </tr>\n",
       "    <tr>\n",
       "      <th>4344</th>\n",
       "      <td>2018-05-15T18:35:55.449481</td>\n",
       "      <td>2163604778</td>\n",
       "      <td>userid</td>\n",
       "    </tr>\n",
       "    <tr>\n",
       "      <th>4345</th>\n",
       "      <td>2018-05-15T18:35:55.450256</td>\n",
       "      <td>2167298995</td>\n",
       "      <td>userid</td>\n",
       "    </tr>\n",
       "    <tr>\n",
       "      <th>4346</th>\n",
       "      <td>2018-05-15T18:35:55.450858</td>\n",
       "      <td>2168963268</td>\n",
       "      <td>userid</td>\n",
       "    </tr>\n",
       "    <tr>\n",
       "      <th>4347</th>\n",
       "      <td>2018-05-15T18:35:55.451892</td>\n",
       "      <td>2174458194</td>\n",
       "      <td>userid</td>\n",
       "    </tr>\n",
       "    <tr>\n",
       "      <th>4348</th>\n",
       "      <td>2018-05-15T18:35:55.453915</td>\n",
       "      <td>2177120316</td>\n",
       "      <td>userid</td>\n",
       "    </tr>\n",
       "    <tr>\n",
       "      <th>4349</th>\n",
       "      <td>2018-05-15T18:35:55.454866</td>\n",
       "      <td>2177743897</td>\n",
       "      <td>userid</td>\n",
       "    </tr>\n",
       "    <tr>\n",
       "      <th>4350</th>\n",
       "      <td>2018-05-15T18:35:55.455231</td>\n",
       "      <td>2181739981</td>\n",
       "      <td>userid</td>\n",
       "    </tr>\n",
       "    <tr>\n",
       "      <th>4351</th>\n",
       "      <td>2018-05-15T18:35:55.455569</td>\n",
       "      <td>2187999841</td>\n",
       "      <td>userid</td>\n",
       "    </tr>\n",
       "  </tbody>\n",
       "</table>\n",
       "<p>425 rows × 3 columns</p>\n",
       "</div>"
      ],
      "text/plain": [
       "                       timestamp      userid    note\n",
       "49    2018-05-15T18:35:48.052669    13688882  userid\n",
       "56    2018-05-15T18:35:48.062851    14094929  userid\n",
       "177   2018-05-15T18:35:48.318133    16816694  userid\n",
       "181   2018-05-15T18:35:48.324236    16895968  userid\n",
       "197   2018-05-15T18:35:48.344990    17294750  userid\n",
       "227   2018-05-15T18:35:48.393872    17977483  userid\n",
       "243   2018-05-15T18:35:48.427504    18681791  userid\n",
       "291   2018-05-15T18:35:48.515352    19888843  userid\n",
       "300   2018-05-15T18:35:48.528650    19967178  userid\n",
       "352   2018-05-15T18:35:48.652898    21157018  userid\n",
       "420   2018-05-15T18:35:48.776561    23228842  userid\n",
       "425   2018-05-15T18:35:48.782044    23471934  userid\n",
       "445   2018-05-15T18:35:48.810130    24218420  userid\n",
       "450   2018-05-15T18:35:48.816304    24472503  userid\n",
       "457   2018-05-15T18:35:48.834534    24599767  userid\n",
       "475   2018-05-15T18:35:48.858275    25374174  userid\n",
       "485   2018-05-15T18:35:48.880245    25890728  userid\n",
       "502   2018-05-15T18:35:48.901939    26873191  userid\n",
       "530   2018-05-15T18:35:48.957693    27651660  userid\n",
       "556   2018-05-15T18:35:48.998147    28860451  userid\n",
       "578   2018-05-15T18:35:49.040829    30096245  userid\n",
       "579   2018-05-15T18:35:49.041209    30313276  userid\n",
       "589   2018-05-15T18:35:49.057066    31098591  userid\n",
       "606   2018-05-15T18:35:49.080628    32635229  userid\n",
       "623   2018-05-15T18:35:49.111265    34101384  userid\n",
       "647   2018-05-15T18:35:49.151433    35661275  userid\n",
       "669   2018-05-15T18:35:49.196957    36916605  userid\n",
       "688   2018-05-15T18:35:49.221903    38346411  userid\n",
       "705   2018-05-15T18:35:49.250424    39171421  userid\n",
       "725   2018-05-15T18:35:49.279918    41217332  userid\n",
       "...                          ...         ...     ...\n",
       "4322  2018-05-15T18:35:55.418517  1948062494  userid\n",
       "4323  2018-05-15T18:35:55.419013  1952156365  userid\n",
       "4324  2018-05-15T18:35:55.422101  1956700424  userid\n",
       "4325  2018-05-15T18:35:55.423033  1958085936  userid\n",
       "4326  2018-05-15T18:35:55.423627  1961129809  userid\n",
       "4327  2018-05-15T18:35:55.424345  1965229962  userid\n",
       "4328  2018-05-15T18:35:55.426621  1966904126  userid\n",
       "4329  2018-05-15T18:35:55.427337  1967229895  userid\n",
       "4330  2018-05-15T18:35:55.428557  1971054716  userid\n",
       "4331  2018-05-15T18:35:55.429731  1974223567  userid\n",
       "4332  2018-05-15T18:35:55.432783  1977458240  userid\n",
       "4333  2018-05-15T18:35:55.433831  1978158529  userid\n",
       "4334  2018-05-15T18:35:55.434795  1978687165  userid\n",
       "4335  2018-05-15T18:35:55.435264  2147790896  userid\n",
       "4336  2018-05-15T18:35:55.438050  2148022776  userid\n",
       "4337  2018-05-15T18:35:55.439016  2148304566  userid\n",
       "4338  2018-05-15T18:35:55.440491  2150423437  userid\n",
       "4339  2018-05-15T18:35:55.441645  2151409467  userid\n",
       "4340  2018-05-15T18:35:55.444193  2153422184  userid\n",
       "4341  2018-05-15T18:35:55.444974  2153945834  userid\n",
       "4342  2018-05-15T18:35:55.445996  2157188568  userid\n",
       "4343  2018-05-15T18:35:55.447086  2163358988  userid\n",
       "4344  2018-05-15T18:35:55.449481  2163604778  userid\n",
       "4345  2018-05-15T18:35:55.450256  2167298995  userid\n",
       "4346  2018-05-15T18:35:55.450858  2168963268  userid\n",
       "4347  2018-05-15T18:35:55.451892  2174458194  userid\n",
       "4348  2018-05-15T18:35:55.453915  2177120316  userid\n",
       "4349  2018-05-15T18:35:55.454866  2177743897  userid\n",
       "4350  2018-05-15T18:35:55.455231  2181739981  userid\n",
       "4351  2018-05-15T18:35:55.455569  2187999841  userid\n",
       "\n",
       "[425 rows x 3 columns]"
      ]
     },
     "execution_count": 14,
     "metadata": {},
     "output_type": "execute_result"
    }
   ],
   "source": [
    "p"
   ]
  },
  {
   "cell_type": "code",
   "execution_count": null,
   "metadata": {},
   "outputs": [],
   "source": []
  },
  {
   "cell_type": "code",
   "execution_count": null,
   "metadata": {},
   "outputs": [],
   "source": []
  },
  {
   "cell_type": "code",
   "execution_count": null,
   "metadata": {},
   "outputs": [],
   "source": []
  },
  {
   "cell_type": "markdown",
   "metadata": {},
   "source": [
    "uids = []\n",
    "rows = []\n",
    "print(\"Unique user ids; rows\")\n",
    "for db in otherDbNames:\n",
    "    dbPath = '%s/%s' % (environment.DB_FOLDER, db)\n",
    "    conn = sqlite3.connect( dbPath )  # Connect to the main database\n",
    "    curs = conn.cursor()  # Connect a cursor\n",
    "    r1 = conn.execute(\"select count( distinct user_id) from word_map_deux\")\n",
    "    v =  r1.fetchone()\n",
    "    uids.append(v[0])\n",
    "    r2 = conn.execute(\"select count( word) from word_map_deux\")\n",
    "    v2 =  r2.fetchone()\n",
    "    rows.append(v2[0])\n",
    "\n",
    "    print(\"%s : %s; %s \" % (db, v[0], v2[0]))\n",
    "    conn.close()\n"
   ]
  },
  {
   "cell_type": "code",
   "execution_count": null,
   "metadata": {},
   "outputs": [],
   "source": []
  },
  {
   "cell_type": "code",
   "execution_count": null,
   "metadata": {
    "ExecuteTime": {
     "end_time": "2018-04-24T00:20:00.291092Z",
     "start_time": "2018-04-24T00:20:00.279946Z"
    }
   },
   "outputs": [],
   "source": [
    "conn = sqlite3.connect(environment.MASTER_DB)\n",
    "r1 = conn.execute(\"select user_id, count(word) from word_map_deux group by user_id \")\n",
    "print( r1.fetchone())\n",
    "conn.close()"
   ]
  },
  {
   "cell_type": "code",
   "execution_count": null,
   "metadata": {
    "ExecuteTime": {
     "end_time": "2018-04-24T01:37:28.570035Z",
     "start_time": "2018-04-24T01:37:28.484182Z"
    }
   },
   "outputs": [],
   "source": [
    "conn = sqlite3.connect(environment.MASTER_DB)\n",
    "curs = conn.cursor()  # Connect a cursor\n",
    "    \n",
    "r1 = curs.execute(\"select * from word_map_deux where user_id = 2\")\n",
    "# for i in range(0, 100):\n",
    "print( r1.fetchone())\n",
    "\n",
    "curs.close()"
   ]
  },
  {
   "cell_type": "code",
   "execution_count": null,
   "metadata": {
    "ExecuteTime": {
     "end_time": "2018-04-24T00:20:00.317545Z",
     "start_time": "2018-04-24T00:20:00.304443Z"
    }
   },
   "outputs": [],
   "source": [
    "\"\"\"The above tells me that the problem is the whole store getting sent to the server\"\"\""
   ]
  },
  {
   "cell_type": "code",
   "execution_count": null,
   "metadata": {},
   "outputs": [],
   "source": []
  },
  {
   "cell_type": "markdown",
   "metadata": {},
   "source": [
    "# Explore data"
   ]
  },
  {
   "cell_type": "code",
   "execution_count": null,
   "metadata": {},
   "outputs": [],
   "source": []
  },
  {
   "cell_type": "code",
   "execution_count": null,
   "metadata": {
    "ExecuteTime": {
     "end_time": "2018-04-24T00:20:00.326107Z",
     "start_time": "2018-04-24T00:20:00.321031Z"
    }
   },
   "outputs": [],
   "source": [
    "def master_row_generator():\n",
    "    conn = sqlite3.connect(environment.MASTER_DB)\n",
    "    r = conn.execute(\"select * from word_map_deux\")\n",
    "    while True:\n",
    "        yield r.fetchone()\n",
    "\n",
    "def db_row_generator(filepath):\n",
    "    conn = sqlite3.connect(filepath)\n",
    "    r = conn.execute(\"select * from word_map_deux\")\n",
    "    while True:\n",
    "        yield r.fetchone()\n"
   ]
  },
  {
   "cell_type": "code",
   "execution_count": null,
   "metadata": {
    "ExecuteTime": {
     "end_time": "2018-04-24T00:20:00.333839Z",
     "start_time": "2018-04-24T00:20:00.329695Z"
    }
   },
   "outputs": [],
   "source": [
    "gen = master_row_generator()"
   ]
  },
  {
   "cell_type": "code",
   "execution_count": null,
   "metadata": {
    "ExecuteTime": {
     "end_time": "2018-04-24T00:20:00.371382Z",
     "start_time": "2018-04-24T00:20:00.337634Z"
    }
   },
   "outputs": [],
   "source": [
    "for i in range(0, 220):\n",
    "    print(next(gen))"
   ]
  },
  {
   "cell_type": "code",
   "execution_count": null,
   "metadata": {
    "ExecuteTime": {
     "end_time": "2018-04-24T00:20:00.395516Z",
     "start_time": "2018-04-24T00:20:00.374929Z"
    }
   },
   "outputs": [],
   "source": [
    "f = '/Users/adam/Desktop/TwitterDataAnalysisLogs/dbs/wordmapping1.db'\n",
    "dgen = db_row_generator(f)\n",
    "for i in range(0, 220):\n",
    "    print(next(dgen))"
   ]
  },
  {
   "cell_type": "code",
   "execution_count": null,
   "metadata": {
    "ExecuteTime": {
     "end_time": "2018-04-24T00:20:00.404343Z",
     "start_time": "2018-04-24T00:20:00.398351Z"
    }
   },
   "outputs": [],
   "source": [
    "f = '/Users/adam/Desktop/TwitterDataAnalysisLogs/dbs/wordmapping1.db'\n",
    "conn = sqlite3.connect(f)\n",
    "r = conn.execute(\"select * from word_map_deux\")\n",
    "for i in range(0, 5):\n",
    "    print(r.fetchone())\n"
   ]
  },
  {
   "cell_type": "code",
   "execution_count": null,
   "metadata": {},
   "outputs": [],
   "source": []
  },
  {
   "cell_type": "code",
   "execution_count": null,
   "metadata": {
    "ExecuteTime": {
     "end_time": "2018-04-24T00:20:00.414091Z",
     "start_time": "2018-04-24T00:20:00.407584Z"
    }
   },
   "outputs": [],
   "source": [
    "f = '/Users/adam/Desktop/TwitterDataAnalysisLogs/dbs/wordmapping9.db'\n",
    "conn = sqlite3.connect(f)\n",
    "r = conn.execute(\"select * from word_map_deux\")\n",
    "for i in range(0, 5):\n",
    "    print(r.fetchone())\n"
   ]
  },
  {
   "cell_type": "code",
   "execution_count": null,
   "metadata": {},
   "outputs": [],
   "source": []
  },
  {
   "cell_type": "code",
   "execution_count": null,
   "metadata": {
    "ExecuteTime": {
     "end_time": "2018-04-24T00:20:00.426822Z",
     "start_time": "2018-04-24T00:20:00.418015Z"
    }
   },
   "outputs": [],
   "source": [
    "\n",
    "f = '/Users/adam/Desktop/TwitterDataAnalysisLogs/master.db'\n",
    "conn = sqlite3.connect(f)\n",
    "r = conn.execute(\"select count(word) from word_map_deux\")\n",
    "print(r.fetchone())\n",
    "conn.close()"
   ]
  },
  {
   "cell_type": "code",
   "execution_count": null,
   "metadata": {},
   "outputs": [],
   "source": []
  },
  {
   "cell_type": "markdown",
   "metadata": {
    "ExecuteTime": {
     "end_time": "2018-04-23T23:03:33.679725Z",
     "start_time": "2018-04-23T23:03:33.676906Z"
    }
   },
   "source": [
    "# Timing"
   ]
  },
  {
   "cell_type": "code",
   "execution_count": null,
   "metadata": {
    "ExecuteTime": {
     "end_time": "2018-04-24T00:20:00.442251Z",
     "start_time": "2018-04-24T00:20:00.431269Z"
    }
   },
   "outputs": [],
   "source": [
    "%cd twitteranalysis\n",
    "\n",
    "from functools import wraps\n",
    "import time\n",
    "\n",
    "from Loggers.CsvLoggers import log_query, log_query_timestamp\n",
    "import environment\n",
    "\n",
    "\n",
    "def time_and_log(fn):\n",
    "    \"\"\"\n",
    "    Decorator to time operation of method\n",
    "    From High Performance Python, p.27\n",
    "    \"\"\"\n",
    "    @wraps(fn)\n",
    "    def measure_time(*args, **kwargs):\n",
    "        t1 = time.time()\n",
    "        result = fn(*args, **kwargs)\n",
    "        t2 = time.time()\n",
    "        t2 = time.time()\n",
    "        elapsed = t2 - t1\n",
    "        log_query( elapsed )\n",
    "        log_query_timestamp()\n",
    "#         print((\"@timefn:%s took %s seconds\" % (fn.__name__, elapsed)))\n",
    "        return result\n",
    "    return measure_time\n"
   ]
  },
  {
   "cell_type": "code",
   "execution_count": null,
   "metadata": {
    "ExecuteTime": {
     "end_time": "2018-04-24T00:20:00.450150Z",
     "start_time": "2018-04-24T00:20:00.446521Z"
    }
   },
   "outputs": [],
   "source": [
    "\n",
    "@time_and_log\n",
    "def test():\n",
    "    time.sleep(2)\n",
    "    print('done')\n",
    "    "
   ]
  },
  {
   "cell_type": "code",
   "execution_count": null,
   "metadata": {
    "ExecuteTime": {
     "end_time": "2018-04-24T00:20:02.464949Z",
     "start_time": "2018-04-24T00:20:00.454176Z"
    }
   },
   "outputs": [],
   "source": [
    "test()"
   ]
  },
  {
   "cell_type": "code",
   "execution_count": null,
   "metadata": {},
   "outputs": [],
   "source": []
  }
 ],
 "metadata": {
  "celltoolbar": "Raw Cell Format",
  "kernelspec": {
   "display_name": "Python 3",
   "language": "python",
   "name": "python3"
  },
  "language_info": {
   "codemirror_mode": {
    "name": "ipython",
    "version": 3
   },
   "file_extension": ".py",
   "mimetype": "text/x-python",
   "name": "python",
   "nbconvert_exporter": "python",
   "pygments_lexer": "ipython3",
   "version": "3.6.4"
  },
  "toc": {
   "colors": {
    "hover_highlight": "#DAA520",
    "navigate_num": "#000000",
    "navigate_text": "#333333",
    "running_highlight": "#FF0000",
    "selected_highlight": "#FFD700",
    "sidebar_border": "#EEEEEE",
    "wrapper_background": "#FFFFFF"
   },
   "moveMenuLeft": true,
   "nav_menu": {
    "height": "12px",
    "width": "252px"
   },
   "navigate_menu": true,
   "number_sections": true,
   "sideBar": true,
   "threshold": 4,
   "toc_cell": false,
   "toc_section_display": "block",
   "toc_window_display": false,
   "widenNotebook": false
  }
 },
 "nbformat": 4,
 "nbformat_minor": 2
}
