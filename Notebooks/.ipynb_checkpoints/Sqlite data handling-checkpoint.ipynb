{
 "cells": [
  {
   "cell_type": "code",
   "execution_count": 1,
   "metadata": {
    "ExecuteTime": {
     "end_time": "2018-04-21T03:21:45.375725Z",
     "start_time": "2018-04-21T03:21:45.368908Z"
    }
   },
   "outputs": [
    {
     "name": "stdout",
     "output_type": "stream",
     "text": [
      "(bookmark:twitteranalysis) -> /Users/adam/Dropbox/PainNarrativesLab/TwitterDataAnalysis\n",
      "/Users/adam/Dropbox/PainNarrativesLab/TwitterDataAnalysis\n"
     ]
    }
   ],
   "source": [
    "%cd twitteranalysis\n",
    "import environment\n",
    "import sqlite3\n",
    "\n",
    "g = environment.sqlite_file_connection_string_generator()\n",
    "query = \"\"\"CREATE TABLE `word_map_deux` (\n",
    "`tweet_id` int(20) DEFAULT NULL,\n",
    "  `user_id` int(20) DEFAULT NULL,\n",
    "  `word` varchar(200) DEFAULT NULL,\n",
    "  `sentence_index` int(11) DEFAULT NULL,\n",
    "  `word_index` int(11) DEFAULT NULL)\"\"\""
   ]
  },
  {
   "cell_type": "code",
   "execution_count": 2,
   "metadata": {
    "ExecuteTime": {
     "end_time": "2018-04-21T03:22:06.612162Z",
     "start_time": "2018-04-21T03:22:06.607517Z"
    }
   },
   "outputs": [],
   "source": [
    "# Make master db and tables\n",
    "import sqlite3\n",
    "\n",
    "# make individual tables\n",
    "def initialize_working_tables():\n",
    "    for i in range(0, environment.MAX_DB_FILES +1):\n",
    "        try:\n",
    "            f = '%s/wordmapping%s.db' % (environment.DB_FOLDER, i)\n",
    "            conn = sqlite3.connect(f)\n",
    "            conn.execute(query)\n",
    "            conn.commit()\n",
    "            conn.close()\n",
    "        except:\n",
    "            pass\n",
    "\n",
    "def initialize_master_db():\n",
    "    try:\n",
    "        conn = sqlite3.connect(environment.MASTER_DB)\n",
    "        conn.execute(query)\n",
    "        conn.commit()\n",
    "        conn.close()\n",
    "    except:\n",
    "        pass"
   ]
  },
  {
   "cell_type": "code",
   "execution_count": 3,
   "metadata": {
    "ExecuteTime": {
     "end_time": "2018-04-21T03:22:07.284514Z",
     "start_time": "2018-04-21T03:22:07.280236Z"
    }
   },
   "outputs": [],
   "source": [
    "initialize_master_db()"
   ]
  },
  {
   "cell_type": "code",
   "execution_count": 4,
   "metadata": {
    "ExecuteTime": {
     "end_time": "2018-04-21T03:22:09.515875Z",
     "start_time": "2018-04-21T03:22:09.495853Z"
    }
   },
   "outputs": [],
   "source": [
    "initialize_working_tables()"
   ]
  },
  {
   "cell_type": "markdown",
   "metadata": {},
   "source": [
    "# Run the user parser"
   ]
  },
  {
   "cell_type": "code",
   "execution_count": 5,
   "metadata": {
    "ExecuteTime": {
     "end_time": "2018-04-21T03:23:33.401601Z",
     "start_time": "2018-04-21T03:23:14.492124Z"
    }
   },
   "outputs": [
    {
     "name": "stdout",
     "output_type": "stream",
     "text": [
      "(bookmark:twitteranalysis) -> /Users/adam/Dropbox/PainNarrativesLab/TwitterDataAnalysis\n",
      "/Users/adam/Dropbox/PainNarrativesLab/TwitterDataAnalysis\n",
      "connection ready\n",
      "4352 users processed (not nec done)\n",
      "67943 responses\n",
      "33972 responses\n",
      "0 futures pending after 18.246161937713623 \n",
      "0 responses\n",
      "Responses are complete\n",
      "4352 profiles (of 4353) took 18.247341871261597 seconds. That's 0.004192863481447977 seconds per profile\n"
     ]
    }
   ],
   "source": [
    "%cd twitteranalysis\n",
    "%run -i Executables/process_user_descriptions_into_words.py\n"
   ]
  },
  {
   "cell_type": "code",
   "execution_count": null,
   "metadata": {},
   "outputs": [],
   "source": []
  },
  {
   "cell_type": "code",
   "execution_count": null,
   "metadata": {},
   "outputs": [],
   "source": []
  },
  {
   "cell_type": "markdown",
   "metadata": {},
   "source": [
    "# Merge the various sqlite files"
   ]
  },
  {
   "cell_type": "code",
   "execution_count": 6,
   "metadata": {
    "ExecuteTime": {
     "end_time": "2018-04-21T03:24:32.892968Z",
     "start_time": "2018-04-21T03:24:32.848777Z"
    }
   },
   "outputs": [
    {
     "name": "stdout",
     "output_type": "stream",
     "text": [
      "(bookmark:twitteranalysis) -> /Users/adam/Dropbox/PainNarrativesLab/TwitterDataAnalysis\n",
      "/Users/adam/Dropbox/PainNarrativesLab/TwitterDataAnalysis\n"
     ]
    }
   ],
   "source": [
    "\n",
    "%cd twitteranalysis\n",
    "import environment\n",
    "import sqlite3\n",
    "\n",
    "mainDB = environment.MASTER_DB\n",
    "columnNames = \"word_index, sentence_index, word, user_id, tweet_id\"\n",
    "    \n",
    "otherDbNames = [ 'wordmapping%s.db' % (i) \n",
    "            for i in range( 0, environment.MAX_DB_FILES +1)]\n",
    "\n",
    "otherDBs = [ '%s/%s' % (environment.DB_FOLDER, name) \n",
    "            for name in otherDbNames]\n",
    "    \n",
    "for db in otherDbNames:\n",
    "    conn = sqlite3.connect( mainDB )  # Connect to the main database\n",
    "    curs = conn.cursor()  # Connect a cursor\n",
    "    \n",
    "    dbPath = '%s/%s' % (environment.DB_FOLDER, db)\n",
    "    curs.execute( \"ATTACH DATABASE ? as ? ;\", (dbPath, 'db') )\n",
    "\n",
    "    dbNameTableName = \"db.word_map_deux\"\n",
    "    tableName = 'word_map_deux'\n",
    "    curs.execute( \"INSERT INTO %s (%s) SELECT %s FROM %s;\" % (tableName, columnNames, columnNames, dbNameTableName) )\n",
    "    conn.commit()\n",
    "    curs.close()\n",
    "    conn.close()\n"
   ]
  },
  {
   "cell_type": "code",
   "execution_count": null,
   "metadata": {},
   "outputs": [],
   "source": []
  },
  {
   "cell_type": "code",
   "execution_count": null,
   "metadata": {},
   "outputs": [],
   "source": []
  },
  {
   "cell_type": "markdown",
   "metadata": {
    "ExecuteTime": {
     "end_time": "2018-04-21T01:41:48.507100Z",
     "start_time": "2018-04-21T01:41:48.503056Z"
    }
   },
   "source": [
    "# Check data"
   ]
  },
  {
   "cell_type": "code",
   "execution_count": 7,
   "metadata": {
    "ExecuteTime": {
     "end_time": "2018-04-21T03:24:40.492783Z",
     "start_time": "2018-04-21T03:24:40.488012Z"
    }
   },
   "outputs": [
    {
     "name": "stdout",
     "output_type": "stream",
     "text": [
      "(bookmark:twitteranalysis) -> /Users/adam/Dropbox/PainNarrativesLab/TwitterDataAnalysis\n",
      "/Users/adam/Dropbox/PainNarrativesLab/TwitterDataAnalysis\n"
     ]
    }
   ],
   "source": [
    "%cd twitteranalysis\n",
    "import environment\n",
    "import sqlite3"
   ]
  },
  {
   "cell_type": "code",
   "execution_count": 8,
   "metadata": {
    "ExecuteTime": {
     "end_time": "2018-04-21T03:24:43.155527Z",
     "start_time": "2018-04-21T03:24:43.136068Z"
    }
   },
   "outputs": [
    {
     "name": "stdout",
     "output_type": "stream",
     "text": [
      "3591 Unique user ids\n",
      "47952 rows in master.db\n"
     ]
    }
   ],
   "source": [
    "conn = sqlite3.connect(environment.MASTER_DB)\n",
    "r1 = conn.execute(\"select count( distinct user_id) from word_map_deux\")\n",
    "print(\"%s Unique user ids\" % r1.fetchone())\n",
    "r2 = conn.execute(\"select count( word) from word_map_deux\")\n",
    "print(\"%s rows in master.db\" % r2.fetchone())\n",
    "conn.close()"
   ]
  },
  {
   "cell_type": "code",
   "execution_count": null,
   "metadata": {
    "ExecuteTime": {
     "end_time": "2018-04-21T03:18:29.248346Z",
     "start_time": "2018-04-21T03:18:29.228975Z"
    }
   },
   "outputs": [],
   "source": [
    "conn = sqlite3.connect(environment.MASTER_DB)\n",
    "r1 = conn.execute(\"select user_id, count(word) from word_map_deux group by user_id \")\n",
    "print( r1.fetchone())\n",
    "conn.close()"
   ]
  },
  {
   "cell_type": "code",
   "execution_count": null,
   "metadata": {
    "ExecuteTime": {
     "end_time": "2018-04-21T03:18:29.376570Z",
     "start_time": "2018-04-21T03:18:29.372642Z"
    }
   },
   "outputs": [],
   "source": [
    "conn = sqlite3.connect(environment.MASTER_DB)\n",
    "curs = conn.cursor()  # Connect a cursor\n",
    "    \n",
    "r1 = curs.execute(\"select * from word_map_deux where user_id = 1460971\")\n",
    "# for i in range(0, 100):\n",
    "#     print( r1.fetchone())\n",
    "\n",
    "curs.close()"
   ]
  },
  {
   "cell_type": "code",
   "execution_count": null,
   "metadata": {
    "ExecuteTime": {
     "end_time": "2018-04-21T03:18:29.506415Z",
     "start_time": "2018-04-21T03:18:29.494285Z"
    }
   },
   "outputs": [],
   "source": [
    "\"\"\"The above tells me that the problem is the whole store getting sent to the server\"\"\""
   ]
  },
  {
   "cell_type": "code",
   "execution_count": null,
   "metadata": {},
   "outputs": [],
   "source": []
  },
  {
   "cell_type": "markdown",
   "metadata": {},
   "source": [
    "# Explore data"
   ]
  },
  {
   "cell_type": "code",
   "execution_count": null,
   "metadata": {},
   "outputs": [],
   "source": []
  },
  {
   "cell_type": "code",
   "execution_count": 9,
   "metadata": {
    "ExecuteTime": {
     "end_time": "2018-04-21T03:25:27.887434Z",
     "start_time": "2018-04-21T03:25:27.883313Z"
    }
   },
   "outputs": [],
   "source": [
    "def master_row_generator():\n",
    "    conn = sqlite3.connect(environment.MASTER_DB)\n",
    "    r = conn.execute(\"select * from word_map_deux\")\n",
    "    while True:\n",
    "        yield r.fetchone()\n",
    "\n",
    "def db_row_generator(filepath):\n",
    "    conn = sqlite3.connect(filepath)\n",
    "    r = conn.execute(\"select * from word_map_deux\")\n",
    "    while True:\n",
    "        yield r.fetchone()\n"
   ]
  },
  {
   "cell_type": "code",
   "execution_count": 10,
   "metadata": {
    "ExecuteTime": {
     "end_time": "2018-04-21T03:25:28.149197Z",
     "start_time": "2018-04-21T03:25:28.146519Z"
    }
   },
   "outputs": [],
   "source": [
    "gen = master_row_generator()"
   ]
  },
  {
   "cell_type": "code",
   "execution_count": 11,
   "metadata": {
    "ExecuteTime": {
     "end_time": "2018-04-21T03:25:28.492742Z",
     "start_time": "2018-04-21T03:25:28.474168Z"
    }
   },
   "outputs": [
    {
     "name": "stdout",
     "output_type": "stream",
     "text": [
      "(None, 1460971, \"n't\", 2, 3)\n",
      "(None, 1460971, 'like', 2, 4)\n",
      "(None, 1460971, 'honest', 2, 5)\n",
      "(None, 1460971, 'and', 2, 6)\n",
      "(None, 1460971, 'have', 3, 1)\n",
      "(None, 1460971, 'crohns', 3, 2)\n",
      "(None, 1460971, 'dysautonomia', 3, 4)\n",
      "(None, 1460971, 'aspergers', 3, 6)\n",
      "(None, 7465852, 'philosopher', 0, 1)\n",
      "(None, 7465852, 'firecracker', 0, 3)\n",
      "(None, 7465852, 'and', 0, 5)\n",
      "(None, 7465852, 'commander-in-chief', 0, 6)\n",
      "(None, 5986922, 'mn', 0, 7)\n",
      "(None, 5986922, 'insulin', 1, 0)\n",
      "(None, 5986922, 'pumper', 1, 1)\n",
      "(None, 5986922, 'diabetes', 1, 3)\n",
      "(None, 12786302, 'from', 1, 5)\n",
      "(None, 12786302, 'dummies.com', 1, 6)\n",
      "(None, 12786302, 'book', 1, 8)\n",
      "(None, 12786302, 'and', 1, 9)\n",
      "(None, 4437881, 'autoimmune', 0, 10)\n",
      "(None, 4437881, 'issues', 0, 11)\n",
      "(None, 4437881, 'and', 0, 12)\n",
      "(None, 4437881, 'more', 0, 13)\n",
      "(None, 3647641, 'e', 1, 7)\n",
      "(None, 4013641, 'http', 0, 0)\n",
      "(None, 4437881, 'health', 0, 0)\n",
      "(None, 4437881, 'coach', 0, 1)\n",
      "(None, 7730222, 'eyes', 1, 11)\n",
      "(None, 7730222, 'also', 2, 0)\n",
      "(None, 7730222, 'childhood', 2, 1)\n",
      "(None, 7730222, 'cancer', 2, 2)\n",
      "(None, 8935302, 'pro', 1, 2)\n",
      "(None, 8935302, 'and', 1, 3)\n",
      "(None, 8935302, 'award-winning', 1, 4)\n",
      "(None, 8935302, 'author', 1, 5)\n",
      "(None, 14258273, 'fluid', 0, 5)\n",
      "(None, 14258273, 'pansexual', 0, 6)\n",
      "(None, 14258273, 'polyamorous', 0, 7)\n",
      "(None, 14258273, 'aspie', 0, 8)\n",
      "(None, 12014232, 'new', 0, 10)\n",
      "(None, 12014232, 'friends', 0, 11)\n",
      "(None, 12014232, 'around', 0, 12)\n",
      "(None, 12014232, 'the', 0, 13)\n",
      "(None, 9189612, 'identity', 1, 1)\n",
      "(None, 9189612, 'spirituality', 1, 3)\n",
      "(None, 9189612, 'revealed', 1, 4)\n",
      "(None, 9189612, 'in', 1, 5)\n",
      "(None, 14390612, 'http', 1, 4)\n",
      "(None, 14390612, 'hit100', 1, 8)\n",
      "(None, 14395235, 'wizard', 0, 0)\n",
      "(None, 14395235, 'of', 0, 1)\n",
      "(None, 14648493, 'people', 0, 20)\n",
      "(None, 14658631, 'eclectic', 0, 0)\n",
      "(None, 14658631, 'media', 0, 1)\n",
      "(None, 14658631, 'producer', 0, 2)\n",
      "(None, 13481932, 'mean', 0, 21)\n",
      "(None, 13481932, 'people', 0, 22)\n",
      "(None, 13481932, 'writes', 1, 0)\n",
      "(None, 13481932, 'about', 1, 1)\n",
      "(None, 11092692, 'have', 2, 1)\n",
      "(None, 11092692, 'a', 2, 2)\n",
      "(None, 11092692, 'phd', 2, 3)\n",
      "(None, 11092692, 'i', 2, 5)\n",
      "(None, 11784212, 'cfs', 0, 19)\n",
      "(None, 11784212, 'media', 0, 21)\n",
      "(None, 11784212, 'quote', 0, 22)\n",
      "(None, 11784212, 'of', 0, 23)\n",
      "(None, 10712602, 'a', 0, 3)\n",
      "(None, 10712602, 'providence', 0, 4)\n",
      "(None, 10712602, 'non-profit', 0, 5)\n",
      "(None, 10712602, 'boston', 1, 0)\n",
      "(None, 12992412, 'fan', 1, 8)\n",
      "(None, 12992412, 'living', 1, 10)\n",
      "(None, 12992412, 'with', 1, 11)\n",
      "(None, 12992412, 'eds', 1, 12)\n",
      "(None, 14258273, 'it', 0, 15)\n",
      "(None, 14262217, 'social', 0, 0)\n",
      "(None, 14262217, 'media/community', 0, 1)\n",
      "(None, 14262217, 'manager', 0, 2)\n",
      "(None, 13922042, 'urban', 0, 25)\n",
      "(None, 13922042, 'photographer', 0, 26)\n",
      "(None, 13922042, 'canadian', 0, 28)\n",
      "(None, 13956802, 'freelance', 0, 0)\n",
      "(None, 15013572, 'with', 0, 8)\n",
      "(None, 15013572, 'fibro', 0, 9)\n",
      "(None, 15013572, 'author', 1, 0)\n",
      "(None, 15013572, 'fibrowhyalgia', 1, 2)\n",
      "(None, 7729642, 'disease', 0, 16)\n",
      "(None, 7729642, 'called', 0, 17)\n",
      "(None, 7729642, 'crps/rsd', 0, 18)\n",
      "(None, 7729642, 'http', 1, 0)\n",
      "(None, 14198727, 'production', 0, 4)\n",
      "(None, 14198727, 'strategy', 0, 6)\n",
      "(None, 14198727, 'and', 0, 7)\n",
      "(None, 14198727, 'marketing', 0, 8)\n",
      "(None, 14747573, 'futures', 1, 10)\n",
      "(None, 14747573, 'are', 1, 11)\n",
      "(None, 14747573, 'put', 1, 12)\n",
      "(None, 14747573, 'in', 1, 13)\n",
      "(None, 15238501, 'lover', 0, 8)\n",
      "(None, 15238501, 'bike', 0, 10)\n",
      "(None, 15238501, 'rider', 0, 11)\n",
      "(None, 15238501, 'and', 0, 13)\n",
      "(None, 15159253, 'time', 2, 6)\n",
      "(None, 15159253, 'management', 2, 7)\n",
      "(None, 15159253, 'method', 2, 8)\n",
      "(None, 15159253, 'sharing', 3, 0)\n",
      "(None, 15337352, 'productive', 0, 11)\n",
      "(None, 15337352, 'lifestyle', 0, 12)\n",
      "(None, 15337352, 'join', 0, 14)\n",
      "(None, 15337352, 'me', 0, 15)\n",
      "(None, 11737492, 'found', 0, 1)\n",
      "(None, 11737492, 'love', 0, 2)\n",
      "(None, 11737492, 'on', 0, 3)\n",
      "(None, 11737492, 'twitter', 0, 4)\n",
      "(None, 14620497, 'to', 0, 2)\n",
      "(None, 14620497, 'improve', 0, 3)\n",
      "(None, 14620497, 'and', 0, 4)\n",
      "(None, 14620497, 'take', 0, 5)\n",
      "(None, 14194493, 'mstie', 7, 0)\n",
      "(None, 14194493, 'rifftrax', 8, 0)\n",
      "(None, 14194493, 'fan', 8, 1)\n",
      "(None, 14194493, 'nail', 9, 0)\n",
      "(None, 15703946, 'on', 0, 7)\n",
      "(None, 15703946, 'chronic', 0, 8)\n",
      "(None, 15703946, 'pain', 0, 9)\n",
      "(None, 15703946, 'prevention', 0, 10)\n",
      "(None, 15414627, 'mental', 2, 0)\n",
      "(None, 15414627, 'health', 2, 1)\n",
      "(None, 15414627, 'service', 2, 2)\n",
      "(None, 15414627, 'user', 2, 3)\n",
      "(None, 16052373, 'investment', 0, 13)\n",
      "(None, 16052373, 'leadership', 0, 15)\n",
      "(None, 16052373, 'attitude', 0, 17)\n",
      "(None, 16052373, 'and', 0, 19)\n",
      "(None, 12772482, 'providers', 0, 6)\n",
      "(None, 12772482, 'all', 0, 7)\n",
      "(None, 12772482, 'along', 0, 8)\n",
      "(None, 12772482, 'the', 0, 9)\n",
      "(None, 14714240, 'http', 1, 11)\n",
      "(None, 14714240, 'and', 1, 14)\n",
      "(None, 14714240, 'http', 1, 15)\n",
      "(None, 14747573, 'in', 0, 0)\n",
      "(None, 15159253, 'less', 3, 8)\n",
      "(None, 15159253, 'and', 3, 10)\n",
      "(None, 15159253, 'live', 3, 11)\n",
      "(None, 15159253, 'more', 3, 12)\n",
      "(None, 16570402, 'chick', 0, 7)\n",
      "(None, 16570402, 'zombie', 0, 9)\n",
      "(None, 16570402, 'geek', 0, 10)\n",
      "(None, 16570402, 'outlander', 0, 12)\n",
      "(None, 14150838, 'importantly', 2, 1)\n",
      "(None, 14150838, 'wife', 2, 3)\n",
      "(None, 14150838, 'mom', 2, 5)\n",
      "(None, 14168218, 'bestselling', 0, 0)\n",
      "(None, 15782253, 'ca', 0, 9)\n",
      "(None, 15782253, \"n't\", 0, 10)\n",
      "(None, 15782253, 'happen', 0, 11)\n",
      "(None, 15824545, 'empr', 0, 0)\n",
      "(None, 17246084, 'reader', 0, 19)\n",
      "(None, 17246084, 'sailor', 0, 21)\n",
      "(None, 17246084, 'moon', 0, 22)\n",
      "(None, 17246084, 'fanboy', 0, 23)\n",
      "(None, 15750002, 'the', 1, 3)\n",
      "(None, 15750002, 'minute', 1, 4)\n",
      "(None, 15782253, 'just', 0, 0)\n",
      "(None, 15782253, 'because', 0, 1)\n",
      "(None, 15641276, 'twin', 0, 7)\n",
      "(None, 15641276, 'boys', 0, 8)\n",
      "(None, 15641276, 'twitterer', 1, 2)\n",
      "(None, 15641276, 'by', 1, 3)\n",
      "(None, 14373387, 'working', 0, 3)\n",
      "(None, 14373387, 'on', 0, 4)\n",
      "(None, 14373387, 'website', 0, 5)\n",
      "(None, 14373387, 'for', 0, 6)\n",
      "(None, 16461384, 'blessed', 1, 11)\n",
      "(None, 16461384, 'beyond', 1, 12)\n",
      "(None, 16461384, 'measure', 1, 13)\n",
      "(None, 16461384, 'your', 2, 1)\n",
      "(None, 18417371, 'health', 2, 5)\n",
      "(None, 18417371, 'truth', 2, 7)\n",
      "(None, 18423201, 'a', 0, 0)\n",
      "(None, 18423201, 'woman', 0, 1)\n",
      "(None, 16679779, 'advocating', 0, 0)\n",
      "(None, 16679779, 'disability', 0, 1)\n",
      "(None, 16679779, 'awareness', 0, 2)\n",
      "(None, 16679779, 'leaders', 1, 0)\n",
      "(None, 14990553, 'kindergarden', 0, 1)\n",
      "(None, 14990553, 'teacher', 0, 2)\n",
      "(None, 14990553, 'artist', 1, 0)\n",
      "(None, 14990553, 'patient', 2, 0)\n",
      "(None, 19141170, 'at', 0, 6)\n",
      "(None, 19141170, 'communication', 0, 7)\n",
      "(None, 19141170, 'and', 0, 9)\n",
      "(None, 19141170, 'building', 0, 10)\n",
      "(None, 16738969, 'lightswitchcreative.ca', 5, 6)\n",
      "(None, 16738969, 'http', 5, 8)\n",
      "(None, 16798191, 'published', 0, 0)\n",
      "(None, 16798191, 'author', 0, 1)\n",
      "(None, 14555801, 'consultant.owner', 2, 7)\n",
      "(None, 14555801, 'of', 2, 8)\n",
      "(None, 14555801, 'media_flair', 2, 10)\n",
      "(None, 14565811, '8-bit', 0, 0)\n",
      "(None, 16052373, 'a', 0, 0)\n",
      "(None, 16052373, 'typical', 0, 1)\n",
      "(None, 16052373, 'babyboomer', 0, 2)\n",
      "(None, 16052373, 'interested', 0, 3)\n",
      "(None, 14760310, 'very', 1, 2)\n",
      "(None, 14760310, 'proud', 1, 3)\n",
      "(None, 14760310, 'to', 1, 4)\n",
      "(None, 14760310, 'be', 1, 5)\n",
      "(None, 15301172, 'all', 2, 2)\n",
      "(None, 15301172, 'when', 2, 3)\n",
      "(None, 15301172, 'in', 2, 4)\n",
      "(None, 15301172, 'under', 2, 6)\n",
      "(None, 3647641, 'center', 0, 3)\n",
      "(None, 3647641, 'of', 0, 4)\n",
      "(None, 3647641, 'the', 0, 5)\n",
      "(None, 3647641, 'echoverse', 0, 6)\n"
     ]
    }
   ],
   "source": [
    "for i in range(0, 220):\n",
    "    print(next(gen))"
   ]
  },
  {
   "cell_type": "code",
   "execution_count": null,
   "metadata": {
    "ExecuteTime": {
     "end_time": "2018-04-21T01:59:22.036657Z",
     "start_time": "2018-04-21T01:59:22.028700Z"
    }
   },
   "outputs": [],
   "source": [
    "f = '/Users/adam/Desktop/TwitterDataAnalysisLogs/dbs/wordmapping1.db'\n",
    "dgen = db_row_generator(f)\n",
    "for i in range(0, 220):\n",
    "    print(next(dgen))"
   ]
  },
  {
   "cell_type": "code",
   "execution_count": null,
   "metadata": {
    "ExecuteTime": {
     "end_time": "2018-04-21T01:41:14.727105Z",
     "start_time": "2018-04-21T01:41:14.721685Z"
    }
   },
   "outputs": [],
   "source": [
    "f = '/Users/adam/Desktop/TwitterDataAnalysisLogs/dbs/wordmapping1.db'\n",
    "conn = sqlite3.connect(f)\n",
    "r = conn.execute(\"select * from word_map_deux\")\n",
    "for i in range(0, 5):\n",
    "    print(r.fetchone())\n"
   ]
  },
  {
   "cell_type": "code",
   "execution_count": null,
   "metadata": {},
   "outputs": [],
   "source": []
  },
  {
   "cell_type": "code",
   "execution_count": null,
   "metadata": {
    "ExecuteTime": {
     "end_time": "2018-04-20T23:45:51.700574Z",
     "start_time": "2018-04-20T23:45:51.695259Z"
    }
   },
   "outputs": [],
   "source": [
    "f = '/Users/adam/Desktop/TwitterDataAnalysisLogs/dbs/wordmapping9.db'\n",
    "conn = sqlite3.connect(f)\n",
    "r = conn.execute(\"select * from word_map_deux\")\n",
    "for i in range(0, 5):\n",
    "    print(r.fetchone())\n"
   ]
  },
  {
   "cell_type": "code",
   "execution_count": null,
   "metadata": {},
   "outputs": [],
   "source": []
  },
  {
   "cell_type": "code",
   "execution_count": null,
   "metadata": {
    "ExecuteTime": {
     "end_time": "2018-04-20T23:43:45.355697Z",
     "start_time": "2018-04-20T23:43:44.341962Z"
    }
   },
   "outputs": [],
   "source": [
    "\n",
    "f = '/Users/adam/Desktop/TwitterDataAnalysisLogs/master.db'\n",
    "conn = sqlite3.connect(f)\n",
    "r = conn.execute(\"select count(word) from word_map_deux\")\n",
    "print(r.fetchone())\n",
    "conn.close()"
   ]
  }
 ],
 "metadata": {
  "kernelspec": {
   "display_name": "Python 3",
   "language": "python",
   "name": "python3"
  },
  "language_info": {
   "codemirror_mode": {
    "name": "ipython",
    "version": 3
   },
   "file_extension": ".py",
   "mimetype": "text/x-python",
   "name": "python",
   "nbconvert_exporter": "python",
   "pygments_lexer": "ipython3",
   "version": "3.4.3"
  },
  "toc": {
   "colors": {
    "hover_highlight": "#DAA520",
    "navigate_num": "#000000",
    "navigate_text": "#333333",
    "running_highlight": "#FF0000",
    "selected_highlight": "#FFD700",
    "sidebar_border": "#EEEEEE",
    "wrapper_background": "#FFFFFF"
   },
   "moveMenuLeft": true,
   "nav_menu": {
    "height": "12px",
    "width": "252px"
   },
   "navigate_menu": true,
   "number_sections": true,
   "sideBar": true,
   "threshold": 4,
   "toc_cell": false,
   "toc_section_display": "block",
   "toc_window_display": false,
   "widenNotebook": false
  }
 },
 "nbformat": 4,
 "nbformat_minor": 2
}
