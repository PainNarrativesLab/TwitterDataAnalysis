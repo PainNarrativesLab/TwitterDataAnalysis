{
 "cells": [
  {
   "cell_type": "markdown",
   "metadata": {},
   "source": [
    "# Initialize database files"
   ]
  },
  {
   "cell_type": "code",
   "execution_count": null,
   "metadata": {
    "ExecuteTime": {
     "end_time": "2018-05-09T00:06:58.914757Z",
     "start_time": "2018-05-09T00:06:58.904829Z"
    }
   },
   "outputs": [],
   "source": [
    "%cd twitteranalysis\n",
    "from DataTools.SqliteTools import initialize_master_db, delete_master_db\n",
    "\n",
    "delete_master_db()\n",
    "initialize_master_db()"
   ]
  },
  {
   "cell_type": "code",
   "execution_count": null,
   "metadata": {},
   "outputs": [],
   "source": []
  },
  {
   "cell_type": "markdown",
   "metadata": {},
   "source": [
    "# Run the user parser"
   ]
  },
  {
   "cell_type": "code",
   "execution_count": null,
   "metadata": {
    "ExecuteTime": {
     "end_time": "2018-05-09T21:39:14.839685Z",
     "start_time": "2018-05-09T21:39:14.824216Z"
    }
   },
   "outputs": [],
   "source": [
    "%cd twitteranalysis\n",
    "%run -i Executables/process_user_descriptions_into_words2.py"
   ]
  },
  {
   "cell_type": "raw",
   "metadata": {},
   "source": [
    "%cd twitteranalysis\n",
    "%run -i Executables/parallel_runner.py"
   ]
  },
  {
   "cell_type": "markdown",
   "metadata": {},
   "source": [
    "# Clear queue"
   ]
  },
  {
   "cell_type": "code",
   "execution_count": null,
   "metadata": {
    "ExecuteTime": {
     "end_time": "2018-05-09T00:07:34.466502Z",
     "start_time": "2018-05-09T00:07:34.461371Z"
    }
   },
   "outputs": [],
   "source": [
    "%cd twitteranalysis\n",
    "\n",
    "from Servers.ClientSide import Client\n",
    "c = Client()\n",
    "\n",
    "# Each of the listening request handlers needs its queue flushed\n",
    "c.send_flush_command()\n",
    "\n",
    "#j = c.send_shutdown_command()"
   ]
  },
  {
   "cell_type": "code",
   "execution_count": null,
   "metadata": {
    "ExecuteTime": {
     "end_time": "2018-05-08T23:21:06.767064Z",
     "start_time": "2018-05-08T23:21:06.764920Z"
    }
   },
   "outputs": [],
   "source": [
    "j"
   ]
  },
  {
   "cell_type": "code",
   "execution_count": null,
   "metadata": {},
   "outputs": [],
   "source": []
  },
  {
   "cell_type": "markdown",
   "metadata": {},
   "source": [
    "# Merge the various sqlite files"
   ]
  },
  {
   "cell_type": "code",
   "execution_count": null,
   "metadata": {
    "ExecuteTime": {
     "end_time": "2018-04-24T22:55:32.950432Z",
     "start_time": "2018-04-24T22:55:32.901844Z"
    }
   },
   "outputs": [],
   "source": [
    "\n",
    "%cd twitteranalysis\n",
    "import environment\n",
    "import sqlite3\n",
    "\n",
    "mainDB = environment.MASTER_DB\n",
    "columnNames = \"word_index, sentence_index, word, user_id, tweet_id\"\n",
    "    \n",
    "otherDbNames = [ 'wordmapping%s.db' % (i) \n",
    "            for i in range( 0, environment.MAX_DB_FILES +1)]\n",
    "\n",
    "otherDBs = [ '%s/%s' % (environment.DB_FOLDER, name) \n",
    "            for name in otherDbNames]\n",
    "    \n",
    "for db in otherDbNames:\n",
    "    conn = sqlite3.connect( mainDB )  # Connect to the main database\n",
    "    curs = conn.cursor()  # Connect a cursor\n",
    "    \n",
    "    dbPath = '%s/%s' % (environment.DB_FOLDER, db)\n",
    "    curs.execute( \"ATTACH DATABASE ? as ? ;\", (dbPath, 'db') )\n",
    "\n",
    "    dbNameTableName = \"db.word_map_deux\"\n",
    "    tableName = 'word_map_deux'\n",
    "    curs.execute( \"INSERT INTO %s (%s) SELECT %s FROM %s;\" % (tableName, columnNames, columnNames, dbNameTableName) )\n",
    "    conn.commit()\n",
    "    curs.close()\n",
    "    conn.close()\n"
   ]
  },
  {
   "cell_type": "code",
   "execution_count": null,
   "metadata": {},
   "outputs": [],
   "source": []
  },
  {
   "cell_type": "markdown",
   "metadata": {
    "ExecuteTime": {
     "end_time": "2018-04-21T01:41:48.507100Z",
     "start_time": "2018-04-21T01:41:48.503056Z"
    }
   },
   "source": [
    "# Check data"
   ]
  },
  {
   "cell_type": "code",
   "execution_count": 1,
   "metadata": {
    "ExecuteTime": {
     "end_time": "2018-04-24T22:55:36.775801Z",
     "start_time": "2018-04-24T22:55:36.771158Z"
    }
   },
   "outputs": [
    {
     "name": "stdout",
     "output_type": "stream",
     "text": [
      "(bookmark:twitteranalysis) -> /Users/adam/Dropbox/PainNarrativesLab/TwitterDataAnalysis\n",
      "/Users/adam/Dropbox/PainNarrativesLab/TwitterDataAnalysis\n"
     ]
    }
   ],
   "source": [
    "%cd twitteranalysis\n",
    "import environment\n",
    "import sqlite3"
   ]
  },
  {
   "cell_type": "code",
   "execution_count": 2,
   "metadata": {},
   "outputs": [
    {
     "name": "stdout",
     "output_type": "stream",
     "text": [
      "should have 4020\n"
     ]
    }
   ],
   "source": [
    "actualUsers = 1328927\n",
    "numberProcessed = 4352\n",
    "numberEmpty = 332\n",
    "expectedUsers = numberProcessed - numberEmpty\n",
    "print('should have %s' % expectedUsers)"
   ]
  },
  {
   "cell_type": "code",
   "execution_count": 3,
   "metadata": {
    "ExecuteTime": {
     "end_time": "2018-04-24T22:55:37.416442Z",
     "start_time": "2018-04-24T22:55:37.392459Z"
    }
   },
   "outputs": [
    {
     "name": "stdout",
     "output_type": "stream",
     "text": [
      "3984 Unique user ids\n",
      "67500 rows in master.db\n"
     ]
    }
   ],
   "source": [
    "conn = sqlite3.connect(environment.MASTER_DB)\n",
    "r1 = conn.execute(\"select count( distinct user_id) from word_map_deux\")\n",
    "num_users = r1.fetchone()[0]\n",
    "print(\"%s Unique user ids\" % num_users)\n",
    "r2 = conn.execute(\"select count( word) from word_map_deux\")\n",
    "print(\"%s rows in master.db\" % r2.fetchone())\n",
    "conn.close()"
   ]
  },
  {
   "cell_type": "code",
   "execution_count": 4,
   "metadata": {},
   "outputs": [
    {
     "name": "stdout",
     "output_type": "stream",
     "text": [
      "36 users were not saved; this is 0.008272058823529412 pct of the total processed\n",
      "Projecting 10993 problem cases\n"
     ]
    }
   ],
   "source": [
    "missing = expectedUsers - num_users\n",
    "pct_problem = missing / numberProcessed\n",
    "expected_missing = round(actualUsers * pct_problem)\n",
    "\n",
    "print(\"%s users were not saved; this is %s pct of the total processed\" %( missing, pct_problem))\n",
    "print(\"Projecting %s problem cases\" % expected_missing)"
   ]
  },
  {
   "cell_type": "code",
   "execution_count": null,
   "metadata": {},
   "outputs": [],
   "source": []
  },
  {
   "cell_type": "markdown",
   "metadata": {},
   "source": [
    "NB: \n",
    "    - numberUsers processed = 4352\n",
    "    - users w empty descriptions = 332\n",
    "    - users non-english = 129\n",
    "    - expected users: 4020 (less empty)"
   ]
  },
  {
   "cell_type": "markdown",
   "metadata": {},
   "source": [
    "5/15 6.06\n",
    "    - master only \n",
    "    - 3984 unique ids based on master\n",
    "    - 67500 rows in master\n",
    "    - 36 missing\n",
    "    - 10993 projected problems\n",
    "    \n",
    "5/15 1.36\n",
    "    - lock added to sqlite writer\n",
    "    - 4085 unique ids based on files\n",
    "    - 3950 unique ids based on master\n",
    "    - 67002 rows in master and based on files\n",
    "\n",
    "\n",
    "5/15 11.12\n",
    "    - 4059 unique ids based on files\n",
    "    - 3923 unique ids based on master\n",
    "    - 66507 rows in master and based on files\n",
    "\n",
    "5/15 10.39\n",
    "    - 3653 unique ids based on files\n",
    "    - 3529 unique ids based on master\n",
    "    - 60060 rows in master and based on files\n",
    "    \n",
    "\n",
    "5/14 9.00\n",
    "    - 4014 unique ids based on files\n",
    "    - 2510 unique ids based on master\n",
    "    - 41973 rows in master and based on files\n",
    "\n",
    "\n",
    "Before changed to class method w separate call to flush\n",
    "    - 3591 Unique user ids\n",
    "    - 47952 rows in master.db\n",
    "\n",
    "After\n",
    "    - 4014 Unique user ids\n",
    "    - 67940 rows in master.db\n",
    "    \n",
    "\n"
   ]
  },
  {
   "cell_type": "markdown",
   "metadata": {},
   "source": [
    "# Figure out which users are missing"
   ]
  },
  {
   "cell_type": "code",
   "execution_count": 60,
   "metadata": {},
   "outputs": [
    {
     "name": "stdout",
     "output_type": "stream",
     "text": [
      "(bookmark:twitteranalysis) -> /Users/adam/Dropbox/PainNarrativesLab/TwitterDataAnalysis\n",
      "/Users/adam/Dropbox/PainNarrativesLab/TwitterDataAnalysis\n",
      "connection ready\n"
     ]
    }
   ],
   "source": [
    "%cd twitteranalysis\n",
    "import sqlite3\n",
    "import environment\n",
    "import DataTools.Cursors\n",
    "cursor = DataTools.Cursors.WindowedUserCursor( language='en' )\n"
   ]
  },
  {
   "cell_type": "code",
   "execution_count": 61,
   "metadata": {},
   "outputs": [
    {
     "name": "stdout",
     "output_type": "stream",
     "text": [
      "368\n"
     ]
    }
   ],
   "source": [
    "\n",
    "def find_missing_users():\n",
    "    \"\"\"Finds users which were not saved to master.db\"\"\"\n",
    "    missing = []\n",
    "    try:\n",
    "        conn = sqlite3.connect(environment.MASTER_DB)\n",
    "        curs = conn.cursor()  # Connect a cursor\n",
    "    \n",
    "        while True:\n",
    "            user = cursor.next()\n",
    "            q = \"select * from word_map_deux where user_id = %s\" % user.userID\n",
    "            r1 = curs.execute(q)\n",
    "            r = r1.fetchone()\n",
    "            if r is None:\n",
    "                missing.append(user.userID)\n",
    "    except StopIteration:\n",
    "        curs.close()\n",
    "        conn.close()\n",
    "        return missing\n",
    "\n",
    "missing = find_misssing_users()\n",
    "\n",
    "\n",
    "print(len(missing))"
   ]
  },
  {
   "cell_type": "code",
   "execution_count": 45,
   "metadata": {},
   "outputs": [],
   "source": [
    "import pandas as pd\n",
    "from DataTools.DataConnections import MySqlConnection, DAO\n",
    "conn = MySqlConnection(environment.CREDENTIAL_FILE)\n",
    "conn._make_engine()\n",
    "\n",
    "def get_description_for_id(userId):\n",
    "    \"\"\"Loads the description from master.db\n",
    "    Returns a tuple (userId, description)\n",
    "    \"\"\"\n",
    "    q = 'select description from users where userID = %s' % userId\n",
    "    v = pd.read_sql_query(q, conn.engine).iloc[0].values[0]\n",
    "    return (userId, v)"
   ]
  },
  {
   "cell_type": "code",
   "execution_count": null,
   "metadata": {},
   "outputs": [],
   "source": []
  },
  {
   "cell_type": "code",
   "execution_count": 46,
   "metadata": {},
   "outputs": [
    {
     "data": {
      "text/plain": [
       "368"
      ]
     },
     "execution_count": 46,
     "metadata": {},
     "output_type": "execute_result"
    }
   ],
   "source": [
    "descripts = []\n",
    "for userId in missing:\n",
    "#    q = 'select description from users where userID = %s' % userId\n",
    "#    v = pd.read_sql_query(q, conn.engine).iloc[0].values[0]\n",
    "    descripts.append(get_description_for_id(userId))\n",
    "len(descripts)"
   ]
  },
  {
   "cell_type": "code",
   "execution_count": 47,
   "metadata": {},
   "outputs": [
    {
     "name": "stdout",
     "output_type": "stream",
     "text": [
      "36 users had non-empty profiles but were not saved. These are 'substantive errors'\n"
     ]
    }
   ],
   "source": [
    "# figure out which users were not missing due to an empty profile\n",
    "substantive = [x for x in descripts if x[1] != '']\n",
    "substantive_ids = [x[0] for x in descripts if x[1] != '']\n",
    "print(\"%s users had non-empty profiles but were not saved. These are 'substantive errors'\" % len(substantive))"
   ]
  },
  {
   "cell_type": "code",
   "execution_count": null,
   "metadata": {},
   "outputs": [],
   "source": [
    "substantive"
   ]
  },
  {
   "cell_type": "markdown",
   "metadata": {},
   "source": []
  },
  {
   "cell_type": "code",
   "execution_count": null,
   "metadata": {},
   "outputs": [],
   "source": []
  },
  {
   "cell_type": "code",
   "execution_count": 48,
   "metadata": {},
   "outputs": [
    {
     "name": "stdout",
     "output_type": "stream",
     "text": [
      "4352 users processed; 3984 users received by server\n"
     ]
    }
   ],
   "source": [
    "names=['timestamp', 'userid', 'note']\n",
    "\n",
    "# when a user was enqued for processing on client \n",
    "f2 = \"%s/processing-enque.csv\" % environment.PROFILING_LOG_FOLDER_PATH\n",
    "proc = pd.read_csv(f2, header=None, names=names)\n",
    "# when a user was enqued for saving on the client\n",
    "f4 = \"%s/client-enque.csv\" % environment.PROFILING_LOG_FOLDER_PATH\n",
    "enq = pd.read_csv(f4, header=None, names=names)\n",
    "# when a user was sent to the server\n",
    "f3 = \"%s/client-send-w-count.csv\" % environment.PROFILING_LOG_FOLDER_PATH\n",
    "sent = pd.read_csv(f3, header=None, names=names)\n",
    "# when the server received each request\n",
    "f1 = '%s/server-received-userids.csv' % environment.PROFILING_LOG_FOLDER_PATH\n",
    "srv = pd.read_csv(f1, header=None, names=names)\n",
    "\n",
    "print(\"%s users processed; %s users received by server\" % (len(proc), len(set(srv.userid.tolist()))))"
   ]
  },
  {
   "cell_type": "markdown",
   "metadata": {},
   "source": [
    "# figure out where in the process the substantive errors happened\n",
    "\n",
    "## substantive errors which were enqued in processing"
   ]
  },
  {
   "cell_type": "code",
   "execution_count": 49,
   "metadata": {},
   "outputs": [
    {
     "name": "stdout",
     "output_type": "stream",
     "text": [
      "The following concerns the flow of users with substative errors through the system\n",
      "36 were enqueued for processing\n",
      "30 were enqueued on the client to be sent to the server\n",
      "0 were sent to the server\n",
      "0 were received by the server\n"
     ]
    }
   ],
   "source": [
    "\n",
    "p = proc[proc.userid.isin(substantive_ids)]\n",
    "# sub \n",
    "s = srv[srv.userid.isin(substantive_ids)]\n",
    "snt = sent[sent.userid.isin(substantive_ids)]\n",
    "ceq = enq[enq.userid.isin(substantive_ids)]\n",
    "\n",
    "processed_ids = set(p.userid.tolist())\n",
    "server_received_ids = set(s.userid.tolist())\n",
    "sent_ids = set(snt.userid.tolist())\n",
    "client_enq_ids = set(ceq.userid.tolist())\n",
    "\n",
    "print(\"The following concerns the flow of users with substative errors through the system\")\n",
    "print(\"%s were enqueued for processing\" % (len(processed_ids)))\n",
    "print(\"%s were enqueued on the client to be sent to the server\" % len(client_enq_ids))\n",
    "print(\"%s were sent to the server\" % len(sent_ids))\n",
    "print(\"%s were received by the server\" % len(server_received_ids))"
   ]
  },
  {
   "cell_type": "markdown",
   "metadata": {},
   "source": [
    "### Processed but not enqueued for saving"
   ]
  },
  {
   "cell_type": "code",
   "execution_count": 50,
   "metadata": {},
   "outputs": [
    {
     "data": {
      "text/plain": [
       "[452749712, 401742354, 168391959, 1268582460, 1170228427, 1732483676]"
      ]
     },
     "execution_count": 50,
     "metadata": {},
     "output_type": "execute_result"
    }
   ],
   "source": [
    "proc_not_enq = [p for p in processed_ids if p not in client_enq_ids]\n",
    "proc_not_enq"
   ]
  },
  {
   "cell_type": "code",
   "execution_count": 51,
   "metadata": {},
   "outputs": [
    {
     "data": {
      "text/plain": [
       "[(452749712, ':)'),\n",
       " (401742354, '✌'),\n",
       " (168391959, '**SKYHIGH**'),\n",
       " (1268582460, '☀♑ · ☾♑ · ☿♐ · ♀♒ · ♂♉ · ♃♌ · ♄♑ · ♅♑ · ♆♑ · ♇♏'),\n",
       " (1170228427, '|1104|•|0717|'),\n",
       " (1732483676, '[ ???¿¿¿???¿¿¿??? ]')]"
      ]
     },
     "execution_count": 51,
     "metadata": {},
     "output_type": "execute_result"
    }
   ],
   "source": [
    "[get_description_for_id(id) for id in proc_not_enq]"
   ]
  },
  {
   "cell_type": "code",
   "execution_count": null,
   "metadata": {},
   "outputs": [],
   "source": []
  },
  {
   "cell_type": "code",
   "execution_count": null,
   "metadata": {},
   "outputs": [],
   "source": []
  },
  {
   "cell_type": "markdown",
   "metadata": {},
   "source": [
    "### Enqueued on client but not sent"
   ]
  },
  {
   "cell_type": "code",
   "execution_count": 52,
   "metadata": {},
   "outputs": [
    {
     "data": {
      "text/plain": [
       "[1956700424.0,\n",
       " 1965229962.0,\n",
       " 1943096588.0,\n",
       " 2150423437.0,\n",
       " 2163358988.0,\n",
       " 1943901734.0,\n",
       " 2163604778.0,\n",
       " 1946121392.0,\n",
       " 1958085936.0,\n",
       " 2147790896.0,\n",
       " 2167298995.0,\n",
       " 2148304566.0,\n",
       " 2151409467.0,\n",
       " 2177120316.0,\n",
       " 1966904126.0,\n",
       " 1977458240.0,\n",
       " 1978158529.0,\n",
       " 2168963268.0,\n",
       " 1967229895.0,\n",
       " 1952156365.0,\n",
       " 1974223567.0,\n",
       " 1961129809.0,\n",
       " 1947484375.0,\n",
       " 2157188568.0,\n",
       " 1942653919.0,\n",
       " 2187999841.0,\n",
       " 2153422184.0,\n",
       " 2153945834.0,\n",
       " 2148022776.0,\n",
       " 1971054716.0]"
      ]
     },
     "execution_count": 52,
     "metadata": {},
     "output_type": "execute_result"
    }
   ],
   "source": [
    "not_sent = [p for p in client_enq_ids if p not in sent_ids ]\n",
    "not_sent"
   ]
  },
  {
   "cell_type": "code",
   "execution_count": 57,
   "metadata": {},
   "outputs": [
    {
     "data": {
      "text/plain": [
       "[(1956700424.0,\n",
       "  'Craft Art Vintage ETSY http://t.co/V9JErLBmfL ZIBBET http://t.co/48TdGeLaWf FB http://t.co/MxdHsCFCbf RMOUSE http://t.co/qmoS7OlKwq PINT http://t.co/ZKIxVmu7g4'),\n",
       " (1965229962.0,\n",
       "  'We are a state-of-the art center of excellence offering the highest standard of quality care with the most technologically advanced treatments.'),\n",
       " (1943096588.0,\n",
       "  'Lizzie. 19. In Love. My thoughts scare me. Follow if you dare.'),\n",
       " (2150423437.0,\n",
       "  'Age 23. Suffering in Seattle. A place to vent that isnt to your friends and family.'),\n",
       " (2163358988.0, 'Clinical case studies by clinicians'),\n",
       " (1943901734.0, 'RADIOFREQUENCE - QST-CHEPS-TENS-RECOVERY RX'),\n",
       " (2163604778.0, 'Clinical case study by clinicians'),\n",
       " (1946121392.0,\n",
       "  'In the fight of Pre-diabetes to prevent diabetes, survivor of dv, Fibro, Lover of #weather & #meteorology Nature Photographer,  Daughter, #Endosister, 3 Fall'),\n",
       " (1958085936.0,\n",
       "  'Physiotherapy, Exercise Rehabilitation, Corporate Health, Pilates'),\n",
       " (2147790896.0,\n",
       "  'Mountain Mom Adventures~ Life, love, family, photography, hunting, motorcycles, and food, not necessarily in that order. http://t.co/CuCjY3Hr2q'),\n",
       " (2167298995.0, 'More healthcare information from innovative clinicians!'),\n",
       " (2148304566.0,\n",
       "  'We Change Lives Here. We treat all of your pain conditions and explore any method to help you get your life back.'),\n",
       " (2151409467.0, '#humble #justblaze #spoonielove #lucky13'),\n",
       " (2177120316.0,\n",
       "  'Ehlers-Danlos Syndrome Canada.\\nEDS Canada provides knowledge, advocacy and support to individuals and their families living with Ehlers-Danlos Syndrome.'),\n",
       " (1966904126.0,\n",
       "  'Freelance writer/editor specializing in medical communications, health literacy and plain English writing.'),\n",
       " (1977458240.0,\n",
       "  'I have been diagnosed with fibromyalgia, ibs, hypothyroidism, and multiple food allergies. Working on getting a second opinion about the fibro diagnosis.'),\n",
       " (1978158529.0,\n",
       "  \"Irish Children's Arthritis Network. A parent-run network providing support & information and advocating for best care for those affected by Juvenile Arthritis\"),\n",
       " (2168963268.0,\n",
       "  'We are a full service pain management practice with integrated physical therapy at our locations. Your PAIN is our PRIORITY!'),\n",
       " (1967229895.0,\n",
       "  \"#Cannabis #Tweets! If you're against #Cannabis get the fuck off my profile!! #CannabisCure #FreeTheWeed #TheGiftFromGod #HailQueenMJ #LetsGetHigh\"),\n",
       " (1952156365.0,\n",
       "  'Getting adjusted to a brand new life with a less capable body.                         Hoping to find new ways to live life to the fullest.'),\n",
       " (1974223567.0,\n",
       "  'Motivational speaker.  Suicide survivor, with BPD, Fibromyalgia, Addiction, & PTSD. Helping others stay strong as they travel through hell. DM me anytime!'),\n",
       " (1961129809.0,\n",
       "  'Montvale Advanced Center for Special Surgery is an outpatient ambulatory surgery center.'),\n",
       " (1947484375.0,\n",
       "  'Richmond Pickering Ltd are publishers of the My Guide series of self-help, wellness and how-to books, helping people improve their lives in some way.'),\n",
       " (2157188568.0,\n",
       "  'On a mission to educate the medical profession on treating patients in pain. In my experience not many know how to treat people, let alone people in pain.'),\n",
       " (1942653919.0,\n",
       "  'Medical team, chiropractic team, physical therapy team.We work on spinal and joint conditions primarily the knee.'),\n",
       " (2187999841.0,\n",
       "  \"Recently diagnosed with Chronic Fatigue Syndrome and Chronic Pain, I'm trying to find a lifestyle that reduces the symptoms and makes life fulfilling.\"),\n",
       " (2153422184.0, 'no'),\n",
       " (2153945834.0,\n",
       "  'FGXPress PowerStrips are the first of their kind product that can be sold anywhere in the world. PowerStrips™ are a patented, doctor formulated and FDA approved'),\n",
       " (2148022776.0,\n",
       "  'livet er ingen dans på roser, men en kamp i en tornebusk. Skriver om livet som ung og syk'),\n",
       " (1971054716.0,\n",
       "  'Laid back! Turn up when i fell like it! Cool ass momma and G-ma going places soon ! Free DJ and Rock a.k.a Rakeem')]"
      ]
     },
     "execution_count": 57,
     "metadata": {},
     "output_type": "execute_result"
    }
   ],
   "source": [
    "[get_description_for_id(id) for id in not_sent]"
   ]
  },
  {
   "cell_type": "code",
   "execution_count": null,
   "metadata": {},
   "outputs": [],
   "source": []
  },
  {
   "cell_type": "code",
   "execution_count": null,
   "metadata": {},
   "outputs": [],
   "source": []
  },
  {
   "cell_type": "code",
   "execution_count": null,
   "metadata": {},
   "outputs": [],
   "source": []
  },
  {
   "cell_type": "markdown",
   "metadata": {},
   "source": [
    "### Are these the same users each time?"
   ]
  },
  {
   "cell_type": "code",
   "execution_count": 54,
   "metadata": {},
   "outputs": [],
   "source": [
    "prev_run = [1956700424.0, 1965229962.0,\n",
    " 1943096588.0,\n",
    " 2150423437.0,\n",
    " 2163358988.0,\n",
    " 1943901734.0,\n",
    " 2163604778.0,\n",
    " 1946121392.0,\n",
    " 1958085936.0,\n",
    " 2147790896.0,\n",
    " 2167298995.0,\n",
    " 2148304566.0,\n",
    " 2151409467.0,\n",
    " 2177120316.0,\n",
    " 1966904126.0,\n",
    " 1977458240.0,\n",
    " 1978158529.0,\n",
    " 2168963268.0,\n",
    " 1967229895.0,\n",
    " 1952156365.0,\n",
    " 1974223567.0,\n",
    " 1961129809.0,\n",
    " 1947484375.0,\n",
    " 2157188568.0,\n",
    " 1942653919.0,\n",
    " 2187999841.0,\n",
    " 2153422184.0,\n",
    " 2153945834.0,\n",
    " 2148022776.0,\n",
    " 1971054716.0]"
   ]
  },
  {
   "cell_type": "code",
   "execution_count": 56,
   "metadata": {},
   "outputs": [
    {
     "data": {
      "text/plain": [
       "[1956700424.0,\n",
       " 1965229962.0,\n",
       " 1943096588.0,\n",
       " 2150423437.0,\n",
       " 2163358988.0,\n",
       " 1943901734.0,\n",
       " 2163604778.0,\n",
       " 1946121392.0,\n",
       " 1958085936.0,\n",
       " 2147790896.0,\n",
       " 2167298995.0,\n",
       " 2148304566.0,\n",
       " 2151409467.0,\n",
       " 2177120316.0,\n",
       " 1966904126.0,\n",
       " 1977458240.0,\n",
       " 1978158529.0,\n",
       " 2168963268.0,\n",
       " 1967229895.0,\n",
       " 1952156365.0,\n",
       " 1974223567.0,\n",
       " 1961129809.0,\n",
       " 1947484375.0,\n",
       " 2157188568.0,\n",
       " 1942653919.0,\n",
       " 2187999841.0,\n",
       " 2153422184.0,\n",
       " 2153945834.0,\n",
       " 2148022776.0,\n",
       " 1971054716.0]"
      ]
     },
     "execution_count": 56,
     "metadata": {},
     "output_type": "execute_result"
    }
   ],
   "source": [
    "[x for x in not_sent if x in prev_run]"
   ]
  },
  {
   "cell_type": "code",
   "execution_count": null,
   "metadata": {},
   "outputs": [],
   "source": []
  },
  {
   "cell_type": "code",
   "execution_count": null,
   "metadata": {},
   "outputs": [],
   "source": []
  },
  {
   "cell_type": "code",
   "execution_count": 23,
   "metadata": {},
   "outputs": [
    {
     "data": {
      "text/plain": [
       "0"
      ]
     },
     "execution_count": 23,
     "metadata": {},
     "output_type": "execute_result"
    }
   ],
   "source": [
    "processed_and_received_sub_errors = processed_ids.intersection(server_received_ids)\n",
    "len(processed_and_received_sub_errors)"
   ]
  },
  {
   "cell_type": "code",
   "execution_count": null,
   "metadata": {},
   "outputs": [],
   "source": [
    "# these were processed by client and received by server\n",
    "# but were not recorded\n",
    "j = [x for x in substantive if x[0] in processed_and_received_sub_errors]\n",
    "j"
   ]
  },
  {
   "cell_type": "code",
   "execution_count": null,
   "metadata": {},
   "outputs": [],
   "source": []
  },
  {
   "cell_type": "code",
   "execution_count": null,
   "metadata": {},
   "outputs": [],
   "source": []
  },
  {
   "cell_type": "code",
   "execution_count": null,
   "metadata": {},
   "outputs": [],
   "source": []
  },
  {
   "cell_type": "markdown",
   "metadata": {},
   "source": [
    "EXCLUSIVE\n",
    "    - 30 seconds\n",
    "    - no server side queue induced errors\n",
    "\n",
    "IMMEDIATE\n",
    "    - 30 seconds\n",
    "    - no server side queue induced errors\n",
    "\n",
    "DEFERRED\n",
    "    - 30 seconds\n",
    "    - no server side queue induced errors\n",
    "\n",
    "Default (bare BEGIN)\n",
    "    - 29 seconds\n",
    "    - 60 server side errors\n",
    "\n",
    "\n",
    "\n",
    "Autocommit\n",
    "    - Long\n",
    "    - 258 server side errors"
   ]
  },
  {
   "cell_type": "code",
   "execution_count": null,
   "metadata": {},
   "outputs": [],
   "source": []
  },
  {
   "cell_type": "code",
   "execution_count": null,
   "metadata": {},
   "outputs": [],
   "source": []
  },
  {
   "cell_type": "code",
   "execution_count": 24,
   "metadata": {},
   "outputs": [
    {
     "data": {
      "text/plain": [
       "0"
      ]
     },
     "execution_count": 24,
     "metadata": {},
     "output_type": "execute_result"
    }
   ],
   "source": [
    "len(sent_ids)"
   ]
  },
  {
   "cell_type": "code",
   "execution_count": 32,
   "metadata": {},
   "outputs": [
    {
     "data": {
      "text/plain": [
       "{1942653919.0,\n",
       " 1943096588.0,\n",
       " 1943901734.0,\n",
       " 1946121392.0,\n",
       " 1947484375.0,\n",
       " 1952156365.0,\n",
       " 1956700424.0,\n",
       " 1958085936.0,\n",
       " 1961129809.0,\n",
       " 1965229962.0,\n",
       " 1966904126.0,\n",
       " 1967229895.0,\n",
       " 1971054716.0,\n",
       " 1974223567.0,\n",
       " 1977458240.0,\n",
       " 1978158529.0,\n",
       " 2147790896.0,\n",
       " 2148022776.0,\n",
       " 2148304566.0,\n",
       " 2150423437.0,\n",
       " 2151409467.0,\n",
       " 2153422184.0,\n",
       " 2153945834.0,\n",
       " 2157188568.0,\n",
       " 2163358988.0,\n",
       " 2163604778.0,\n",
       " 2167298995.0,\n",
       " 2168963268.0,\n",
       " 2177120316.0,\n",
       " 2187999841.0}"
      ]
     },
     "execution_count": 32,
     "metadata": {},
     "output_type": "execute_result"
    }
   ],
   "source": [
    "client_enq_ids"
   ]
  },
  {
   "cell_type": "code",
   "execution_count": null,
   "metadata": {},
   "outputs": [],
   "source": []
  },
  {
   "cell_type": "code",
   "execution_count": null,
   "metadata": {},
   "outputs": [],
   "source": []
  },
  {
   "cell_type": "code",
   "execution_count": null,
   "metadata": {},
   "outputs": [],
   "source": []
  },
  {
   "cell_type": "code",
   "execution_count": null,
   "metadata": {},
   "outputs": [],
   "source": []
  },
  {
   "cell_type": "code",
   "execution_count": null,
   "metadata": {},
   "outputs": [],
   "source": []
  },
  {
   "cell_type": "code",
   "execution_count": null,
   "metadata": {},
   "outputs": [],
   "source": []
  },
  {
   "cell_type": "code",
   "execution_count": null,
   "metadata": {},
   "outputs": [],
   "source": [
    "def c(row):\n",
    "    return p.i[row.index + 1].timestamp - row.timestamp\n",
    "j = p.apply(lambda x: c(x))"
   ]
  },
  {
   "cell_type": "code",
   "execution_count": null,
   "metadata": {},
   "outputs": [],
   "source": [
    "p"
   ]
  },
  {
   "cell_type": "code",
   "execution_count": null,
   "metadata": {},
   "outputs": [],
   "source": []
  },
  {
   "cell_type": "code",
   "execution_count": null,
   "metadata": {},
   "outputs": [],
   "source": []
  },
  {
   "cell_type": "code",
   "execution_count": null,
   "metadata": {},
   "outputs": [],
   "source": []
  },
  {
   "cell_type": "markdown",
   "metadata": {},
   "source": [
    "uids = []\n",
    "rows = []\n",
    "print(\"Unique user ids; rows\")\n",
    "for db in otherDbNames:\n",
    "    dbPath = '%s/%s' % (environment.DB_FOLDER, db)\n",
    "    conn = sqlite3.connect( dbPath )  # Connect to the main database\n",
    "    curs = conn.cursor()  # Connect a cursor\n",
    "    r1 = conn.execute(\"select count( distinct user_id) from word_map_deux\")\n",
    "    v =  r1.fetchone()\n",
    "    uids.append(v[0])\n",
    "    r2 = conn.execute(\"select count( word) from word_map_deux\")\n",
    "    v2 =  r2.fetchone()\n",
    "    rows.append(v2[0])\n",
    "\n",
    "    print(\"%s : %s; %s \" % (db, v[0], v2[0]))\n",
    "    conn.close()\n"
   ]
  },
  {
   "cell_type": "code",
   "execution_count": null,
   "metadata": {},
   "outputs": [],
   "source": []
  },
  {
   "cell_type": "code",
   "execution_count": null,
   "metadata": {
    "ExecuteTime": {
     "end_time": "2018-04-24T00:20:00.291092Z",
     "start_time": "2018-04-24T00:20:00.279946Z"
    }
   },
   "outputs": [],
   "source": [
    "conn = sqlite3.connect(environment.MASTER_DB)\n",
    "r1 = conn.execute(\"select user_id, count(word) from word_map_deux group by user_id \")\n",
    "print( r1.fetchone())\n",
    "conn.close()"
   ]
  },
  {
   "cell_type": "code",
   "execution_count": null,
   "metadata": {
    "ExecuteTime": {
     "end_time": "2018-04-24T01:37:28.570035Z",
     "start_time": "2018-04-24T01:37:28.484182Z"
    }
   },
   "outputs": [],
   "source": [
    "conn = sqlite3.connect(environment.MASTER_DB)\n",
    "curs = conn.cursor()  # Connect a cursor\n",
    "    \n",
    "r1 = curs.execute(\"select * from word_map_deux where user_id = 7729642\")\n",
    "# for i in range(0, 100):\n",
    "print( r1.fetchone())\n",
    "\n",
    "curs.close()"
   ]
  },
  {
   "cell_type": "code",
   "execution_count": null,
   "metadata": {},
   "outputs": [],
   "source": []
  },
  {
   "cell_type": "markdown",
   "metadata": {},
   "source": [
    "# Explore data"
   ]
  },
  {
   "cell_type": "code",
   "execution_count": null,
   "metadata": {},
   "outputs": [],
   "source": []
  },
  {
   "cell_type": "code",
   "execution_count": null,
   "metadata": {
    "ExecuteTime": {
     "end_time": "2018-04-24T00:20:00.326107Z",
     "start_time": "2018-04-24T00:20:00.321031Z"
    }
   },
   "outputs": [],
   "source": [
    "def master_row_generator():\n",
    "    conn = sqlite3.connect(environment.MASTER_DB)\n",
    "    r = conn.execute(\"select * from word_map_deux\")\n",
    "    while True:\n",
    "        yield r.fetchone()\n",
    "\n",
    "def db_row_generator(filepath):\n",
    "    conn = sqlite3.connect(filepath)\n",
    "    r = conn.execute(\"select * from word_map_deux\")\n",
    "    while True:\n",
    "        yield r.fetchone()\n"
   ]
  },
  {
   "cell_type": "code",
   "execution_count": null,
   "metadata": {
    "ExecuteTime": {
     "end_time": "2018-04-24T00:20:00.333839Z",
     "start_time": "2018-04-24T00:20:00.329695Z"
    }
   },
   "outputs": [],
   "source": [
    "gen = master_row_generator()"
   ]
  },
  {
   "cell_type": "code",
   "execution_count": null,
   "metadata": {
    "ExecuteTime": {
     "end_time": "2018-04-24T00:20:00.371382Z",
     "start_time": "2018-04-24T00:20:00.337634Z"
    }
   },
   "outputs": [],
   "source": [
    "for i in range(0, 220):\n",
    "    print(next(gen))"
   ]
  },
  {
   "cell_type": "code",
   "execution_count": null,
   "metadata": {
    "ExecuteTime": {
     "end_time": "2018-04-24T00:20:00.395516Z",
     "start_time": "2018-04-24T00:20:00.374929Z"
    }
   },
   "outputs": [],
   "source": [
    "f = '/Users/adam/Desktop/TwitterDataAnalysisLogs/dbs/wordmapping1.db'\n",
    "dgen = db_row_generator(f)\n",
    "for i in range(0, 220):\n",
    "    print(next(dgen))"
   ]
  },
  {
   "cell_type": "code",
   "execution_count": null,
   "metadata": {
    "ExecuteTime": {
     "end_time": "2018-04-24T00:20:00.404343Z",
     "start_time": "2018-04-24T00:20:00.398351Z"
    }
   },
   "outputs": [],
   "source": [
    "f = '/Users/adam/Desktop/TwitterDataAnalysisLogs/dbs/wordmapping1.db'\n",
    "conn = sqlite3.connect(f)\n",
    "r = conn.execute(\"select * from word_map_deux\")\n",
    "for i in range(0, 5):\n",
    "    print(r.fetchone())\n"
   ]
  },
  {
   "cell_type": "code",
   "execution_count": null,
   "metadata": {},
   "outputs": [],
   "source": []
  },
  {
   "cell_type": "code",
   "execution_count": null,
   "metadata": {
    "ExecuteTime": {
     "end_time": "2018-04-24T00:20:00.414091Z",
     "start_time": "2018-04-24T00:20:00.407584Z"
    }
   },
   "outputs": [],
   "source": [
    "f = '/Users/adam/Desktop/TwitterDataAnalysisLogs/dbs/wordmapping9.db'\n",
    "conn = sqlite3.connect(f)\n",
    "r = conn.execute(\"select * from word_map_deux\")\n",
    "for i in range(0, 5):\n",
    "    print(r.fetchone())\n"
   ]
  },
  {
   "cell_type": "code",
   "execution_count": null,
   "metadata": {},
   "outputs": [],
   "source": []
  },
  {
   "cell_type": "code",
   "execution_count": null,
   "metadata": {
    "ExecuteTime": {
     "end_time": "2018-04-24T00:20:00.426822Z",
     "start_time": "2018-04-24T00:20:00.418015Z"
    }
   },
   "outputs": [],
   "source": [
    "\n",
    "f = '/Users/adam/Desktop/TwitterDataAnalysisLogs/master.db'\n",
    "conn = sqlite3.connect(f)\n",
    "r = conn.execute(\"select count(word) from word_map_deux\")\n",
    "print(r.fetchone())\n",
    "conn.close()"
   ]
  },
  {
   "cell_type": "code",
   "execution_count": null,
   "metadata": {},
   "outputs": [],
   "source": []
  },
  {
   "cell_type": "markdown",
   "metadata": {
    "ExecuteTime": {
     "end_time": "2018-04-23T23:03:33.679725Z",
     "start_time": "2018-04-23T23:03:33.676906Z"
    }
   },
   "source": [
    "# Timing"
   ]
  },
  {
   "cell_type": "code",
   "execution_count": null,
   "metadata": {
    "ExecuteTime": {
     "end_time": "2018-04-24T00:20:00.442251Z",
     "start_time": "2018-04-24T00:20:00.431269Z"
    }
   },
   "outputs": [],
   "source": [
    "%cd twitteranalysis\n",
    "\n",
    "from functools import wraps\n",
    "import time\n",
    "\n",
    "from Loggers.CsvLoggers import log_query, log_query_timestamp\n",
    "import environment\n",
    "\n",
    "\n",
    "def time_and_log(fn):\n",
    "    \"\"\"\n",
    "    Decorator to time operation of method\n",
    "    From High Performance Python, p.27\n",
    "    \"\"\"\n",
    "    @wraps(fn)\n",
    "    def measure_time(*args, **kwargs):\n",
    "        t1 = time.time()\n",
    "        result = fn(*args, **kwargs)\n",
    "        t2 = time.time()\n",
    "        t2 = time.time()\n",
    "        elapsed = t2 - t1\n",
    "        log_query( elapsed )\n",
    "        log_query_timestamp()\n",
    "#         print((\"@timefn:%s took %s seconds\" % (fn.__name__, elapsed)))\n",
    "        return result\n",
    "    return measure_time\n"
   ]
  },
  {
   "cell_type": "code",
   "execution_count": null,
   "metadata": {
    "ExecuteTime": {
     "end_time": "2018-04-24T00:20:00.450150Z",
     "start_time": "2018-04-24T00:20:00.446521Z"
    }
   },
   "outputs": [],
   "source": [
    "\n",
    "@time_and_log\n",
    "def test():\n",
    "    time.sleep(2)\n",
    "    print('done')\n",
    "    "
   ]
  },
  {
   "cell_type": "code",
   "execution_count": null,
   "metadata": {
    "ExecuteTime": {
     "end_time": "2018-04-24T00:20:02.464949Z",
     "start_time": "2018-04-24T00:20:00.454176Z"
    }
   },
   "outputs": [],
   "source": [
    "test()"
   ]
  },
  {
   "cell_type": "code",
   "execution_count": null,
   "metadata": {},
   "outputs": [],
   "source": []
  }
 ],
 "metadata": {
  "celltoolbar": "Raw Cell Format",
  "kernelspec": {
   "display_name": "Python 3",
   "language": "python",
   "name": "python3"
  },
  "language_info": {
   "codemirror_mode": {
    "name": "ipython",
    "version": 3
   },
   "file_extension": ".py",
   "mimetype": "text/x-python",
   "name": "python",
   "nbconvert_exporter": "python",
   "pygments_lexer": "ipython3",
   "version": "3.6.4"
  },
  "toc": {
   "colors": {
    "hover_highlight": "#DAA520",
    "navigate_num": "#000000",
    "navigate_text": "#333333",
    "running_highlight": "#FF0000",
    "selected_highlight": "#FFD700",
    "sidebar_border": "#EEEEEE",
    "wrapper_background": "#FFFFFF"
   },
   "moveMenuLeft": true,
   "nav_menu": {
    "height": "12px",
    "width": "252px"
   },
   "navigate_menu": true,
   "number_sections": true,
   "sideBar": true,
   "threshold": 4,
   "toc_cell": false,
   "toc_section_display": "block",
   "toc_window_display": false,
   "widenNotebook": false
  }
 },
 "nbformat": 4,
 "nbformat_minor": 2
}
