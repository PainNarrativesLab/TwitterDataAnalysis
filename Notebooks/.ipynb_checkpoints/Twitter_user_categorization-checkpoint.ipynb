{
 "cells": [
  {
   "cell_type": "code",
   "execution_count": null,
   "metadata": {
    "ExecuteTime": {
     "end_time": "2017-07-06T02:41:20.113728Z",
     "start_time": "2017-07-06T02:41:20.111448Z"
    }
   },
   "outputs": [],
   "source": [
    "#### This notebook is dedicated to determining which users are pain patients"
   ]
  },
  {
   "cell_type": "markdown",
   "metadata": {},
   "source": [
    "\n",
    "### ToDo\n",
    "\n",
    "* Isolate people who have only texted about migraine vs. crps (etc). Look for systematic differences\n",
    "* Do analysis on all words in texts\n",
    "* Try doing the analysis on twitter users rather than tweets\n",
    "* Combine terms like 'fibro' and 'fibromyalgia'\n",
    "* Store lists of things to ignore/combine/categorize etc in spreadsheet and import?\n",
    "\n",
    "### Notes\n",
    "SQL query for counting tweets in which hashtag used:\n",
    "SELECT h.hashtag, count(t.tweetID) AS totTweets FROM hashtags h INNER JOIN tweetsXtags t ON h.tagID = t.tagID GROUP BY hashtag ORDER BY totTweets DESC ;\n",
    "\n",
    "#### This cell was imported from twitter_data_analysis 11/9/16\n",
    "That was not the last time this notebook was updated "
   ]
  },
  {
   "cell_type": "markdown",
   "metadata": {},
   "source": [
    "# Setup\n",
    "## Base imports"
   ]
  },
  {
   "cell_type": "code",
   "execution_count": null,
   "metadata": {
    "ExecuteTime": {
     "end_time": "2018-03-27T22:29:23.147616Z",
     "start_time": "2018-03-27T22:29:21.543982Z"
    }
   },
   "outputs": [],
   "source": [
    "#standard lib\n",
    "import os\n",
    "import string\n",
    "\n",
    "#other people's property\n",
    "import nltk\n",
    "from nltk.tokenize import word_tokenize, sent_tokenize\n",
    "import pandas as pd\n",
    "from pandas import DataFrame, Series\n",
    "import sqlalchemy\n",
    "\n",
    "#Plotting \n",
    "%matplotlib inline\n",
    "from matplotlib import pyplot as plt\n",
    "import seaborn as sns\n",
    "sns.set(style=\"whitegrid\")"
   ]
  },
  {
   "cell_type": "code",
   "execution_count": null,
   "metadata": {
    "ExecuteTime": {
     "end_time": "2018-03-27T22:29:23.156930Z",
     "start_time": "2018-03-27T22:29:23.150049Z"
    },
    "run_control": {
     "marked": true
    }
   },
   "outputs": [],
   "source": [
    "#Base Classes stuff\n",
    "from FileSystemTools import *\n",
    "from UtilityDecorators import *\n",
    "from UtilityFunctions import *\n",
    "\n",
    "\n",
    "BASE = getSystemRoot()\n",
    "USER_PROFILE_TERM_FREQ_FILEPATH = '%s/Desktop/TEMPORARY/user-profile-word-counts.csv' % BASE\n",
    "MIN_100_NO_STOPS = '/Users/adam/Desktop/TEMPORARY/user-profile-word-counts-min-100-ex-stops.csv'\n",
    "MAP_PICKLE_PATH = '%s/Desktop/TEMPORARY/user-id-map' % BASE"
   ]
  },
  {
   "cell_type": "code",
   "execution_count": null,
   "metadata": {
    "ExecuteTime": {
     "end_time": "2018-03-27T22:29:24.494625Z",
     "start_time": "2018-03-27T22:29:24.491302Z"
    }
   },
   "outputs": [],
   "source": [
    "# Global variables\n",
    "\n",
    "# The minimum frequency above which to\n",
    "# exclude terms\n",
    "MIN_FREQ = 100"
   ]
  },
  {
   "cell_type": "markdown",
   "metadata": {},
   "source": [
    "## Create cursor for user data"
   ]
  },
  {
   "cell_type": "code",
   "execution_count": null,
   "metadata": {
    "ExecuteTime": {
     "end_time": "2018-03-27T22:29:28.141530Z",
     "start_time": "2018-03-27T22:29:27.928586Z"
    }
   },
   "outputs": [],
   "source": [
    "%cd twitteranalysis\n",
    "# %run -i DataTools/Cursors\n",
    "from DataTools.Cursors import UserCursor\n",
    "u = UserCursor(language='en')"
   ]
  },
  {
   "cell_type": "code",
   "execution_count": null,
   "metadata": {
    "ExecuteTime": {
     "end_time": "2018-03-27T17:55:28.295091Z",
     "start_time": "2018-03-27T17:54:08.184085Z"
    }
   },
   "outputs": [],
   "source": [
    "j = u.next()"
   ]
  },
  {
   "cell_type": "code",
   "execution_count": null,
   "metadata": {
    "ExecuteTime": {
     "end_time": "2018-03-27T17:53:51.927283Z",
     "start_time": "2018-03-27T17:53:37.044Z"
    }
   },
   "outputs": [],
   "source": [
    "j"
   ]
  },
  {
   "cell_type": "markdown",
   "metadata": {
    "ExecuteTime": {
     "end_time": "2018-02-17T03:35:06.922547Z",
     "start_time": "2018-02-17T03:35:06.919557Z"
    }
   },
   "source": [
    "# Word counts in user descriptions"
   ]
  },
  {
   "cell_type": "code",
   "execution_count": null,
   "metadata": {
    "ExecuteTime": {
     "end_time": "2018-03-27T01:58:11.544664Z",
     "start_time": "2018-03-27T01:58:11.525707Z"
    }
   },
   "outputs": [],
   "source": [
    "%cd texttools\n",
    "from TextProcessors.Filters import *\n",
    "from TextProcessors.Modifiers import *\n",
    "from TextProcessors.Processors import *\n",
    "\n",
    "filters = [\n",
    "     UsernameFilter(),\n",
    "    PunctuationFilter(),\n",
    "    URLFilter(),\n",
    "    NumeralFilter()\n",
    "]\n",
    "\n",
    "modifiers = [\n",
    "    WierdBPrefixConverter(), \n",
    "    CaseConverter( ) \n",
    "]"
   ]
  },
  {
   "cell_type": "code",
   "execution_count": null,
   "metadata": {
    "ExecuteTime": {
     "end_time": "2018-03-27T22:29:05.477352Z",
     "start_time": "2018-03-27T22:29:05.455326Z"
    }
   },
   "outputs": [],
   "source": [
    "%cd texttools\n",
    "%run -i StatisticalTools/Counters\n",
    "counter = WordCounter()\n",
    "counter.add_filters(filters)\n",
    "counter.add_modifiers(modifiers)"
   ]
  },
  {
   "cell_type": "code",
   "execution_count": null,
   "metadata": {
    "ExecuteTime": {
     "end_time": "2018-03-23T23:08:15.824113Z",
     "start_time": "2018-03-23T23:08:15.820202Z"
    }
   },
   "outputs": [],
   "source": []
  },
  {
   "cell_type": "markdown",
   "metadata": {},
   "source": [
    "# Integrating with older tools"
   ]
  },
  {
   "cell_type": "code",
   "execution_count": null,
   "metadata": {
    "ExecuteTime": {
     "end_time": "2018-03-27T02:57:18.191694Z",
     "start_time": "2018-03-27T02:57:18.161064Z"
    }
   },
   "outputs": [],
   "source": [
    "# Statistical tools approach is better, but\n",
    "# older version separates work better...\n",
    "\n",
    "%cd twitteranalysis\n",
    "%run -i ProcessingTools/QueueTools.py\n",
    "%run -i ProcessingTools/ProcessingControllers.py\n",
    "%run -i ProcessingTools/Listeners.py\n",
    "\n",
    "# First set up the object which will handle applying\n",
    "# filters and modifiers to each word\n",
    "word_processor = SingleWordProcessor()\n",
    "word_processor.add_filters(filters)\n",
    "word_processor.add_modifiers(modifiers)\n",
    "\n",
    "# Set up the machinery for saving the \n",
    "# processed results\n",
    "queueHandler = SaveQueueHandler()\n",
    "listener = SaveListener()\n",
    "queueHandler.register_listener(listener)\n",
    "\n",
    "# Finally create the command and control\n",
    "control = UserProcessingController(queueHandler)\n",
    "control.load_word_processor(word_processor)"
   ]
  },
  {
   "cell_type": "code",
   "execution_count": 24,
   "metadata": {
    "ExecuteTime": {
     "end_time": "2018-03-27T23:05:35.929802Z",
     "start_time": "2018-03-27T23:05:35.920207Z"
    }
   },
   "outputs": [
    {
     "name": "stdout",
     "output_type": "stream",
     "text": [
      "(bookmark:twitteranalysis) -> /Users/adam/Dropbox/PainNarrativesLab/TwitterDataAnalysis\n",
      "/Users/adam/Dropbox/PainNarrativesLab/TwitterDataAnalysis\n"
     ]
    }
   ],
   "source": [
    "%cd twitteranalysis\n",
    "\n",
    "# Make a fake user\n",
    "%run -i TestingTools/Factories.py\n",
    "%run -i TestingTools/DummyCursors.py\n",
    "dummyCursor =DummyUserCursor()\n",
    "# user = UserFactory()"
   ]
  },
  {
   "cell_type": "code",
   "execution_count": 25,
   "metadata": {
    "ExecuteTime": {
     "end_time": "2018-03-27T23:05:36.483513Z",
     "start_time": "2018-03-27T23:05:36.480558Z"
    }
   },
   "outputs": [],
   "source": []
  },
  {
   "cell_type": "code",
   "execution_count": 27,
   "metadata": {
    "ExecuteTime": {
     "end_time": "2018-03-27T23:05:39.771956Z",
     "start_time": "2018-03-27T23:05:39.749297Z"
    }
   },
   "outputs": [
    {
     "data": {
      "text/plain": [
       "'Staff future great position catch deep call. Leg itself professional front memory long. Call financial behavior song site.'"
      ]
     },
     "execution_count": 27,
     "metadata": {},
     "output_type": "execute_result"
    }
   ],
   "source": [
    "u = dummyCursor.next()\n",
    "u.description"
   ]
  },
  {
   "cell_type": "code",
   "execution_count": null,
   "metadata": {},
   "outputs": [],
   "source": [
    "import asyncio\n",
    "\n",
    "\n",
    "async def foo():\n",
    "    print('Running in foo')\n",
    "    await asyncio.sleep(0)\n",
    "    print('Explicit context switch to foo again')\n",
    "\n",
    "\n",
    "async def bar():\n",
    "    print('Explicit context to bar')\n",
    "    await asyncio.sleep(0)\n",
    "    print('Implicit context switch back to bar')\n",
    "\n",
    "\n",
    "ioloop = asyncio.get_event_loop()\n",
    "tasks = [ioloop.create_task(foo()), ioloop.create_task(bar())]\n",
    "wait_tasks = asyncio.wait(tasks)\n",
    "ioloop.run_until_complete(wait_tasks)\n",
    "ioloop.close()"
   ]
  },
  {
   "cell_type": "code",
   "execution_count": null,
   "metadata": {},
   "outputs": [],
   "source": []
  },
  {
   "cell_type": "code",
   "execution_count": null,
   "metadata": {},
   "outputs": [],
   "source": []
  },
  {
   "cell_type": "code",
   "execution_count": null,
   "metadata": {},
   "outputs": [],
   "source": [
    "Us"
   ]
  },
  {
   "cell_type": "code",
   "execution_count": null,
   "metadata": {
    "ExecuteTime": {
     "end_time": "2018-03-27T02:35:27.428666Z",
     "start_time": "2018-03-27T02:35:27.422813Z"
    }
   },
   "outputs": [],
   "source": [
    "user = u.next()\n",
    "user.description"
   ]
  },
  {
   "cell_type": "code",
   "execution_count": null,
   "metadata": {
    "ExecuteTime": {
     "end_time": "2018-03-27T02:57:24.335956Z",
     "start_time": "2018-03-27T02:57:24.279086Z"
    }
   },
   "outputs": [],
   "source": [
    "control.process(user)"
   ]
  },
  {
   "cell_type": "code",
   "execution_count": null,
   "metadata": {
    "ExecuteTime": {
     "end_time": "2018-03-27T02:57:26.161427Z",
     "start_time": "2018-03-27T02:57:26.156815Z"
    }
   },
   "outputs": [],
   "source": [
    "queueHandler.queue.queue"
   ]
  },
  {
   "cell_type": "code",
   "execution_count": null,
   "metadata": {},
   "outputs": [],
   "source": []
  },
  {
   "cell_type": "code",
   "execution_count": null,
   "metadata": {
    "ExecuteTime": {
     "end_time": "2018-03-27T02:36:10.453816Z",
     "start_time": "2018-03-27T02:36:08.717445Z"
    }
   },
   "outputs": [],
   "source": [
    "# This model works faster\n",
    "us = []\n",
    "for i in range(0, 20):\n",
    "    us.append(u.next())\n",
    "\n",
    "[ control.process(u) for u in us]"
   ]
  },
  {
   "cell_type": "code",
   "execution_count": null,
   "metadata": {},
   "outputs": [],
   "source": [
    "# Next task: getting the queueHandler to do its job\n",
    "# and save to sql"
   ]
  },
  {
   "cell_type": "code",
   "execution_count": null,
   "metadata": {},
   "outputs": [],
   "source": []
  },
  {
   "cell_type": "code",
   "execution_count": null,
   "metadata": {},
   "outputs": [],
   "source": []
  },
  {
   "cell_type": "code",
   "execution_count": null,
   "metadata": {
    "ExecuteTime": {
     "end_time": "2018-03-23T23:16:32.928246Z",
     "start_time": "2018-03-23T23:16:32.911525Z"
    }
   },
   "outputs": [],
   "source": []
  },
  {
   "cell_type": "markdown",
   "metadata": {},
   "source": [
    "### Process the user descriptions for word counts"
   ]
  },
  {
   "cell_type": "code",
   "execution_count": null,
   "metadata": {
    "ExecuteTime": {
     "end_time": "2018-03-23T23:12:09.602866Z",
     "start_time": "2018-03-23T23:10:48.395709Z"
    }
   },
   "outputs": [],
   "source": [
    "# Don't know why but this is incredibly slow\n",
    "# restricted number of users for testing\n",
    "# max_users = 2\n",
    "\n",
    "# for i in range(0, max_users):\n",
    "#     user = u.next()\n",
    "#     upc.process(user)\n",
    "# #     counter.process(user.description)\n"
   ]
  },
  {
   "cell_type": "code",
   "execution_count": null,
   "metadata": {
    "ExecuteTime": {
     "end_time": "2018-03-23T23:16:44.834468Z",
     "start_time": "2018-03-23T23:16:44.826890Z"
    }
   },
   "outputs": [],
   "source": [
    "sq.queue.queue"
   ]
  },
  {
   "cell_type": "code",
   "execution_count": null,
   "metadata": {
    "ExecuteTime": {
     "end_time": "2018-03-10T06:41:46.749010Z",
     "start_time": "2018-03-10T06:35:15.290238Z"
    },
    "editable": false,
    "run_control": {
     "frozen": true
    }
   },
   "outputs": [],
   "source": [
    "\n",
    "def process_word_freq_in_user_profiles(counter, userCursor):\n",
    "    # all users\n",
    "    user_count = 0\n",
    "\n",
    "    while True:\n",
    "        try:\n",
    "            user = userCursor.next()\n",
    "    #         Note that we're not going to add the id to the map yet\n",
    "            counter.process(user.description)\n",
    "            user_count += 1\n",
    "        except StopIteration as e:\n",
    "            print(\"%s users processed; %s words identified\" % (user_count, len(counter.counts)))\n",
    "            break\n",
    "\n",
    "    return Series(counter.counts)\n",
    "\n",
    "# word_freq_in_user_profiles = process_word_freq_in_user_profiles(counter, u)\n",
    "# word_freq_in_user_profiles.to_csv(USER_PROFILE_TERM_FREQ_FILEPATH)\n",
    "\n",
    "# took 6m31s to process \n",
    "# 1162362 users processed; 846948 words identified\n"
   ]
  },
  {
   "cell_type": "markdown",
   "metadata": {},
   "source": [
    "### Report word frequencies in user profiles"
   ]
  },
  {
   "cell_type": "code",
   "execution_count": null,
   "metadata": {
    "ExecuteTime": {
     "end_time": "2018-03-10T06:42:25.042043Z",
     "start_time": "2018-03-10T06:42:23.952277Z"
    }
   },
   "outputs": [],
   "source": [
    "fig, ax = plt.subplots(figsize=(8,4))\n",
    "word_freq_in_user_profiles.hist(ax=ax, bins=100, bottom=0.1)\n",
    "ax.set_yscale('log')\n",
    "ax.set_title(\"Term frequency in user profiles\")\n",
    "fig.tight_layout()"
   ]
  },
  {
   "cell_type": "markdown",
   "metadata": {},
   "source": [
    "## Truncate the found word list"
   ]
  },
  {
   "cell_type": "code",
   "execution_count": null,
   "metadata": {
    "ExecuteTime": {
     "end_time": "2018-03-13T23:50:11.104378Z",
     "start_time": "2018-03-13T23:50:11.044406Z"
    }
   },
   "outputs": [],
   "source": [
    "# Remove terms \n",
    "words = word_freq_in_user_profiles.loc[lambda x: x > MIN_FREQ]\n",
    "print(\"%s words out of %s appear more often than %sx\" % (len(words), len(word_freq_in_user_profiles), MIN_FREQ))"
   ]
  },
  {
   "cell_type": "code",
   "execution_count": null,
   "metadata": {
    "ExecuteTime": {
     "end_time": "2018-03-13T23:50:12.053075Z",
     "start_time": "2018-03-13T23:50:12.050199Z"
    },
    "run_control": {
     "marked": true
    }
   },
   "outputs": [],
   "source": [
    "out = '/Users/adam/Desktop/TEMPORARY/user-profile-word-counts-over-100.csv'\n",
    "# words.to_csv(out)"
   ]
  },
  {
   "cell_type": "code",
   "execution_count": null,
   "metadata": {
    "ExecuteTime": {
     "end_time": "2018-03-13T23:50:13.734378Z",
     "start_time": "2018-03-13T23:50:12.796607Z"
    }
   },
   "outputs": [],
   "source": [
    "fig, ax = plt.subplots()\n",
    "words.hist(ax=ax, bins=100, bottom=0.1)\n",
    "ax.set_yscale('log')\n",
    "ax.set_title(\"Term frequency in user profiles (min: %s)\" % MIN_FREQ)\n",
    "fig.tight_layout()"
   ]
  },
  {
   "cell_type": "markdown",
   "metadata": {},
   "source": [
    "## Remove stopwords "
   ]
  },
  {
   "cell_type": "code",
   "execution_count": null,
   "metadata": {
    "ExecuteTime": {
     "end_time": "2018-03-13T23:52:28.693885Z",
     "start_time": "2018-03-13T23:52:27.403260Z"
    }
   },
   "outputs": [],
   "source": [
    "def is_stopword(text):\n",
    "    \"\"\"check whether the supplied text is a stopword\"\"\"\n",
    "    return text in nltk.corpus.stopwords.words('english')\n",
    "\n",
    "def remove_stopwords(series):\n",
    "    d = {}\n",
    "    for k in series.keys():\n",
    "        if not is_stopword(k):\n",
    "             d[k] = series[k]\n",
    "    print(\"Removed %s stopwords from the words list\" % (len(series) - len(d.keys())))\n",
    "    return Series(d)\n",
    "\n",
    "words = remove_stopwords(words)\n",
    "#words.to_csv(MIN_100_NO_STOPS)"
   ]
  },
  {
   "cell_type": "code",
   "execution_count": null,
   "metadata": {
    "ExecuteTime": {
     "end_time": "2018-03-14T03:52:58.679342Z",
     "start_time": "2018-03-14T03:52:58.676336Z"
    }
   },
   "outputs": [],
   "source": []
  },
  {
   "cell_type": "markdown",
   "metadata": {},
   "source": [
    "### Word frequencies in user profiles"
   ]
  },
  {
   "cell_type": "code",
   "execution_count": null,
   "metadata": {
    "ExecuteTime": {
     "end_time": "2018-03-15T20:07:54.637855Z",
     "start_time": "2018-03-15T20:07:54.624395Z"
    }
   },
   "outputs": [],
   "source": [
    "words = pd.read_csv(MIN_100_NO_STOPS, header=None, names=['term', 'freq'])\n",
    "len(words)"
   ]
  },
  {
   "cell_type": "code",
   "execution_count": null,
   "metadata": {
    "ExecuteTime": {
     "end_time": "2018-03-15T20:07:56.095868Z",
     "start_time": "2018-03-15T20:07:55.251539Z"
    }
   },
   "outputs": [],
   "source": [
    "fig, ax = plt.subplots(figsize=(8,4))\n",
    "words.freq.hist(ax=ax, bins=100, bottom=0.1)\n",
    "ax.set_yscale('log')\n",
    "ax.set_title(\"User profile term freq (min: %s ; stopwords removed)\" % MIN_FREQ)\n",
    "fig.tight_layout()"
   ]
  },
  {
   "cell_type": "code",
   "execution_count": null,
   "metadata": {
    "ExecuteTime": {
     "end_time": "2018-03-15T20:08:48.102428Z",
     "start_time": "2018-03-15T20:08:47.801266Z"
    }
   },
   "outputs": [],
   "source": [
    "fig, ax = plt.subplots(figsize=(8,4))\n",
    "sns.distplot(words.freq, ax=ax)\n",
    "ax.set_title(\"KDE of Term frequency in user profiles\")"
   ]
  },
  {
   "cell_type": "code",
   "execution_count": null,
   "metadata": {
    "ExecuteTime": {
     "end_time": "2018-03-15T20:10:37.579819Z",
     "start_time": "2018-03-15T20:10:37.570090Z"
    }
   },
   "outputs": [],
   "source": [
    "words.max()"
   ]
  },
  {
   "cell_type": "code",
   "execution_count": null,
   "metadata": {
    "ExecuteTime": {
     "end_time": "2018-03-15T20:11:30.427890Z",
     "start_time": "2018-03-15T20:11:30.415702Z"
    }
   },
   "outputs": [],
   "source": [
    "w = words.sort_values(by='freq', ascending=False)\n",
    "w[:10]"
   ]
  },
  {
   "cell_type": "code",
   "execution_count": null,
   "metadata": {
    "ExecuteTime": {
     "end_time": "2018-03-14T03:53:34.186422Z",
     "start_time": "2018-03-14T03:53:34.171294Z"
    }
   },
   "outputs": [],
   "source": [
    "j = pd.read_csv(MIN_100_NO_STOPS)"
   ]
  },
  {
   "cell_type": "code",
   "execution_count": null,
   "metadata": {
    "ExecuteTime": {
     "end_time": "2018-03-14T03:53:39.440114Z",
     "start_time": "2018-03-14T03:53:39.434964Z"
    }
   },
   "outputs": [],
   "source": [
    "len(j)"
   ]
  },
  {
   "cell_type": "code",
   "execution_count": null,
   "metadata": {
    "ExecuteTime": {
     "end_time": "2018-03-15T20:20:59.750577Z",
     "start_time": "2018-03-15T20:20:59.738125Z"
    }
   },
   "outputs": [],
   "source": [
    "ww = words.copy(deep=True)[:10]\n",
    "w5 = ww.loc[lambda x : x.freq > 1000]\n",
    "w5"
   ]
  },
  {
   "cell_type": "code",
   "execution_count": null,
   "metadata": {},
   "outputs": [],
   "source": []
  },
  {
   "cell_type": "code",
   "execution_count": null,
   "metadata": {},
   "outputs": [],
   "source": []
  },
  {
   "cell_type": "code",
   "execution_count": null,
   "metadata": {
    "ExecuteTime": {
     "end_time": "2018-03-14T03:53:48.595173Z",
     "start_time": "2018-03-14T03:53:48.583509Z"
    }
   },
   "outputs": [],
   "source": [
    "j[:5]"
   ]
  },
  {
   "cell_type": "code",
   "execution_count": null,
   "metadata": {
    "ExecuteTime": {
     "end_time": "2018-03-15T20:21:30.108809Z",
     "start_time": "2018-03-15T20:21:30.102545Z"
    }
   },
   "outputs": [],
   "source": [
    "# Remove terms \n",
    "def filter_freq_list_by_min(wordFrame, minFreq):\n",
    "    \"\"\"Returns a copy of the frame, sans terms which do not occur above the minimum frequency\"\"\"\n",
    "    w = wordFrame.loc[lambda x: x.freq > minFreq]\n",
    "    print(\"%s words out of %s appear more often than %sx\" % (len(w), len(wordFrame), minFreq))\n",
    "    return w\n"
   ]
  },
  {
   "cell_type": "code",
   "execution_count": null,
   "metadata": {
    "ExecuteTime": {
     "end_time": "2018-03-15T20:21:42.602128Z",
     "start_time": "2018-03-15T20:21:42.596085Z"
    }
   },
   "outputs": [],
   "source": [
    "w4 = filter_freq_list_by_min(words, 10000)\n",
    "len(w4)"
   ]
  },
  {
   "cell_type": "code",
   "execution_count": null,
   "metadata": {
    "ExecuteTime": {
     "end_time": "2018-03-15T20:21:47.822806Z",
     "start_time": "2018-03-15T20:21:47.802321Z"
    }
   },
   "outputs": [],
   "source": [
    "w4"
   ]
  },
  {
   "cell_type": "code",
   "execution_count": null,
   "metadata": {
    "ExecuteTime": {
     "end_time": "2018-03-23T23:18:25.521606Z",
     "start_time": "2018-03-23T23:18:25.513224Z"
    }
   },
   "outputs": [],
   "source": [
    "%cd texttools\n",
    "%run -i StatisticalTools/Counters\n",
    "selectedCounter = SelectedWordCounter()\n",
    "selectedCounter.set_words_to_count(list(counter.map.keys()))"
   ]
  },
  {
   "cell_type": "code",
   "execution_count": null,
   "metadata": {
    "ExecuteTime": {
     "end_time": "2018-03-23T23:18:27.611426Z",
     "start_time": "2018-03-23T23:18:27.607558Z"
    }
   },
   "outputs": [],
   "source": [
    "selectedCounter.map"
   ]
  },
  {
   "cell_type": "code",
   "execution_count": null,
   "metadata": {
    "ExecuteTime": {
     "end_time": "2018-03-23T23:18:33.162773Z",
     "start_time": "2018-03-23T23:18:33.154032Z"
    }
   },
   "outputs": [],
   "source": [
    "# restricted number of users for testing\n",
    "max_users = 10\n",
    "\n",
    "\n",
    "\n",
    "for i in range(0, max_users):\n",
    "    user = u.next()\n",
    "    selectedCounter.process(user.description, user.userID)\n",
    "\n",
    "    \n",
    "# todo save data"
   ]
  },
  {
   "cell_type": "code",
   "execution_count": null,
   "metadata": {
    "ExecuteTime": {
     "end_time": "2018-03-23T23:18:45.815080Z",
     "start_time": "2018-03-23T23:18:45.809453Z"
    },
    "run_control": {
     "marked": true
    }
   },
   "outputs": [],
   "source": [
    "selectedCounter.counts"
   ]
  },
  {
   "cell_type": "code",
   "execution_count": null,
   "metadata": {},
   "outputs": [],
   "source": [
    "usersWithTermInProfile =[]"
   ]
  },
  {
   "cell_type": "code",
   "execution_count": null,
   "metadata": {
    "ExecuteTime": {
     "end_time": "2018-03-16T18:25:41.971589Z",
     "start_time": "2018-03-16T18:25:41.967508Z"
    },
    "run_control": {
     "marked": true
    }
   },
   "outputs": [],
   "source": [
    "\n",
    "def get_rows_for_terms(wordFrame, experimentalTerms):\n",
    "    return wordFrame[wordFrame.term.isin(experimentalTerms)]\n",
    "\n",
    "EXP_TERMS_FILEPATH = '%s/Dropbox/PainNarrativesLab/Data/experimental-terms.xlsx' % BASE\n",
    "experimentalTerms = pd.read_excel(EXP_TERMS_FILEPATH, squeeze=True)"
   ]
  },
  {
   "cell_type": "code",
   "execution_count": null,
   "metadata": {
    "ExecuteTime": {
     "end_time": "2018-03-16T18:25:59.008275Z",
     "start_time": "2018-03-16T18:25:58.996217Z"
    }
   },
   "outputs": [],
   "source": [
    "get_rows_for_terms(words, experimentalTerms)"
   ]
  },
  {
   "cell_type": "code",
   "execution_count": null,
   "metadata": {},
   "outputs": [],
   "source": []
  },
  {
   "cell_type": "markdown",
   "metadata": {},
   "source": [
    "# Logger"
   ]
  },
  {
   "cell_type": "code",
   "execution_count": null,
   "metadata": {
    "ExecuteTime": {
     "end_time": "2018-03-27T19:27:09.744328Z",
     "start_time": "2018-03-27T19:27:09.737748Z"
    }
   },
   "outputs": [],
   "source": [
    "from FileSystemTools import *\n",
    "from UtilityDecorators import *\n",
    "from UtilityFunctions import *\n",
    "\n",
    "\n",
    "BASE = getSystemRoot()\n",
    "LOG_FOLDER_PATH = \"%s/Desktop/TwitterDataAnalysisLogs\" %BASE\n",
    "DEFAULT_LOG_FILE_NAME = 'twitter_log.txt'\n",
    "DEFAULT_LOG_FILE_PATH = \"%s/%s\" % (LOG_FOLDER_PATH, DEFAULT_LOG_FILE_NAME)\n"
   ]
  },
  {
   "cell_type": "code",
   "execution_count": null,
   "metadata": {
    "ExecuteTime": {
     "end_time": "2018-03-27T19:40:09.342046Z",
     "start_time": "2018-03-27T19:40:09.331900Z"
    }
   },
   "outputs": [],
   "source": [
    "%cd tweetloggers\n",
    "%run -i FileLoggers"
   ]
  },
  {
   "cell_type": "code",
   "execution_count": null,
   "metadata": {
    "ExecuteTime": {
     "end_time": "2018-03-27T19:39:51.513547Z",
     "start_time": "2018-03-27T19:39:51.509170Z"
    }
   },
   "outputs": [],
   "source": [
    "%bookmark "
   ]
  },
  {
   "cell_type": "code",
   "execution_count": null,
   "metadata": {
    "ExecuteTime": {
     "end_time": "2018-03-27T19:27:12.505549Z",
     "start_time": "2018-03-27T19:27:12.489133Z"
    }
   },
   "outputs": [],
   "source": []
  },
  {
   "cell_type": "code",
   "execution_count": null,
   "metadata": {
    "ExecuteTime": {
     "end_time": "2018-03-27T19:27:32.795395Z",
     "start_time": "2018-03-27T19:27:32.792489Z"
    }
   },
   "outputs": [],
   "source": [
    "f = FileWritingLogger(name='best')"
   ]
  },
  {
   "cell_type": "code",
   "execution_count": null,
   "metadata": {
    "ExecuteTime": {
     "end_time": "2018-03-27T19:27:33.222050Z",
     "start_time": "2018-03-27T19:27:33.216819Z"
    }
   },
   "outputs": [],
   "source": [
    "f.log('j')"
   ]
  },
  {
   "cell_type": "code",
   "execution_count": null,
   "metadata": {},
   "outputs": [],
   "source": []
  },
  {
   "cell_type": "code",
   "execution_count": null,
   "metadata": {},
   "outputs": [],
   "source": []
  },
  {
   "cell_type": "code",
   "execution_count": null,
   "metadata": {},
   "outputs": [],
   "source": []
  },
  {
   "cell_type": "code",
   "execution_count": null,
   "metadata": {},
   "outputs": [],
   "source": []
  },
  {
   "cell_type": "code",
   "execution_count": null,
   "metadata": {},
   "outputs": [],
   "source": []
  },
  {
   "cell_type": "code",
   "execution_count": null,
   "metadata": {
    "ExecuteTime": {
     "end_time": "2018-03-27T18:42:24.648237Z",
     "start_time": "2018-03-27T18:42:24.645600Z"
    }
   },
   "outputs": [],
   "source": [
    "fwl = FileWritingLogger()"
   ]
  },
  {
   "cell_type": "code",
   "execution_count": null,
   "metadata": {
    "ExecuteTime": {
     "end_time": "2018-03-27T18:57:47.040187Z",
     "start_time": "2018-03-27T18:57:47.037346Z"
    }
   },
   "outputs": [],
   "source": [
    "fwl.log('taco')"
   ]
  },
  {
   "cell_type": "code",
   "execution_count": null,
   "metadata": {
    "ExecuteTime": {
     "end_time": "2018-03-27T18:57:15.823882Z",
     "start_time": "2018-03-27T18:57:15.820881Z"
    }
   },
   "outputs": [],
   "source": [
    "fwl2 = FileWritingLogger('new')"
   ]
  },
  {
   "cell_type": "code",
   "execution_count": null,
   "metadata": {
    "ExecuteTime": {
     "end_time": "2018-03-27T19:25:16.069359Z",
     "start_time": "2018-03-27T19:25:16.065250Z"
    }
   },
   "outputs": [],
   "source": [
    "f.log_error('tacoooooo')"
   ]
  },
  {
   "cell_type": "code",
   "execution_count": null,
   "metadata": {
    "ExecuteTime": {
     "end_time": "2018-03-27T18:42:31.407334Z",
     "start_time": "2018-03-27T18:42:31.404799Z"
    }
   },
   "outputs": [],
   "source": [
    "sol = StdOutLogger()"
   ]
  },
  {
   "cell_type": "code",
   "execution_count": null,
   "metadata": {
    "ExecuteTime": {
     "end_time": "2018-03-27T18:42:31.834013Z",
     "start_time": "2018-03-27T18:42:31.828841Z"
    }
   },
   "outputs": [],
   "source": [
    "sol.log('taco')"
   ]
  },
  {
   "cell_type": "code",
   "execution_count": null,
   "metadata": {},
   "outputs": [],
   "source": []
  },
  {
   "cell_type": "code",
   "execution_count": null,
   "metadata": {},
   "outputs": [],
   "source": []
  },
  {
   "cell_type": "code",
   "execution_count": null,
   "metadata": {},
   "outputs": [],
   "source": []
  },
  {
   "cell_type": "code",
   "execution_count": null,
   "metadata": {},
   "outputs": [],
   "source": []
  },
  {
   "cell_type": "code",
   "execution_count": null,
   "metadata": {},
   "outputs": [],
   "source": []
  },
  {
   "cell_type": "code",
   "execution_count": null,
   "metadata": {},
   "outputs": [],
   "source": []
  },
  {
   "cell_type": "code",
   "execution_count": null,
   "metadata": {},
   "outputs": [],
   "source": []
  },
  {
   "cell_type": "markdown",
   "metadata": {},
   "source": [
    "# Categorize users by condition"
   ]
  },
  {
   "cell_type": "code",
   "execution_count": null,
   "metadata": {},
   "outputs": [],
   "source": [
    "# Determine number of valid users identified and number of tweets each"
   ]
  },
  {
   "cell_type": "code",
   "execution_count": null,
   "metadata": {
    "ExecuteTime": {
     "end_time": "2018-03-10T03:07:31.931719Z",
     "start_time": "2018-03-10T03:07:31.927765Z"
    }
   },
   "outputs": [],
   "source": [
    "stripNonAlphaNum('!jip!')"
   ]
  },
  {
   "cell_type": "code",
   "execution_count": null,
   "metadata": {},
   "outputs": [],
   "source": [
    "\n",
    "wordTokenizer = WordTokenizer()\n",
    "word_processor = SingleWordProcessor()\n",
    "\n",
    "\n",
    "word_processor.add_to_filters( TextProcessors.Filters.UsernameFilter( ) )\n",
    "word_processor.add_to_filters( TextProcessors.Filters.PunctuationFilter( ) )\n",
    "word_processor.add_to_filters( TextProcessors.Filters.URLFilter( ) )\n",
    "word_processor.add_to_filters( TextProcessors.Filters.NumeralFilter( ) )\n",
    "word_processor.add_to_modifiers( TextProcessors.Modifiers.WierdBPrefixConverter() )\n",
    "# processor.add_to_modifiers( TextProcessors.Modifiers.UnicodeConverter() )\n",
    "word_processor.add_to_modifiers( TextProcessors.Modifiers.CaseConverter( ) )\n",
    "\n",
    "\n",
    "# Create queue and listeners for processed tokens\n",
    "Queue = SaveQueueHandler()\n",
    "Queue.register_listener(SaveListener())\n",
    "\n",
    "# Load cursor for tweet ids\n",
    "cursor = DataTools.Cursors.TweetCursor()\n",
    "\n",
    "StringProcessingWorker.initialize(cursor, Queue, word_processor)\n",
    "threads = []\n",
    "\n",
    "# for _ in range(1):\n",
    "worker = StringProcessingWorker()\n",
    "# worker.do_it()\n",
    "\n"
   ]
  },
  {
   "cell_type": "code",
   "execution_count": null,
   "metadata": {},
   "outputs": [],
   "source": []
  },
  {
   "cell_type": "code",
   "execution_count": null,
   "metadata": {},
   "outputs": [],
   "source": [
    "%cd textanalysis\n",
    "%run -i ProcessingTools/SearchTools.py\n"
   ]
  },
  {
   "cell_type": "code",
   "execution_count": null,
   "metadata": {},
   "outputs": [],
   "source": [
    "s = Searcher()\n",
    "spoonie_results = s.search('Spoonie')"
   ]
  },
  {
   "cell_type": "code",
   "execution_count": null,
   "metadata": {},
   "outputs": [],
   "source": []
  },
  {
   "cell_type": "code",
   "execution_count": null,
   "metadata": {},
   "outputs": [],
   "source": []
  },
  {
   "cell_type": "code",
   "execution_count": null,
   "metadata": {},
   "outputs": [],
   "source": []
  },
  {
   "cell_type": "code",
   "execution_count": null,
   "metadata": {
    "ExecuteTime": {
     "end_time": "2018-02-17T02:36:48.042221Z",
     "start_time": "2018-02-17T02:36:47.679878Z"
    }
   },
   "outputs": [],
   "source": [
    "# This cell was imported from twitter_data_analysis 11/9/16 \n",
    "%cd textanalysis\n",
    "%run -i ProcessingTools/SearchTools.py\n",
    "\n",
    "# \\section{Word frequency}\n",
    "# freq = pd.read_excel(\"%s/freq_wordlist.xlsx\" % DATAFOLDER)\n",
    "# len(freq)\n",
    "\n",
    "# fig, ax = plt.subplots()\n",
    "# freq.freq.hist(ax=ax, bins=100, bottom=0.1)\n",
    "# ax.set_yscale('log')\n",
    "# ax.set_title(\"Term frequency in user profiles\")\n",
    "\n",
    "# trimmed_freq = freq[freq.freq > 1000]\n",
    "# len(trimmed_freq)\n",
    "\n",
    "# fig, ax = plt.subplots()\n",
    "# trimmed_freq.freq.hist(ax=ax, bins=100, bottom=0.1)\n",
    "# ax.set_yscale('log')\n",
    "# ax.set_title(\"Term frequency in user profiles\")\n",
    "\n",
    "from beautifulsoup4.BeautifulSoup import BeautifulStoneSoup\n",
    "\n",
    "def formatter(text):\n",
    "    try:\n",
    "        return unicode(BeautifulStoneSoup(text, convertEntities=BeautifulStoneSoup.ALL_ENTITIES))\n",
    "    except:\n",
    "        print (\"Error %s\" % text)\n",
    "        return ''\n",
    "\n",
    "\n",
    "trimmed_freq['word'] = trimmed_freq['word'].map(lambda x: formatter(x))\n",
    "\n",
    "trimmed_freq.sort('freq', ascending=False)[:10]\n",
    "\n",
    "fibro_aliases = ['Fibromyalgia', 'Fibro', 'fibro*']\n",
    "for t in fibro_aliases:\n",
    "    fibro = condition_searcher(t, fibro)\n",
    "\n",
    "crps = Condition('crps')\n",
    "crps_aliases = ['crps', 'RSD', 'c.r.p.s.', 'r.s.d.', 'complex regional pain syndrome', 'reflex sympathetic dystrophy']\n",
    "for t in crps_aliases:\n",
    "    crps = condition_searcher(t, crps)\n",
    "\n",
    "import numpy\n",
    "d = numpy.genfromtxt('/Users/adam/Desktop/freq_wordlist.txt')\n",
    "\n",
    "import asciitable\n",
    "h = DataFrame(asciitable.read('/Users/adam/Desktop/freq_wordlist.txt'))\n",
    "\n",
    "dt = pd.read_table('/Users/adam/Desktop/freq_wordlist.csv', delim_whitespace=True, encoding='utf-8')\n",
    "\n",
    "dt = dt.applymap(lambda x: x['word'].encode('ascii', 'replace'))\n",
    "\n",
    "s = Searcher()\n",
    "crps_results = s.search('((crps) | (RSD) | (r.s.d.) | (c.r.p.s.) | (complex regional pain syndrome) | (chronic regional pain syndrome) | (reflex sympathetic dystrophy))')\n",
    "s = Searcher()\n",
    "migraine_results = s.search('((migraine) | (Migraineur) | (migr*))')\n",
    "s = Searcher()\n",
    "fibro_results = s.search('((Fibromyalgia) | (Fibro) | (fibro*) | (fm) | (fms))')\n",
    "s = Searcher()\n",
    "spoonie_results = s.search('Spoonie')\n",
    "s = Searcher()\n",
    "vulvodynia_results = s.search('Vulvodynia | Vulvadynia')\n",
    "s = Searcher()\n",
    "endo_results = s.search('endometriosis | endo')\n",
    "s = Searcher()\n",
    "neuropathy_results = s.search('neuropathy')\n",
    "s = Searcher()\n",
    "arthritis_results = s.search('((arthritis) | (*arthritis) | (oa) | (ra))' )\n",
    "s = Searcher()\n",
    "neuralgia_results = s.search('(neuralgia) | (*neuralgia)')\n",
    "s = Searcher()\n",
    "shingles_results = s.search('((shingles) | (post-herpetic neuralgia) | (PHN))')\n",
    "s = Searcher()\n",
    "backpain_results = s.search('(back pain | backpain)')\n",
    "s = Searcher()\n",
    "headache = s.search('headache')\n",
    "\n",
    "migraine_users = ug.get_from_list('migraine', migraine_results['userids'])\n",
    "crps_users = ug.get_from_list('crps', crps_results['userids'])\n",
    "fibro_users = ug.get_from_list('fibromyalgia', fibro_results['userids'])\n",
    "spoonie_users = ug.get_from_list('spoonie', spoonie_results['userids'])\n",
    "vulvodynia_users = ug.get_from_list('vulvodynia', vulvodynia_results['userids'])\n",
    "endo_users = ug.get_from_list('endometriosis', endo_results['userids'])\n",
    "neuropathy_users = ug.get_from_list('neuropathy', neuropathy_results['userids'])\n",
    "arthritis_users = ug.get_from_list('arthritis', arthritis_results['userids'])\n",
    "neuralgia_users = ug.get_from_list('neuralgia', neuralgia_results['userids'])\n",
    "shingles_users = ug.get_from_list('shingles', shingles_results['userids'])\n",
    "backpain_users = ug.get_from_list('backpain', backpain_results['userids'])\n",
    "\n",
    "migraine_users.to_csv('%s/migraine.csv' % DATAFOLDER)\n",
    "crps_users.to_csv('%s/crps.csv' % DATAFOLDER)\n",
    "fibro_users.to_csv('%s/fibromyalgia.csv' % DATAFOLDER)\n",
    "spoonie_users.to_csv('%s/spoonie.csv' % DATAFOLDER)\n",
    "vulvodynia_users.to_csv('%s/vulvodynia.csv' % DATAFOLDER)\n",
    "endo_users.to_csv('%s/endo.csv' % DATAFOLDER)\n",
    "neuropathy_users.to_csv('%s/neuropathy.csv' % DATAFOLDER)\n",
    "arthritis_users.to_csv('%s/arthritis.csv' % DATAFOLDER)\n",
    "neuralgia_users.to_csv('%s/neuralgia.csv' % DATAFOLDER)\n",
    "shingles_users.to_csv('%s/shingles.csv' % DATAFOLDER)\n",
    "backpain_users.to_csv('%s/backpain.csv' % DATAFOLDER)"
   ]
  },
  {
   "cell_type": "code",
   "execution_count": null,
   "metadata": {},
   "outputs": [],
   "source": []
  },
  {
   "cell_type": "code",
   "execution_count": null,
   "metadata": {},
   "outputs": [],
   "source": []
  },
  {
   "cell_type": "code",
   "execution_count": null,
   "metadata": {
    "ExecuteTime": {
     "end_time": "2017-07-06T02:41:22.607911Z",
     "start_time": "2017-07-06T02:41:20.176Z"
    }
   },
   "outputs": [],
   "source": [
    "j='jjj'\n",
    "print(\"%s\" % j)"
   ]
  },
  {
   "cell_type": "code",
   "execution_count": null,
   "metadata": {
    "ExecuteTime": {
     "end_time": "2017-07-06T02:41:22.608714Z",
     "start_time": "2017-07-06T02:41:20.179Z"
    }
   },
   "outputs": [],
   "source": [
    "TextTools.TextFilters.remove_numerals(\"7\")"
   ]
  },
  {
   "cell_type": "code",
   "execution_count": null,
   "metadata": {
    "ExecuteTime": {
     "end_time": "2017-07-06T02:41:22.610305Z",
     "start_time": "2017-07-06T02:41:20.188Z"
    }
   },
   "outputs": [],
   "source": [
    "\"\"\"\n",
    "Used to be in FILEFOLDER = '%s/Desktop/user_categories' % BASE\n",
    "Moved into Data folder in pain narratives lab\n",
    "\"\"\"\n",
    "def file_getter(filefolder=FILEFOLDER):\n",
    "    \"\"\"\n",
    "    Loads the the files in the folder    \n",
    "    Args:\n",
    "        filefolder: Folder path for where all the folders are stored\n",
    "    \n",
    "    Returns:\n",
    "        Dataframe\n",
    "    \"\"\"\n",
    "    datafiles = []\n",
    "    sourceFolder = os.walk(filefolder)\n",
    "    for f in sourceFolder:\n",
    "        filelist = f[2]\n",
    "        for fl in filelist:\n",
    "            fl = str(fl)\n",
    "            #if fl is not '.DS_Store':\n",
    "            if fl[-5:] == '.xlsx':\n",
    "                print (fl)\n",
    "                loc = filefolder + '/' + str(fl)\n",
    "                datafiles.append(loc)\n",
    "    return datafiles\n",
    "\n",
    "\n",
    "def cat_importer(filenames):\n",
    "    \"\"\"\n",
    "    Import spreadsheets with categorizations of users, \n",
    "    combine them, and return the result\n",
    "        \n",
    "    Args:\n",
    "        filenames: List of full path excel files\n",
    "    \n",
    "    Returns:\n",
    "        Dataframe\n",
    "    \"\"\"\n",
    "    frames = []\n",
    "    for f in filenames:\n",
    "        try:\n",
    "            frames.append(pd.read_excel(f))\n",
    "        except:\n",
    "            print (\"error with %s\" % f)\n",
    "    combined = pd.concat(frames)\n",
    "    return combined"
   ]
  },
  {
   "cell_type": "code",
   "execution_count": null,
   "metadata": {
    "ExecuteTime": {
     "end_time": "2017-07-06T02:41:22.611418Z",
     "start_time": "2017-07-06T02:41:20.191Z"
    }
   },
   "outputs": [],
   "source": [
    "files = file_getter()\n",
    "compiled = cat_importer(files)\n",
    "print (len(compiled))"
   ]
  },
  {
   "cell_type": "code",
   "execution_count": null,
   "metadata": {
    "ExecuteTime": {
     "end_time": "2017-07-06T02:41:22.612315Z",
     "start_time": "2017-07-06T02:41:20.194Z"
    }
   },
   "outputs": [],
   "source": [
    "compiled.columns"
   ]
  },
  {
   "cell_type": "code",
   "execution_count": null,
   "metadata": {
    "ExecuteTime": {
     "end_time": "2017-07-06T02:41:22.613093Z",
     "start_time": "2017-07-06T02:41:20.197Z"
    }
   },
   "outputs": [],
   "source": [
    "# Make frames with categorized users\n",
    "compiled = compiled[compiled.relevant == 1]\n",
    "patients = compiled[compiled.patient == 1]\n",
    "clinicians = compiled[compiled.clinician == 1]\n",
    "\n",
    "# Separate by condition\n",
    "patients_by_condition = patients.groupby('term')\n",
    "clinicians_by_condition = clinicians.groupby('term')"
   ]
  },
  {
   "cell_type": "code",
   "execution_count": null,
   "metadata": {
    "ExecuteTime": {
     "end_time": "2017-07-06T02:41:22.614212Z",
     "start_time": "2017-07-06T02:41:20.200Z"
    }
   },
   "outputs": [],
   "source": [
    "for g, n in patients_by_condition:\n",
    "    print(g, len(n)) "
   ]
  },
  {
   "cell_type": "code",
   "execution_count": null,
   "metadata": {
    "ExecuteTime": {
     "end_time": "2017-07-06T02:41:22.615050Z",
     "start_time": "2017-07-06T02:41:20.203Z"
    }
   },
   "outputs": [],
   "source": [
    "migraine_bag = []\n",
    "m = patients_by_condition.get_group('migraine')\n",
    "for i in m.profile:\n",
    "    migraine_bag.append(word_tokenize(i))\n",
    "#for p in m:\n",
    "#    migraine_bag.append(word_tokenize(p.profile))\n",
    "print(len(migraine_bag))"
   ]
  },
  {
   "cell_type": "code",
   "execution_count": null,
   "metadata": {
    "ExecuteTime": {
     "end_time": "2017-07-06T02:41:22.615748Z",
     "start_time": "2017-07-06T02:41:20.206Z"
    }
   },
   "outputs": [],
   "source": [
    "\n",
    "bagmaker = TextTools.WordBagMaker()\n",
    "bagmaker.add_to_ignorelist(ConstantsAndUtilities.Ignore.get_list())\n",
    "bagmaker.add_to_ignorelist(list(string.punctuation))\n",
    "bagmaker.add_to_ignorelist(nltk.corpus.stopwords.words('english'))\n",
    "bagmaker.add_to_cleaners(TextTools.URLCleaner())\n",
    "#bagmaker.add_to_cleaners(TextTools.NumeralCleaner())"
   ]
  },
  {
   "cell_type": "code",
   "execution_count": null,
   "metadata": {
    "ExecuteTime": {
     "end_time": "2017-07-06T02:41:22.616739Z",
     "start_time": "2017-07-06T02:41:20.209Z"
    }
   },
   "outputs": [],
   "source": [
    "'3'.isalpha()"
   ]
  },
  {
   "cell_type": "code",
   "execution_count": null,
   "metadata": {
    "ExecuteTime": {
     "end_time": "2017-07-06T02:41:22.617919Z",
     "start_time": "2017-07-06T02:41:20.212Z"
    }
   },
   "outputs": [],
   "source": [
    "nc = TextTools.NumeralCleaner()"
   ]
  },
  {
   "cell_type": "code",
   "execution_count": null,
   "metadata": {
    "ExecuteTime": {
     "end_time": "2017-07-06T02:41:22.618833Z",
     "start_time": "2017-07-06T02:41:20.215Z"
    }
   },
   "outputs": [],
   "source": [
    "nc.clean('cat')"
   ]
  },
  {
   "cell_type": "code",
   "execution_count": null,
   "metadata": {},
   "outputs": [],
   "source": []
  },
  {
   "cell_type": "code",
   "execution_count": null,
   "metadata": {
    "ExecuteTime": {
     "end_time": "2017-07-06T02:41:22.619515Z",
     "start_time": "2017-07-06T02:41:20.220Z"
    }
   },
   "outputs": [],
   "source": [
    "m = patients_by_condition.get_group('migraine')\n",
    "pw = [w for w in m.profile]\n",
    "\n",
    "bagmaker.process(pw)\n",
    "print(len(bagmaker.masterbag))"
   ]
  },
  {
   "cell_type": "code",
   "execution_count": null,
   "metadata": {
    "ExecuteTime": {
     "end_time": "2017-07-06T02:41:22.620231Z",
     "start_time": "2017-07-06T02:41:20.225Z"
    },
    "scrolled": true
   },
   "outputs": [],
   "source": [
    "bagmaker.masterbag"
   ]
  },
  {
   "cell_type": "code",
   "execution_count": null,
   "metadata": {
    "ExecuteTime": {
     "end_time": "2017-07-06T02:41:22.621002Z",
     "start_time": "2017-07-06T02:41:20.228Z"
    }
   },
   "outputs": [],
   "source": [
    "wf = TextStats.WordFreq(bagmaker.masterbag)"
   ]
  },
  {
   "cell_type": "code",
   "execution_count": null,
   "metadata": {
    "ExecuteTime": {
     "end_time": "2017-07-06T02:41:22.621795Z",
     "start_time": "2017-07-06T02:41:20.231Z"
    }
   },
   "outputs": [],
   "source": [
    "wf.topN(20)"
   ]
  },
  {
   "cell_type": "code",
   "execution_count": null,
   "metadata": {
    "ExecuteTime": {
     "end_time": "2017-07-06T02:41:22.622495Z",
     "start_time": "2017-07-06T02:41:20.235Z"
    }
   },
   "outputs": [],
   "source": [
    "wf.plot(30)"
   ]
  },
  {
   "cell_type": "code",
   "execution_count": null,
   "metadata": {
    "ExecuteTime": {
     "end_time": "2017-07-06T02:41:22.623317Z",
     "start_time": "2017-07-06T02:41:20.239Z"
    },
    "scrolled": true
   },
   "outputs": [],
   "source": [
    "mb = tuple(migraine_bag)\n",
    "mfd = nltk.FreqDist(mb)"
   ]
  },
  {
   "cell_type": "code",
   "execution_count": null,
   "metadata": {},
   "outputs": [],
   "source": []
  },
  {
   "cell_type": "code",
   "execution_count": null,
   "metadata": {
    "ExecuteTime": {
     "end_time": "2018-03-10T00:37:10.041320Z",
     "start_time": "2018-03-10T00:37:08.244921Z"
    }
   },
   "outputs": [],
   "source": [
    "%cd twitteranalysis\n",
    "import DataTools.Cursors\n",
    "\n",
    "# Create tables in database\n",
    "from DataTools.TweetORM import create_db_tables\n",
    "# create_db_tables()\n",
    "\n",
    "#%cd /Users/adam/Dropbox/PainNarrativesLab/TwitterDataAnalysis\n",
    "#%bookmark twitteranalysis\n",
    "%cd twitteranalysis\n",
    "%run -i environment.py\n",
    "%run -i ConstantsAndUtilities.py\n",
    "%run -i TestingTools/DataAndFunctionsForTesting.py\n",
    "%run -i \"DataTools/DataStructures.py\"\n",
    "%run -i \"DataTools/DataConnections.py\"\n",
    "%run -i \"DataTools/WordORM.py\"\n",
    "%run -i \"DataTools/DataRepositories.py\" \n",
    "\n",
    "# Initialize the tools for filtering and modifying the individual tweet words\n",
    "from TextProcessors.Filters import *\n",
    "from TextProcessors.Modifiers import *\n",
    "%cd texttools\n",
    "%run -i TextProcessors/Processors\n",
    "%run -i TextProcessors/Tokenizers\n",
    "\n",
    "%run -i ProcessingTools/ProcessingControllers.py\n",
    "%run -i ProcessingTools/Listeners.py\n",
    "%run -i ProcessingTools/Workers.py\n",
    "import DataTools.Cursors"
   ]
  }
 ],
 "metadata": {
  "kernelspec": {
   "display_name": "Python 3",
   "language": "python",
   "name": "python3"
  },
  "language_info": {
   "codemirror_mode": {
    "name": "ipython",
    "version": 3
   },
   "file_extension": ".py",
   "mimetype": "text/x-python",
   "name": "python",
   "nbconvert_exporter": "python",
   "pygments_lexer": "ipython3",
   "version": "3.4.3"
  },
  "latex_envs": {
   "bibliofile": "biblio.bib",
   "cite_by": "apalike",
   "current_citInitial": 1,
   "eqLabelWithNumbers": true,
   "eqNumInitial": 0
  },
  "toc": {
   "colors": {
    "hover_highlight": "#DAA520",
    "navigate_num": "#000000",
    "navigate_text": "#333333",
    "running_highlight": "#FF0000",
    "selected_highlight": "#FFD700",
    "sidebar_border": "#EEEEEE",
    "wrapper_background": "#FFFFFF"
   },
   "moveMenuLeft": true,
   "nav_menu": {
    "height": "68px",
    "width": "252px"
   },
   "navigate_menu": true,
   "number_sections": true,
   "sideBar": true,
   "threshold": 4,
   "toc_cell": false,
   "toc_section_display": "block",
   "toc_window_display": true,
   "widenNotebook": false
  }
 },
 "nbformat": 4,
 "nbformat_minor": 1
}
