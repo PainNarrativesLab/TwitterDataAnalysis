{
 "cells": [
  {
   "cell_type": "code",
   "execution_count": null,
   "metadata": {
    "ExecuteTime": {
     "end_time": "2017-07-06T02:41:20.113728Z",
     "start_time": "2017-07-06T02:41:20.111448Z"
    }
   },
   "outputs": [],
   "source": [
    "#### This notebook is dedicated to determining which users are pain patients"
   ]
  },
  {
   "cell_type": "markdown",
   "metadata": {},
   "source": [
    "\n",
    "### ToDo\n",
    "\n",
    "* Isolate people who have only texted about migraine vs. crps (etc). Look for systematic differences\n",
    "* Do analysis on all words in texts\n",
    "* Try doing the analysis on twitter users rather than tweets\n",
    "* Combine terms like 'fibro' and 'fibromyalgia'\n",
    "* Store lists of things to ignore/combine/categorize etc in spreadsheet and import?\n",
    "\n",
    "### Notes\n",
    "SQL query for counting tweets in which hashtag used:\n",
    "SELECT h.hashtag, count(t.tweetID) AS totTweets FROM hashtags h INNER JOIN tweetsXtags t ON h.tagID = t.tagID GROUP BY hashtag ORDER BY totTweets DESC ;\n",
    "\n",
    "#### This cell was imported from twitter_data_analysis 11/9/16\n",
    "That was not the last time this notebook was updated "
   ]
  },
  {
   "cell_type": "markdown",
   "metadata": {},
   "source": [
    "# Setup\n",
    "## Base imports"
   ]
  },
  {
   "cell_type": "code",
   "execution_count": 1,
   "metadata": {
    "ExecuteTime": {
     "end_time": "2018-03-23T23:08:13.492453Z",
     "start_time": "2018-03-23T23:08:12.405278Z"
    }
   },
   "outputs": [],
   "source": [
    "#standard lib\n",
    "import os\n",
    "import string\n",
    "\n",
    "#other people's property\n",
    "import nltk\n",
    "from nltk.tokenize import word_tokenize, sent_tokenize\n",
    "import pandas as pd\n",
    "from pandas import DataFrame, Series\n",
    "import sqlalchemy\n",
    "\n",
    "#Plotting \n",
    "%matplotlib inline\n",
    "from matplotlib import pyplot as plt\n",
    "import seaborn as sns\n",
    "sns.set(style=\"whitegrid\")"
   ]
  },
  {
   "cell_type": "code",
   "execution_count": 2,
   "metadata": {
    "ExecuteTime": {
     "end_time": "2018-03-23T23:08:13.502469Z",
     "start_time": "2018-03-23T23:08:13.494900Z"
    },
    "run_control": {
     "marked": true
    }
   },
   "outputs": [],
   "source": [
    "#Base Classes stuff\n",
    "from FileSystemTools import *\n",
    "from UtilityDecorators import *\n",
    "from UtilityFunctions import *\n",
    "\n",
    "\n",
    "BASE = getSystemRoot()\n",
    "USER_PROFILE_TERM_FREQ_FILEPATH = '%s/Desktop/TEMPORARY/user-profile-word-counts.csv' % BASE\n",
    "MIN_100_NO_STOPS = '/Users/adam/Desktop/TEMPORARY/user-profile-word-counts-min-100-ex-stops.csv'\n",
    "MAP_PICKLE_PATH = '%s/Desktop/TEMPORARY/user-id-map' % BASE"
   ]
  },
  {
   "cell_type": "code",
   "execution_count": 3,
   "metadata": {
    "ExecuteTime": {
     "end_time": "2018-03-23T23:08:13.507367Z",
     "start_time": "2018-03-23T23:08:13.504458Z"
    }
   },
   "outputs": [],
   "source": [
    "# Global variables\n",
    "\n",
    "# The minimum frequency above which to\n",
    "# exclude terms\n",
    "MIN_FREQ = 100"
   ]
  },
  {
   "cell_type": "markdown",
   "metadata": {},
   "source": [
    "## Create cursor for user data"
   ]
  },
  {
   "cell_type": "code",
   "execution_count": 4,
   "metadata": {
    "ExecuteTime": {
     "end_time": "2018-03-23T23:08:14.332311Z",
     "start_time": "2018-03-23T23:08:14.130127Z"
    }
   },
   "outputs": [
    {
     "name": "stdout",
     "output_type": "stream",
     "text": [
      "(bookmark:twitteranalysis) -> /Users/adam/Dropbox/PainNarrativesLab/TwitterDataAnalysis\n",
      "/Users/adam/Dropbox/PainNarrativesLab/TwitterDataAnalysis\n"
     ]
    }
   ],
   "source": [
    "%cd twitteranalysis\n",
    "%run -i DataTools/Cursors\n",
    "u = UserCursor(language='en')"
   ]
  },
  {
   "cell_type": "markdown",
   "metadata": {
    "ExecuteTime": {
     "end_time": "2018-02-17T03:35:06.922547Z",
     "start_time": "2018-02-17T03:35:06.919557Z"
    }
   },
   "source": [
    "# Word counts in user descriptions"
   ]
  },
  {
   "cell_type": "code",
   "execution_count": 5,
   "metadata": {
    "ExecuteTime": {
     "end_time": "2018-03-23T23:08:14.937458Z",
     "start_time": "2018-03-23T23:08:14.922370Z"
    }
   },
   "outputs": [
    {
     "name": "stdout",
     "output_type": "stream",
     "text": [
      "(bookmark:texttools) -> /Users/adam/Dropbox/PainNarrativesLab/TextTools\n",
      "/Users/adam/Dropbox/PainNarrativesLab/TextTools\n"
     ]
    }
   ],
   "source": [
    "%cd texttools\n",
    "from TextProcessors.Filters import *\n",
    "from TextProcessors.Modifiers import *\n",
    "from TextProcessors.Processors import *\n",
    "\n",
    "filters = [\n",
    "     UsernameFilter(),\n",
    "    PunctuationFilter(),\n",
    "    URLFilter(),\n",
    "    NumeralFilter()\n",
    "]\n",
    "\n",
    "modifiers = [\n",
    "    WierdBPrefixConverter(), \n",
    "    CaseConverter( ) \n",
    "]"
   ]
  },
  {
   "cell_type": "code",
   "execution_count": 6,
   "metadata": {
    "ExecuteTime": {
     "end_time": "2018-03-23T23:08:15.391811Z",
     "start_time": "2018-03-23T23:08:15.383020Z"
    }
   },
   "outputs": [
    {
     "name": "stdout",
     "output_type": "stream",
     "text": [
      "(bookmark:texttools) -> /Users/adam/Dropbox/PainNarrativesLab/TextTools\n",
      "/Users/adam/Dropbox/PainNarrativesLab/TextTools\n"
     ]
    }
   ],
   "source": [
    "%cd texttools\n",
    "%run -i StatisticalTools/Counters\n",
    "counter = WordCounter()\n",
    "counter.add_filters(filters)\n",
    "counter.add_modifiers(modifiers)"
   ]
  },
  {
   "cell_type": "code",
   "execution_count": 7,
   "metadata": {
    "ExecuteTime": {
     "end_time": "2018-03-23T23:08:15.824113Z",
     "start_time": "2018-03-23T23:08:15.820202Z"
    }
   },
   "outputs": [],
   "source": []
  },
  {
   "cell_type": "markdown",
   "metadata": {},
   "source": [
    "# Integrating with older tools"
   ]
  },
  {
   "cell_type": "code",
   "execution_count": 41,
   "metadata": {
    "ExecuteTime": {
     "end_time": "2018-03-23T23:22:51.283536Z",
     "start_time": "2018-03-23T23:22:51.268802Z"
    }
   },
   "outputs": [
    {
     "name": "stdout",
     "output_type": "stream",
     "text": [
      "(bookmark:twitteranalysis) -> /Users/adam/Dropbox/PainNarrativesLab/TwitterDataAnalysis\n",
      "/Users/adam/Dropbox/PainNarrativesLab/TwitterDataAnalysis\n"
     ]
    }
   ],
   "source": [
    "# Statistical tools approach is better, but\n",
    "# older version separates work better...\n",
    "\n",
    "%cd twitteranalysis\n",
    "%run -i ProcessingTools/QueueTools.py\n",
    "%run -i ProcessingTools/ProcessingControllers.py\n",
    "\n",
    "# First set up the object which will handle applying\n",
    "# filters and modifiers to each word\n",
    "word_processor = SingleWordProcessor()\n",
    "word_processor.add_filters(filters)\n",
    "word_processor.add_modifiers(modifiers)\n",
    "\n",
    "# Now create the command and control\n",
    "queueHandler = SaveQueueHandler()\n",
    "control = UserProcessingController(queueHandler)\n",
    "control.load_word_processor(word_processor)\n"
   ]
  },
  {
   "cell_type": "code",
   "execution_count": 19,
   "metadata": {
    "ExecuteTime": {
     "end_time": "2018-03-23T23:13:06.440944Z",
     "start_time": "2018-03-23T23:13:06.436737Z"
    }
   },
   "outputs": [],
   "source": []
  },
  {
   "cell_type": "code",
   "execution_count": 10,
   "metadata": {
    "ExecuteTime": {
     "end_time": "2018-03-23T23:08:39.453473Z",
     "start_time": "2018-03-23T23:08:39.360297Z"
    }
   },
   "outputs": [],
   "source": [
    "# Make a fake user\n",
    "%run TestingTools/Factories.py\n",
    "user = UserFactory()"
   ]
  },
  {
   "cell_type": "code",
   "execution_count": null,
   "metadata": {},
   "outputs": [],
   "source": []
  },
  {
   "cell_type": "code",
   "execution_count": null,
   "metadata": {},
   "outputs": [],
   "source": []
  },
  {
   "cell_type": "code",
   "execution_count": 26,
   "metadata": {
    "ExecuteTime": {
     "end_time": "2018-03-23T23:14:23.859760Z",
     "start_time": "2018-03-23T23:14:23.855659Z"
    }
   },
   "outputs": [
    {
     "data": {
      "text/plain": [
       "'“A postpunk pink-haired superhero blog goddess”—@moth. @boingboing, hypertexter, @freedomofpress. Outliving breast cancer since 2011. No day taken for granted.'"
      ]
     },
     "execution_count": 26,
     "metadata": {},
     "output_type": "execute_result"
    }
   ],
   "source": [
    "user = u.next()\n",
    "user.description"
   ]
  },
  {
   "cell_type": "code",
   "execution_count": 42,
   "metadata": {
    "ExecuteTime": {
     "end_time": "2018-03-23T23:22:55.559795Z",
     "start_time": "2018-03-23T23:22:55.556449Z"
    }
   },
   "outputs": [],
   "source": [
    "control.process(user)"
   ]
  },
  {
   "cell_type": "code",
   "execution_count": 43,
   "metadata": {
    "ExecuteTime": {
     "end_time": "2018-03-23T23:23:02.354308Z",
     "start_time": "2018-03-23T23:23:02.349527Z"
    }
   },
   "outputs": [
    {
     "data": {
      "text/plain": [
       "deque([GeneralResult(sentence_index=0, word_index=0, text='designer', obj_id=11197),\n",
       "       GeneralResult(sentence_index=0, word_index=2, text='storyteller', obj_id=11197),\n",
       "       GeneralResult(sentence_index=0, word_index=4, text='filmmaker', obj_id=11197),\n",
       "       GeneralResult(sentence_index=0, word_index=6, text='photographer', obj_id=11197),\n",
       "       GeneralResult(sentence_index=0, word_index=8, text='web', obj_id=11197),\n",
       "       GeneralResult(sentence_index=0, word_index=9, text='geek', obj_id=11197),\n",
       "       GeneralResult(sentence_index=1, word_index=0, text='interested', obj_id=11197),\n",
       "       GeneralResult(sentence_index=1, word_index=1, text='in', obj_id=11197),\n",
       "       GeneralResult(sentence_index=1, word_index=2, text='building', obj_id=11197),\n",
       "       GeneralResult(sentence_index=1, word_index=3, text='things', obj_id=11197)])"
      ]
     },
     "execution_count": 43,
     "metadata": {},
     "output_type": "execute_result"
    }
   ],
   "source": [
    "queue.queue.queue"
   ]
  },
  {
   "cell_type": "code",
   "execution_count": null,
   "metadata": {},
   "outputs": [],
   "source": []
  },
  {
   "cell_type": "code",
   "execution_count": 30,
   "metadata": {
    "ExecuteTime": {
     "end_time": "2018-03-23T23:15:55.665048Z",
     "start_time": "2018-03-23T23:15:55.661031Z"
    }
   },
   "outputs": [],
   "source": [
    "us = []\n",
    "for i in range(0, 20):\n",
    "    us.append(u.next())\n",
    "\n",
    "[ upc.process(u) for u in us]"
   ]
  },
  {
   "cell_type": "code",
   "execution_count": null,
   "metadata": {
    "ExecuteTime": {
     "end_time": "2018-03-23T23:16:32.928246Z",
     "start_time": "2018-03-23T23:16:32.911525Z"
    }
   },
   "outputs": [],
   "source": []
  },
  {
   "cell_type": "markdown",
   "metadata": {},
   "source": [
    "### Process the user descriptions for word counts"
   ]
  },
  {
   "cell_type": "code",
   "execution_count": 14,
   "metadata": {
    "ExecuteTime": {
     "end_time": "2018-03-23T23:12:09.602866Z",
     "start_time": "2018-03-23T23:10:48.395709Z"
    }
   },
   "outputs": [],
   "source": [
    "# Don't know why but this is incredibly slow\n",
    "# restricted number of users for testing\n",
    "# max_users = 2\n",
    "\n",
    "# for i in range(0, max_users):\n",
    "#     user = u.next()\n",
    "#     upc.process(user)\n",
    "# #     counter.process(user.description)\n"
   ]
  },
  {
   "cell_type": "code",
   "execution_count": 33,
   "metadata": {
    "ExecuteTime": {
     "end_time": "2018-03-23T23:16:44.834468Z",
     "start_time": "2018-03-23T23:16:44.826890Z"
    },
    "collapsed": true
   },
   "outputs": [
    {
     "data": {
      "text/plain": [
       "deque([GeneralResult(sentence_index=0, word_index=0, text='never', obj_id=556),\n",
       "       GeneralResult(sentence_index=0, word_index=1, text='for', obj_id=556),\n",
       "       GeneralResult(sentence_index=0, word_index=2, text='money', obj_id=556),\n",
       "       GeneralResult(sentence_index=0, word_index=4, text='always', obj_id=556),\n",
       "       GeneralResult(sentence_index=0, word_index=5, text='for', obj_id=556),\n",
       "       GeneralResult(sentence_index=0, word_index=6, text='love', obj_id=556),\n",
       "       GeneralResult(sentence_index=1, word_index=0, text='prize-finder', obj_id=556),\n",
       "       GeneralResult(sentence_index=1, word_index=2, text='picture-taker', obj_id=556),\n",
       "       GeneralResult(sentence_index=1, word_index=4, text='thing-maker', obj_id=556),\n",
       "       GeneralResult(sentence_index=2, word_index=1, text='minor_thread', obj_id=556),\n",
       "       GeneralResult(sentence_index=2, word_index=4, text='shopvint', obj_id=556),\n",
       "       GeneralResult(sentence_index=3, word_index=0, text='making', obj_id=556),\n",
       "       GeneralResult(sentence_index=3, word_index=1, text='things', obj_id=556),\n",
       "       GeneralResult(sentence_index=3, word_index=2, text='fly', obj_id=556),\n",
       "       GeneralResult(sentence_index=3, word_index=3, text='at', obj_id=556),\n",
       "       GeneralResult(sentence_index=3, word_index=5, text='emilymcdowell_', obj_id=556),\n",
       "       GeneralResult(sentence_index=0, word_index=1, text='activetransportation', obj_id=762),\n",
       "       GeneralResult(sentence_index=0, word_index=3, text='community', obj_id=762),\n",
       "       GeneralResult(sentence_index=0, word_index=5, text='accessibility', obj_id=762),\n",
       "       GeneralResult(sentence_index=0, word_index=7, text='advocacy', obj_id=762),\n",
       "       GeneralResult(sentence_index=0, word_index=9, text='fundraising', obj_id=762),\n",
       "       GeneralResult(sentence_index=0, word_index=11, text='photography', obj_id=762),\n",
       "       GeneralResult(sentence_index=0, word_index=13, text='superhero', obj_id=762),\n",
       "       GeneralResult(sentence_index=0, word_index=1, text='postpunk', obj_id=767),\n",
       "       GeneralResult(sentence_index=0, word_index=2, text='pink-haired', obj_id=767),\n",
       "       GeneralResult(sentence_index=0, word_index=3, text='superhero', obj_id=767),\n",
       "       GeneralResult(sentence_index=0, word_index=4, text='blog', obj_id=767),\n",
       "       GeneralResult(sentence_index=0, word_index=5, text='goddess”—', obj_id=767),\n",
       "       GeneralResult(sentence_index=0, word_index=7, text='moth', obj_id=767),\n",
       "       GeneralResult(sentence_index=1, word_index=1, text='boingboing', obj_id=767),\n",
       "       GeneralResult(sentence_index=1, word_index=3, text='hypertexter', obj_id=767),\n",
       "       GeneralResult(sentence_index=1, word_index=6, text='freedomofpress', obj_id=767),\n",
       "       GeneralResult(sentence_index=2, word_index=0, text='outliving', obj_id=767),\n",
       "       GeneralResult(sentence_index=2, word_index=1, text='breast', obj_id=767),\n",
       "       GeneralResult(sentence_index=2, word_index=2, text='cancer', obj_id=767),\n",
       "       GeneralResult(sentence_index=2, word_index=3, text='since', obj_id=767),\n",
       "       GeneralResult(sentence_index=3, word_index=0, text='no', obj_id=767),\n",
       "       GeneralResult(sentence_index=3, word_index=1, text='day', obj_id=767),\n",
       "       GeneralResult(sentence_index=3, word_index=2, text='taken', obj_id=767),\n",
       "       GeneralResult(sentence_index=3, word_index=3, text='for', obj_id=767),\n",
       "       GeneralResult(sentence_index=3, word_index=4, text='granted', obj_id=767),\n",
       "       GeneralResult(sentence_index=0, word_index=0, text='ed', obj_id=1644),\n",
       "       GeneralResult(sentence_index=0, word_index=1, text='castaldo', obj_id=1644),\n",
       "       GeneralResult(sentence_index=0, word_index=3, text='author', obj_id=1644),\n",
       "       GeneralResult(sentence_index=0, word_index=4, text='of', obj_id=1644),\n",
       "       GeneralResult(sentence_index=0, word_index=5, text='the', obj_id=1644),\n",
       "       GeneralResult(sentence_index=0, word_index=6, text='codex', obj_id=1644),\n",
       "       GeneralResult(sentence_index=0, word_index=7, text='petra', obj_id=1644),\n",
       "       GeneralResult(sentence_index=0, word_index=8, text='chapbook', obj_id=1644),\n",
       "       GeneralResult(sentence_index=0, word_index=10, text='the', obj_id=1644),\n",
       "       GeneralResult(sentence_index=0, word_index=11, text='pristine', obj_id=1644),\n",
       "       GeneralResult(sentence_index=0, word_index=12, text='wall', obj_id=1644),\n",
       "       GeneralResult(sentence_index=0, word_index=14, text='and', obj_id=1644),\n",
       "       GeneralResult(sentence_index=0, word_index=15, text='the', obj_id=1644),\n",
       "       GeneralResult(sentence_index=0, word_index=16, text='upcoming', obj_id=1644),\n",
       "       GeneralResult(sentence_index=0, word_index=18, text='untethered', obj_id=1644),\n",
       "       GeneralResult(sentence_index=0, word_index=19, text='series', obj_id=1644),\n",
       "       GeneralResult(sentence_index=0, word_index=21, text='started', obj_id=1644),\n",
       "       GeneralResult(sentence_index=0, word_index=22, text='spider', obj_id=1644),\n",
       "       GeneralResult(sentence_index=0, word_index=23, text='stone', obj_id=1644),\n",
       "       GeneralResult(sentence_index=0, word_index=24, text='publishing', obj_id=1644),\n",
       "       GeneralResult(sentence_index=0, word_index=25, text='in', obj_id=1644),\n",
       "       GeneralResult(sentence_index=1, word_index=1, text='amwriting', obj_id=1644),\n",
       "       GeneralResult(sentence_index=0, word_index=0, text='simple', obj_id=2353),\n",
       "       GeneralResult(sentence_index=0, word_index=1, text='caveman', obj_id=2353),\n",
       "       GeneralResult(sentence_index=1, word_index=0, text='exvc', obj_id=2353),\n",
       "       GeneralResult(sentence_index=2, word_index=0, text='seeking', obj_id=2353),\n",
       "       GeneralResult(sentence_index=2, word_index=1, text='next', obj_id=2353),\n",
       "       GeneralResult(sentence_index=3, word_index=0, text='also', obj_id=2353),\n",
       "       GeneralResult(sentence_index=3, word_index=1, text='angel', obj_id=2353),\n",
       "       GeneralResult(sentence_index=3, word_index=2, text='investor', obj_id=2353),\n",
       "       GeneralResult(sentence_index=3, word_index=5, text='streetcontxt', obj_id=2353),\n",
       "       GeneralResult(sentence_index=3, word_index=7, text='upverter', obj_id=2353),\n",
       "       GeneralResult(sentence_index=3, word_index=9, text='analyzere', obj_id=2353),\n",
       "       GeneralResult(sentence_index=3, word_index=11, text='send_with_us', obj_id=2353),\n",
       "       GeneralResult(sentence_index=3, word_index=12, text='photo', obj_id=2353),\n",
       "       GeneralResult(sentence_index=3, word_index=13, text='credit', obj_id=2353),\n",
       "       GeneralResult(sentence_index=3, word_index=14, text='http', obj_id=2353),\n",
       "       GeneralResult(sentence_index=0, word_index=0, text='avid', obj_id=2890),\n",
       "       GeneralResult(sentence_index=0, word_index=1, text='game', obj_id=2890),\n",
       "       GeneralResult(sentence_index=0, word_index=2, text='developer', obj_id=2890),\n",
       "       GeneralResult(sentence_index=0, word_index=3, text='and', obj_id=2890),\n",
       "       GeneralResult(sentence_index=0, word_index=4, text='enthusiast', obj_id=2890),\n",
       "       GeneralResult(sentence_index=0, word_index=0, text='wan', obj_id=3046),\n",
       "       GeneralResult(sentence_index=0, word_index=1, text='na', obj_id=3046),\n",
       "       GeneralResult(sentence_index=0, word_index=2, text='be', obj_id=3046),\n",
       "       GeneralResult(sentence_index=0, word_index=3, text='cyclist', obj_id=3046),\n",
       "       GeneralResult(sentence_index=0, word_index=5, text='techish', obj_id=3046),\n",
       "       GeneralResult(sentence_index=0, word_index=7, text='love', obj_id=3046),\n",
       "       GeneralResult(sentence_index=0, word_index=8, text='food', obj_id=3046),\n",
       "       GeneralResult(sentence_index=0, word_index=10, text='hence', obj_id=3046),\n",
       "       GeneralResult(sentence_index=0, word_index=11, text='the', obj_id=3046),\n",
       "       GeneralResult(sentence_index=0, word_index=12, text='cycling', obj_id=3046),\n",
       "       GeneralResult(sentence_index=0, word_index=0, text='love', obj_id=3478),\n",
       "       GeneralResult(sentence_index=1, word_index=0, text='curiosity', obj_id=3478),\n",
       "       GeneralResult(sentence_index=1, word_index=2, text='strength', obj_id=3478),\n",
       "       GeneralResult(sentence_index=1, word_index=3, text='artist', obj_id=3478),\n",
       "       GeneralResult(sentence_index=1, word_index=5, text='listener', obj_id=3478),\n",
       "       GeneralResult(sentence_index=1, word_index=7, text='philosopher', obj_id=3478),\n",
       "       GeneralResult(sentence_index=0, word_index=0, text='persist', obj_id=3796),\n",
       "       GeneralResult(sentence_index=1, word_index=0, text='content', obj_id=3796),\n",
       "       GeneralResult(sentence_index=1, word_index=1, text='strategy', obj_id=3796),\n",
       "       GeneralResult(sentence_index=1, word_index=3, text='anthropology', obj_id=3796),\n",
       "       GeneralResult(sentence_index=1, word_index=5, text='systems', obj_id=3796),\n",
       "       GeneralResult(sentence_index=1, word_index=6, text='theory', obj_id=3796),\n",
       "       GeneralResult(sentence_index=2, word_index=1, text='disclaimer', obj_id=3796),\n",
       "       GeneralResult(sentence_index=2, word_index=3, text='i', obj_id=3796),\n",
       "       GeneralResult(sentence_index=2, word_index=4, text='work', obj_id=3796),\n",
       "       GeneralResult(sentence_index=2, word_index=5, text='at', obj_id=3796),\n",
       "       GeneralResult(sentence_index=2, word_index=6, text='twitter', obj_id=3796),\n",
       "       GeneralResult(sentence_index=3, word_index=0, text='views', obj_id=3796),\n",
       "       GeneralResult(sentence_index=3, word_index=1, text='are', obj_id=3796),\n",
       "       GeneralResult(sentence_index=3, word_index=2, text='my', obj_id=3796),\n",
       "       GeneralResult(sentence_index=3, word_index=3, text='own', obj_id=3796),\n",
       "       GeneralResult(sentence_index=3, word_index=5, text='retweet', obj_id=3796),\n",
       "       GeneralResult(sentence_index=3, word_index=6, text='does', obj_id=3796),\n",
       "       GeneralResult(sentence_index=3, word_index=7, text='not', obj_id=3796),\n",
       "       GeneralResult(sentence_index=3, word_index=8, text='equal', obj_id=3796),\n",
       "       GeneralResult(sentence_index=3, word_index=9, text='endorsement', obj_id=3796),\n",
       "       GeneralResult(sentence_index=0, word_index=0, text='we', obj_id=4743),\n",
       "       GeneralResult(sentence_index=0, word_index=1, text='can', obj_id=4743),\n",
       "       GeneralResult(sentence_index=0, word_index=2, text='blossom', obj_id=4743),\n",
       "       GeneralResult(sentence_index=0, word_index=3, text='right', obj_id=4743),\n",
       "       GeneralResult(sentence_index=0, word_index=4, text='where', obj_id=4743),\n",
       "       GeneralResult(sentence_index=0, word_index=5, text='we', obj_id=4743),\n",
       "       GeneralResult(sentence_index=0, word_index=6, text='are', obj_id=4743),\n",
       "       GeneralResult(sentence_index=1, word_index=0, text='founder', obj_id=4743),\n",
       "       GeneralResult(sentence_index=1, word_index=2, text='everblossoming', obj_id=4743),\n",
       "       GeneralResult(sentence_index=2, word_index=0, text='lover', obj_id=4743),\n",
       "       GeneralResult(sentence_index=2, word_index=1, text='of', obj_id=4743),\n",
       "       GeneralResult(sentence_index=2, word_index=2, text='clean', obj_id=4743),\n",
       "       GeneralResult(sentence_index=2, word_index=3, text='food', obj_id=4743),\n",
       "       GeneralResult(sentence_index=2, word_index=5, text='herbalism', obj_id=4743),\n",
       "       GeneralResult(sentence_index=2, word_index=7, text='and', obj_id=4743),\n",
       "       GeneralResult(sentence_index=2, word_index=8, text='positivity', obj_id=4743),\n",
       "       GeneralResult(sentence_index=0, word_index=0, text='into', obj_id=4864),\n",
       "       GeneralResult(sentence_index=0, word_index=1, text='social', obj_id=4864),\n",
       "       GeneralResult(sentence_index=0, word_index=2, text='media', obj_id=4864),\n",
       "       GeneralResult(sentence_index=0, word_index=3, text='and', obj_id=4864),\n",
       "       GeneralResult(sentence_index=0, word_index=4, text='international', obj_id=4864),\n",
       "       GeneralResult(sentence_index=0, word_index=5, text='affairs', obj_id=4864),\n",
       "       GeneralResult(sentence_index=1, word_index=1, text='en', obj_id=4864),\n",
       "       GeneralResult(sentence_index=1, word_index=5, text='ro', obj_id=4864),\n",
       "       GeneralResult(sentence_index=1, word_index=9, text='sp', obj_id=4864),\n",
       "       GeneralResult(sentence_index=1, word_index=13, text='fr', obj_id=4864),\n",
       "       GeneralResult(sentence_index=1, word_index=17, text='it', obj_id=4864),\n",
       "       GeneralResult(sentence_index=2, word_index=0, text='tîrgu-mureș-', obj_id=4864),\n",
       "       GeneralResult(sentence_index=2, word_index=1, text='bucurești-ciudad', obj_id=4864),\n",
       "       GeneralResult(sentence_index=2, word_index=2, text='de', obj_id=4864),\n",
       "       GeneralResult(sentence_index=2, word_index=3, text='méxico-roma-paris', obj_id=4864),\n",
       "       GeneralResult(sentence_index=0, word_index=1, text='healthcare', obj_id=5343),\n",
       "       GeneralResult(sentence_index=0, word_index=3, text='digital', obj_id=5343),\n",
       "       GeneralResult(sentence_index=0, word_index=4, text='marketer', obj_id=5343),\n",
       "       GeneralResult(sentence_index=1, word_index=0, text='passionate', obj_id=5343),\n",
       "       GeneralResult(sentence_index=1, word_index=1, text='about', obj_id=5343),\n",
       "       GeneralResult(sentence_index=1, word_index=3, text='innovation', obj_id=5343),\n",
       "       GeneralResult(sentence_index=1, word_index=4, text='in', obj_id=5343),\n",
       "       GeneralResult(sentence_index=1, word_index=5, text='digital', obj_id=5343),\n",
       "       GeneralResult(sentence_index=1, word_index=6, text='health', obj_id=5343),\n",
       "       GeneralResult(sentence_index=1, word_index=8, text='personalized', obj_id=5343),\n",
       "       GeneralResult(sentence_index=1, word_index=9, text='medicine', obj_id=5343),\n",
       "       GeneralResult(sentence_index=1, word_index=11, text='and', obj_id=5343),\n",
       "       GeneralResult(sentence_index=1, word_index=12, text='nutrition', obj_id=5343),\n",
       "       GeneralResult(sentence_index=2, word_index=0, text='tweets', obj_id=5343),\n",
       "       GeneralResult(sentence_index=2, word_index=1, text='about', obj_id=5343),\n",
       "       GeneralResult(sentence_index=2, word_index=2, text='everything', obj_id=5343),\n",
       "       GeneralResult(sentence_index=2, word_index=3, text='that', obj_id=5343),\n",
       "       GeneralResult(sentence_index=2, word_index=4, text='amazes', obj_id=5343),\n",
       "       GeneralResult(sentence_index=0, word_index=0, text='web', obj_id=5357),\n",
       "       GeneralResult(sentence_index=0, word_index=1, text='developer', obj_id=5357),\n",
       "       GeneralResult(sentence_index=0, word_index=3, text='marketer', obj_id=5357),\n",
       "       GeneralResult(sentence_index=0, word_index=5, text='caffeine', obj_id=5357),\n",
       "       GeneralResult(sentence_index=0, word_index=6, text='aficionado', obj_id=5357),\n",
       "       GeneralResult(sentence_index=1, word_index=0, text='made', obj_id=5357),\n",
       "       GeneralResult(sentence_index=1, word_index=1, text='in', obj_id=5357),\n",
       "       GeneralResult(sentence_index=1, word_index=2, text='chicago', obj_id=5357),\n",
       "       GeneralResult(sentence_index=0, word_index=0, text='i', obj_id=5484),\n",
       "       GeneralResult(sentence_index=0, word_index=2, text='the', obj_id=5484),\n",
       "       GeneralResult(sentence_index=0, word_index=3, text='guy', obj_id=5484),\n",
       "       GeneralResult(sentence_index=0, word_index=4, text='people', obj_id=5484),\n",
       "       GeneralResult(sentence_index=0, word_index=5, text='walk', obj_id=5484),\n",
       "       GeneralResult(sentence_index=0, word_index=6, text='past', obj_id=5484),\n",
       "       GeneralResult(sentence_index=0, word_index=7, text='to', obj_id=5484),\n",
       "       GeneralResult(sentence_index=0, word_index=8, text='get', obj_id=5484),\n",
       "       GeneralResult(sentence_index=0, word_index=9, text='to', obj_id=5484),\n",
       "       GeneralResult(sentence_index=0, word_index=10, text='the', obj_id=5484),\n",
       "       GeneralResult(sentence_index=0, word_index=11, text='person', obj_id=5484),\n",
       "       GeneralResult(sentence_index=0, word_index=12, text='they', obj_id=5484),\n",
       "       GeneralResult(sentence_index=0, word_index=13, text='want', obj_id=5484),\n",
       "       GeneralResult(sentence_index=0, word_index=14, text='to', obj_id=5484),\n",
       "       GeneralResult(sentence_index=0, word_index=15, text='talk', obj_id=5484),\n",
       "       GeneralResult(sentence_index=0, word_index=16, text='to', obj_id=5484),\n",
       "       GeneralResult(sentence_index=0, word_index=0, text='don', obj_id=5608),\n",
       "       GeneralResult(sentence_index=0, word_index=1, text='snyder', obj_id=5608),\n",
       "       GeneralResult(sentence_index=0, word_index=2, text='has', obj_id=5608),\n",
       "       GeneralResult(sentence_index=0, word_index=3, text='creative', obj_id=5608),\n",
       "       GeneralResult(sentence_index=0, word_index=4, text='powers', obj_id=5608),\n",
       "       GeneralResult(sentence_index=0, word_index=5, text='beyond', obj_id=5608),\n",
       "       GeneralResult(sentence_index=0, word_index=6, text='those', obj_id=5608),\n",
       "       GeneralResult(sentence_index=0, word_index=7, text='of', obj_id=5608),\n",
       "       GeneralResult(sentence_index=0, word_index=8, text='mere', obj_id=5608),\n",
       "       GeneralResult(sentence_index=0, word_index=9, text='mortals', obj_id=5608),\n",
       "       GeneralResult(sentence_index=0, word_index=11, text='you', obj_id=5608),\n",
       "       GeneralResult(sentence_index=0, word_index=12, text='should', obj_id=5608),\n",
       "       GeneralResult(sentence_index=0, word_index=13, text='contact', obj_id=5608),\n",
       "       GeneralResult(sentence_index=0, word_index=14, text='him', obj_id=5608),\n",
       "       GeneralResult(sentence_index=0, word_index=15, text='if', obj_id=5608),\n",
       "       GeneralResult(sentence_index=0, word_index=16, text='you', obj_id=5608),\n",
       "       GeneralResult(sentence_index=0, word_index=17, text='need', obj_id=5608),\n",
       "       GeneralResult(sentence_index=0, word_index=18, text='a', obj_id=5608),\n",
       "       GeneralResult(sentence_index=0, word_index=19, text='big', obj_id=5608),\n",
       "       GeneralResult(sentence_index=0, word_index=20, text='idea', obj_id=5608),\n",
       "       GeneralResult(sentence_index=1, word_index=0, text='http', obj_id=5608),\n",
       "       GeneralResult(sentence_index=0, word_index=0, text='interested', obj_id=5672),\n",
       "       GeneralResult(sentence_index=0, word_index=1, text='in', obj_id=5672),\n",
       "       GeneralResult(sentence_index=0, word_index=2, text='the', obj_id=5672),\n",
       "       GeneralResult(sentence_index=0, word_index=3, text='future', obj_id=5672),\n",
       "       GeneralResult(sentence_index=0, word_index=4, text='of', obj_id=5672),\n",
       "       GeneralResult(sentence_index=0, word_index=5, text='work', obj_id=5672),\n",
       "       GeneralResult(sentence_index=0, word_index=7, text='photographer', obj_id=5672),\n",
       "       GeneralResult(sentence_index=0, word_index=9, text='ethnographer', obj_id=5672),\n",
       "       GeneralResult(sentence_index=0, word_index=11, text='works', obj_id=5672),\n",
       "       GeneralResult(sentence_index=0, word_index=12, text='at', obj_id=5672),\n",
       "       GeneralResult(sentence_index=0, word_index=13, text='http', obj_id=5672),\n",
       "       GeneralResult(sentence_index=0, word_index=17, text='http', obj_id=5672),\n",
       "       GeneralResult(sentence_index=0, word_index=1, text='designer', obj_id=6246),\n",
       "       GeneralResult(sentence_index=0, word_index=3, text='photographer', obj_id=6246),\n",
       "       GeneralResult(sentence_index=0, word_index=6, text='f1', obj_id=6246),\n",
       "       GeneralResult(sentence_index=0, word_index=7, text='fanatic', obj_id=6246),\n",
       "       GeneralResult(sentence_index=0, word_index=9, text='football', obj_id=6246),\n",
       "       GeneralResult(sentence_index=0, word_index=11, text='fan', obj_id=6246),\n",
       "       GeneralResult(sentence_index=0, word_index=12, text='of', obj_id=6246),\n",
       "       GeneralResult(sentence_index=0, word_index=14, text='stokecity', obj_id=6246),\n",
       "       GeneralResult(sentence_index=0, word_index=16, text='football', obj_id=6246),\n",
       "       GeneralResult(sentence_index=0, word_index=17, text='coach', obj_id=6246),\n",
       "       GeneralResult(sentence_index=0, word_index=19, text='contributor', obj_id=6246),\n",
       "       GeneralResult(sentence_index=0, word_index=20, text='for', obj_id=6246),\n",
       "       GeneralResult(sentence_index=0, word_index=22, text='metro_sport', obj_id=6246),\n",
       "       GeneralResult(sentence_index=0, word_index=24, text='editor', obj_id=6246),\n",
       "       GeneralResult(sentence_index=0, word_index=25, text='of', obj_id=6246),\n",
       "       GeneralResult(sentence_index=0, word_index=26, text='http', obj_id=6246),\n",
       "       GeneralResult(sentence_index=0, word_index=0, text='food', obj_id=6434),\n",
       "       GeneralResult(sentence_index=1, word_index=0, text='pictures', obj_id=6434),\n",
       "       GeneralResult(sentence_index=1, word_index=1, text='of', obj_id=6434),\n",
       "       GeneralResult(sentence_index=1, word_index=2, text='food', obj_id=6434),\n",
       "       GeneralResult(sentence_index=2, word_index=0, text='video', obj_id=6434),\n",
       "       GeneralResult(sentence_index=2, word_index=1, text='games', obj_id=6434),\n",
       "       GeneralResult(sentence_index=3, word_index=0, text='nba', obj_id=6434),\n",
       "       GeneralResult(sentence_index=4, word_index=0, text='blue', obj_id=6434),\n",
       "       GeneralResult(sentence_index=4, word_index=1, text='jays', obj_id=6434),\n",
       "       GeneralResult(sentence_index=5, word_index=0, text='electronics', obj_id=6434),\n",
       "       GeneralResult(sentence_index=6, word_index=0, text='movies', obj_id=6434),\n",
       "       GeneralResult(sentence_index=7, word_index=0, text='nintendo', obj_id=6434),\n",
       "       GeneralResult(sentence_index=8, word_index=0, text='politics', obj_id=6434),\n",
       "       GeneralResult(sentence_index=9, word_index=0, text='travelling', obj_id=6434),\n",
       "       GeneralResult(sentence_index=10, word_index=0, text='not', obj_id=6434),\n",
       "       GeneralResult(sentence_index=10, word_index=1, text='necessarily', obj_id=6434),\n",
       "       GeneralResult(sentence_index=10, word_index=2, text='in', obj_id=6434),\n",
       "       GeneralResult(sentence_index=10, word_index=3, text='that', obj_id=6434),\n",
       "       GeneralResult(sentence_index=10, word_index=4, text='order', obj_id=6434),\n",
       "       GeneralResult(sentence_index=0, word_index=0, text='یک', obj_id=6828),\n",
       "       GeneralResult(sentence_index=0, word_index=2, text='ساکن', obj_id=6828),\n",
       "       GeneralResult(sentence_index=0, word_index=3, text='جنوب', obj_id=6828),\n",
       "       GeneralResult(sentence_index=0, word_index=4, text='شبه', obj_id=6828),\n",
       "       GeneralResult(sentence_index=0, word_index=5, text='قاره', obj_id=6828),\n",
       "       GeneralResult(sentence_index=0, word_index=6, text='هند', obj_id=6828),\n",
       "       GeneralResult(sentence_index=0, word_index=0, text='social', obj_id=9080),\n",
       "       GeneralResult(sentence_index=0, word_index=1, text='media', obj_id=9080),\n",
       "       GeneralResult(sentence_index=0, word_index=2, text='manager', obj_id=9080),\n",
       "       GeneralResult(sentence_index=0, word_index=3, text='for', obj_id=9080),\n",
       "       GeneralResult(sentence_index=0, word_index=4, text='community', obj_id=9080),\n",
       "       GeneralResult(sentence_index=0, word_index=5, text='health', obj_id=9080),\n",
       "       GeneralResult(sentence_index=0, word_index=6, text='center', obj_id=9080),\n",
       "       GeneralResult(sentence_index=0, word_index=8, text='inc.', obj_id=9080),\n",
       "       GeneralResult(sentence_index=0, word_index=9, text='internet', obj_id=9080),\n",
       "       GeneralResult(sentence_index=0, word_index=10, text='raconteur', obj_id=9080),\n",
       "       GeneralResult(sentence_index=1, word_index=0, text='old', obj_id=9080),\n",
       "       GeneralResult(sentence_index=1, word_index=1, text='guard', obj_id=9080),\n",
       "       GeneralResult(sentence_index=1, word_index=2, text='hard', obj_id=9080),\n",
       "       GeneralResult(sentence_index=1, word_index=3, text='core', obj_id=9080),\n",
       "       GeneralResult(sentence_index=1, word_index=4, text='politics', obj_id=9080),\n",
       "       GeneralResult(sentence_index=1, word_index=6, text='media', obj_id=9080),\n",
       "       GeneralResult(sentence_index=1, word_index=8, text='technology', obj_id=9080),\n",
       "       GeneralResult(sentence_index=1, word_index=9, text='and', obj_id=9080),\n",
       "       GeneralResult(sentence_index=1, word_index=10, text='social', obj_id=9080),\n",
       "       GeneralResult(sentence_index=1, word_index=11, text='networks', obj_id=9080),\n",
       "       GeneralResult(sentence_index=1, word_index=12, text='geek', obj_id=9080),\n",
       "       GeneralResult(sentence_index=0, word_index=0, text='echo', obj_id=10198),\n",
       "       GeneralResult(sentence_index=0, word_index=1, text='chamber', obj_id=10198)])"
      ]
     },
     "execution_count": 33,
     "metadata": {},
     "output_type": "execute_result"
    }
   ],
   "source": [
    "sq.queue.queue"
   ]
  },
  {
   "cell_type": "code",
   "execution_count": null,
   "metadata": {
    "ExecuteTime": {
     "end_time": "2018-03-10T06:41:46.749010Z",
     "start_time": "2018-03-10T06:35:15.290238Z"
    },
    "editable": false,
    "run_control": {
     "frozen": true
    }
   },
   "outputs": [],
   "source": [
    "\n",
    "def process_word_freq_in_user_profiles(counter, userCursor):\n",
    "    # all users\n",
    "    user_count = 0\n",
    "\n",
    "    while True:\n",
    "        try:\n",
    "            user = userCursor.next()\n",
    "    #         Note that we're not going to add the id to the map yet\n",
    "            counter.process(user.description)\n",
    "            user_count += 1\n",
    "        except StopIteration as e:\n",
    "            print(\"%s users processed; %s words identified\" % (user_count, len(counter.counts)))\n",
    "            break\n",
    "\n",
    "    return Series(counter.counts)\n",
    "\n",
    "# word_freq_in_user_profiles = process_word_freq_in_user_profiles(counter, u)\n",
    "# word_freq_in_user_profiles.to_csv(USER_PROFILE_TERM_FREQ_FILEPATH)\n",
    "\n",
    "# took 6m31s to process \n",
    "# 1162362 users processed; 846948 words identified\n"
   ]
  },
  {
   "cell_type": "markdown",
   "metadata": {},
   "source": [
    "### Report word frequencies in user profiles"
   ]
  },
  {
   "cell_type": "code",
   "execution_count": null,
   "metadata": {
    "ExecuteTime": {
     "end_time": "2018-03-10T06:42:25.042043Z",
     "start_time": "2018-03-10T06:42:23.952277Z"
    }
   },
   "outputs": [],
   "source": [
    "fig, ax = plt.subplots(figsize=(8,4))\n",
    "word_freq_in_user_profiles.hist(ax=ax, bins=100, bottom=0.1)\n",
    "ax.set_yscale('log')\n",
    "ax.set_title(\"Term frequency in user profiles\")\n",
    "fig.tight_layout()"
   ]
  },
  {
   "cell_type": "markdown",
   "metadata": {},
   "source": [
    "## Truncate the found word list"
   ]
  },
  {
   "cell_type": "code",
   "execution_count": null,
   "metadata": {
    "ExecuteTime": {
     "end_time": "2018-03-13T23:50:11.104378Z",
     "start_time": "2018-03-13T23:50:11.044406Z"
    }
   },
   "outputs": [],
   "source": [
    "# Remove terms \n",
    "words = word_freq_in_user_profiles.loc[lambda x: x > MIN_FREQ]\n",
    "print(\"%s words out of %s appear more often than %sx\" % (len(words), len(word_freq_in_user_profiles), MIN_FREQ))"
   ]
  },
  {
   "cell_type": "code",
   "execution_count": null,
   "metadata": {
    "ExecuteTime": {
     "end_time": "2018-03-13T23:50:12.053075Z",
     "start_time": "2018-03-13T23:50:12.050199Z"
    },
    "run_control": {
     "marked": true
    }
   },
   "outputs": [],
   "source": [
    "out = '/Users/adam/Desktop/TEMPORARY/user-profile-word-counts-over-100.csv'\n",
    "# words.to_csv(out)"
   ]
  },
  {
   "cell_type": "code",
   "execution_count": null,
   "metadata": {
    "ExecuteTime": {
     "end_time": "2018-03-13T23:50:13.734378Z",
     "start_time": "2018-03-13T23:50:12.796607Z"
    }
   },
   "outputs": [],
   "source": [
    "fig, ax = plt.subplots()\n",
    "words.hist(ax=ax, bins=100, bottom=0.1)\n",
    "ax.set_yscale('log')\n",
    "ax.set_title(\"Term frequency in user profiles (min: %s)\" % MIN_FREQ)\n",
    "fig.tight_layout()"
   ]
  },
  {
   "cell_type": "markdown",
   "metadata": {},
   "source": [
    "## Remove stopwords "
   ]
  },
  {
   "cell_type": "code",
   "execution_count": null,
   "metadata": {
    "ExecuteTime": {
     "end_time": "2018-03-13T23:52:28.693885Z",
     "start_time": "2018-03-13T23:52:27.403260Z"
    }
   },
   "outputs": [],
   "source": [
    "def is_stopword(text):\n",
    "    \"\"\"check whether the supplied text is a stopword\"\"\"\n",
    "    return text in nltk.corpus.stopwords.words('english')\n",
    "\n",
    "def remove_stopwords(series):\n",
    "    d = {}\n",
    "    for k in series.keys():\n",
    "        if not is_stopword(k):\n",
    "             d[k] = series[k]\n",
    "    print(\"Removed %s stopwords from the words list\" % (len(series) - len(d.keys())))\n",
    "    return Series(d)\n",
    "\n",
    "words = remove_stopwords(words)\n",
    "#words.to_csv(MIN_100_NO_STOPS)"
   ]
  },
  {
   "cell_type": "code",
   "execution_count": null,
   "metadata": {
    "ExecuteTime": {
     "end_time": "2018-03-14T03:52:58.679342Z",
     "start_time": "2018-03-14T03:52:58.676336Z"
    }
   },
   "outputs": [],
   "source": []
  },
  {
   "cell_type": "markdown",
   "metadata": {},
   "source": [
    "### Word frequencies in user profiles"
   ]
  },
  {
   "cell_type": "code",
   "execution_count": null,
   "metadata": {
    "ExecuteTime": {
     "end_time": "2018-03-15T20:07:54.637855Z",
     "start_time": "2018-03-15T20:07:54.624395Z"
    }
   },
   "outputs": [],
   "source": [
    "words = pd.read_csv(MIN_100_NO_STOPS, header=None, names=['term', 'freq'])\n",
    "len(words)"
   ]
  },
  {
   "cell_type": "code",
   "execution_count": null,
   "metadata": {
    "ExecuteTime": {
     "end_time": "2018-03-15T20:07:56.095868Z",
     "start_time": "2018-03-15T20:07:55.251539Z"
    }
   },
   "outputs": [],
   "source": [
    "fig, ax = plt.subplots(figsize=(8,4))\n",
    "words.freq.hist(ax=ax, bins=100, bottom=0.1)\n",
    "ax.set_yscale('log')\n",
    "ax.set_title(\"User profile term freq (min: %s ; stopwords removed)\" % MIN_FREQ)\n",
    "fig.tight_layout()"
   ]
  },
  {
   "cell_type": "code",
   "execution_count": null,
   "metadata": {
    "ExecuteTime": {
     "end_time": "2018-03-15T20:08:48.102428Z",
     "start_time": "2018-03-15T20:08:47.801266Z"
    }
   },
   "outputs": [],
   "source": [
    "fig, ax = plt.subplots(figsize=(8,4))\n",
    "sns.distplot(words.freq, ax=ax)\n",
    "ax.set_title(\"KDE of Term frequency in user profiles\")"
   ]
  },
  {
   "cell_type": "code",
   "execution_count": null,
   "metadata": {
    "ExecuteTime": {
     "end_time": "2018-03-15T20:10:37.579819Z",
     "start_time": "2018-03-15T20:10:37.570090Z"
    }
   },
   "outputs": [],
   "source": [
    "words.max()"
   ]
  },
  {
   "cell_type": "code",
   "execution_count": null,
   "metadata": {
    "ExecuteTime": {
     "end_time": "2018-03-15T20:11:30.427890Z",
     "start_time": "2018-03-15T20:11:30.415702Z"
    }
   },
   "outputs": [],
   "source": [
    "w = words.sort_values(by='freq', ascending=False)\n",
    "w[:10]"
   ]
  },
  {
   "cell_type": "code",
   "execution_count": null,
   "metadata": {
    "ExecuteTime": {
     "end_time": "2018-03-14T03:53:34.186422Z",
     "start_time": "2018-03-14T03:53:34.171294Z"
    }
   },
   "outputs": [],
   "source": [
    "j = pd.read_csv(MIN_100_NO_STOPS)"
   ]
  },
  {
   "cell_type": "code",
   "execution_count": null,
   "metadata": {
    "ExecuteTime": {
     "end_time": "2018-03-14T03:53:39.440114Z",
     "start_time": "2018-03-14T03:53:39.434964Z"
    }
   },
   "outputs": [],
   "source": [
    "len(j)"
   ]
  },
  {
   "cell_type": "code",
   "execution_count": null,
   "metadata": {
    "ExecuteTime": {
     "end_time": "2018-03-15T20:20:59.750577Z",
     "start_time": "2018-03-15T20:20:59.738125Z"
    }
   },
   "outputs": [],
   "source": [
    "ww = words.copy(deep=True)[:10]\n",
    "w5 = ww.loc[lambda x : x.freq > 1000]\n",
    "w5"
   ]
  },
  {
   "cell_type": "code",
   "execution_count": null,
   "metadata": {},
   "outputs": [],
   "source": []
  },
  {
   "cell_type": "code",
   "execution_count": null,
   "metadata": {},
   "outputs": [],
   "source": []
  },
  {
   "cell_type": "code",
   "execution_count": null,
   "metadata": {
    "ExecuteTime": {
     "end_time": "2018-03-14T03:53:48.595173Z",
     "start_time": "2018-03-14T03:53:48.583509Z"
    }
   },
   "outputs": [],
   "source": [
    "j[:5]"
   ]
  },
  {
   "cell_type": "code",
   "execution_count": null,
   "metadata": {
    "ExecuteTime": {
     "end_time": "2018-03-15T20:21:30.108809Z",
     "start_time": "2018-03-15T20:21:30.102545Z"
    }
   },
   "outputs": [],
   "source": [
    "# Remove terms \n",
    "def filter_freq_list_by_min(wordFrame, minFreq):\n",
    "    \"\"\"Returns a copy of the frame, sans terms which do not occur above the minimum frequency\"\"\"\n",
    "    w = wordFrame.loc[lambda x: x.freq > minFreq]\n",
    "    print(\"%s words out of %s appear more often than %sx\" % (len(w), len(wordFrame), minFreq))\n",
    "    return w\n"
   ]
  },
  {
   "cell_type": "code",
   "execution_count": null,
   "metadata": {
    "ExecuteTime": {
     "end_time": "2018-03-15T20:21:42.602128Z",
     "start_time": "2018-03-15T20:21:42.596085Z"
    }
   },
   "outputs": [],
   "source": [
    "w4 = filter_freq_list_by_min(words, 10000)\n",
    "len(w4)"
   ]
  },
  {
   "cell_type": "code",
   "execution_count": null,
   "metadata": {
    "ExecuteTime": {
     "end_time": "2018-03-15T20:21:47.822806Z",
     "start_time": "2018-03-15T20:21:47.802321Z"
    }
   },
   "outputs": [],
   "source": [
    "w4"
   ]
  },
  {
   "cell_type": "code",
   "execution_count": 34,
   "metadata": {
    "ExecuteTime": {
     "end_time": "2018-03-23T23:18:25.521606Z",
     "start_time": "2018-03-23T23:18:25.513224Z"
    }
   },
   "outputs": [
    {
     "name": "stdout",
     "output_type": "stream",
     "text": [
      "(bookmark:texttools) -> /Users/adam/Dropbox/PainNarrativesLab/TextTools\n",
      "/Users/adam/Dropbox/PainNarrativesLab/TextTools\n"
     ]
    }
   ],
   "source": [
    "%cd texttools\n",
    "%run -i StatisticalTools/Counters\n",
    "selectedCounter = SelectedWordCounter()\n",
    "selectedCounter.set_words_to_count(list(counter.map.keys()))"
   ]
  },
  {
   "cell_type": "code",
   "execution_count": 35,
   "metadata": {
    "ExecuteTime": {
     "end_time": "2018-03-23T23:18:27.611426Z",
     "start_time": "2018-03-23T23:18:27.607558Z"
    }
   },
   "outputs": [
    {
     "data": {
      "text/plain": [
       "{}"
      ]
     },
     "execution_count": 35,
     "metadata": {},
     "output_type": "execute_result"
    }
   ],
   "source": [
    "selectedCounter.map"
   ]
  },
  {
   "cell_type": "code",
   "execution_count": 36,
   "metadata": {
    "ExecuteTime": {
     "end_time": "2018-03-23T23:18:33.162773Z",
     "start_time": "2018-03-23T23:18:33.154032Z"
    }
   },
   "outputs": [],
   "source": [
    "# restricted number of users for testing\n",
    "max_users = 10\n",
    "\n",
    "\n",
    "\n",
    "for i in range(0, max_users):\n",
    "    user = u.next()\n",
    "    selectedCounter.process(user.description, user.userID)\n",
    "\n",
    "    \n",
    "# todo save data"
   ]
  },
  {
   "cell_type": "code",
   "execution_count": 38,
   "metadata": {
    "ExecuteTime": {
     "end_time": "2018-03-23T23:18:45.815080Z",
     "start_time": "2018-03-23T23:18:45.809453Z"
    },
    "run_control": {
     "marked": true
    }
   },
   "outputs": [
    {
     "data": {
      "text/plain": [
       "{}"
      ]
     },
     "execution_count": 38,
     "metadata": {},
     "output_type": "execute_result"
    }
   ],
   "source": [
    "selectedCounter.counts"
   ]
  },
  {
   "cell_type": "code",
   "execution_count": null,
   "metadata": {},
   "outputs": [],
   "source": [
    "usersWithTermInProfile =[]"
   ]
  },
  {
   "cell_type": "code",
   "execution_count": null,
   "metadata": {
    "ExecuteTime": {
     "end_time": "2018-03-16T18:25:41.971589Z",
     "start_time": "2018-03-16T18:25:41.967508Z"
    },
    "run_control": {
     "marked": true
    }
   },
   "outputs": [],
   "source": [
    "\n",
    "def get_rows_for_terms(wordFrame, experimentalTerms):\n",
    "    return wordFrame[wordFrame.term.isin(experimentalTerms)]\n",
    "\n",
    "EXP_TERMS_FILEPATH = '%s/Dropbox/PainNarrativesLab/Data/experimental-terms.xlsx' % BASE\n",
    "experimentalTerms = pd.read_excel(EXP_TERMS_FILEPATH, squeeze=True)"
   ]
  },
  {
   "cell_type": "code",
   "execution_count": null,
   "metadata": {
    "ExecuteTime": {
     "end_time": "2018-03-16T18:25:59.008275Z",
     "start_time": "2018-03-16T18:25:58.996217Z"
    }
   },
   "outputs": [],
   "source": [
    "get_rows_for_terms(words, experimentalTerms)"
   ]
  },
  {
   "cell_type": "code",
   "execution_count": null,
   "metadata": {},
   "outputs": [],
   "source": []
  },
  {
   "cell_type": "code",
   "execution_count": null,
   "metadata": {},
   "outputs": [],
   "source": []
  },
  {
   "cell_type": "markdown",
   "metadata": {},
   "source": [
    "# Categorize users by condition"
   ]
  },
  {
   "cell_type": "code",
   "execution_count": null,
   "metadata": {},
   "outputs": [],
   "source": [
    "# Determine number of valid users identified and number of tweets each"
   ]
  },
  {
   "cell_type": "code",
   "execution_count": null,
   "metadata": {
    "ExecuteTime": {
     "end_time": "2018-03-10T03:07:31.931719Z",
     "start_time": "2018-03-10T03:07:31.927765Z"
    }
   },
   "outputs": [],
   "source": [
    "stripNonAlphaNum('!jip!')"
   ]
  },
  {
   "cell_type": "code",
   "execution_count": null,
   "metadata": {},
   "outputs": [],
   "source": [
    "\n",
    "wordTokenizer = WordTokenizer()\n",
    "word_processor = SingleWordProcessor()\n",
    "\n",
    "\n",
    "word_processor.add_to_filters( TextProcessors.Filters.UsernameFilter( ) )\n",
    "word_processor.add_to_filters( TextProcessors.Filters.PunctuationFilter( ) )\n",
    "word_processor.add_to_filters( TextProcessors.Filters.URLFilter( ) )\n",
    "word_processor.add_to_filters( TextProcessors.Filters.NumeralFilter( ) )\n",
    "word_processor.add_to_modifiers( TextProcessors.Modifiers.WierdBPrefixConverter() )\n",
    "# processor.add_to_modifiers( TextProcessors.Modifiers.UnicodeConverter() )\n",
    "word_processor.add_to_modifiers( TextProcessors.Modifiers.CaseConverter( ) )\n",
    "\n",
    "\n",
    "# Create queue and listeners for processed tokens\n",
    "Queue = SaveQueueHandler()\n",
    "Queue.register_listener(SaveListener())\n",
    "\n",
    "# Load cursor for tweet ids\n",
    "cursor = DataTools.Cursors.TweetCursor()\n",
    "\n",
    "StringProcessingWorker.initialize(cursor, Queue, word_processor)\n",
    "threads = []\n",
    "\n",
    "# for _ in range(1):\n",
    "worker = StringProcessingWorker()\n",
    "# worker.do_it()\n",
    "\n"
   ]
  },
  {
   "cell_type": "code",
   "execution_count": null,
   "metadata": {},
   "outputs": [],
   "source": []
  },
  {
   "cell_type": "code",
   "execution_count": null,
   "metadata": {},
   "outputs": [],
   "source": [
    "%cd textanalysis\n",
    "%run -i ProcessingTools/SearchTools.py\n"
   ]
  },
  {
   "cell_type": "code",
   "execution_count": null,
   "metadata": {},
   "outputs": [],
   "source": [
    "s = Searcher()\n",
    "spoonie_results = s.search('Spoonie')"
   ]
  },
  {
   "cell_type": "code",
   "execution_count": null,
   "metadata": {},
   "outputs": [],
   "source": []
  },
  {
   "cell_type": "code",
   "execution_count": null,
   "metadata": {},
   "outputs": [],
   "source": []
  },
  {
   "cell_type": "code",
   "execution_count": null,
   "metadata": {},
   "outputs": [],
   "source": []
  },
  {
   "cell_type": "code",
   "execution_count": null,
   "metadata": {
    "ExecuteTime": {
     "end_time": "2018-02-17T02:36:48.042221Z",
     "start_time": "2018-02-17T02:36:47.679878Z"
    }
   },
   "outputs": [],
   "source": [
    "# This cell was imported from twitter_data_analysis 11/9/16 \n",
    "%cd textanalysis\n",
    "%run -i ProcessingTools/SearchTools.py\n",
    "\n",
    "# \\section{Word frequency}\n",
    "# freq = pd.read_excel(\"%s/freq_wordlist.xlsx\" % DATAFOLDER)\n",
    "# len(freq)\n",
    "\n",
    "# fig, ax = plt.subplots()\n",
    "# freq.freq.hist(ax=ax, bins=100, bottom=0.1)\n",
    "# ax.set_yscale('log')\n",
    "# ax.set_title(\"Term frequency in user profiles\")\n",
    "\n",
    "# trimmed_freq = freq[freq.freq > 1000]\n",
    "# len(trimmed_freq)\n",
    "\n",
    "# fig, ax = plt.subplots()\n",
    "# trimmed_freq.freq.hist(ax=ax, bins=100, bottom=0.1)\n",
    "# ax.set_yscale('log')\n",
    "# ax.set_title(\"Term frequency in user profiles\")\n",
    "\n",
    "from beautifulsoup4.BeautifulSoup import BeautifulStoneSoup\n",
    "\n",
    "def formatter(text):\n",
    "    try:\n",
    "        return unicode(BeautifulStoneSoup(text, convertEntities=BeautifulStoneSoup.ALL_ENTITIES))\n",
    "    except:\n",
    "        print (\"Error %s\" % text)\n",
    "        return ''\n",
    "\n",
    "\n",
    "trimmed_freq['word'] = trimmed_freq['word'].map(lambda x: formatter(x))\n",
    "\n",
    "trimmed_freq.sort('freq', ascending=False)[:10]\n",
    "\n",
    "fibro_aliases = ['Fibromyalgia', 'Fibro', 'fibro*']\n",
    "for t in fibro_aliases:\n",
    "    fibro = condition_searcher(t, fibro)\n",
    "\n",
    "crps = Condition('crps')\n",
    "crps_aliases = ['crps', 'RSD', 'c.r.p.s.', 'r.s.d.', 'complex regional pain syndrome', 'reflex sympathetic dystrophy']\n",
    "for t in crps_aliases:\n",
    "    crps = condition_searcher(t, crps)\n",
    "\n",
    "import numpy\n",
    "d = numpy.genfromtxt('/Users/adam/Desktop/freq_wordlist.txt')\n",
    "\n",
    "import asciitable\n",
    "h = DataFrame(asciitable.read('/Users/adam/Desktop/freq_wordlist.txt'))\n",
    "\n",
    "dt = pd.read_table('/Users/adam/Desktop/freq_wordlist.csv', delim_whitespace=True, encoding='utf-8')\n",
    "\n",
    "dt = dt.applymap(lambda x: x['word'].encode('ascii', 'replace'))\n",
    "\n",
    "s = Searcher()\n",
    "crps_results = s.search('((crps) | (RSD) | (r.s.d.) | (c.r.p.s.) | (complex regional pain syndrome) | (chronic regional pain syndrome) | (reflex sympathetic dystrophy))')\n",
    "s = Searcher()\n",
    "migraine_results = s.search('((migraine) | (Migraineur) | (migr*))')\n",
    "s = Searcher()\n",
    "fibro_results = s.search('((Fibromyalgia) | (Fibro) | (fibro*) | (fm) | (fms))')\n",
    "s = Searcher()\n",
    "spoonie_results = s.search('Spoonie')\n",
    "s = Searcher()\n",
    "vulvodynia_results = s.search('Vulvodynia | Vulvadynia')\n",
    "s = Searcher()\n",
    "endo_results = s.search('endometriosis | endo')\n",
    "s = Searcher()\n",
    "neuropathy_results = s.search('neuropathy')\n",
    "s = Searcher()\n",
    "arthritis_results = s.search('((arthritis) | (*arthritis) | (oa) | (ra))' )\n",
    "s = Searcher()\n",
    "neuralgia_results = s.search('(neuralgia) | (*neuralgia)')\n",
    "s = Searcher()\n",
    "shingles_results = s.search('((shingles) | (post-herpetic neuralgia) | (PHN))')\n",
    "s = Searcher()\n",
    "backpain_results = s.search('(back pain | backpain)')\n",
    "s = Searcher()\n",
    "headache = s.search('headache')\n",
    "\n",
    "migraine_users = ug.get_from_list('migraine', migraine_results['userids'])\n",
    "crps_users = ug.get_from_list('crps', crps_results['userids'])\n",
    "fibro_users = ug.get_from_list('fibromyalgia', fibro_results['userids'])\n",
    "spoonie_users = ug.get_from_list('spoonie', spoonie_results['userids'])\n",
    "vulvodynia_users = ug.get_from_list('vulvodynia', vulvodynia_results['userids'])\n",
    "endo_users = ug.get_from_list('endometriosis', endo_results['userids'])\n",
    "neuropathy_users = ug.get_from_list('neuropathy', neuropathy_results['userids'])\n",
    "arthritis_users = ug.get_from_list('arthritis', arthritis_results['userids'])\n",
    "neuralgia_users = ug.get_from_list('neuralgia', neuralgia_results['userids'])\n",
    "shingles_users = ug.get_from_list('shingles', shingles_results['userids'])\n",
    "backpain_users = ug.get_from_list('backpain', backpain_results['userids'])\n",
    "\n",
    "migraine_users.to_csv('%s/migraine.csv' % DATAFOLDER)\n",
    "crps_users.to_csv('%s/crps.csv' % DATAFOLDER)\n",
    "fibro_users.to_csv('%s/fibromyalgia.csv' % DATAFOLDER)\n",
    "spoonie_users.to_csv('%s/spoonie.csv' % DATAFOLDER)\n",
    "vulvodynia_users.to_csv('%s/vulvodynia.csv' % DATAFOLDER)\n",
    "endo_users.to_csv('%s/endo.csv' % DATAFOLDER)\n",
    "neuropathy_users.to_csv('%s/neuropathy.csv' % DATAFOLDER)\n",
    "arthritis_users.to_csv('%s/arthritis.csv' % DATAFOLDER)\n",
    "neuralgia_users.to_csv('%s/neuralgia.csv' % DATAFOLDER)\n",
    "shingles_users.to_csv('%s/shingles.csv' % DATAFOLDER)\n",
    "backpain_users.to_csv('%s/backpain.csv' % DATAFOLDER)"
   ]
  },
  {
   "cell_type": "code",
   "execution_count": null,
   "metadata": {},
   "outputs": [],
   "source": []
  },
  {
   "cell_type": "code",
   "execution_count": null,
   "metadata": {},
   "outputs": [],
   "source": []
  },
  {
   "cell_type": "code",
   "execution_count": null,
   "metadata": {
    "ExecuteTime": {
     "end_time": "2017-07-06T02:41:22.607911Z",
     "start_time": "2017-07-06T02:41:20.176Z"
    }
   },
   "outputs": [],
   "source": [
    "j='jjj'\n",
    "print(\"%s\" % j)"
   ]
  },
  {
   "cell_type": "code",
   "execution_count": null,
   "metadata": {
    "ExecuteTime": {
     "end_time": "2017-07-06T02:41:22.608714Z",
     "start_time": "2017-07-06T02:41:20.179Z"
    }
   },
   "outputs": [],
   "source": [
    "TextTools.TextFilters.remove_numerals(\"7\")"
   ]
  },
  {
   "cell_type": "code",
   "execution_count": null,
   "metadata": {
    "ExecuteTime": {
     "end_time": "2017-07-06T02:41:22.610305Z",
     "start_time": "2017-07-06T02:41:20.188Z"
    }
   },
   "outputs": [],
   "source": [
    "\"\"\"\n",
    "Used to be in FILEFOLDER = '%s/Desktop/user_categories' % BASE\n",
    "Moved into Data folder in pain narratives lab\n",
    "\"\"\"\n",
    "def file_getter(filefolder=FILEFOLDER):\n",
    "    \"\"\"\n",
    "    Loads the the files in the folder    \n",
    "    Args:\n",
    "        filefolder: Folder path for where all the folders are stored\n",
    "    \n",
    "    Returns:\n",
    "        Dataframe\n",
    "    \"\"\"\n",
    "    datafiles = []\n",
    "    sourceFolder = os.walk(filefolder)\n",
    "    for f in sourceFolder:\n",
    "        filelist = f[2]\n",
    "        for fl in filelist:\n",
    "            fl = str(fl)\n",
    "            #if fl is not '.DS_Store':\n",
    "            if fl[-5:] == '.xlsx':\n",
    "                print (fl)\n",
    "                loc = filefolder + '/' + str(fl)\n",
    "                datafiles.append(loc)\n",
    "    return datafiles\n",
    "\n",
    "\n",
    "def cat_importer(filenames):\n",
    "    \"\"\"\n",
    "    Import spreadsheets with categorizations of users, \n",
    "    combine them, and return the result\n",
    "        \n",
    "    Args:\n",
    "        filenames: List of full path excel files\n",
    "    \n",
    "    Returns:\n",
    "        Dataframe\n",
    "    \"\"\"\n",
    "    frames = []\n",
    "    for f in filenames:\n",
    "        try:\n",
    "            frames.append(pd.read_excel(f))\n",
    "        except:\n",
    "            print (\"error with %s\" % f)\n",
    "    combined = pd.concat(frames)\n",
    "    return combined"
   ]
  },
  {
   "cell_type": "code",
   "execution_count": null,
   "metadata": {
    "ExecuteTime": {
     "end_time": "2017-07-06T02:41:22.611418Z",
     "start_time": "2017-07-06T02:41:20.191Z"
    }
   },
   "outputs": [],
   "source": [
    "files = file_getter()\n",
    "compiled = cat_importer(files)\n",
    "print (len(compiled))"
   ]
  },
  {
   "cell_type": "code",
   "execution_count": null,
   "metadata": {
    "ExecuteTime": {
     "end_time": "2017-07-06T02:41:22.612315Z",
     "start_time": "2017-07-06T02:41:20.194Z"
    }
   },
   "outputs": [],
   "source": [
    "compiled.columns"
   ]
  },
  {
   "cell_type": "code",
   "execution_count": null,
   "metadata": {
    "ExecuteTime": {
     "end_time": "2017-07-06T02:41:22.613093Z",
     "start_time": "2017-07-06T02:41:20.197Z"
    }
   },
   "outputs": [],
   "source": [
    "# Make frames with categorized users\n",
    "compiled = compiled[compiled.relevant == 1]\n",
    "patients = compiled[compiled.patient == 1]\n",
    "clinicians = compiled[compiled.clinician == 1]\n",
    "\n",
    "# Separate by condition\n",
    "patients_by_condition = patients.groupby('term')\n",
    "clinicians_by_condition = clinicians.groupby('term')"
   ]
  },
  {
   "cell_type": "code",
   "execution_count": null,
   "metadata": {
    "ExecuteTime": {
     "end_time": "2017-07-06T02:41:22.614212Z",
     "start_time": "2017-07-06T02:41:20.200Z"
    }
   },
   "outputs": [],
   "source": [
    "for g, n in patients_by_condition:\n",
    "    print(g, len(n)) "
   ]
  },
  {
   "cell_type": "code",
   "execution_count": null,
   "metadata": {
    "ExecuteTime": {
     "end_time": "2017-07-06T02:41:22.615050Z",
     "start_time": "2017-07-06T02:41:20.203Z"
    }
   },
   "outputs": [],
   "source": [
    "migraine_bag = []\n",
    "m = patients_by_condition.get_group('migraine')\n",
    "for i in m.profile:\n",
    "    migraine_bag.append(word_tokenize(i))\n",
    "#for p in m:\n",
    "#    migraine_bag.append(word_tokenize(p.profile))\n",
    "print(len(migraine_bag))"
   ]
  },
  {
   "cell_type": "code",
   "execution_count": null,
   "metadata": {
    "ExecuteTime": {
     "end_time": "2017-07-06T02:41:22.615748Z",
     "start_time": "2017-07-06T02:41:20.206Z"
    }
   },
   "outputs": [],
   "source": [
    "\n",
    "bagmaker = TextTools.WordBagMaker()\n",
    "bagmaker.add_to_ignorelist(ConstantsAndUtilities.Ignore.get_list())\n",
    "bagmaker.add_to_ignorelist(list(string.punctuation))\n",
    "bagmaker.add_to_ignorelist(nltk.corpus.stopwords.words('english'))\n",
    "bagmaker.add_to_cleaners(TextTools.URLCleaner())\n",
    "#bagmaker.add_to_cleaners(TextTools.NumeralCleaner())"
   ]
  },
  {
   "cell_type": "code",
   "execution_count": null,
   "metadata": {
    "ExecuteTime": {
     "end_time": "2017-07-06T02:41:22.616739Z",
     "start_time": "2017-07-06T02:41:20.209Z"
    }
   },
   "outputs": [],
   "source": [
    "'3'.isalpha()"
   ]
  },
  {
   "cell_type": "code",
   "execution_count": null,
   "metadata": {
    "ExecuteTime": {
     "end_time": "2017-07-06T02:41:22.617919Z",
     "start_time": "2017-07-06T02:41:20.212Z"
    }
   },
   "outputs": [],
   "source": [
    "nc = TextTools.NumeralCleaner()"
   ]
  },
  {
   "cell_type": "code",
   "execution_count": null,
   "metadata": {
    "ExecuteTime": {
     "end_time": "2017-07-06T02:41:22.618833Z",
     "start_time": "2017-07-06T02:41:20.215Z"
    }
   },
   "outputs": [],
   "source": [
    "nc.clean('cat')"
   ]
  },
  {
   "cell_type": "code",
   "execution_count": null,
   "metadata": {},
   "outputs": [],
   "source": []
  },
  {
   "cell_type": "code",
   "execution_count": null,
   "metadata": {
    "ExecuteTime": {
     "end_time": "2017-07-06T02:41:22.619515Z",
     "start_time": "2017-07-06T02:41:20.220Z"
    }
   },
   "outputs": [],
   "source": [
    "m = patients_by_condition.get_group('migraine')\n",
    "pw = [w for w in m.profile]\n",
    "\n",
    "bagmaker.process(pw)\n",
    "print(len(bagmaker.masterbag))"
   ]
  },
  {
   "cell_type": "code",
   "execution_count": null,
   "metadata": {
    "ExecuteTime": {
     "end_time": "2017-07-06T02:41:22.620231Z",
     "start_time": "2017-07-06T02:41:20.225Z"
    },
    "scrolled": true
   },
   "outputs": [],
   "source": [
    "bagmaker.masterbag"
   ]
  },
  {
   "cell_type": "code",
   "execution_count": null,
   "metadata": {
    "ExecuteTime": {
     "end_time": "2017-07-06T02:41:22.621002Z",
     "start_time": "2017-07-06T02:41:20.228Z"
    }
   },
   "outputs": [],
   "source": [
    "wf = TextStats.WordFreq(bagmaker.masterbag)"
   ]
  },
  {
   "cell_type": "code",
   "execution_count": null,
   "metadata": {
    "ExecuteTime": {
     "end_time": "2017-07-06T02:41:22.621795Z",
     "start_time": "2017-07-06T02:41:20.231Z"
    }
   },
   "outputs": [],
   "source": [
    "wf.topN(20)"
   ]
  },
  {
   "cell_type": "code",
   "execution_count": null,
   "metadata": {
    "ExecuteTime": {
     "end_time": "2017-07-06T02:41:22.622495Z",
     "start_time": "2017-07-06T02:41:20.235Z"
    }
   },
   "outputs": [],
   "source": [
    "wf.plot(30)"
   ]
  },
  {
   "cell_type": "code",
   "execution_count": null,
   "metadata": {
    "ExecuteTime": {
     "end_time": "2017-07-06T02:41:22.623317Z",
     "start_time": "2017-07-06T02:41:20.239Z"
    },
    "scrolled": true
   },
   "outputs": [],
   "source": [
    "mb = tuple(migraine_bag)\n",
    "mfd = nltk.FreqDist(mb)"
   ]
  },
  {
   "cell_type": "code",
   "execution_count": null,
   "metadata": {},
   "outputs": [],
   "source": []
  },
  {
   "cell_type": "code",
   "execution_count": null,
   "metadata": {
    "ExecuteTime": {
     "end_time": "2018-03-10T00:37:10.041320Z",
     "start_time": "2018-03-10T00:37:08.244921Z"
    }
   },
   "outputs": [],
   "source": [
    "%cd twitteranalysis\n",
    "import DataTools.Cursors\n",
    "\n",
    "# Create tables in database\n",
    "from DataTools.TweetORM import create_db_tables\n",
    "# create_db_tables()\n",
    "\n",
    "#%cd /Users/adam/Dropbox/PainNarrativesLab/TwitterDataAnalysis\n",
    "#%bookmark twitteranalysis\n",
    "%cd twitteranalysis\n",
    "%run -i environment.py\n",
    "%run -i ConstantsAndUtilities.py\n",
    "%run -i TestingTools/DataAndFunctionsForTesting.py\n",
    "%run -i \"DataTools/DataStructures.py\"\n",
    "%run -i \"DataTools/DataConnections.py\"\n",
    "%run -i \"DataTools/WordORM.py\"\n",
    "%run -i \"DataTools/DataRepositories.py\" \n",
    "\n",
    "# Initialize the tools for filtering and modifying the individual tweet words\n",
    "from TextProcessors.Filters import *\n",
    "from TextProcessors.Modifiers import *\n",
    "%cd texttools\n",
    "%run -i TextProcessors/Processors\n",
    "%run -i TextProcessors/Tokenizers\n",
    "\n",
    "%run -i ProcessingTools/ProcessingControllers.py\n",
    "%run -i ProcessingTools/Listeners.py\n",
    "%run -i ProcessingTools/Workers.py\n",
    "import DataTools.Cursors"
   ]
  }
 ],
 "metadata": {
  "kernelspec": {
   "display_name": "Python 3",
   "language": "python",
   "name": "python3"
  },
  "language_info": {
   "codemirror_mode": {
    "name": "ipython",
    "version": 3
   },
   "file_extension": ".py",
   "mimetype": "text/x-python",
   "name": "python",
   "nbconvert_exporter": "python",
   "pygments_lexer": "ipython3",
   "version": "3.4.3"
  },
  "latex_envs": {
   "bibliofile": "biblio.bib",
   "cite_by": "apalike",
   "current_citInitial": 1,
   "eqLabelWithNumbers": true,
   "eqNumInitial": 0
  },
  "toc": {
   "colors": {
    "hover_highlight": "#DAA520",
    "navigate_num": "#000000",
    "navigate_text": "#333333",
    "running_highlight": "#FF0000",
    "selected_highlight": "#FFD700",
    "sidebar_border": "#EEEEEE",
    "wrapper_background": "#FFFFFF"
   },
   "moveMenuLeft": true,
   "nav_menu": {
    "height": "68px",
    "width": "252px"
   },
   "navigate_menu": true,
   "number_sections": true,
   "sideBar": true,
   "threshold": 4,
   "toc_cell": false,
   "toc_section_display": "block",
   "toc_window_display": true,
   "widenNotebook": false
  }
 },
 "nbformat": 4,
 "nbformat_minor": 1
}
