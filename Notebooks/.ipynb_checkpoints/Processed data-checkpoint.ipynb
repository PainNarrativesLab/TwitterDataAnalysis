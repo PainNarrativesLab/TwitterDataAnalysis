{
 "cells": [
  {
   "cell_type": "code",
   "execution_count": null,
   "metadata": {},
   "outputs": [],
   "source": [
    "\n"
   ]
  },
  {
   "cell_type": "code",
   "execution_count": null,
   "metadata": {},
   "outputs": [],
   "source": []
  },
  {
   "cell_type": "markdown",
   "metadata": {},
   "source": [
    "# Explore data"
   ]
  },
  {
   "cell_type": "code",
   "execution_count": null,
   "metadata": {},
   "outputs": [],
   "source": []
  },
  {
   "cell_type": "code",
   "execution_count": null,
   "metadata": {
    "ExecuteTime": {
     "end_time": "2018-04-24T00:20:00.326107Z",
     "start_time": "2018-04-24T00:20:00.321031Z"
    }
   },
   "outputs": [],
   "source": [
    "def master_row_generator():\n",
    "    conn = sqlite3.connect(environment.MASTER_DB)\n",
    "    r = conn.execute(\"select * from word_map_deux\")\n",
    "    while True:\n",
    "        yield r.fetchone()\n",
    "\n",
    "def db_row_generator(filepath):\n",
    "    conn = sqlite3.connect(filepath)\n",
    "    r = conn.execute(\"select * from word_map_deux\")\n",
    "    while True:\n",
    "        yield r.fetchone()\n"
   ]
  },
  {
   "cell_type": "code",
   "execution_count": null,
   "metadata": {
    "ExecuteTime": {
     "end_time": "2018-04-24T00:20:00.333839Z",
     "start_time": "2018-04-24T00:20:00.329695Z"
    }
   },
   "outputs": [],
   "source": [
    "gen = master_row_generator()"
   ]
  },
  {
   "cell_type": "code",
   "execution_count": null,
   "metadata": {
    "ExecuteTime": {
     "end_time": "2018-04-24T00:20:00.371382Z",
     "start_time": "2018-04-24T00:20:00.337634Z"
    }
   },
   "outputs": [],
   "source": [
    "for i in range(0, 220):\n",
    "    print(next(gen))"
   ]
  },
  {
   "cell_type": "code",
   "execution_count": null,
   "metadata": {
    "ExecuteTime": {
     "end_time": "2018-04-24T00:20:00.395516Z",
     "start_time": "2018-04-24T00:20:00.374929Z"
    }
   },
   "outputs": [],
   "source": [
    "f = '/Users/adam/Desktop/TwitterDataAnalysisLogs/dbs/wordmapping1.db'\n",
    "dgen = db_row_generator(f)\n",
    "for i in range(0, 220):\n",
    "    print(next(dgen))"
   ]
  },
  {
   "cell_type": "code",
   "execution_count": null,
   "metadata": {},
   "outputs": [],
   "source": []
  },
  {
   "cell_type": "code",
   "execution_count": null,
   "metadata": {
    "ExecuteTime": {
     "end_time": "2018-04-24T00:20:00.426822Z",
     "start_time": "2018-04-24T00:20:00.418015Z"
    }
   },
   "outputs": [],
   "source": [
    "\n",
    "f = '/Users/adam/Desktop/TwitterDataAnalysisLogs/master.db'\n",
    "conn = sqlite3.connect(f)\n",
    "r = conn.execute(\"select count(word) from word_map_deux\")\n",
    "print(r.fetchone())\n",
    "conn.close()"
   ]
  },
  {
   "cell_type": "code",
   "execution_count": null,
   "metadata": {
    "ExecuteTime": {
     "end_time": "2018-04-24T00:20:00.291092Z",
     "start_time": "2018-04-24T00:20:00.279946Z"
    }
   },
   "outputs": [],
   "source": [
    "conn = sqlite3.connect(environment.MASTER_DB)\n",
    "r1 = conn.execute(\"select user_id, count(word) from word_map_deux group by user_id \")\n",
    "print( r1.fetchone())\n",
    "conn.close()"
   ]
  },
  {
   "cell_type": "code",
   "execution_count": null,
   "metadata": {
    "ExecuteTime": {
     "end_time": "2018-04-24T01:37:28.570035Z",
     "start_time": "2018-04-24T01:37:28.484182Z"
    }
   },
   "outputs": [],
   "source": [
    "conn = sqlite3.connect(environment.MASTER_DB)\n",
    "curs = conn.cursor()  # Connect a cursor\n",
    "    \n",
    "r1 = curs.execute(\"select * from word_map_deux where user_id = 7729642\")\n",
    "# for i in range(0, 100):\n",
    "print( r1.fetchone())\n",
    "\n",
    "curs.close()"
   ]
  },
  {
   "cell_type": "code",
   "execution_count": null,
   "metadata": {},
   "outputs": [],
   "source": []
  },
  {
   "cell_type": "code",
   "execution_count": null,
   "metadata": {
    "ExecuteTime": {
     "end_time": "2018-04-24T00:20:00.414091Z",
     "start_time": "2018-04-24T00:20:00.407584Z"
    }
   },
   "outputs": [],
   "source": [
    "f = '/Users/adam/Desktop/TwitterDataAnalysisLogs/dbs/wordmapping9.db'\n",
    "conn = sqlite3.connect(f)\n",
    "r = conn.execute(\"select * from word_map_deux\")\n",
    "for i in range(0, 5):\n",
    "    print(r.fetchone())\n"
   ]
  }
 ],
 "metadata": {
  "kernelspec": {
   "display_name": "Python 3",
   "language": "python",
   "name": "python3"
  },
  "language_info": {
   "codemirror_mode": {
    "name": "ipython",
    "version": 3
   },
   "file_extension": ".py",
   "mimetype": "text/x-python",
   "name": "python",
   "nbconvert_exporter": "python",
   "pygments_lexer": "ipython3",
   "version": "3.6.4"
  }
 },
 "nbformat": 4,
 "nbformat_minor": 2
}
