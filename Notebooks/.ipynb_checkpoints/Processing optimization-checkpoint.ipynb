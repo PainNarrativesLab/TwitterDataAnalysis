{
 "cells": [
  {
   "cell_type": "markdown",
   "metadata": {},
   "source": [
    "This runs and displays benchmark performance for various tools"
   ]
  },
  {
   "cell_type": "code",
   "execution_count": 1,
   "metadata": {
    "ExecuteTime": {
     "end_time": "2018-04-24T22:23:47.426572Z",
     "start_time": "2018-04-24T22:23:46.372435Z"
    }
   },
   "outputs": [
    {
     "name": "stdout",
     "output_type": "stream",
     "text": [
      "(bookmark:twitteranalysis) -> /Users/adam/Dropbox/PainNarrativesLab/TwitterDataAnalysis\n",
      "/Users/adam/Dropbox/PainNarrativesLab/TwitterDataAnalysis\n"
     ]
    }
   ],
   "source": [
    "%cd twitteranalysis\n",
    "import environment \n",
    "\n",
    "import pandas as pd\n",
    "#Plotting \n",
    "%matplotlib inline\n",
    "from matplotlib import pyplot as plt\n",
    "import seaborn as sns\n",
    "sns.set(style=\"whitegrid\")\n",
    "\n",
    "# Timing etc tools (e.g., @timefn)\n",
    "from OptimizationTools import *\n"
   ]
  },
  {
   "cell_type": "markdown",
   "metadata": {},
   "source": [
    "# Runtimes of main()"
   ]
  },
  {
   "cell_type": "code",
   "execution_count": 25,
   "metadata": {},
   "outputs": [],
   "source": [
    "# Load the times recorded from running main\n",
    "runtime = pd.read_csv(environment.RUN_TIME_LOG, header=None, names=['start', 'stop', 'numProcessed', 'note'])\n",
    "\n",
    "runtime.start = pd.to_datetime(runtime.start)\n",
    "runtime.stop = pd.to_datetime(runtime.stop)\n",
    "\n",
    "def c(row):\n",
    "    d = row.stop - row.start\n",
    "    return d.seconds\n",
    "runtime['duration'] = runtime.apply(lambda x : c(x), axis=1)"
   ]
  },
  {
   "cell_type": "code",
   "execution_count": 26,
   "metadata": {},
   "outputs": [
    {
     "data": {
      "image/png": "[encoded data removed]",
      "text/plain": [
       "<Figure size 576x288 with 1 Axes>"
      ]
     },
     "metadata": {},
     "output_type": "display_data"
    }
   ],
   "source": [
    "fig, axes = plt.subplots(figsize=(8,4))\n",
    "runtime.duration.plot(ax=axes)\n",
    "axes.set_ylabel('seconds'); axes.set_xlabel('run #')\n",
    "fig.tight_layout()"
   ]
  },
  {
   "cell_type": "code",
   "execution_count": null,
   "metadata": {},
   "outputs": [],
   "source": []
  },
  {
   "cell_type": "code",
   "execution_count": 27,
   "metadata": {},
   "outputs": [
    {
     "data": {
      "text/html": [
       "<div>\n",
       "<style scoped>\n",
       "    .dataframe tbody tr th:only-of-type {\n",
       "        vertical-align: middle;\n",
       "    }\n",
       "\n",
       "    .dataframe tbody tr th {\n",
       "        vertical-align: top;\n",
       "    }\n",
       "\n",
       "    .dataframe thead th {\n",
       "        text-align: right;\n",
       "    }\n",
       "</style>\n",
       "<table border=\"1\" class=\"dataframe\">\n",
       "  <thead>\n",
       "    <tr style=\"text-align: right;\">\n",
       "      <th></th>\n",
       "      <th>start</th>\n",
       "      <th>stop</th>\n",
       "      <th>numProcessed</th>\n",
       "      <th>note</th>\n",
       "      <th>duration</th>\n",
       "    </tr>\n",
       "  </thead>\n",
       "  <tbody>\n",
       "    <tr>\n",
       "      <th>0</th>\n",
       "      <td>2018-05-14 20:12:49.633763</td>\n",
       "      <td>2018-05-14 20:13:26.507336</td>\n",
       "      <td>NaN</td>\n",
       "      <td>NaN</td>\n",
       "      <td>36</td>\n",
       "    </tr>\n",
       "    <tr>\n",
       "      <th>1</th>\n",
       "      <td>2018-05-14 20:34:00.789777</td>\n",
       "      <td>2018-05-14 20:34:38.000230</td>\n",
       "      <td>NaN</td>\n",
       "      <td>NaN</td>\n",
       "      <td>37</td>\n",
       "    </tr>\n",
       "    <tr>\n",
       "      <th>2</th>\n",
       "      <td>2018-05-14 20:37:30.887508</td>\n",
       "      <td>2018-05-14 20:38:06.986440</td>\n",
       "      <td>NaN</td>\n",
       "      <td>NaN</td>\n",
       "      <td>36</td>\n",
       "    </tr>\n",
       "    <tr>\n",
       "      <th>3</th>\n",
       "      <td>2018-05-15 09:59:33.984242</td>\n",
       "      <td>2018-05-15 10:00:10.158372</td>\n",
       "      <td>NaN</td>\n",
       "      <td>NaN</td>\n",
       "      <td>36</td>\n",
       "    </tr>\n",
       "    <tr>\n",
       "      <th>4</th>\n",
       "      <td>2018-05-15 10:06:29.995620</td>\n",
       "      <td>2018-05-15 10:07:05.514191</td>\n",
       "      <td>4352.0</td>\n",
       "      <td>run</td>\n",
       "      <td>35</td>\n",
       "    </tr>\n",
       "    <tr>\n",
       "      <th>5</th>\n",
       "      <td>2018-05-15 10:18:55.404508</td>\n",
       "      <td>2018-05-15 10:19:18.467540</td>\n",
       "      <td>4352.0</td>\n",
       "      <td>send queue batch_size=100</td>\n",
       "      <td>23</td>\n",
       "    </tr>\n",
       "    <tr>\n",
       "      <th>6</th>\n",
       "      <td>2018-05-15 10:33:01.004468</td>\n",
       "      <td>2018-05-15 10:33:21.584313</td>\n",
       "      <td>4352.0</td>\n",
       "      <td>send queue batch_size=500</td>\n",
       "      <td>20</td>\n",
       "    </tr>\n",
       "    <tr>\n",
       "      <th>7</th>\n",
       "      <td>2018-05-15 10:34:51.253785</td>\n",
       "      <td>2018-05-15 10:35:12.699009</td>\n",
       "      <td>4352.0</td>\n",
       "      <td>send queue batch_size=500</td>\n",
       "      <td>21</td>\n",
       "    </tr>\n",
       "    <tr>\n",
       "      <th>8</th>\n",
       "      <td>2018-05-15 10:49:34.925747</td>\n",
       "      <td>2018-05-15 10:49:55.199453</td>\n",
       "      <td>4352.0</td>\n",
       "      <td>send queue batch_size=500</td>\n",
       "      <td>20</td>\n",
       "    </tr>\n",
       "    <tr>\n",
       "      <th>9</th>\n",
       "      <td>2018-05-15 10:56:40.244003</td>\n",
       "      <td>2018-05-15 10:57:00.242107</td>\n",
       "      <td>4352.0</td>\n",
       "      <td>send queue batch_size=500</td>\n",
       "      <td>19</td>\n",
       "    </tr>\n",
       "    <tr>\n",
       "      <th>10</th>\n",
       "      <td>2018-05-15 10:58:45.587556</td>\n",
       "      <td>2018-05-15 10:59:06.168225</td>\n",
       "      <td>4352.0</td>\n",
       "      <td>send queue batch_size=500</td>\n",
       "      <td>20</td>\n",
       "    </tr>\n",
       "    <tr>\n",
       "      <th>11</th>\n",
       "      <td>2018-05-15 10:59:53.953841</td>\n",
       "      <td>2018-05-15 11:00:14.106860</td>\n",
       "      <td>4352.0</td>\n",
       "      <td>send queue batch_size=500</td>\n",
       "      <td>20</td>\n",
       "    </tr>\n",
       "    <tr>\n",
       "      <th>12</th>\n",
       "      <td>2018-05-15 11:01:32.599270</td>\n",
       "      <td>2018-05-15 11:01:52.968183</td>\n",
       "      <td>4352.0</td>\n",
       "      <td>send queue batch_size=500</td>\n",
       "      <td>20</td>\n",
       "    </tr>\n",
       "    <tr>\n",
       "      <th>13</th>\n",
       "      <td>2018-05-15 11:02:52.668312</td>\n",
       "      <td>2018-05-15 11:03:13.986356</td>\n",
       "      <td>4352.0</td>\n",
       "      <td>send queue batch_size=500</td>\n",
       "      <td>21</td>\n",
       "    </tr>\n",
       "    <tr>\n",
       "      <th>14</th>\n",
       "      <td>2018-05-15 11:04:24.314950</td>\n",
       "      <td>2018-05-15 11:04:45.397829</td>\n",
       "      <td>4352.0</td>\n",
       "      <td>send queue batch_size=500</td>\n",
       "      <td>21</td>\n",
       "    </tr>\n",
       "    <tr>\n",
       "      <th>15</th>\n",
       "      <td>2018-05-15 11:07:13.686770</td>\n",
       "      <td>2018-05-15 11:07:34.703075</td>\n",
       "      <td>4352.0</td>\n",
       "      <td>send queue batch_size=500</td>\n",
       "      <td>21</td>\n",
       "    </tr>\n",
       "    <tr>\n",
       "      <th>16</th>\n",
       "      <td>2018-05-15 11:09:01.590919</td>\n",
       "      <td>2018-05-15 11:09:23.214296</td>\n",
       "      <td>4352.0</td>\n",
       "      <td>send queue batch_size=500</td>\n",
       "      <td>21</td>\n",
       "    </tr>\n",
       "    <tr>\n",
       "      <th>17</th>\n",
       "      <td>2018-05-15 11:25:08.761206</td>\n",
       "      <td>2018-05-15 11:25:29.950496</td>\n",
       "      <td>4352.0</td>\n",
       "      <td>send queue batch_size=500</td>\n",
       "      <td>21</td>\n",
       "    </tr>\n",
       "    <tr>\n",
       "      <th>18</th>\n",
       "      <td>2018-05-15 11:33:40.009582</td>\n",
       "      <td>2018-05-15 11:34:01.080671</td>\n",
       "      <td>4352.0</td>\n",
       "      <td>send queue batch_size=500</td>\n",
       "      <td>21</td>\n",
       "    </tr>\n",
       "    <tr>\n",
       "      <th>19</th>\n",
       "      <td>2018-05-15 12:22:41.959079</td>\n",
       "      <td>2018-05-15 12:23:01.670169</td>\n",
       "      <td>4352.0</td>\n",
       "      <td>send queue batch_size=500</td>\n",
       "      <td>19</td>\n",
       "    </tr>\n",
       "    <tr>\n",
       "      <th>20</th>\n",
       "      <td>2018-05-15 12:24:04.456364</td>\n",
       "      <td>2018-05-15 12:24:25.558527</td>\n",
       "      <td>4352.0</td>\n",
       "      <td>send queue batch_size=500</td>\n",
       "      <td>21</td>\n",
       "    </tr>\n",
       "    <tr>\n",
       "      <th>21</th>\n",
       "      <td>2018-05-15 12:31:03.395622</td>\n",
       "      <td>2018-05-15 12:31:23.783561</td>\n",
       "      <td>4352.0</td>\n",
       "      <td>send queue batch_size=500</td>\n",
       "      <td>20</td>\n",
       "    </tr>\n",
       "    <tr>\n",
       "      <th>22</th>\n",
       "      <td>2018-05-15 13:02:23.253593</td>\n",
       "      <td>2018-05-15 13:02:42.591635</td>\n",
       "      <td>4352.0</td>\n",
       "      <td>send queue batch_size=500</td>\n",
       "      <td>19</td>\n",
       "    </tr>\n",
       "    <tr>\n",
       "      <th>23</th>\n",
       "      <td>2018-05-15 13:05:58.811623</td>\n",
       "      <td>2018-05-15 13:06:19.415236</td>\n",
       "      <td>4352.0</td>\n",
       "      <td>send queue batch_size=500</td>\n",
       "      <td>20</td>\n",
       "    </tr>\n",
       "    <tr>\n",
       "      <th>24</th>\n",
       "      <td>2018-05-15 13:10:58.708948</td>\n",
       "      <td>2018-05-15 13:11:18.253855</td>\n",
       "      <td>4352.0</td>\n",
       "      <td>send queue batch_size=500</td>\n",
       "      <td>19</td>\n",
       "    </tr>\n",
       "    <tr>\n",
       "      <th>25</th>\n",
       "      <td>2018-05-15 13:25:00.651097</td>\n",
       "      <td>2018-05-15 13:25:21.896668</td>\n",
       "      <td>4352.0</td>\n",
       "      <td>send queue batch_size=500</td>\n",
       "      <td>21</td>\n",
       "    </tr>\n",
       "    <tr>\n",
       "      <th>26</th>\n",
       "      <td>2018-05-15 13:31:06.700254</td>\n",
       "      <td>2018-05-15 13:31:26.390631</td>\n",
       "      <td>4352.0</td>\n",
       "      <td>send queue batch_size=500</td>\n",
       "      <td>19</td>\n",
       "    </tr>\n",
       "    <tr>\n",
       "      <th>27</th>\n",
       "      <td>2018-05-15 13:32:23.988547</td>\n",
       "      <td>2018-05-15 13:32:44.939947</td>\n",
       "      <td>4352.0</td>\n",
       "      <td>send queue batch_size=500</td>\n",
       "      <td>20</td>\n",
       "    </tr>\n",
       "    <tr>\n",
       "      <th>28</th>\n",
       "      <td>2018-05-15 15:32:41.545452</td>\n",
       "      <td>2018-05-15 15:33:00.887549</td>\n",
       "      <td>4352.0</td>\n",
       "      <td>send queue batch_size=500</td>\n",
       "      <td>19</td>\n",
       "    </tr>\n",
       "    <tr>\n",
       "      <th>29</th>\n",
       "      <td>2018-05-15 15:35:35.697943</td>\n",
       "      <td>2018-05-15 15:35:54.935323</td>\n",
       "      <td>4352.0</td>\n",
       "      <td>send queue batch_size=500</td>\n",
       "      <td>19</td>\n",
       "    </tr>\n",
       "    <tr>\n",
       "      <th>...</th>\n",
       "      <td>...</td>\n",
       "      <td>...</td>\n",
       "      <td>...</td>\n",
       "      <td>...</td>\n",
       "      <td>...</td>\n",
       "    </tr>\n",
       "    <tr>\n",
       "      <th>32</th>\n",
       "      <td>2018-05-15 16:52:31.092976</td>\n",
       "      <td>2018-05-15 16:52:50.181865</td>\n",
       "      <td>4352.0</td>\n",
       "      <td>send queue batch_size=500</td>\n",
       "      <td>19</td>\n",
       "    </tr>\n",
       "    <tr>\n",
       "      <th>33</th>\n",
       "      <td>2018-05-15 17:00:35.668509</td>\n",
       "      <td>2018-05-15 17:00:58.646565</td>\n",
       "      <td>4352.0</td>\n",
       "      <td>send queue batch_size=500</td>\n",
       "      <td>22</td>\n",
       "    </tr>\n",
       "    <tr>\n",
       "      <th>34</th>\n",
       "      <td>2018-05-15 17:05:15.014637</td>\n",
       "      <td>2018-05-15 17:05:37.559892</td>\n",
       "      <td>4352.0</td>\n",
       "      <td>send queue batch_size=500</td>\n",
       "      <td>22</td>\n",
       "    </tr>\n",
       "    <tr>\n",
       "      <th>35</th>\n",
       "      <td>2018-05-15 17:06:19.255335</td>\n",
       "      <td>2018-05-15 17:06:41.873974</td>\n",
       "      <td>4352.0</td>\n",
       "      <td>send queue batch_size=500</td>\n",
       "      <td>22</td>\n",
       "    </tr>\n",
       "    <tr>\n",
       "      <th>36</th>\n",
       "      <td>2018-05-15 17:34:48.692162</td>\n",
       "      <td>2018-05-15 17:35:11.523975</td>\n",
       "      <td>4352.0</td>\n",
       "      <td>send queue batch_size=500</td>\n",
       "      <td>22</td>\n",
       "    </tr>\n",
       "    <tr>\n",
       "      <th>37</th>\n",
       "      <td>2018-05-15 17:37:50.549670</td>\n",
       "      <td>2018-05-15 17:38:14.226411</td>\n",
       "      <td>4352.0</td>\n",
       "      <td>send queue batch_size=500</td>\n",
       "      <td>23</td>\n",
       "    </tr>\n",
       "    <tr>\n",
       "      <th>38</th>\n",
       "      <td>2018-05-15 17:44:11.422073</td>\n",
       "      <td>2018-05-15 17:44:34.562088</td>\n",
       "      <td>4352.0</td>\n",
       "      <td>send queue batch_size=500</td>\n",
       "      <td>23</td>\n",
       "    </tr>\n",
       "    <tr>\n",
       "      <th>39</th>\n",
       "      <td>2018-05-15 17:47:38.805100</td>\n",
       "      <td>2018-05-15 17:48:01.817287</td>\n",
       "      <td>4352.0</td>\n",
       "      <td>send queue batch_size=500</td>\n",
       "      <td>23</td>\n",
       "    </tr>\n",
       "    <tr>\n",
       "      <th>40</th>\n",
       "      <td>2018-05-15 17:58:56.260106</td>\n",
       "      <td>2018-05-15 17:59:16.488450</td>\n",
       "      <td>4352.0</td>\n",
       "      <td>send queue batch_size=500</td>\n",
       "      <td>20</td>\n",
       "    </tr>\n",
       "    <tr>\n",
       "      <th>41</th>\n",
       "      <td>2018-05-15 18:04:57.585867</td>\n",
       "      <td>2018-05-15 18:05:17.946833</td>\n",
       "      <td>4352.0</td>\n",
       "      <td>send queue batch_size=500</td>\n",
       "      <td>20</td>\n",
       "    </tr>\n",
       "    <tr>\n",
       "      <th>42</th>\n",
       "      <td>2018-05-15 18:35:47.250120</td>\n",
       "      <td>2018-05-15 18:35:55.503626</td>\n",
       "      <td>4352.0</td>\n",
       "      <td>send queue batch_size=500</td>\n",
       "      <td>8</td>\n",
       "    </tr>\n",
       "    <tr>\n",
       "      <th>43</th>\n",
       "      <td>2018-05-15 19:02:22.692884</td>\n",
       "      <td>2018-05-15 19:02:52.980565</td>\n",
       "      <td>4352.0</td>\n",
       "      <td>send queue batch_size=500</td>\n",
       "      <td>30</td>\n",
       "    </tr>\n",
       "    <tr>\n",
       "      <th>44</th>\n",
       "      <td>2018-05-15 19:12:59.741381</td>\n",
       "      <td>2018-05-15 19:13:29.122788</td>\n",
       "      <td>4352.0</td>\n",
       "      <td>send queue batch_size=500</td>\n",
       "      <td>29</td>\n",
       "    </tr>\n",
       "    <tr>\n",
       "      <th>45</th>\n",
       "      <td>2018-05-15 19:42:24.226227</td>\n",
       "      <td>2018-05-15 19:42:56.148311</td>\n",
       "      <td>4352.0</td>\n",
       "      <td>send queue batch_size=500</td>\n",
       "      <td>31</td>\n",
       "    </tr>\n",
       "    <tr>\n",
       "      <th>46</th>\n",
       "      <td>2018-05-15 19:54:28.133937</td>\n",
       "      <td>2018-05-15 19:54:59.330649</td>\n",
       "      <td>4352.0</td>\n",
       "      <td>send queue batch_size=500</td>\n",
       "      <td>31</td>\n",
       "    </tr>\n",
       "    <tr>\n",
       "      <th>47</th>\n",
       "      <td>2018-05-16 11:54:00.963932</td>\n",
       "      <td>2018-05-16 11:54:34.753857</td>\n",
       "      <td>4352.0</td>\n",
       "      <td>send queue batch_size=500</td>\n",
       "      <td>33</td>\n",
       "    </tr>\n",
       "    <tr>\n",
       "      <th>48</th>\n",
       "      <td>2018-05-16 12:04:40.263423</td>\n",
       "      <td>2018-05-16 12:05:11.780038</td>\n",
       "      <td>4352.0</td>\n",
       "      <td>send queue batch_size=500</td>\n",
       "      <td>31</td>\n",
       "    </tr>\n",
       "    <tr>\n",
       "      <th>49</th>\n",
       "      <td>2018-05-16 12:07:45.362124</td>\n",
       "      <td>2018-05-16 12:08:16.737318</td>\n",
       "      <td>4352.0</td>\n",
       "      <td>send queue batch_size=500</td>\n",
       "      <td>31</td>\n",
       "    </tr>\n",
       "    <tr>\n",
       "      <th>50</th>\n",
       "      <td>2018-05-16 15:10:30.644543</td>\n",
       "      <td>2018-05-16 15:11:01.621031</td>\n",
       "      <td>4352.0</td>\n",
       "      <td>send queue batch_size=500</td>\n",
       "      <td>30</td>\n",
       "    </tr>\n",
       "    <tr>\n",
       "      <th>51</th>\n",
       "      <td>2018-05-16 15:17:31.253598</td>\n",
       "      <td>2018-05-16 15:18:02.738706</td>\n",
       "      <td>4352.0</td>\n",
       "      <td>send queue batch_size=500</td>\n",
       "      <td>31</td>\n",
       "    </tr>\n",
       "    <tr>\n",
       "      <th>52</th>\n",
       "      <td>2018-05-16 15:28:16.068327</td>\n",
       "      <td>2018-05-16 15:28:47.056871</td>\n",
       "      <td>4352.0</td>\n",
       "      <td>send queue batch_size=500</td>\n",
       "      <td>30</td>\n",
       "    </tr>\n",
       "    <tr>\n",
       "      <th>53</th>\n",
       "      <td>2018-05-17 11:09:28.498374</td>\n",
       "      <td>2018-05-17 11:10:09.894556</td>\n",
       "      <td>4352.0</td>\n",
       "      <td>send queue batch_size=500</td>\n",
       "      <td>41</td>\n",
       "    </tr>\n",
       "    <tr>\n",
       "      <th>54</th>\n",
       "      <td>2018-05-17 11:22:20.539978</td>\n",
       "      <td>2018-05-17 11:23:09.467134</td>\n",
       "      <td>4352.0</td>\n",
       "      <td>send queue batch_size=500</td>\n",
       "      <td>48</td>\n",
       "    </tr>\n",
       "    <tr>\n",
       "      <th>55</th>\n",
       "      <td>2018-05-18 13:46:18.181822</td>\n",
       "      <td>2018-05-18 13:47:08.369999</td>\n",
       "      <td>4352.0</td>\n",
       "      <td>send queue batch_size=500</td>\n",
       "      <td>50</td>\n",
       "    </tr>\n",
       "    <tr>\n",
       "      <th>56</th>\n",
       "      <td>2018-05-18 15:15:31.445706</td>\n",
       "      <td>2018-05-18 15:16:21.485102</td>\n",
       "      <td>4352.0</td>\n",
       "      <td>send queue batch_size=500</td>\n",
       "      <td>50</td>\n",
       "    </tr>\n",
       "    <tr>\n",
       "      <th>57</th>\n",
       "      <td>2018-05-18 16:43:28.518920</td>\n",
       "      <td>2018-05-18 16:44:18.738339</td>\n",
       "      <td>4352.0</td>\n",
       "      <td>send queue batch_size=500</td>\n",
       "      <td>50</td>\n",
       "    </tr>\n",
       "    <tr>\n",
       "      <th>58</th>\n",
       "      <td>2018-05-18 16:53:15.891974</td>\n",
       "      <td>2018-05-18 16:53:25.533561</td>\n",
       "      <td>4352.0</td>\n",
       "      <td>send queue batch_size=500</td>\n",
       "      <td>9</td>\n",
       "    </tr>\n",
       "    <tr>\n",
       "      <th>59</th>\n",
       "      <td>2018-05-19 11:15:10.331431</td>\n",
       "      <td>2018-05-19 11:15:21.709846</td>\n",
       "      <td>4352.0</td>\n",
       "      <td>send queue batch_size=500</td>\n",
       "      <td>11</td>\n",
       "    </tr>\n",
       "    <tr>\n",
       "      <th>60</th>\n",
       "      <td>2018-05-19 11:22:31.102204</td>\n",
       "      <td>2018-05-19 11:22:40.599866</td>\n",
       "      <td>4352.0</td>\n",
       "      <td>send queue batch_size=500</td>\n",
       "      <td>9</td>\n",
       "    </tr>\n",
       "    <tr>\n",
       "      <th>61</th>\n",
       "      <td>2018-05-19 11:38:20.229784</td>\n",
       "      <td>2018-05-19 11:38:29.737064</td>\n",
       "      <td>4352.0</td>\n",
       "      <td>send queue batch_size=1000</td>\n",
       "      <td>9</td>\n",
       "    </tr>\n",
       "  </tbody>\n",
       "</table>\n",
       "<p>62 rows × 5 columns</p>\n",
       "</div>"
      ],
      "text/plain": [
       "                        start                       stop  numProcessed  \\\n",
       "0  2018-05-14 20:12:49.633763 2018-05-14 20:13:26.507336           NaN   \n",
       "1  2018-05-14 20:34:00.789777 2018-05-14 20:34:38.000230           NaN   \n",
       "2  2018-05-14 20:37:30.887508 2018-05-14 20:38:06.986440           NaN   \n",
       "3  2018-05-15 09:59:33.984242 2018-05-15 10:00:10.158372           NaN   \n",
       "4  2018-05-15 10:06:29.995620 2018-05-15 10:07:05.514191        4352.0   \n",
       "5  2018-05-15 10:18:55.404508 2018-05-15 10:19:18.467540        4352.0   \n",
       "6  2018-05-15 10:33:01.004468 2018-05-15 10:33:21.584313        4352.0   \n",
       "7  2018-05-15 10:34:51.253785 2018-05-15 10:35:12.699009        4352.0   \n",
       "8  2018-05-15 10:49:34.925747 2018-05-15 10:49:55.199453        4352.0   \n",
       "9  2018-05-15 10:56:40.244003 2018-05-15 10:57:00.242107        4352.0   \n",
       "10 2018-05-15 10:58:45.587556 2018-05-15 10:59:06.168225        4352.0   \n",
       "11 2018-05-15 10:59:53.953841 2018-05-15 11:00:14.106860        4352.0   \n",
       "12 2018-05-15 11:01:32.599270 2018-05-15 11:01:52.968183        4352.0   \n",
       "13 2018-05-15 11:02:52.668312 2018-05-15 11:03:13.986356        4352.0   \n",
       "14 2018-05-15 11:04:24.314950 2018-05-15 11:04:45.397829        4352.0   \n",
       "15 2018-05-15 11:07:13.686770 2018-05-15 11:07:34.703075        4352.0   \n",
       "16 2018-05-15 11:09:01.590919 2018-05-15 11:09:23.214296        4352.0   \n",
       "17 2018-05-15 11:25:08.761206 2018-05-15 11:25:29.950496        4352.0   \n",
       "18 2018-05-15 11:33:40.009582 2018-05-15 11:34:01.080671        4352.0   \n",
       "19 2018-05-15 12:22:41.959079 2018-05-15 12:23:01.670169        4352.0   \n",
       "20 2018-05-15 12:24:04.456364 2018-05-15 12:24:25.558527        4352.0   \n",
       "21 2018-05-15 12:31:03.395622 2018-05-15 12:31:23.783561        4352.0   \n",
       "22 2018-05-15 13:02:23.253593 2018-05-15 13:02:42.591635        4352.0   \n",
       "23 2018-05-15 13:05:58.811623 2018-05-15 13:06:19.415236        4352.0   \n",
       "24 2018-05-15 13:10:58.708948 2018-05-15 13:11:18.253855        4352.0   \n",
       "25 2018-05-15 13:25:00.651097 2018-05-15 13:25:21.896668        4352.0   \n",
       "26 2018-05-15 13:31:06.700254 2018-05-15 13:31:26.390631        4352.0   \n",
       "27 2018-05-15 13:32:23.988547 2018-05-15 13:32:44.939947        4352.0   \n",
       "28 2018-05-15 15:32:41.545452 2018-05-15 15:33:00.887549        4352.0   \n",
       "29 2018-05-15 15:35:35.697943 2018-05-15 15:35:54.935323        4352.0   \n",
       "..                        ...                        ...           ...   \n",
       "32 2018-05-15 16:52:31.092976 2018-05-15 16:52:50.181865        4352.0   \n",
       "33 2018-05-15 17:00:35.668509 2018-05-15 17:00:58.646565        4352.0   \n",
       "34 2018-05-15 17:05:15.014637 2018-05-15 17:05:37.559892        4352.0   \n",
       "35 2018-05-15 17:06:19.255335 2018-05-15 17:06:41.873974        4352.0   \n",
       "36 2018-05-15 17:34:48.692162 2018-05-15 17:35:11.523975        4352.0   \n",
       "37 2018-05-15 17:37:50.549670 2018-05-15 17:38:14.226411        4352.0   \n",
       "38 2018-05-15 17:44:11.422073 2018-05-15 17:44:34.562088        4352.0   \n",
       "39 2018-05-15 17:47:38.805100 2018-05-15 17:48:01.817287        4352.0   \n",
       "40 2018-05-15 17:58:56.260106 2018-05-15 17:59:16.488450        4352.0   \n",
       "41 2018-05-15 18:04:57.585867 2018-05-15 18:05:17.946833        4352.0   \n",
       "42 2018-05-15 18:35:47.250120 2018-05-15 18:35:55.503626        4352.0   \n",
       "43 2018-05-15 19:02:22.692884 2018-05-15 19:02:52.980565        4352.0   \n",
       "44 2018-05-15 19:12:59.741381 2018-05-15 19:13:29.122788        4352.0   \n",
       "45 2018-05-15 19:42:24.226227 2018-05-15 19:42:56.148311        4352.0   \n",
       "46 2018-05-15 19:54:28.133937 2018-05-15 19:54:59.330649        4352.0   \n",
       "47 2018-05-16 11:54:00.963932 2018-05-16 11:54:34.753857        4352.0   \n",
       "48 2018-05-16 12:04:40.263423 2018-05-16 12:05:11.780038        4352.0   \n",
       "49 2018-05-16 12:07:45.362124 2018-05-16 12:08:16.737318        4352.0   \n",
       "50 2018-05-16 15:10:30.644543 2018-05-16 15:11:01.621031        4352.0   \n",
       "51 2018-05-16 15:17:31.253598 2018-05-16 15:18:02.738706        4352.0   \n",
       "52 2018-05-16 15:28:16.068327 2018-05-16 15:28:47.056871        4352.0   \n",
       "53 2018-05-17 11:09:28.498374 2018-05-17 11:10:09.894556        4352.0   \n",
       "54 2018-05-17 11:22:20.539978 2018-05-17 11:23:09.467134        4352.0   \n",
       "55 2018-05-18 13:46:18.181822 2018-05-18 13:47:08.369999        4352.0   \n",
       "56 2018-05-18 15:15:31.445706 2018-05-18 15:16:21.485102        4352.0   \n",
       "57 2018-05-18 16:43:28.518920 2018-05-18 16:44:18.738339        4352.0   \n",
       "58 2018-05-18 16:53:15.891974 2018-05-18 16:53:25.533561        4352.0   \n",
       "59 2018-05-19 11:15:10.331431 2018-05-19 11:15:21.709846        4352.0   \n",
       "60 2018-05-19 11:22:31.102204 2018-05-19 11:22:40.599866        4352.0   \n",
       "61 2018-05-19 11:38:20.229784 2018-05-19 11:38:29.737064        4352.0   \n",
       "\n",
       "                          note  duration  \n",
       "0                          NaN        36  \n",
       "1                          NaN        37  \n",
       "2                          NaN        36  \n",
       "3                          NaN        36  \n",
       "4                          run        35  \n",
       "5    send queue batch_size=100        23  \n",
       "6    send queue batch_size=500        20  \n",
       "7    send queue batch_size=500        21  \n",
       "8    send queue batch_size=500        20  \n",
       "9    send queue batch_size=500        19  \n",
       "10   send queue batch_size=500        20  \n",
       "11   send queue batch_size=500        20  \n",
       "12   send queue batch_size=500        20  \n",
       "13   send queue batch_size=500        21  \n",
       "14   send queue batch_size=500        21  \n",
       "15   send queue batch_size=500        21  \n",
       "16   send queue batch_size=500        21  \n",
       "17   send queue batch_size=500        21  \n",
       "18   send queue batch_size=500        21  \n",
       "19   send queue batch_size=500        19  \n",
       "20   send queue batch_size=500        21  \n",
       "21   send queue batch_size=500        20  \n",
       "22   send queue batch_size=500        19  \n",
       "23   send queue batch_size=500        20  \n",
       "24   send queue batch_size=500        19  \n",
       "25   send queue batch_size=500        21  \n",
       "26   send queue batch_size=500        19  \n",
       "27   send queue batch_size=500        20  \n",
       "28   send queue batch_size=500        19  \n",
       "29   send queue batch_size=500        19  \n",
       "..                         ...       ...  \n",
       "32   send queue batch_size=500        19  \n",
       "33   send queue batch_size=500        22  \n",
       "34   send queue batch_size=500        22  \n",
       "35   send queue batch_size=500        22  \n",
       "36   send queue batch_size=500        22  \n",
       "37   send queue batch_size=500        23  \n",
       "38   send queue batch_size=500        23  \n",
       "39   send queue batch_size=500        23  \n",
       "40   send queue batch_size=500        20  \n",
       "41   send queue batch_size=500        20  \n",
       "42   send queue batch_size=500         8  \n",
       "43   send queue batch_size=500        30  \n",
       "44   send queue batch_size=500        29  \n",
       "45   send queue batch_size=500        31  \n",
       "46   send queue batch_size=500        31  \n",
       "47   send queue batch_size=500        33  \n",
       "48   send queue batch_size=500        31  \n",
       "49   send queue batch_size=500        31  \n",
       "50   send queue batch_size=500        30  \n",
       "51   send queue batch_size=500        31  \n",
       "52   send queue batch_size=500        30  \n",
       "53   send queue batch_size=500        41  \n",
       "54   send queue batch_size=500        48  \n",
       "55   send queue batch_size=500        50  \n",
       "56   send queue batch_size=500        50  \n",
       "57   send queue batch_size=500        50  \n",
       "58   send queue batch_size=500         9  \n",
       "59   send queue batch_size=500        11  \n",
       "60   send queue batch_size=500         9  \n",
       "61  send queue batch_size=1000         9  \n",
       "\n",
       "[62 rows x 5 columns]"
      ]
     },
     "execution_count": 27,
     "metadata": {},
     "output_type": "execute_result"
    }
   ],
   "source": [
    "runtime"
   ]
  },
  {
   "cell_type": "markdown",
   "metadata": {},
   "source": [
    "# Runtime per record"
   ]
  },
  {
   "cell_type": "code",
   "execution_count": 28,
   "metadata": {},
   "outputs": [],
   "source": [
    "def b(row):\n",
    "    return row.duration / row.numProcessed\n",
    "runtime['perRecord'] = runtime.apply(lambda x : b(x), axis=1)"
   ]
  },
  {
   "cell_type": "code",
   "execution_count": 30,
   "metadata": {},
   "outputs": [
    {
     "data": {
      "image/png": "[encoded data removed]",
      "text/plain": [
       "<Figure size 576x288 with 1 Axes>"
      ]
     },
     "metadata": {},
     "output_type": "display_data"
    }
   ],
   "source": [
    "fig, axes = plt.subplots(figsize=(8,4))\n",
    "runtime.perRecord.plot(ax=axes)\n",
    "axes.set_ylabel('seconds / record'); axes.set_xlabel('run #')\n",
    "fig.tight_layout()"
   ]
  },
  {
   "cell_type": "code",
   "execution_count": null,
   "metadata": {},
   "outputs": [],
   "source": []
  },
  {
   "cell_type": "code",
   "execution_count": null,
   "metadata": {},
   "outputs": [],
   "source": []
  },
  {
   "cell_type": "markdown",
   "metadata": {},
   "source": [
    "# Individual component run times for speed optimization"
   ]
  },
  {
   "cell_type": "code",
   "execution_count": 7,
   "metadata": {
    "ExecuteTime": {
     "end_time": "2018-05-09T00:08:43.782792Z",
     "start_time": "2018-05-09T00:08:42.765096Z"
    }
   },
   "outputs": [
    {
     "name": "stdout",
     "output_type": "stream",
     "text": [
      "(bookmark:twitteranalysis) -> /Users/adam/Dropbox/PainNarrativesLab/TwitterDataAnalysis\n",
      "/Users/adam/Dropbox/PainNarrativesLab/TwitterDataAnalysis\n"
     ]
    }
   ],
   "source": [
    "%cd twitteranalysis\n",
    "import environment\n",
    "import pandas as pd\n",
    "from pandas import DataFrame, Series\n",
    "%matplotlib inline\n",
    "from matplotlib import pyplot as plt\n",
    "import seaborn as sns\n",
    "sns.set(style=\"whitegrid\")"
   ]
  },
  {
   "cell_type": "markdown",
   "metadata": {
    "ExecuteTime": {
     "end_time": "2018-04-27T01:13:58.340871Z",
     "start_time": "2018-04-27T01:13:58.336402Z"
    },
    "code_folding": []
   },
   "source": [
    "## Load and process the log data"
   ]
  },
  {
   "cell_type": "code",
   "execution_count": 8,
   "metadata": {
    "ExecuteTime": {
     "end_time": "2018-05-09T00:08:52.631350Z",
     "start_time": "2018-05-09T00:08:46.250763Z"
    }
   },
   "outputs": [
    {
     "name": "stdout",
     "output_type": "stream",
     "text": [
      "(bookmark:twitteranalysis) -> /Users/adam/Dropbox/PainNarrativesLab/TwitterDataAnalysis\n",
      "/Users/adam/Dropbox/PainNarrativesLab/TwitterDataAnalysis\n",
      "4559 unique timestamps\n",
      "Done\n"
     ]
    }
   ],
   "source": [
    "\n",
    "%cd twitteranalysis\n",
    "import environment\n",
    "import pandas as pd\n",
    "from pandas import DataFrame, Series\n",
    "\n",
    "# Load data\n",
    "def load():\n",
    "    d = pd.read_pickle(pickle)\n",
    "    d.set_index('timestamps', inplace=True)\n",
    "    print(len(d))\n",
    "    return d\n",
    "\n",
    "pickle = \"%s/working-pickle\" % environment.PROFILING_LOG_FOLDER_PATH\n",
    "\n",
    "file_stems = ['client-send', 'client-enque', 'server-receive', \n",
    "              'server-save']\n",
    "# def load(file_stems = file_stems):\n",
    "series = []\n",
    "columns = []\n",
    "for f in file_stems:\n",
    "    # make full file path\n",
    "    path = \"%s/%s.csv\" % (environment.PROFILING_LOG_FOLDER_PATH, f)\n",
    "    # read it in as a series\n",
    "    s = pd.read_csv(path, squeeze=True)\n",
    "    # NB, not converting to timestamp yet since easier to compare strings\n",
    "    # s = s.apply(lambda x : pd.to_datetime(x))\n",
    "    series.append(s)\n",
    "    columns.append(f.replace('-', '_') )\n",
    "\n",
    "d = [{ columns[i] : series[i]} for i in range(0, len(series))]\n",
    "\n",
    "# create a unique list of timestamp strings\n",
    "# these will serve as the index of the datafram\n",
    "ts = pd.concat(series)\n",
    "ts = set(ts.values)\n",
    "print(\"%s unique timestamps\" % len(ts))\n",
    "\n",
    "# create the dataframe with the full index\n",
    "# and named columns, but no data\n",
    "data = DataFrame(index=ts, columns=columns)\n",
    "data.reset_index(inplace=True)\n",
    "# we have trouble with an upcoming apply step if the timestamps\n",
    "# are the index or if the column is named index, so we rename it\n",
    "data = data.rename({'index':'timestamps'}, axis=1)\n",
    "\n",
    "# populate the dataframe\n",
    "# This takes awhile.....\n",
    "def ff(row, values, goodVal):\n",
    "    if row.timestamps in values:\n",
    "        return goodVal\n",
    "    return 0\n",
    "\n",
    "for i in range(0, len(columns)):\n",
    "    name = columns[i]\n",
    "    vs = series[i].values\n",
    "    goodVal = i + 1\n",
    "    data[name] = data.apply(lambda x : ff(x, vs, goodVal ), axis=1)\n",
    "\n",
    "# Now that the comparison stuff is done,\n",
    "# we can convert to actual datetimes\n",
    "data.timestamps = data.timestamps.apply(lambda x: pd.to_datetime(x))\n",
    "\n",
    "data.set_index('timestamps', inplace=True)\n",
    "data.sort_index(inplace=True, axis=0)\n",
    "data.reset_index(inplace=True)\n",
    "\n",
    "# save the data to a file so we don't have to do the above\n",
    "# every time\n",
    "data.to_pickle(pickle)\n",
    "print(\"Done\")"
   ]
  },
  {
   "cell_type": "markdown",
   "metadata": {
    "ExecuteTime": {
     "end_time": "2018-04-28T18:46:13.057304Z",
     "start_time": "2018-04-28T18:46:13.046478Z"
    }
   },
   "source": [
    "## Plot timestamps "
   ]
  },
  {
   "cell_type": "code",
   "execution_count": 9,
   "metadata": {
    "ExecuteTime": {
     "end_time": "2018-05-09T00:08:52.644156Z",
     "start_time": "2018-05-09T00:08:52.633192Z"
    }
   },
   "outputs": [
    {
     "name": "stdout",
     "output_type": "stream",
     "text": [
      "4559\n"
     ]
    }
   ],
   "source": [
    "d = load()"
   ]
  },
  {
   "cell_type": "code",
   "execution_count": 10,
   "metadata": {
    "ExecuteTime": {
     "end_time": "2018-05-09T00:08:52.669172Z",
     "start_time": "2018-05-09T00:08:52.646429Z"
    }
   },
   "outputs": [
    {
     "data": {
      "text/plain": [
       "9"
      ]
     },
     "execution_count": 10,
     "metadata": {},
     "output_type": "execute_result"
    }
   ],
   "source": [
    "# consolidate at the seconds level\n",
    "d = d.resample('S').mean()\n",
    "len(d)"
   ]
  },
  {
   "cell_type": "code",
   "execution_count": 11,
   "metadata": {
    "ExecuteTime": {
     "end_time": "2018-05-09T00:08:55.276669Z",
     "start_time": "2018-05-09T00:08:54.306693Z"
    }
   },
   "outputs": [
    {
     "data": {
      "image/png": "[encoded data removed]",
      "text/plain": [
       "<Figure size 576x360 with 1 Axes>"
      ]
     },
     "metadata": {},
     "output_type": "display_data"
    }
   ],
   "source": [
    "fig, axes = plt.subplots(figsize=(8,5))\n",
    "d.plot(kind='bar', ax=axes)\n",
    "fig.tight_layout()"
   ]
  },
  {
   "cell_type": "markdown",
   "metadata": {},
   "source": [
    "## Expected times"
   ]
  },
  {
   "cell_type": "code",
   "execution_count": 12,
   "metadata": {
    "ExecuteTime": {
     "end_time": "2018-04-27T01:30:13.036996Z",
     "start_time": "2018-04-27T01:30:13.030416Z"
    }
   },
   "outputs": [
    {
     "name": "stdout",
     "output_type": "stream",
     "text": [
      "4559\n"
     ]
    }
   ],
   "source": [
    "# Load data\n",
    "d = load()"
   ]
  },
  {
   "cell_type": "code",
   "execution_count": 13,
   "metadata": {},
   "outputs": [],
   "source": [
    "delta = d.index.max() - d.index.min()"
   ]
  },
  {
   "cell_type": "code",
   "execution_count": 14,
   "metadata": {},
   "outputs": [
    {
     "data": {
      "text/plain": [
       "8"
      ]
     },
     "execution_count": 14,
     "metadata": {},
     "output_type": "execute_result"
    }
   ],
   "source": [
    "delta.seconds"
   ]
  },
  {
   "cell_type": "code",
   "execution_count": 15,
   "metadata": {},
   "outputs": [],
   "source": [
    "# numberUsersProcessed = 100\n",
    "numberUsersProcessed = 4352\n",
    "actualUsers = 1328927\n",
    "pctActual = numberUsersProcessed / actualUsers"
   ]
  },
  {
   "cell_type": "code",
   "execution_count": 16,
   "metadata": {},
   "outputs": [
    {
     "data": {
      "text/plain": [
       "0.001838235294117647"
      ]
     },
     "execution_count": 16,
     "metadata": {},
     "output_type": "execute_result"
    }
   ],
   "source": [
    "seconds_per_user = delta.seconds / numberUsersProcessed\n",
    "seconds_per_user"
   ]
  },
  {
   "cell_type": "code",
   "execution_count": 17,
   "metadata": {},
   "outputs": [
    {
     "data": {
      "text/plain": [
       "40.71467524509804"
      ]
     },
     "execution_count": 17,
     "metadata": {},
     "output_type": "execute_result"
    }
   ],
   "source": [
    "est_seconds = actualUsers * seconds_per_user\n",
    "est_min = est_seconds / 60\n",
    "est_min"
   ]
  },
  {
   "cell_type": "code",
   "execution_count": 18,
   "metadata": {},
   "outputs": [
    {
     "data": {
      "text/plain": [
       "0.678577920751634"
      ]
     },
     "execution_count": 18,
     "metadata": {},
     "output_type": "execute_result"
    }
   ],
   "source": [
    "est_hours = est_min / 60\n",
    "est_hours"
   ]
  },
  {
   "cell_type": "markdown",
   "metadata": {},
   "source": [
    "5/19 11.31\n",
    "    - change: turned off integrity logging \n",
    "    - batch size of queue: 500\n",
    "    - elapsed: 8 seconds\n",
    "    - seconds/user: 0.0018\n",
    "    - actual users 1328927\n",
    "    - estimated minutes: 40.7\n",
    "    - estimated hours: 0.67\n",
    "\n",
    "\n",
    "\n",
    "5/17 4.51\n",
    "    - change: all users now being saved correctly\n",
    "    - batch size of queue: 500\n",
    "    - elapsed: 49 seconds\n",
    "    - seconds/user: 0.011\n",
    "    - actual users 1328927\n",
    "    - estimated minutes: 249.38\n",
    "    - estimated hours: 4.16\n",
    "\n",
    "\n",
    "5/16 3.21\n",
    "    - change: changed get handler (queue flush) to coroutine\n",
    "    - batch size of queue: 500\n",
    "    - elapsed: 30 seconds\n",
    "    - seconds/user: 0.0069\n",
    "    - actual users 1328927\n",
    "    - estimated minutes: 152.68\n",
    "    - estimated hours: 2.54\n",
    "\n",
    "5/15 8.08\n",
    "    - change: changed server enque back to coroutine. Issue of the server not recording some recieved records remains fixed\n",
    "    - batch size of queue: 500\n",
    "    - elapsed: 30 seconds\n",
    "    - seconds/user: 0.0069\n",
    "    - actual users 1328927\n",
    "    - estimated minutes: 152.68\n",
    "    - estimated hours: 2.54\n",
    "\n",
    "\n",
    "5/15 7.48\n",
    "    - change: lock added to server side enque; changed from coroutine to async. this fixed the server not recording some recieved records\n",
    "    - batch size of queue: 500\n",
    "    - elapsed: 31 seconds\n",
    "    - seconds/user: 0.0044\n",
    "    - actual users 1328927\n",
    "    - estimated minutes: 157.77\n",
    "    - estimated hours: 2.63\n",
    "\n",
    "5/15 6.27 \n",
    "    - change: lock added back to sqlite writer\n",
    "    - batch size of queue: 500\n",
    "    - elapsed: 19 seconds\n",
    "    - seconds/user: 0.0044\n",
    "    - actual users 1328927\n",
    "    - estimated minutes: 96.7\n",
    "    - estimated hours: 1.61\n",
    "\n",
    "\n",
    "5/15 10.37 \n",
    "    - change: lock removed from sqlite writer; using single db\n",
    "    - batch size of queue: 500\n",
    "    - elapsed: 22 seconds\n",
    "    - seconds/user: 0.005\n",
    "    - actual users 1328927\n",
    "    - estimated minutes: 111.97\n",
    "    - estimated hours: 1.87\n",
    "\n",
    "5/15 10.37 \n",
    "    - change: lock added to sqlite writer\n",
    "    - batch size of queue: 500\n",
    "    - elapsed: 19 seconds\n",
    "    - seconds/user: 0.0044\n",
    "    - actual users 1328927\n",
    "    - estimated minutes: 96.7\n",
    "    - estimated hours: 1.61\n",
    "\n",
    "5/15 10.37\n",
    "    - batch size of queue: 500\n",
    "    - elapsed: 20 seconds\n",
    "    - seconds/user: \n",
    "    - actual users 1328927\n",
    "    - estimated minutes: 101.787\n",
    "    - estimated hours: 1.696\n",
    "\n",
    "5/15 10.22\n",
    "    - batch size of queue: 100\n",
    "    - elapsed: 22 seconds\n",
    "    - seconds/user: 0.0051\n",
    "    - actual users 1328927\n",
    "    - estimated minutes: 111.965\n",
    "    - estimated hours: 1.866\n",
    "\n",
    "\n",
    "5/14 7.00\n",
    "    - batch size of queue: 10\n",
    "    - elapsed: 34 seconds\n",
    "    - seconds/user: 0.0078\n",
    "    - actual users 1328927\n",
    "    - estimated minutes: 173.037\n",
    "    - estimated hours: 2.884\n",
    "\n",
    "\n",
    "5/14 5.30\n",
    "    - batch size of queue: 10\n",
    "    - elapsed: 62 seconds\n",
    "    - seconds/user: 0.014246\n",
    "    - actual users 1328927\n",
    "    - estimated minutes: 315.54\n",
    "    - estimated hours: 5.26\n",
    "    \n"
   ]
  },
  {
   "cell_type": "code",
   "execution_count": null,
   "metadata": {},
   "outputs": [],
   "source": []
  },
  {
   "cell_type": "code",
   "execution_count": null,
   "metadata": {},
   "outputs": [],
   "source": [
    "d = load()"
   ]
  },
  {
   "cell_type": "code",
   "execution_count": null,
   "metadata": {},
   "outputs": [],
   "source": [
    "len(d[d.client_enque>0])"
   ]
  },
  {
   "cell_type": "code",
   "execution_count": null,
   "metadata": {},
   "outputs": [],
   "source": [
    "len(d[d.server_save>0])"
   ]
  },
  {
   "cell_type": "code",
   "execution_count": null,
   "metadata": {},
   "outputs": [],
   "source": [
    "len(d[d.client_send>0])"
   ]
  },
  {
   "cell_type": "code",
   "execution_count": null,
   "metadata": {},
   "outputs": [],
   "source": [
    "len(d[d.server_receive>0])"
   ]
  },
  {
   "cell_type": "code",
   "execution_count": null,
   "metadata": {},
   "outputs": [],
   "source": [
    "f = pd.read_csv(client_enque_file)\n",
    "len(f)"
   ]
  },
  {
   "cell_type": "code",
   "execution_count": null,
   "metadata": {},
   "outputs": [],
   "source": []
  },
  {
   "cell_type": "raw",
   "metadata": {
    "ExecuteTime": {
     "end_time": "2018-04-27T01:11:45.209627Z",
     "start_time": "2018-04-27T01:11:45.145424Z"
    }
   },
   "source": [
    "client_send = pd.read_csv(\"%s/client-send.csv\" % environment.LOG_FOLDER_PATH, squeeze=True)\n",
    "client_enque = pd.read_csv(\"%s/client-enque.csv\" % environment.LOG_FOLDER_PATH, squeeze=True)\n",
    "server_receive = pd.read_csv(\"%s/server-receive.csv\" % environment.LOG_FOLDER_PATH)\n",
    "server_save = pd.read_csv(\"%s/server-save.csv\" % environment.LOG_FOLDER_PATH)\n"
   ]
  },
  {
   "cell_type": "code",
   "execution_count": null,
   "metadata": {
    "ExecuteTime": {
     "end_time": "2018-04-27T01:11:46.556288Z",
     "start_time": "2018-04-27T01:11:46.195754Z"
    }
   },
   "outputs": [],
   "source": [
    "client_send = client_send.apply(lambda x : pd.to_datetime(x))"
   ]
  },
  {
   "cell_type": "code",
   "execution_count": null,
   "metadata": {
    "ExecuteTime": {
     "end_time": "2018-04-27T01:12:02.180368Z",
     "start_time": "2018-04-27T01:11:58.666866Z"
    }
   },
   "outputs": [],
   "source": [
    "client_enque = client_enque.apply(lambda x : pd.to_datetime(x))"
   ]
  },
  {
   "cell_type": "code",
   "execution_count": null,
   "metadata": {
    "ExecuteTime": {
     "end_time": "2018-04-27T01:12:02.186703Z",
     "start_time": "2018-04-27T01:12:02.182545Z"
    }
   },
   "outputs": [],
   "source": [
    "len(client_enque)"
   ]
  },
  {
   "cell_type": "code",
   "execution_count": null,
   "metadata": {
    "ExecuteTime": {
     "end_time": "2018-04-27T01:12:06.797704Z",
     "start_time": "2018-04-27T01:12:06.791902Z"
    }
   },
   "outputs": [],
   "source": [
    "client_enque[:4]"
   ]
  },
  {
   "cell_type": "code",
   "execution_count": null,
   "metadata": {
    "ExecuteTime": {
     "end_time": "2018-04-27T01:12:10.094307Z",
     "start_time": "2018-04-27T01:12:10.089183Z"
    }
   },
   "outputs": [],
   "source": [
    "client_send[:4]"
   ]
  },
  {
   "cell_type": "code",
   "execution_count": null,
   "metadata": {
    "ExecuteTime": {
     "end_time": "2018-04-27T01:03:26.418822Z",
     "start_time": "2018-04-27T01:03:26.414668Z"
    }
   },
   "outputs": [],
   "source": [
    "server_receive.columns[0]"
   ]
  },
  {
   "cell_type": "code",
   "execution_count": null,
   "metadata": {
    "ExecuteTime": {
     "end_time": "2018-04-27T01:12:13.474510Z",
     "start_time": "2018-04-27T01:12:13.458338Z"
    },
    "scrolled": true
   },
   "outputs": [],
   "source": [
    "server_receive"
   ]
  },
  {
   "cell_type": "code",
   "execution_count": null,
   "metadata": {
    "ExecuteTime": {
     "end_time": "2018-04-27T00:11:08.428613Z",
     "start_time": "2018-04-27T00:11:08.420372Z"
    }
   },
   "outputs": [],
   "source": [
    "from profiling.OptimizingTools import log_start_stop"
   ]
  },
  {
   "cell_type": "code",
   "execution_count": null,
   "metadata": {
    "ExecuteTime": {
     "end_time": "2018-04-27T00:11:09.083322Z",
     "start_time": "2018-04-27T00:11:09.079481Z"
    }
   },
   "outputs": [],
   "source": [
    "import time\n",
    "\n",
    "loc = '%s/test-log.csv' % environment.LOG_FOLDER_PATH\n",
    "\n",
    "@log_start_stop(loc)\n",
    "def test():\n",
    "    print('j')\n",
    "    time.sleep(5)\n",
    "    print('k')\n",
    "\n"
   ]
  },
  {
   "cell_type": "code",
   "execution_count": null,
   "metadata": {
    "ExecuteTime": {
     "end_time": "2018-04-27T00:11:29.480665Z",
     "start_time": "2018-04-27T00:11:24.472135Z"
    }
   },
   "outputs": [],
   "source": [
    "test()"
   ]
  },
  {
   "cell_type": "code",
   "execution_count": null,
   "metadata": {},
   "outputs": [],
   "source": []
  },
  {
   "cell_type": "code",
   "execution_count": null,
   "metadata": {},
   "outputs": [],
   "source": []
  },
  {
   "cell_type": "code",
   "execution_count": null,
   "metadata": {},
   "outputs": [],
   "source": []
  },
  {
   "cell_type": "code",
   "execution_count": null,
   "metadata": {},
   "outputs": [],
   "source": []
  },
  {
   "cell_type": "code",
   "execution_count": null,
   "metadata": {},
   "outputs": [],
   "source": []
  },
  {
   "cell_type": "code",
   "execution_count": null,
   "metadata": {},
   "outputs": [],
   "source": []
  },
  {
   "cell_type": "code",
   "execution_count": null,
   "metadata": {},
   "outputs": [],
   "source": []
  },
  {
   "cell_type": "code",
   "execution_count": null,
   "metadata": {
    "ExecuteTime": {
     "end_time": "2018-04-24T22:23:47.431906Z",
     "start_time": "2018-04-24T22:23:47.428745Z"
    }
   },
   "outputs": [],
   "source": [
    "# numberUsersProcessed = 100\n",
    "numberUsersProcessed = 4352\n",
    "actualUsers = 1328927\n",
    "pctActual = numberUsersProcessed / actualUsers"
   ]
  },
  {
   "cell_type": "code",
   "execution_count": null,
   "metadata": {
    "ExecuteTime": {
     "end_time": "2018-04-24T22:23:51.752492Z",
     "start_time": "2018-04-24T22:23:47.434654Z"
    }
   },
   "outputs": [],
   "source": [
    "\n",
    "BASE = os.getenv(\"HOME\")\n",
    "# todo restore environment\n",
    "# from TwitterDataAnalysis.environment import *\n",
    "\n",
    "# Logging\n",
    "LOG_FOLDER_PATH = \"%s/Desktop/TwitterDataAnalysisLogs\" % BASE\n",
    "\n",
    "query_log = '%s/query_log.csv' % LOG_FOLDER_PATH\n",
    "query_time_log = '%s/query_time_log.csv' % LOG_FOLDER_PATH\n",
    "\n",
    "\n",
    "request_log = '%s/request_log.csv' % LOG_FOLDER_PATH\n",
    "request_time_log = '%s/request_time_log.csv' % LOG_FOLDER_PATH\n",
    "\n",
    "\n",
    "def r(x):\n",
    "    if x[0] == '0':\n",
    "        x = '2%s' % x \n",
    "    return pd.to_datetime(x)\n",
    "\n",
    "queries = pd.read_csv(query_log,  header=None, names=['runtime'])\n",
    "query_timestamps = pd.read_csv(query_time_log,  header=None, names=['runTimestamp'])\n",
    "query_timestamps = query_timestamps.apply(lambda x: r(x.runTimestamp), axis=1)\n",
    "queries.dropna(inplace=True)\n",
    "\n",
    "requests = pd.read_csv(request_log,  header=None, names=['runtime'])\n",
    "request_timestamps = pd.read_csv(request_time_log,  header=None, names=['runTimestamp'])\n",
    "request_timestamps = request_timestamps.apply(lambda x: r(x.runTimestamp), axis=1)\n",
    "requests.dropna(inplace=True)"
   ]
  },
  {
   "cell_type": "markdown",
   "metadata": {},
   "source": [
    "# DB query log"
   ]
  },
  {
   "cell_type": "code",
   "execution_count": null,
   "metadata": {},
   "outputs": [],
   "source": []
  },
  {
   "cell_type": "code",
   "execution_count": null,
   "metadata": {
    "ExecuteTime": {
     "end_time": "2018-04-24T02:27:51.566794Z",
     "start_time": "2018-04-24T02:27:51.562220Z"
    }
   },
   "outputs": [],
   "source": [
    "totalSeconds = queries.runtime.sum()\n",
    "meanRuntime = queries.runtime.mean()\n",
    "totalRecords = len(queries)\n",
    "print(\"Made %s queries in %s seconds (%s minutes). \" %(totalRecords, totalSeconds, totalSeconds/60))"
   ]
  },
  {
   "cell_type": "code",
   "execution_count": null,
   "metadata": {
    "ExecuteTime": {
     "end_time": "2018-04-24T02:27:57.071329Z",
     "start_time": "2018-04-24T02:27:57.063800Z"
    }
   },
   "outputs": [],
   "source": [
    "queriesPerUser = len(queries) / numberUsersProcessed \n",
    "print(\"%s queries per user\" % queriesPerUser)\n",
    "estQueryTime = queriesPerUser * meanRuntime * actualUsers\n",
    "estQueryTime"
   ]
  },
  {
   "cell_type": "code",
   "execution_count": null,
   "metadata": {
    "ExecuteTime": {
     "end_time": "2018-04-24T02:28:05.343334Z",
     "start_time": "2018-04-24T02:28:05.338401Z"
    }
   },
   "outputs": [],
   "source": [
    "elapsedTime = query_timestamps.max() -query_timestamps.min()\n",
    "elapsedTime"
   ]
  },
  {
   "cell_type": "code",
   "execution_count": null,
   "metadata": {
    "ExecuteTime": {
     "end_time": "2018-04-24T02:28:19.348332Z",
     "start_time": "2018-04-24T02:28:19.330221Z"
    }
   },
   "outputs": [],
   "source": [
    "queries.describe()"
   ]
  },
  {
   "cell_type": "code",
   "execution_count": null,
   "metadata": {
    "ExecuteTime": {
     "end_time": "2018-04-24T02:04:16.076380Z",
     "start_time": "2018-04-24T02:04:15.877854Z"
    }
   },
   "outputs": [],
   "source": [
    "sns.boxplot(queries)"
   ]
  },
  {
   "cell_type": "code",
   "execution_count": null,
   "metadata": {
    "ExecuteTime": {
     "end_time": "2018-04-24T02:29:21.516397Z",
     "start_time": "2018-04-24T02:29:21.508065Z"
    }
   },
   "outputs": [],
   "source": [
    "queries[:4]"
   ]
  },
  {
   "cell_type": "code",
   "execution_count": null,
   "metadata": {
    "ExecuteTime": {
     "end_time": "2018-04-24T02:29:03.309289Z",
     "start_time": "2018-04-24T02:29:03.303996Z"
    },
    "run_control": {
     "marked": true
    }
   },
   "outputs": [],
   "source": [
    "totalEstTime = queries.index.max() - queries.index.min()\n",
    "actualUsers * (totalEstTime / numberUsersProcessed)"
   ]
  },
  {
   "cell_type": "code",
   "execution_count": null,
   "metadata": {
    "ExecuteTime": {
     "end_time": "2018-04-24T02:30:10.419917Z",
     "start_time": "2018-04-24T02:30:10.197653Z"
    }
   },
   "outputs": [],
   "source": [
    "queries.plot()"
   ]
  },
  {
   "cell_type": "code",
   "execution_count": null,
   "metadata": {
    "ExecuteTime": {
     "end_time": "2018-04-24T02:30:14.719659Z",
     "start_time": "2018-04-24T02:30:14.510099Z"
    }
   },
   "outputs": [],
   "source": [
    "query_timestamps.T.plot()"
   ]
  },
  {
   "cell_type": "code",
   "execution_count": null,
   "metadata": {
    "ExecuteTime": {
     "end_time": "2018-04-06T21:28:41.662827Z",
     "start_time": "2018-04-06T21:28:41.658549Z"
    }
   },
   "outputs": [],
   "source": [
    "d = queries[:50]\n",
    "d = d.reset_index()"
   ]
  },
  {
   "cell_type": "code",
   "execution_count": null,
   "metadata": {
    "ExecuteTime": {
     "end_time": "2018-04-06T21:28:52.950373Z",
     "start_time": "2018-04-06T21:28:52.945003Z"
    }
   },
   "outputs": [],
   "source": [
    "d.runTimestamp[0]"
   ]
  },
  {
   "cell_type": "code",
   "execution_count": null,
   "metadata": {},
   "outputs": [],
   "source": []
  },
  {
   "cell_type": "markdown",
   "metadata": {},
   "source": [
    "# Request time logs"
   ]
  },
  {
   "cell_type": "code",
   "execution_count": null,
   "metadata": {
    "ExecuteTime": {
     "end_time": "2018-04-24T18:57:59.270821Z",
     "start_time": "2018-04-24T18:57:59.259035Z"
    }
   },
   "outputs": [],
   "source": [
    "totalSeconds = requests.runtime.sum()\n",
    "meanRuntime = requests.runtime.mean()\n",
    "totalRecords = len(requests)\n",
    "print(\"Handled %s requests in %s seconds (%s minutes). \" %(totalRecords, totalSeconds, totalSeconds/60))"
   ]
  },
  {
   "cell_type": "code",
   "execution_count": null,
   "metadata": {
    "ExecuteTime": {
     "end_time": "2018-04-24T18:57:59.831701Z",
     "start_time": "2018-04-24T18:57:59.802134Z"
    }
   },
   "outputs": [],
   "source": [
    "requests.describe()"
   ]
  },
  {
   "cell_type": "code",
   "execution_count": null,
   "metadata": {
    "ExecuteTime": {
     "end_time": "2018-04-24T02:06:42.619701Z",
     "start_time": "2018-04-24T02:06:42.615157Z"
    }
   },
   "outputs": [],
   "source": [
    "avgRequestsPerUser = totalRecords / numberUsersProcessed\n",
    "print(\"Average requests per user %s\" % avgRequestsPerUser)\n",
    "\n",
    "expectedRequests = totalUsers * avgRequestsPerUser\n",
    "print(\"Estimated number of requests required: %s\" % round(expectedRequests))\n",
    "expRun = expectedRequests * meanRuntime \n",
    "print(\"Expected runtime: %s hours\" % (expRun / 60))"
   ]
  },
  {
   "cell_type": "code",
   "execution_count": null,
   "metadata": {
    "ExecuteTime": {
     "end_time": "2018-04-24T02:09:00.378326Z",
     "start_time": "2018-04-24T02:09:00.060172Z"
    }
   },
   "outputs": [],
   "source": [
    "requests.plot()"
   ]
  },
  {
   "cell_type": "code",
   "execution_count": null,
   "metadata": {
    "ExecuteTime": {
     "end_time": "2018-04-24T02:09:57.903715Z",
     "start_time": "2018-04-24T02:09:57.666859Z"
    }
   },
   "outputs": [],
   "source": [
    "request_timestamps.T.plot()"
   ]
  },
  {
   "cell_type": "code",
   "execution_count": null,
   "metadata": {
    "ExecuteTime": {
     "end_time": "2018-04-24T02:12:50.899531Z",
     "start_time": "2018-04-24T02:12:50.892819Z"
    }
   },
   "outputs": [],
   "source": [
    "elapsedTime = request_timestamps.max() - request_timestamps.min()\n",
    "elapsedTime"
   ]
  },
  {
   "cell_type": "code",
   "execution_count": null,
   "metadata": {
    "ExecuteTime": {
     "end_time": "2018-04-24T02:13:37.211927Z",
     "start_time": "2018-04-24T02:13:37.206721Z"
    }
   },
   "outputs": [],
   "source": [
    "totalTime = requests.runtime.sum()\n",
    "totalTime"
   ]
  },
  {
   "cell_type": "code",
   "execution_count": null,
   "metadata": {},
   "outputs": [],
   "source": []
  },
  {
   "cell_type": "markdown",
   "metadata": {},
   "source": [
    "It took 1 minute to process 4352 users, how many minutes to process all?"
   ]
  },
  {
   "cell_type": "code",
   "execution_count": null,
   "metadata": {
    "ExecuteTime": {
     "end_time": "2018-04-24T02:23:39.489950Z",
     "start_time": "2018-04-24T02:23:39.485143Z"
    }
   },
   "outputs": [],
   "source": [
    "(actualUsers / numberUsersProcessed) / 60"
   ]
  },
  {
   "cell_type": "code",
   "execution_count": null,
   "metadata": {},
   "outputs": [],
   "source": [
    "#set index\n",
    "def ffff(row):\n",
    "    return Period(row.runtime, freq=\"D\")\n",
    "#     return Period(row.purchaseDate, freq=\"%sD\" % row.days)\n",
    "\n",
    "mjPurchases['standardDate'] = mjPurchases.apply(lambda x: ffff(x), axis=1)\n"
   ]
  },
  {
   "cell_type": "code",
   "execution_count": null,
   "metadata": {
    "ExecuteTime": {
     "end_time": "2018-04-24T19:01:39.117342Z",
     "start_time": "2018-04-24T19:01:38.563649Z"
    }
   },
   "outputs": [],
   "source": [
    "d = []\n",
    "for idx, row in request_timestamps.iteritems():\n",
    "    d.append(row - request_timestamps.iloc[idx -1])\n",
    "d = pd.Series(d)"
   ]
  },
  {
   "cell_type": "code",
   "execution_count": null,
   "metadata": {
    "ExecuteTime": {
     "end_time": "2018-04-24T19:01:46.432083Z",
     "start_time": "2018-04-24T19:01:46.179098Z"
    }
   },
   "outputs": [],
   "source": [
    "d.plot()"
   ]
  },
  {
   "cell_type": "code",
   "execution_count": null,
   "metadata": {},
   "outputs": [],
   "source": []
  },
  {
   "cell_type": "markdown",
   "metadata": {},
   "source": [
    "# Storage requirements estimation"
   ]
  },
  {
   "cell_type": "code",
   "execution_count": null,
   "metadata": {
    "ExecuteTime": {
     "end_time": "2018-04-24T23:05:10.526944Z",
     "start_time": "2018-04-24T23:05:10.523827Z"
    }
   },
   "outputs": [],
   "source": [
    "masterdb_bytes = 1523712\n",
    "processed = 4014"
   ]
  },
  {
   "cell_type": "code",
   "execution_count": null,
   "metadata": {
    "ExecuteTime": {
     "end_time": "2018-04-24T23:00:47.711482Z",
     "start_time": "2018-04-24T23:00:47.707375Z"
    }
   },
   "outputs": [],
   "source": [
    "processed = 4014\n",
    "mult = 1 + (processed / actualUsers)\n",
    "mult"
   ]
  },
  {
   "cell_type": "code",
   "execution_count": null,
   "metadata": {},
   "outputs": [],
   "source": [
    "spacePerUser"
   ]
  },
  {
   "cell_type": "code",
   "execution_count": null,
   "metadata": {
    "ExecuteTime": {
     "end_time": "2018-04-24T23:03:17.351491Z",
     "start_time": "2018-04-24T23:03:17.347262Z"
    }
   },
   "outputs": [],
   "source": [
    "processed * mult"
   ]
  },
  {
   "cell_type": "code",
   "execution_count": null,
   "metadata": {
    "ExecuteTime": {
     "end_time": "2018-04-24T23:01:37.585122Z",
     "start_time": "2018-04-24T23:01:37.580445Z"
    }
   },
   "outputs": [],
   "source": [
    "masterdb_bytes = 1523712\n",
    "mult * masterdb_bytes"
   ]
  },
  {
   "cell_type": "code",
   "execution_count": null,
   "metadata": {
    "ExecuteTime": {
     "end_time": "2018-04-24T23:05:47.696073Z",
     "start_time": "2018-04-24T23:05:47.691286Z"
    }
   },
   "outputs": [],
   "source": [
    "spacePerUser = masterdb_bytes / processed\n",
    "neededBytes = actualUsers * spacePerUser\n",
    "neededBytes"
   ]
  },
  {
   "cell_type": "code",
   "execution_count": null,
   "metadata": {},
   "outputs": [],
   "source": [
    "# 504,459,894 \n",
    "# ~ 504 MB"
   ]
  },
  {
   "cell_type": "code",
   "execution_count": null,
   "metadata": {},
   "outputs": [],
   "source": []
  },
  {
   "cell_type": "code",
   "execution_count": null,
   "metadata": {},
   "outputs": [],
   "source": []
  },
  {
   "cell_type": "code",
   "execution_count": null,
   "metadata": {},
   "outputs": [],
   "source": []
  },
  {
   "cell_type": "code",
   "execution_count": null,
   "metadata": {},
   "outputs": [],
   "source": []
  },
  {
   "cell_type": "code",
   "execution_count": null,
   "metadata": {},
   "outputs": [],
   "source": []
  },
  {
   "cell_type": "markdown",
   "metadata": {},
   "source": [
    "# Benchmark tweet text processing tools"
   ]
  },
  {
   "cell_type": "code",
   "execution_count": null,
   "metadata": {
    "ExecuteTime": {
     "end_time": "2018-04-06T23:17:15.533805Z",
     "start_time": "2018-04-06T23:17:14.035596Z"
    }
   },
   "outputs": [],
   "source": [
    "%cd twitteranalysis\n",
    "\n",
    "%run -i profiling/optimizing_string_processor.py"
   ]
  },
  {
   "cell_type": "code",
   "execution_count": null,
   "metadata": {},
   "outputs": [],
   "source": []
  },
  {
   "cell_type": "code",
   "execution_count": null,
   "metadata": {},
   "outputs": [],
   "source": []
  },
  {
   "cell_type": "code",
   "execution_count": null,
   "metadata": {},
   "outputs": [],
   "source": []
  },
  {
   "cell_type": "code",
   "execution_count": null,
   "metadata": {},
   "outputs": [],
   "source": []
  },
  {
   "cell_type": "markdown",
   "metadata": {},
   "source": [
    "# Display results of benchmark runs"
   ]
  },
  {
   "cell_type": "markdown",
   "metadata": {
    "ExecuteTime": {
     "end_time": "2018-02-16T22:34:42.204981Z",
     "start_time": "2018-02-16T22:34:42.202391Z"
    }
   },
   "source": [
    "## String processing worker with different datastructures"
   ]
  },
  {
   "cell_type": "code",
   "execution_count": null,
   "metadata": {
    "ExecuteTime": {
     "end_time": "2018-02-17T00:07:34.153405Z",
     "start_time": "2018-02-17T00:07:33.788143Z"
    },
    "scrolled": true
   },
   "outputs": [],
   "source": [
    "\n",
    "\n",
    "NUMTWEETS = 1181\n",
    "\n",
    "def a(row):\n",
    "    #correct experiment which iterated over the string\n",
    "    if len(row.dataStructure) == 1:\n",
    "        row.dataStructure = 'tuple'\n",
    "        \n",
    "    if row.tweetTime > 1 or row.numTweets > NUMTWEETS:\n",
    "        row.tweetTime = row.totalTime / NUMTWEETS\n",
    "    return row\n",
    "\n",
    "\n",
    "\n",
    "#load from file\n",
    "data = pd.read_csv(\"%s/tests/benchmarks/StringProcessingWorker.csv\" % TEXT_TOOLS_PATH)\n",
    "data.set_index(['id'], inplace=True)\n",
    "#fix incorrectly calculated tweet times\n",
    "data = data.apply(lambda x: a(x), axis=1)\n",
    "#get rid of outliers from pycharm indexing\n",
    "data = data[data.totalTime < 80]\n",
    "data.drop(['module', 'note', 'timestamp'], axis=1, inplace=True)\n",
    "len(data)"
   ]
  },
  {
   "cell_type": "code",
   "execution_count": null,
   "metadata": {
    "ExecuteTime": {
     "end_time": "2018-02-17T00:07:42.382912Z",
     "start_time": "2018-02-17T00:07:42.081658Z"
    }
   },
   "outputs": [],
   "source": [
    "fig, ax = plt.subplots(2)\n",
    "# sns.boxplot(data=data[['totalTime', 'tweetTime']], orient='h', ax=ax[0])\n",
    "sns.boxplot(data=data.totalTime, orient='h', ax=ax[0])\n",
    "sns.boxplot(data=data.tweetTime, orient='h', ax=ax[1])\n",
    "fig.tight_layout()"
   ]
  },
  {
   "cell_type": "code",
   "execution_count": null,
   "metadata": {
    "ExecuteTime": {
     "end_time": "2018-02-17T00:07:50.904239Z",
     "start_time": "2018-02-17T00:07:43.087397Z"
    }
   },
   "outputs": [],
   "source": [
    "fig, ax = plt.subplots(2, figsize=(12,6))\n",
    "sns.boxplot(x=\"numThreads\", y=\"totalTime\", hue=\"dataStructure\", data=data, ax=ax[0])\n",
    "sns.boxplot(x=\"numThreads\", y=\"tweetTime\", hue=\"dataStructure\", data=data, ax=ax[1])"
   ]
  },
  {
   "cell_type": "code",
   "execution_count": null,
   "metadata": {
    "ExecuteTime": {
     "end_time": "2018-02-17T00:07:53.085259Z",
     "start_time": "2018-02-17T00:07:50.906013Z"
    }
   },
   "outputs": [],
   "source": [
    "\n",
    "import matplotlib.ticker as ticker\n",
    "# sns.set_style( {'xtick.major.size': 5.0})\n",
    "g = sns.violinplot(x=\"numThreads\", y=\"tweetTime\", hue=\"dataStructure\", data=data)\n",
    "# g.set_xticklabels([i for i in range(0, 50, 5)])\n",
    "# g.set(xticklabels=[i for i in range(0, 50, 5)])\n",
    "# g.xaxis.set_major_locator(ticker.MultipleLocator(5))\n",
    "# f = plt.gcf().get_axes()[0]\n",
    "# f.set_xticks(5)"
   ]
  },
  {
   "cell_type": "code",
   "execution_count": null,
   "metadata": {},
   "outputs": [],
   "source": [
    "fig, ax = plt.subplots(2)\n",
    "sns.distplot(data.totalTime, kde=True, rug=True, ax=ax[0])\n",
    "sns.distplot(data.tweetTime, kde=True, rug=True, ax=ax[1])\n",
    "fig.tight_layout()"
   ]
  },
  {
   "cell_type": "code",
   "execution_count": null,
   "metadata": {},
   "outputs": [],
   "source": [
    "import sys\n",
    "sys.byteorder"
   ]
  },
  {
   "cell_type": "code",
   "execution_count": null,
   "metadata": {},
   "outputs": [],
   "source": []
  },
  {
   "cell_type": "code",
   "execution_count": null,
   "metadata": {},
   "outputs": [],
   "source": [
    "sns.factorplot(x=\"numThreads\", y=\"totalTime\", hue=\"dataStructure\", data=data) #, kind=\"swarm\") #, ax=axes[0])\n",
    "fig = plt.gcf()\n",
    "fig.set_size_inches(12,4)\n",
    "fig.tight_layout()\n",
    "# fig.get_axes()[0].set_ylim(0.025,0.04)"
   ]
  },
  {
   "cell_type": "code",
   "execution_count": null,
   "metadata": {},
   "outputs": [],
   "source": [
    "sns.factorplot(x=\"numThreads\", y=\"tweetTime\", hue=\"dataStructure\", data=data) #,ax=axes[1]);\n",
    "fig = plt.gcf()\n",
    "fig.set_size_inches(12,4)\n",
    "fig.get_axes()[0].set_ylim(0.028,0.032)\n",
    "fig.tight_layout()"
   ]
  },
  {
   "cell_type": "code",
   "execution_count": null,
   "metadata": {},
   "outputs": [],
   "source": []
  },
  {
   "cell_type": "code",
   "execution_count": null,
   "metadata": {},
   "outputs": [],
   "source": []
  },
  {
   "cell_type": "code",
   "execution_count": null,
   "metadata": {},
   "outputs": [],
   "source": []
  },
  {
   "cell_type": "code",
   "execution_count": null,
   "metadata": {},
   "outputs": [],
   "source": []
  },
  {
   "cell_type": "code",
   "execution_count": null,
   "metadata": {},
   "outputs": [],
   "source": []
  },
  {
   "cell_type": "code",
   "execution_count": null,
   "metadata": {},
   "outputs": [],
   "source": []
  },
  {
   "cell_type": "code",
   "execution_count": null,
   "metadata": {},
   "outputs": [],
   "source": []
  }
 ],
 "metadata": {
  "kernelspec": {
   "display_name": "Python 3",
   "language": "python",
   "name": "python3"
  },
  "language_info": {
   "codemirror_mode": {
    "name": "ipython",
    "version": 3
   },
   "file_extension": ".py",
   "mimetype": "text/x-python",
   "name": "python",
   "nbconvert_exporter": "python",
   "pygments_lexer": "ipython3",
   "version": "3.6.4"
  },
  "latex_envs": {
   "bibliofile": "biblio.bib",
   "cite_by": "apalike",
   "current_citInitial": 1,
   "eqLabelWithNumbers": true,
   "eqNumInitial": 0
  },
  "toc": {
   "colors": {
    "hover_highlight": "#DAA520",
    "navigate_num": "#000000",
    "navigate_text": "#333333",
    "running_highlight": "#FF0000",
    "selected_highlight": "#FFD700",
    "sidebar_border": "#EEEEEE",
    "wrapper_background": "#FFFFFF"
   },
   "moveMenuLeft": true,
   "nav_menu": {
    "height": "12px",
    "width": "252px"
   },
   "navigate_menu": true,
   "number_sections": true,
   "sideBar": true,
   "threshold": 4,
   "toc_cell": false,
   "toc_section_display": "block",
   "toc_window_display": true,
   "widenNotebook": false
  }
 },
 "nbformat": 4,
 "nbformat_minor": 2
}
