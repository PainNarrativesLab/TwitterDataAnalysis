{
 "cells": [
  {
   "cell_type": "markdown",
   "metadata": {},
   "source": []
  },
  {
   "cell_type": "code",
   "execution_count": null,
   "metadata": {
    "ExecuteTime": {
     "end_time": "2018-05-08T00:35:29.729901Z",
     "start_time": "2018-05-08T00:35:29.671995Z"
    }
   },
   "outputs": [],
   "source": [
    "a = [1, 2]\n",
    "b = [4]\n",
    "a += b\n",
    "a"
   ]
  },
  {
   "cell_type": "code",
   "execution_count": null,
   "metadata": {},
   "outputs": [],
   "source": []
  },
  {
   "cell_type": "markdown",
   "metadata": {},
   "source": [
    "We can control the number of concurrent requests manually by using a semaphore to only do HTTP gets from 100 greenlets at a time. A semaphore works by making sure that only a certain number of coroutines can enter the context block at a time. As a result, we can launch all the greenlets that we need in order to fetch the URLs right away, but only 100 of them will be able to make HTTP calls at a time. Semaphores are one type of locking mechanism used a lot in various parallel code flows. By restricting the progression of your code based on various rules, locks can help you make sure that the various components of your program don’t interfere with each other.\n"
   ]
  },
  {
   "cell_type": "code",
   "execution_count": null,
   "metadata": {},
   "outputs": [],
   "source": []
  },
  {
   "cell_type": "code",
   "execution_count": null,
   "metadata": {},
   "outputs": [],
   "source": []
  },
  {
   "cell_type": "code",
   "execution_count": null,
   "metadata": {},
   "outputs": [],
   "source": [
    "import time\n",
    "\n",
    "def parallelizable_process():\n",
    "    \"\"\"though unclear how the cursor works here\"\"\"\n",
    "    print(\"pp\")\n",
    "\n",
    "def queue_operation():\n",
    "    print(\"queuing\")\n",
    "\n",
    "def asych_save_operation():\n",
    "    \"\"\"\"\"\"\n",
    "    print(\"ready saving\")\n",
    "    time.sleep(5)\n",
    "    print(\"saving done\")"
   ]
  },
  {
   "cell_type": "code",
   "execution_count": null,
   "metadata": {
    "ExecuteTime": {
     "end_time": "2018-05-08T01:13:40.748872Z",
     "start_time": "2018-05-08T01:13:40.729050Z"
    }
   },
   "outputs": [],
   "source": [
    "def cursor(limit=4):\n",
    "    i = 0\n",
    "    while i < limit:\n",
    "        print(\"cursor %s\" % i)\n",
    "        yield i\n",
    "        i+= 1"
   ]
  },
  {
   "cell_type": "code",
   "execution_count": null,
   "metadata": {
    "ExecuteTime": {
     "end_time": "2018-05-08T01:18:24.317487Z",
     "start_time": "2018-05-08T01:18:24.196636Z"
    }
   },
   "outputs": [],
   "source": [
    "import asyncio\n",
    "\n",
    "async def do_thing(i):\n",
    "    print(\"do thing %s ...\" % (i))\n",
    "    await asyncio.sleep(1.0)\n",
    "    return i\n",
    "\n",
    "async def controller():\n",
    "    i = 1\n",
    "    result = await do_thing(i)\n",
    "    print(\"controller %s \" % (result))\n",
    "\n",
    "# if asyncio._check_closed() and asyncio.is_running():\n",
    "#     loop.\n",
    "    \n",
    "loop = asyncio.get_event_loop()\n",
    "loop.run_until_complete(controller())\n",
    "loop.close()\n"
   ]
  },
  {
   "cell_type": "code",
   "execution_count": null,
   "metadata": {
    "ExecuteTime": {
     "end_time": "2018-05-04T22:40:59.719009Z",
     "start_time": "2018-05-04T22:40:59.715782Z"
    }
   },
   "outputs": [],
   "source": [
    "from collections import deque\n",
    "\n",
    "queue = deque()\n",
    "size = 10\n",
    "\n",
    "async def client_stage_batch(batch):\n",
    "    \"\"\"Handles sending the result to the server.\n",
    "    Once the send is executed (not the successul completion)\n",
    "    it will complete the future\n",
    "    \"\"\"\n",
    "    future = asyncio.Future()\n",
    "# ???????\n",
    "    yield asyncio.ensure_future(slow_operation(future))\n",
    "\n",
    "\n",
    "async def queue_side_handler(resultList):\n",
    "    [queue.append(r) for r in resultList ]\n",
    "    if len(queue >= size):\n",
    "        result = await client_stage_batch(queue)\n",
    "        # clear queue\n",
    "        return result\n",
    "    return True\n",
    "\n",
    "# loop.run_until_complete(future)\n",
    "# print(future.result())\n",
    "# loop.close()\n"
   ]
  },
  {
   "cell_type": "code",
   "execution_count": null,
   "metadata": {},
   "outputs": [],
   "source": [
    "async def processor_side_enque(resultList):\n",
    "    \"\"\"Sends the list of results to the queue from the processor\n",
    "    The queue side returns a future which resolves after the \n",
    "    result list has been enqueued or the request has been sent to the \n",
    "    server (if the batch size has been reached)\n",
    "    \"\"\"\n",
    "    result = await queue_side_handler(resultList)\n",
    "    return result\n",
    "    "
   ]
  },
  {
   "cell_type": "code",
   "execution_count": null,
   "metadata": {},
   "outputs": [],
   "source": []
  },
  {
   "cell_type": "code",
   "execution_count": null,
   "metadata": {},
   "outputs": [],
   "source": []
  },
  {
   "cell_type": "code",
   "execution_count": null,
   "metadata": {},
   "outputs": [],
   "source": []
  },
  {
   "cell_type": "code",
   "execution_count": null,
   "metadata": {},
   "outputs": [],
   "source": []
  },
  {
   "cell_type": "code",
   "execution_count": null,
   "metadata": {},
   "outputs": [],
   "source": []
  },
  {
   "cell_type": "code",
   "execution_count": null,
   "metadata": {},
   "outputs": [],
   "source": []
  },
  {
   "cell_type": "code",
   "execution_count": null,
   "metadata": {},
   "outputs": [],
   "source": []
  },
  {
   "cell_type": "markdown",
   "metadata": {},
   "source": [
    "# start an ipcontroller and cluster first"
   ]
  },
  {
   "cell_type": "markdown",
   "metadata": {
    "ExecuteTime": {
     "start_time": "2018-04-25T00:39:32.752Z"
    }
   },
   "source": [
    "%%bash \n",
    "ipcluster start -n 2"
   ]
  },
  {
   "cell_type": "code",
   "execution_count": null,
   "metadata": {
    "ExecuteTime": {
     "end_time": "2018-04-28T22:17:30.558223Z",
     "start_time": "2018-04-28T22:17:30.546157Z"
    }
   },
   "outputs": [],
   "source": [
    "\n",
    "%cd twitteranalysis\n",
    "import ipyparallel as ipp\n",
    "# Connect to the cluster\n",
    "rc = ipp.Client()"
   ]
  },
  {
   "cell_type": "code",
   "execution_count": null,
   "metadata": {
    "ExecuteTime": {
     "end_time": "2018-04-28T21:45:36.757825Z",
     "start_time": "2018-04-28T21:45:36.747565Z"
    }
   },
   "outputs": [],
   "source": [
    "%magic"
   ]
  },
  {
   "cell_type": "markdown",
   "metadata": {},
   "source": [
    "# Example"
   ]
  },
  {
   "cell_type": "code",
   "execution_count": null,
   "metadata": {
    "ExecuteTime": {
     "end_time": "2018-04-24T23:26:58.986603Z",
     "start_time": "2018-04-24T23:26:58.804424Z"
    }
   },
   "outputs": [],
   "source": [
    "with rc[:].sync_imports():\n",
    "    import numpy"
   ]
  },
  {
   "cell_type": "code",
   "execution_count": null,
   "metadata": {
    "ExecuteTime": {
     "end_time": "2018-04-24T23:27:09.491205Z",
     "start_time": "2018-04-24T23:27:09.466749Z"
    }
   },
   "outputs": [],
   "source": [
    "%px a = numpy.random.rand(2,2)\n"
   ]
  },
  {
   "cell_type": "code",
   "execution_count": null,
   "metadata": {
    "ExecuteTime": {
     "end_time": "2018-04-24T23:27:26.523877Z",
     "start_time": "2018-04-24T23:27:26.474248Z"
    }
   },
   "outputs": [],
   "source": [
    "%px numpy.linalg.eigvals(a)\n"
   ]
  },
  {
   "cell_type": "code",
   "execution_count": null,
   "metadata": {},
   "outputs": [],
   "source": []
  },
  {
   "cell_type": "code",
   "execution_count": null,
   "metadata": {
    "ExecuteTime": {
     "end_time": "2018-04-28T22:16:48.388781Z",
     "start_time": "2018-04-28T22:16:48.376027Z"
    }
   },
   "outputs": [],
   "source": [
    "%%px --noblock --targets 1\n",
    "print ('hi')\n"
   ]
  },
  {
   "cell_type": "code",
   "execution_count": null,
   "metadata": {
    "ExecuteTime": {
     "end_time": "2018-04-28T22:16:50.195968Z",
     "start_time": "2018-04-28T22:16:50.192896Z"
    }
   },
   "outputs": [],
   "source": [
    "%pxresult"
   ]
  },
  {
   "cell_type": "code",
   "execution_count": null,
   "metadata": {
    "ExecuteTime": {
     "end_time": "2018-04-28T21:20:11.590001Z",
     "start_time": "2018-04-28T21:20:11.583894Z"
    }
   },
   "outputs": [],
   "source": [
    "%%px --noblock --targets 0\n",
    "print ('ho')\n"
   ]
  },
  {
   "cell_type": "code",
   "execution_count": null,
   "metadata": {
    "ExecuteTime": {
     "end_time": "2018-04-28T21:20:11.971857Z",
     "start_time": "2018-04-28T21:20:11.968493Z"
    }
   },
   "outputs": [],
   "source": [
    "%pxresult"
   ]
  },
  {
   "cell_type": "code",
   "execution_count": null,
   "metadata": {},
   "outputs": [],
   "source": []
  },
  {
   "cell_type": "code",
   "execution_count": null,
   "metadata": {},
   "outputs": [],
   "source": []
  },
  {
   "cell_type": "code",
   "execution_count": null,
   "metadata": {},
   "outputs": [],
   "source": []
  },
  {
   "cell_type": "code",
   "execution_count": null,
   "metadata": {},
   "outputs": [],
   "source": []
  },
  {
   "cell_type": "code",
   "execution_count": null,
   "metadata": {
    "ExecuteTime": {
     "end_time": "2018-04-28T21:13:58.852812Z",
     "start_time": "2018-04-28T21:13:58.835982Z"
    }
   },
   "outputs": [],
   "source": [
    "%%px --noblock\n",
    "%cd twitteranalysis\n",
    "from Servers import DatabaseServerGrumble as DSG \n",
    "j = DSG.main()"
   ]
  },
  {
   "cell_type": "code",
   "execution_count": null,
   "metadata": {
    "ExecuteTime": {
     "end_time": "2018-04-28T21:13:15.182726Z",
     "start_time": "2018-04-28T21:13:15.174821Z"
    }
   },
   "outputs": [],
   "source": [
    "%cd twitteranalysis"
   ]
  },
  {
   "cell_type": "code",
   "execution_count": null,
   "metadata": {},
   "outputs": [],
   "source": []
  },
  {
   "cell_type": "code",
   "execution_count": null,
   "metadata": {
    "ExecuteTime": {
     "start_time": "2018-04-28T21:14:01.818Z"
    }
   },
   "outputs": [],
   "source": [
    "%pxresult"
   ]
  },
  {
   "cell_type": "code",
   "execution_count": null,
   "metadata": {
    "ExecuteTime": {
     "end_time": "2018-04-28T22:17:59.414533Z",
     "start_time": "2018-04-28T22:17:59.408863Z"
    }
   },
   "outputs": [],
   "source": [
    "%%px --noblock --targets 1\n",
    "%cd twitteranalysis\n",
    "\n",
    "from Executables import process_user_descriptions_into_words as Runner\n",
    "Runner.main()"
   ]
  },
  {
   "cell_type": "code",
   "execution_count": null,
   "metadata": {
    "ExecuteTime": {
     "end_time": "2018-04-28T22:18:32.040881Z",
     "start_time": "2018-04-28T22:17:59.941728Z"
    }
   },
   "outputs": [],
   "source": [
    "%pxresult"
   ]
  },
  {
   "cell_type": "code",
   "execution_count": null,
   "metadata": {
    "ExecuteTime": {
     "start_time": "2018-04-25T01:14:25.546Z"
    }
   },
   "outputs": [],
   "source": [
    "import ipyparallel as ipp\n",
    "rc = ipp.Client()\n",
    "\n",
    "\n",
    "\n",
    "# lview = rc.load_balanced_view() \n",
    "# lview.block = True\n",
    "\n",
    "# @lview.parallel()\n",
    "# def start_db():\n",
    "#     DSG.main()\n",
    "\n",
    "# @lview.parallel()\n",
    "# def run():\n",
    "#     Runner.main()\n",
    "\n",
    "# %%px --targets 1 "
   ]
  },
  {
   "cell_type": "code",
   "execution_count": null,
   "metadata": {
    "ExecuteTime": {
     "start_time": "2018-04-25T01:14:26.140Z"
    }
   },
   "outputs": [],
   "source": [
    "rc.ids"
   ]
  },
  {
   "cell_type": "code",
   "execution_count": null,
   "metadata": {
    "ExecuteTime": {
     "end_time": "2018-04-25T01:11:09.140597Z",
     "start_time": "2018-04-25T01:10:51.794999Z"
    }
   },
   "outputs": [],
   "source": [
    "\n",
    "e1 = rc[0]\n",
    "e2 = rc[1]\n",
    "e1.apply(DSG.main())\n"
   ]
  },
  {
   "cell_type": "code",
   "execution_count": null,
   "metadata": {},
   "outputs": [],
   "source": []
  },
  {
   "cell_type": "code",
   "execution_count": null,
   "metadata": {},
   "outputs": [],
   "source": []
  },
  {
   "cell_type": "code",
   "execution_count": null,
   "metadata": {
    "ExecuteTime": {
     "end_time": "2018-04-25T01:03:54.540077Z",
     "start_time": "2018-04-25T01:03:54.520310Z"
    }
   },
   "outputs": [],
   "source": [
    "start_db()\n",
    "print ('j')\n",
    "run()"
   ]
  },
  {
   "cell_type": "code",
   "execution_count": null,
   "metadata": {},
   "outputs": [],
   "source": []
  },
  {
   "cell_type": "code",
   "execution_count": null,
   "metadata": {},
   "outputs": [],
   "source": []
  },
  {
   "cell_type": "code",
   "execution_count": null,
   "metadata": {
    "ExecuteTime": {
     "end_time": "2018-04-25T00:33:22.660477Z",
     "start_time": "2018-04-25T00:33:22.647099Z"
    }
   },
   "outputs": [],
   "source": [
    "%%px --noblock\n",
    "print ('hi')\n",
    "\n"
   ]
  },
  {
   "cell_type": "code",
   "execution_count": null,
   "metadata": {},
   "outputs": [],
   "source": [
    "%pxresult"
   ]
  },
  {
   "cell_type": "markdown",
   "metadata": {},
   "source": [
    "# Based on quick and easy section"
   ]
  },
  {
   "cell_type": "code",
   "execution_count": null,
   "metadata": {},
   "outputs": [],
   "source": [
    "\n",
    "\n"
   ]
  },
  {
   "cell_type": "code",
   "execution_count": null,
   "metadata": {},
   "outputs": [],
   "source": [
    "#Run db in separate notebook\n",
    "\n"
   ]
  },
  {
   "cell_type": "code",
   "execution_count": null,
   "metadata": {
    "ExecuteTime": {
     "end_time": "2018-04-28T22:14:19.930869Z",
     "start_time": "2018-04-28T22:14:19.923551Z"
    }
   },
   "outputs": [],
   "source": [
    "%cd twitteranalysis\n",
    "from Servers.DatabaseServerGrumble import main"
   ]
  },
  {
   "cell_type": "code",
   "execution_count": null,
   "metadata": {
    "ExecuteTime": {
     "start_time": "2018-04-28T22:14:20.702Z"
    },
    "scrolled": false
   },
   "outputs": [],
   "source": [
    "main()"
   ]
  },
  {
   "cell_type": "markdown",
   "metadata": {},
   "source": [
    "# instrumenting to determine if running parallel\n",
    "\n"
   ]
  },
  {
   "cell_type": "code",
   "execution_count": 1,
   "metadata": {
    "ExecuteTime": {
     "end_time": "2018-05-09T00:08:43.782792Z",
     "start_time": "2018-05-09T00:08:42.765096Z"
    }
   },
   "outputs": [
    {
     "name": "stdout",
     "output_type": "stream",
     "text": [
      "(bookmark:twitteranalysis) -> /Users/adam/Dropbox/PainNarrativesLab/TwitterDataAnalysis\n",
      "/Users/adam/Dropbox/PainNarrativesLab/TwitterDataAnalysis\n"
     ]
    }
   ],
   "source": [
    "%cd twitteranalysis\n",
    "import environment\n",
    "import pandas as pd\n",
    "from pandas import DataFrame, Series\n",
    "%matplotlib inline\n",
    "from matplotlib import pyplot as plt\n",
    "import seaborn as sns\n",
    "sns.set(style=\"whitegrid\")\n",
    "\n",
    "\n",
    "client_send_file = \"%s/client-send.csv\" % environment.PROFILING_LOG_FOLDER_PATH\n",
    "client_enque_file = \"%s/client-enque.csv\" % environment.PROFILING_LOG_FOLDER_PATH\n",
    "server_receive_file = \"%s/server-receive.csv\" % environment.PROFILING_LOG_FOLDER_PATH\n",
    "server_save_file = \"%s/server-save.csv\" % environment.PROFILING_LOG_FOLDER_PATH\n",
    "\n",
    "\n",
    "\n"
   ]
  },
  {
   "cell_type": "code",
   "execution_count": 2,
   "metadata": {
    "ExecuteTime": {
     "end_time": "2018-05-09T00:08:45.726451Z",
     "start_time": "2018-05-09T00:08:45.723959Z"
    }
   },
   "outputs": [],
   "source": [
    "# server_receive.rename({server_receive.columns[0]: 'start', server_receive.columns[1]: 'stop'}, axis=1, inplace=True)"
   ]
  },
  {
   "cell_type": "markdown",
   "metadata": {
    "ExecuteTime": {
     "end_time": "2018-04-27T01:13:58.340871Z",
     "start_time": "2018-04-27T01:13:58.336402Z"
    },
    "code_folding": []
   },
   "source": [
    "## Load and process the log data"
   ]
  },
  {
   "cell_type": "code",
   "execution_count": 3,
   "metadata": {
    "ExecuteTime": {
     "end_time": "2018-05-09T00:08:52.631350Z",
     "start_time": "2018-05-09T00:08:46.250763Z"
    }
   },
   "outputs": [
    {
     "name": "stdout",
     "output_type": "stream",
     "text": [
      "(bookmark:twitteranalysis) -> /Users/adam/Dropbox/PainNarrativesLab/TwitterDataAnalysis\n",
      "/Users/adam/Dropbox/PainNarrativesLab/TwitterDataAnalysis\n",
      "1501 unique timestamps\n",
      "Done\n"
     ]
    }
   ],
   "source": [
    "\n",
    "%cd twitteranalysis\n",
    "import environment\n",
    "import pandas as pd\n",
    "from pandas import DataFrame, Series\n",
    "\n",
    "pickle = \"%s/working-pickle\" % environment.PROFILING_LOG_FOLDER_PATH\n",
    "\n",
    "file_stems = ['client-send', 'client-enque', 'server-receive', 'server-save']\n",
    "# def load(file_stems = file_stems):\n",
    "series = []\n",
    "columns = []\n",
    "for f in file_stems:\n",
    "    # make full file path\n",
    "    path = \"%s/%s.csv\" % (environment.PROFILING_LOG_FOLDER_PATH, f)\n",
    "    # read it in as a series\n",
    "    s = pd.read_csv(path, squeeze=True)\n",
    "    # NB, not converting to timestamp yet since easier to compare strings\n",
    "    # s = s.apply(lambda x : pd.to_datetime(x))\n",
    "    series.append(s)\n",
    "    columns.append(f.replace('-', '_') )\n",
    "\n",
    "d = [{ columns[i] : series[i]} for i in range(0, len(series))]\n",
    "\n",
    "# create a unique list of timestamp strings\n",
    "# these will serve as the index of the datafram\n",
    "ts = pd.concat(series)\n",
    "ts = set(ts.values)\n",
    "print(\"%s unique timestamps\" % len(ts))\n",
    "\n",
    "# create the dataframe with the full index\n",
    "# and named columns, but no data\n",
    "data = DataFrame(index=ts, columns=columns)\n",
    "data.reset_index(inplace=True)\n",
    "# we have trouble with an upcoming apply step if the timestamps\n",
    "# are the index or if the column is named index, so we rename it\n",
    "data = data.rename({'index':'timestamps'}, axis=1)\n",
    "\n",
    "# populate the dataframe\n",
    "# This takes awhile.....\n",
    "def ff(row, values, goodVal):\n",
    "    if row.timestamps in values:\n",
    "        return goodVal\n",
    "    return 0\n",
    "\n",
    "for i in range(0, len(columns)):\n",
    "    name = columns[i]\n",
    "    vs = series[i].values\n",
    "    goodVal = i + 1\n",
    "    data[name] = data.apply(lambda x : ff(x, vs, goodVal ), axis=1)\n",
    "\n",
    "# Now that the comparison stuff is done,\n",
    "# we can convert to actual datetimes\n",
    "data.timestamps = data.timestamps.apply(lambda x: pd.to_datetime(x))\n",
    "\n",
    "# save the data to a file so we don't have to do the above\n",
    "# every time\n",
    "data.to_pickle(pickle)\n",
    "print(\"Done\")"
   ]
  },
  {
   "cell_type": "code",
   "execution_count": null,
   "metadata": {},
   "outputs": [],
   "source": []
  },
  {
   "cell_type": "code",
   "execution_count": 4,
   "metadata": {
    "ExecuteTime": {
     "end_time": "2018-04-29T06:02:28.356404Z",
     "start_time": "2018-04-29T06:02:28.232Z"
    }
   },
   "outputs": [
    {
     "data": {
      "text/html": [
       "<div>\n",
       "<style scoped>\n",
       "    .dataframe tbody tr th:only-of-type {\n",
       "        vertical-align: middle;\n",
       "    }\n",
       "\n",
       "    .dataframe tbody tr th {\n",
       "        vertical-align: top;\n",
       "    }\n",
       "\n",
       "    .dataframe thead th {\n",
       "        text-align: right;\n",
       "    }\n",
       "</style>\n",
       "<table border=\"1\" class=\"dataframe\">\n",
       "  <thead>\n",
       "    <tr style=\"text-align: right;\">\n",
       "      <th></th>\n",
       "      <th>timestamps</th>\n",
       "      <th>client_send</th>\n",
       "      <th>client_enque</th>\n",
       "      <th>server_receive</th>\n",
       "      <th>server_save</th>\n",
       "    </tr>\n",
       "  </thead>\n",
       "  <tbody>\n",
       "    <tr>\n",
       "      <th>0</th>\n",
       "      <td>2018-05-14 17:29:07.524232</td>\n",
       "      <td>1</td>\n",
       "      <td>0</td>\n",
       "      <td>0</td>\n",
       "      <td>0</td>\n",
       "    </tr>\n",
       "    <tr>\n",
       "      <th>1</th>\n",
       "      <td>2018-05-14 17:29:08.308835</td>\n",
       "      <td>0</td>\n",
       "      <td>2</td>\n",
       "      <td>0</td>\n",
       "      <td>0</td>\n",
       "    </tr>\n",
       "    <tr>\n",
       "      <th>2</th>\n",
       "      <td>2018-05-14 17:29:10.376862</td>\n",
       "      <td>0</td>\n",
       "      <td>0</td>\n",
       "      <td>3</td>\n",
       "      <td>0</td>\n",
       "    </tr>\n",
       "    <tr>\n",
       "      <th>3</th>\n",
       "      <td>2018-05-14 17:29:08.952649</td>\n",
       "      <td>0</td>\n",
       "      <td>2</td>\n",
       "      <td>0</td>\n",
       "      <td>0</td>\n",
       "    </tr>\n",
       "    <tr>\n",
       "      <th>4</th>\n",
       "      <td>2018-05-14 17:29:09.479355</td>\n",
       "      <td>0</td>\n",
       "      <td>0</td>\n",
       "      <td>3</td>\n",
       "      <td>0</td>\n",
       "    </tr>\n",
       "  </tbody>\n",
       "</table>\n",
       "</div>"
      ],
      "text/plain": [
       "                  timestamps  client_send  client_enque  server_receive  \\\n",
       "0 2018-05-14 17:29:07.524232            1             0               0   \n",
       "1 2018-05-14 17:29:08.308835            0             2               0   \n",
       "2 2018-05-14 17:29:10.376862            0             0               3   \n",
       "3 2018-05-14 17:29:08.952649            0             2               0   \n",
       "4 2018-05-14 17:29:09.479355            0             0               3   \n",
       "\n",
       "   server_save  \n",
       "0            0  \n",
       "1            0  \n",
       "2            0  \n",
       "3            0  \n",
       "4            0  "
      ]
     },
     "execution_count": 4,
     "metadata": {},
     "output_type": "execute_result"
    }
   ],
   "source": [
    "data[:5]\n",
    "\n"
   ]
  },
  {
   "cell_type": "markdown",
   "metadata": {
    "ExecuteTime": {
     "end_time": "2018-04-28T18:46:13.057304Z",
     "start_time": "2018-04-28T18:46:13.046478Z"
    }
   },
   "source": [
    "## Plot timestamps "
   ]
  },
  {
   "cell_type": "code",
   "execution_count": 5,
   "metadata": {
    "ExecuteTime": {
     "end_time": "2018-05-09T00:08:52.644156Z",
     "start_time": "2018-05-09T00:08:52.633192Z"
    }
   },
   "outputs": [
    {
     "data": {
      "text/plain": [
       "1501"
      ]
     },
     "execution_count": 5,
     "metadata": {},
     "output_type": "execute_result"
    }
   ],
   "source": [
    "# Load data\n",
    "d = pd.read_pickle(pickle)\n",
    "d.set_index('timestamps', inplace=True)\n",
    "len(d)"
   ]
  },
  {
   "cell_type": "code",
   "execution_count": 6,
   "metadata": {
    "ExecuteTime": {
     "end_time": "2018-05-09T00:08:52.669172Z",
     "start_time": "2018-05-09T00:08:52.646429Z"
    }
   },
   "outputs": [
    {
     "data": {
      "text/plain": [
       "4"
      ]
     },
     "execution_count": 6,
     "metadata": {},
     "output_type": "execute_result"
    }
   ],
   "source": [
    "# consolidate at the seconds level\n",
    "d = d.resample('S').mean()\n",
    "len(d)"
   ]
  },
  {
   "cell_type": "code",
   "execution_count": 8,
   "metadata": {
    "ExecuteTime": {
     "end_time": "2018-05-09T00:08:55.276669Z",
     "start_time": "2018-05-09T00:08:54.306693Z"
    }
   },
   "outputs": [
    {
     "data": {
      "image/png": "[encoded data removed]",
      "text/plain": [
       "<Figure size 576x360 with 1 Axes>"
      ]
     },
     "metadata": {},
     "output_type": "display_data"
    }
   ],
   "source": [
    "fig, axes = plt.subplots(figsize=(8,5))\n",
    "d.plot(kind='bar', ax=axes)\n",
    "fig.tight_layout()"
   ]
  },
  {
   "cell_type": "code",
   "execution_count": null,
   "metadata": {},
   "outputs": [],
   "source": []
  },
  {
   "cell_type": "code",
   "execution_count": null,
   "metadata": {
    "ExecuteTime": {
     "end_time": "2018-04-27T01:30:13.036996Z",
     "start_time": "2018-04-27T01:30:13.030416Z"
    }
   },
   "outputs": [],
   "source": []
  },
  {
   "cell_type": "code",
   "execution_count": null,
   "metadata": {},
   "outputs": [],
   "source": []
  },
  {
   "cell_type": "code",
   "execution_count": null,
   "metadata": {},
   "outputs": [],
   "source": []
  },
  {
   "cell_type": "code",
   "execution_count": null,
   "metadata": {
    "ExecuteTime": {
     "end_time": "2018-04-27T01:11:45.209627Z",
     "start_time": "2018-04-27T01:11:45.145424Z"
    }
   },
   "outputs": [],
   "source": [
    "client_send = pd.read_csv(\"%s/client-send.csv\" % environment.LOG_FOLDER_PATH, squeeze=True)\n",
    "client_enque = pd.read_csv(\"%s/client-enque.csv\" % environment.LOG_FOLDER_PATH, squeeze=True)\n",
    "server_receive = pd.read_csv(\"%s/server-receive.csv\" % environment.LOG_FOLDER_PATH)\n",
    "server_save = pd.read_csv(\"%s/server-save.csv\" % environment.LOG_FOLDER_PATH)\n"
   ]
  },
  {
   "cell_type": "code",
   "execution_count": null,
   "metadata": {
    "ExecuteTime": {
     "end_time": "2018-04-27T01:11:46.556288Z",
     "start_time": "2018-04-27T01:11:46.195754Z"
    }
   },
   "outputs": [],
   "source": [
    "client_send = client_send.apply(lambda x : pd.to_datetime(x))"
   ]
  },
  {
   "cell_type": "code",
   "execution_count": null,
   "metadata": {
    "ExecuteTime": {
     "end_time": "2018-04-27T01:12:02.180368Z",
     "start_time": "2018-04-27T01:11:58.666866Z"
    }
   },
   "outputs": [],
   "source": [
    "client_enque = client_enque.apply(lambda x : pd.to_datetime(x))"
   ]
  },
  {
   "cell_type": "code",
   "execution_count": null,
   "metadata": {
    "ExecuteTime": {
     "end_time": "2018-04-27T01:12:02.186703Z",
     "start_time": "2018-04-27T01:12:02.182545Z"
    }
   },
   "outputs": [],
   "source": [
    "len(client_enque)"
   ]
  },
  {
   "cell_type": "code",
   "execution_count": null,
   "metadata": {
    "ExecuteTime": {
     "end_time": "2018-04-27T01:12:06.797704Z",
     "start_time": "2018-04-27T01:12:06.791902Z"
    }
   },
   "outputs": [],
   "source": [
    "client_enque[:4]"
   ]
  },
  {
   "cell_type": "code",
   "execution_count": null,
   "metadata": {
    "ExecuteTime": {
     "end_time": "2018-04-27T01:12:10.094307Z",
     "start_time": "2018-04-27T01:12:10.089183Z"
    }
   },
   "outputs": [],
   "source": [
    "client_send[:4]"
   ]
  },
  {
   "cell_type": "code",
   "execution_count": null,
   "metadata": {
    "ExecuteTime": {
     "end_time": "2018-04-27T01:03:26.418822Z",
     "start_time": "2018-04-27T01:03:26.414668Z"
    }
   },
   "outputs": [],
   "source": [
    "server_receive.columns[0]"
   ]
  },
  {
   "cell_type": "code",
   "execution_count": null,
   "metadata": {
    "ExecuteTime": {
     "end_time": "2018-04-27T01:12:13.474510Z",
     "start_time": "2018-04-27T01:12:13.458338Z"
    },
    "scrolled": true
   },
   "outputs": [],
   "source": [
    "server_receive"
   ]
  },
  {
   "cell_type": "code",
   "execution_count": null,
   "metadata": {
    "ExecuteTime": {
     "end_time": "2018-04-27T00:11:08.428613Z",
     "start_time": "2018-04-27T00:11:08.420372Z"
    }
   },
   "outputs": [],
   "source": [
    "from profiling.OptimizingTools import log_start_stop"
   ]
  },
  {
   "cell_type": "code",
   "execution_count": null,
   "metadata": {
    "ExecuteTime": {
     "end_time": "2018-04-27T00:11:09.083322Z",
     "start_time": "2018-04-27T00:11:09.079481Z"
    }
   },
   "outputs": [],
   "source": [
    "import time\n",
    "\n",
    "loc = '%s/test-log.csv' % environment.LOG_FOLDER_PATH\n",
    "\n",
    "@log_start_stop(loc)\n",
    "def test():\n",
    "    print('j')\n",
    "    time.sleep(5)\n",
    "    print('k')\n",
    "\n"
   ]
  },
  {
   "cell_type": "code",
   "execution_count": null,
   "metadata": {
    "ExecuteTime": {
     "end_time": "2018-04-27T00:11:29.480665Z",
     "start_time": "2018-04-27T00:11:24.472135Z"
    }
   },
   "outputs": [],
   "source": [
    "test()"
   ]
  },
  {
   "cell_type": "code",
   "execution_count": null,
   "metadata": {},
   "outputs": [],
   "source": [
    "# Then we load the data in and look to see if all the timestamps\n",
    "# for any of the operations cluster in ways we don't want them to"
   ]
  },
  {
   "cell_type": "code",
   "execution_count": null,
   "metadata": {},
   "outputs": [],
   "source": [
    "🐈  TwitterDataAnalysis $python Servers/DatabaseServerGrumble.py"
   ]
  },
  {
   "cell_type": "code",
   "execution_count": null,
   "metadata": {},
   "outputs": [],
   "source": []
  },
  {
   "cell_type": "code",
   "execution_count": null,
   "metadata": {},
   "outputs": [],
   "source": []
  },
  {
   "cell_type": "code",
   "execution_count": null,
   "metadata": {},
   "outputs": [],
   "source": []
  },
  {
   "cell_type": "markdown",
   "metadata": {},
   "source": [
    "Or, you know, we could just run them in separate ipython notebooks\n",
    "since those are handled by separate kernels"
   ]
  },
  {
   "cell_type": "code",
   "execution_count": null,
   "metadata": {},
   "outputs": [],
   "source": []
  }
 ],
 "metadata": {
  "kernelspec": {
   "display_name": "Python 3",
   "language": "python",
   "name": "python3"
  },
  "language_info": {
   "codemirror_mode": {
    "name": "ipython",
    "version": 3
   },
   "file_extension": ".py",
   "mimetype": "text/x-python",
   "name": "python",
   "nbconvert_exporter": "python",
   "pygments_lexer": "ipython3",
   "version": "3.6.4"
  },
  "toc": {
   "colors": {
    "hover_highlight": "#DAA520",
    "navigate_num": "#000000",
    "navigate_text": "#333333",
    "running_highlight": "#FF0000",
    "selected_highlight": "#FFD700",
    "sidebar_border": "#EEEEEE",
    "wrapper_background": "#FFFFFF"
   },
   "moveMenuLeft": true,
   "nav_menu": {
    "height": "12px",
    "width": "252px"
   },
   "navigate_menu": true,
   "number_sections": true,
   "sideBar": true,
   "threshold": 4,
   "toc_cell": false,
   "toc_section_display": "block",
   "toc_window_display": false,
   "widenNotebook": false
  }
 },
 "nbformat": 4,
 "nbformat_minor": 2
}
