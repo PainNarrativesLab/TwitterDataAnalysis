{
 "cells": [
  {
   "cell_type": "markdown",
   "metadata": {},
   "source": [
    "# Tools for verifying that every record is correctly processed and saved"
   ]
  },
  {
   "cell_type": "markdown",
   "metadata": {},
   "source": [
    "## Initialize database files\n",
    "\n",
    "Manually resets the master.db file which results are saved into"
   ]
  },
  {
   "cell_type": "code",
   "execution_count": 1,
   "metadata": {
    "ExecuteTime": {
     "end_time": "2018-05-09T00:06:58.914757Z",
     "start_time": "2018-05-09T00:06:58.904829Z"
    }
   },
   "outputs": [
    {
     "name": "stdout",
     "output_type": "stream",
     "text": [
      "(bookmark:twitteranalysis) -> /Users/adam/Dropbox/PainNarrativesLab/TwitterDataAnalysis\n",
      "/Users/adam/Dropbox/PainNarrativesLab/TwitterDataAnalysis\n"
     ]
    }
   ],
   "source": [
    "%cd twitteranalysis\n",
    "from DataTools.SqliteTools import initialize_master_db, delete_master_db, initialize_word_map_db\n",
    "import environment\n"
   ]
  },
  {
   "cell_type": "code",
   "execution_count": null,
   "metadata": {},
   "outputs": [],
   "source": [
    "delete_master_db()\n",
    "initialize_master_db()"
   ]
  },
  {
   "cell_type": "code",
   "execution_count": 2,
   "metadata": {},
   "outputs": [],
   "source": [
    "initialize_word_map_db(environment.TWEET_DB_NO_STOP)"
   ]
  },
  {
   "cell_type": "code",
   "execution_count": null,
   "metadata": {},
   "outputs": [],
   "source": []
  },
  {
   "cell_type": "code",
   "execution_count": null,
   "metadata": {},
   "outputs": [],
   "source": [
    "test = '%s/user-test.db' % environment.LOG_FOLDER_PATH\n",
    "initialize_word_map_db(test)"
   ]
  },
  {
   "cell_type": "markdown",
   "metadata": {},
   "source": [
    "## Run the user parser"
   ]
  },
  {
   "cell_type": "code",
   "execution_count": null,
   "metadata": {
    "ExecuteTime": {
     "end_time": "2018-05-09T21:39:14.839685Z",
     "start_time": "2018-05-09T21:39:14.824216Z"
    }
   },
   "outputs": [],
   "source": [
    "%cd twitteranalysis\n",
    "%run -i Executables/process_user_descriptions_into_words2.py"
   ]
  },
  {
   "cell_type": "markdown",
   "metadata": {},
   "source": [
    "## Manually clear server queue\n",
    "\n",
    "This should not normally be needed. "
   ]
  },
  {
   "cell_type": "code",
   "execution_count": null,
   "metadata": {
    "ExecuteTime": {
     "end_time": "2018-05-09T00:07:34.466502Z",
     "start_time": "2018-05-09T00:07:34.461371Z"
    }
   },
   "outputs": [],
   "source": [
    "%cd twitteranalysis\n",
    "\n",
    "from Servers.ClientSide import Client\n",
    "c = Client()\n",
    "\n",
    "# Each of the listening request handlers needs its queue flushed\n",
    "c.send_flush_command()\n",
    "\n",
    "#j = c.send_shutdown_command()"
   ]
  },
  {
   "cell_type": "code",
   "execution_count": null,
   "metadata": {
    "ExecuteTime": {
     "end_time": "2018-05-08T23:21:06.767064Z",
     "start_time": "2018-05-08T23:21:06.764920Z"
    }
   },
   "outputs": [],
   "source": [
    "j"
   ]
  },
  {
   "cell_type": "code",
   "execution_count": null,
   "metadata": {},
   "outputs": [],
   "source": []
  },
  {
   "cell_type": "code",
   "execution_count": null,
   "metadata": {},
   "outputs": [],
   "source": []
  },
  {
   "cell_type": "code",
   "execution_count": null,
   "metadata": {},
   "outputs": [],
   "source": []
  },
  {
   "cell_type": "code",
   "execution_count": null,
   "metadata": {},
   "outputs": [],
   "source": [
    "# add_indexes(environment.TWEET_DB_MASTER)"
   ]
  },
  {
   "cell_type": "markdown",
   "metadata": {
    "ExecuteTime": {
     "end_time": "2018-04-21T01:41:48.507100Z",
     "start_time": "2018-04-21T01:41:48.503056Z"
    }
   },
   "source": [
    "# Check integrity of saved data"
   ]
  },
  {
   "cell_type": "code",
   "execution_count": null,
   "metadata": {
    "ExecuteTime": {
     "end_time": "2018-04-24T22:55:36.775801Z",
     "start_time": "2018-04-24T22:55:36.771158Z"
    }
   },
   "outputs": [],
   "source": [
    "%cd twitteranalysis\n",
    "import environment\n",
    "import sqlite3\n",
    "from DataTools import SqliteDataTools as DT"
   ]
  },
  {
   "cell_type": "code",
   "execution_count": null,
   "metadata": {},
   "outputs": [],
   "source": [
    "actualUsers = 1328927\n",
    "numberProcessed = 4352\n",
    "numberEmpty = 332\n",
    "expectedUsers = numberProcessed - numberEmpty\n",
    "print('should have %s' % expectedUsers)"
   ]
  },
  {
   "cell_type": "code",
   "execution_count": 4,
   "metadata": {},
   "outputs": [
    {
     "name": "stdout",
     "output_type": "stream",
     "text": [
      "58758327 rows in /Users/adam/Dropbox/PainNarrativesLab/private_data/tweet-databases/tweets-no-stop.db\n"
     ]
    },
    {
     "data": {
      "text/plain": [
       "58758327"
      ]
     },
     "execution_count": 4,
     "metadata": {},
     "output_type": "execute_result"
    }
   ],
   "source": [
    "DT.count_rows(environment.TWEET_DB_NO_STOP)"
   ]
  },
  {
   "cell_type": "code",
   "execution_count": null,
   "metadata": {},
   "outputs": [],
   "source": []
  },
  {
   "cell_type": "code",
   "execution_count": null,
   "metadata": {},
   "outputs": [],
   "source": [
    "%%time\n",
    "count_words(environment.USER_DB_NO_STOP)\n",
    "# environment.USER_DB_NO_STOP\n",
    "# 11.4 without index\n",
    "# 6.31 with index"
   ]
  },
  {
   "cell_type": "code",
   "execution_count": null,
   "metadata": {},
   "outputs": [],
   "source": [
    "DT.count_rows(environment.TWEET_DB_MASTER)"
   ]
  },
  {
   "cell_type": "code",
   "execution_count": null,
   "metadata": {},
   "outputs": [],
   "source": [
    "DT.count_tweets(environment.TWEET_DB_MASTER)"
   ]
  },
  {
   "cell_type": "code",
   "execution_count": null,
   "metadata": {},
   "outputs": [],
   "source": [
    "num_users = DT.count_users()"
   ]
  },
  {
   "cell_type": "code",
   "execution_count": null,
   "metadata": {},
   "outputs": [],
   "source": [
    "missing = expectedUsers - num_users\n",
    "pct_problem = missing / numberProcessed\n",
    "expected_missing = round(actualUsers * pct_problem)\n",
    "\n",
    "print(\"%s users were not saved; this is %s pct of the total processed\" %( missing, pct_problem))\n",
    "print(\"Projecting %s problem cases\" % expected_missing)"
   ]
  },
  {
   "cell_type": "code",
   "execution_count": null,
   "metadata": {},
   "outputs": [],
   "source": []
  },
  {
   "cell_type": "markdown",
   "metadata": {},
   "source": [
    "NB: \n",
    "    - numberUsers processed = 4352\n",
    "    - users w empty descriptions = 332\n",
    "    - users non-english = 129\n",
    "    - expected users: 4020 (less empty)"
   ]
  },
  {
   "cell_type": "markdown",
   "metadata": {},
   "source": [
    "5/15 6.06\n",
    "    - master only \n",
    "    - 3984 unique ids based on master\n",
    "    - 67500 rows in master\n",
    "    - 36 missing\n",
    "    - 10993 projected problems\n",
    "    \n",
    "5/15 1.36\n",
    "    - lock added to sqlite writer\n",
    "    - 4085 unique ids based on files\n",
    "    - 3950 unique ids based on master\n",
    "    - 67002 rows in master and based on files\n",
    "\n",
    "\n",
    "5/15 11.12\n",
    "    - 4059 unique ids based on files\n",
    "    - 3923 unique ids based on master\n",
    "    - 66507 rows in master and based on files\n",
    "\n",
    "5/15 10.39\n",
    "    - 3653 unique ids based on files\n",
    "    - 3529 unique ids based on master\n",
    "    - 60060 rows in master and based on files\n",
    "    \n",
    "\n",
    "5/14 9.00\n",
    "    - 4014 unique ids based on files\n",
    "    - 2510 unique ids based on master\n",
    "    - 41973 rows in master and based on files\n",
    "\n",
    "\n",
    "Before changed to class method w separate call to flush\n",
    "    - 3591 Unique user ids\n",
    "    - 47952 rows in master.db\n",
    "\n",
    "After\n",
    "    - 4014 Unique user ids\n",
    "    - 67940 rows in master.db\n",
    "    \n",
    "\n"
   ]
  },
  {
   "cell_type": "markdown",
   "metadata": {},
   "source": [
    "### Figure out which users are missing"
   ]
  },
  {
   "cell_type": "code",
   "execution_count": null,
   "metadata": {},
   "outputs": [],
   "source": [
    "%cd twitteranalysis\n",
    "import sqlite3\n",
    "import environment\n",
    "import DataTools.Cursors\n",
    "cursor = DataTools.Cursors.WindowedUserCursor( language='en' )\n"
   ]
  },
  {
   "cell_type": "code",
   "execution_count": null,
   "metadata": {},
   "outputs": [],
   "source": [
    "\n",
    "def find_missing_users():\n",
    "    \"\"\"Finds users which were not saved to master.db\"\"\"\n",
    "    missing = []\n",
    "    try:\n",
    "        conn = sqlite3.connect(environment.MASTER_DB)\n",
    "        curs = conn.cursor()  # Connect a cursor\n",
    "    \n",
    "        while True:\n",
    "            user = cursor.next()\n",
    "            q = \"select * from word_map_deux where user_id = %s\" % user.userID\n",
    "            r1 = curs.execute(q)\n",
    "            r = r1.fetchone()\n",
    "            if r is None:\n",
    "                missing.append(user.userID)\n",
    "    except StopIteration:\n",
    "        curs.close()\n",
    "        conn.close()\n",
    "        return missing\n",
    "\n",
    "missing = find_missing_users()\n",
    "\n",
    "\n",
    "print(len(missing))"
   ]
  },
  {
   "cell_type": "code",
   "execution_count": null,
   "metadata": {},
   "outputs": [],
   "source": [
    "import pandas as pd\n",
    "from DataTools.DataConnections import MySqlConnection, DAO\n",
    "conn = MySqlConnection(environment.CREDENTIAL_FILE)\n",
    "conn._make_engine()\n",
    "\n",
    "def get_description_for_id(userId):\n",
    "    \"\"\"Loads the description from master.db\n",
    "    Returns a tuple (userId, description)\n",
    "    \"\"\"\n",
    "    q = 'select description from users where userID = %s' % userId\n",
    "    v = pd.read_sql_query(q, conn.engine).iloc[0].values[0]\n",
    "    return (userId, v)"
   ]
  },
  {
   "cell_type": "code",
   "execution_count": null,
   "metadata": {},
   "outputs": [],
   "source": []
  },
  {
   "cell_type": "code",
   "execution_count": null,
   "metadata": {},
   "outputs": [],
   "source": [
    "# figure out which users were not missing due to an empty profile\n",
    "\n",
    "descripts = []\n",
    "# get the descriptions for each user\n",
    "for userId in missing:\n",
    "    descripts.append(get_description_for_id(userId))\n",
    "# determine which are substantive problems\n",
    "substantive = [x for x in descripts if x[1] != '']\n",
    "substantive_ids = [x[0] for x in descripts if x[1] != '']\n",
    "print(\"%s users had non-empty profiles but were not saved. These are 'substantive errors'\" % len(substantive))"
   ]
  },
  {
   "cell_type": "code",
   "execution_count": null,
   "metadata": {},
   "outputs": [],
   "source": [
    "substantive"
   ]
  },
  {
   "cell_type": "markdown",
   "metadata": {},
   "source": []
  },
  {
   "cell_type": "code",
   "execution_count": null,
   "metadata": {},
   "outputs": [],
   "source": []
  },
  {
   "cell_type": "code",
   "execution_count": null,
   "metadata": {},
   "outputs": [],
   "source": [
    "names=['timestamp', 'userid', 'note']\n",
    "\n",
    "# when a user was enqued for processing on client \n",
    "proc = pd.read_csv(environment.PROCESSING_ENQUE_LOG_FILE, header=None, names=names)\n",
    "# when a user was enqued for saving on the client\n",
    "enq = pd.read_csv(environment.CLIENT_ENQUE_LOG_FILE, header=None, names=names)\n",
    "# when a user was sent to the server\n",
    "sent = pd.read_csv(environment.CLIENT_SEND_LOG_FILE, header=None, names=names)\n",
    "# when the server received each request\n",
    "srv = pd.read_csv(environment.SERVER_RECEIVE_LOG_FILE, header=None, names=names)\n",
    "\n",
    "print(\"%s users processed; %s users received by server\" % (len(proc), len(set(srv.userid.tolist()))))"
   ]
  },
  {
   "cell_type": "code",
   "execution_count": null,
   "metadata": {},
   "outputs": [],
   "source": [
    "def h(frame, userId):\n",
    "    try:\n",
    "        return frame[frame.userid == userId].index[0]\n",
    "    except:\n",
    "        return None\n",
    "\n",
    "def get_indexes(userId):\n",
    "    d = {'id': userId}\n",
    "    d['processed'] = h(proc, userId)\n",
    "    d['clientEnque'] = h(enq, userId)\n",
    "    d['sent'] = h(sent, userId)\n",
    "    d['received'] = h(srv, userId)\n",
    "    return d\n",
    "    "
   ]
  },
  {
   "cell_type": "code",
   "execution_count": null,
   "metadata": {},
   "outputs": [],
   "source": [
    "get_indexes(1956700424)"
   ]
  },
  {
   "cell_type": "code",
   "execution_count": null,
   "metadata": {},
   "outputs": [],
   "source": []
  },
  {
   "cell_type": "code",
   "execution_count": null,
   "metadata": {},
   "outputs": [],
   "source": [
    "proc[proc.userid == 1956700424].index[0]"
   ]
  },
  {
   "cell_type": "code",
   "execution_count": null,
   "metadata": {},
   "outputs": [],
   "source": [
    "sent[sent.userid == 1956700424].index"
   ]
  },
  {
   "cell_type": "markdown",
   "metadata": {},
   "source": [
    "# figure out where in the process the substantive errors happened\n",
    "\n",
    "## substantive errors which were enqued in processing"
   ]
  },
  {
   "cell_type": "code",
   "execution_count": null,
   "metadata": {},
   "outputs": [],
   "source": [
    "\n",
    "p = proc[proc.userid.isin(substantive_ids)]\n",
    "# sub \n",
    "s = srv[srv.userid.isin(substantive_ids)]\n",
    "snt = sent[sent.userid.isin(substantive_ids)]\n",
    "ceq = enq[enq.userid.isin(substantive_ids)]\n",
    "\n",
    "processed_ids = set(p.userid.tolist())\n",
    "server_received_ids = set(s.userid.tolist())\n",
    "sent_ids = set(snt.userid.tolist())\n",
    "client_enq_ids = set(ceq.userid.tolist())\n",
    "\n",
    "print(\"The following concerns the flow of users with substative errors through the system\")\n",
    "print(\"%s were enqueued for processing\" % (len(processed_ids)))\n",
    "print(\"%s were enqueued on the client to be sent to the server\" % len(client_enq_ids))\n",
    "print(\"%s were sent to the server\" % len(sent_ids))\n",
    "print(\"%s were received by the server\" % len(server_received_ids))"
   ]
  },
  {
   "cell_type": "markdown",
   "metadata": {},
   "source": [
    "### Processed but not enqueued for saving"
   ]
  },
  {
   "cell_type": "code",
   "execution_count": null,
   "metadata": {},
   "outputs": [],
   "source": [
    "proc_not_enq = [p for p in processed_ids if p not in client_enq_ids]\n",
    "proc_not_enq"
   ]
  },
  {
   "cell_type": "code",
   "execution_count": null,
   "metadata": {},
   "outputs": [],
   "source": [
    "[get_description_for_id(id) for id in proc_not_enq]"
   ]
  },
  {
   "cell_type": "code",
   "execution_count": null,
   "metadata": {},
   "outputs": [],
   "source": []
  },
  {
   "cell_type": "code",
   "execution_count": null,
   "metadata": {},
   "outputs": [],
   "source": []
  },
  {
   "cell_type": "markdown",
   "metadata": {},
   "source": [
    "### Enqueued on client but not sent"
   ]
  },
  {
   "cell_type": "code",
   "execution_count": null,
   "metadata": {},
   "outputs": [],
   "source": [
    "not_sent = [p for p in client_enq_ids if p not in sent_ids ]\n",
    "not_sent"
   ]
  },
  {
   "cell_type": "code",
   "execution_count": null,
   "metadata": {},
   "outputs": [],
   "source": [
    "[get_description_for_id(id) for id in not_sent]"
   ]
  },
  {
   "cell_type": "code",
   "execution_count": null,
   "metadata": {},
   "outputs": [],
   "source": [
    "d = pd.DataFrame([get_indexes(id) for id in not_sent])\n",
    "d.set_index('id', inplace=True)\n",
    "d.sort_values('processed')"
   ]
  },
  {
   "cell_type": "code",
   "execution_count": null,
   "metadata": {},
   "outputs": [],
   "source": []
  },
  {
   "cell_type": "code",
   "execution_count": null,
   "metadata": {},
   "outputs": [],
   "source": []
  },
  {
   "cell_type": "markdown",
   "metadata": {},
   "source": [
    "### Are these the same users each time?"
   ]
  },
  {
   "cell_type": "code",
   "execution_count": null,
   "metadata": {},
   "outputs": [],
   "source": [
    "prev_run = [1956700424.0, 1965229962.0,\n",
    " 1943096588.0,\n",
    " 2150423437.0,\n",
    " 2163358988.0,\n",
    " 1943901734.0,\n",
    " 2163604778.0,\n",
    " 1946121392.0,\n",
    " 1958085936.0,\n",
    " 2147790896.0,\n",
    " 2167298995.0,\n",
    " 2148304566.0,\n",
    " 2151409467.0,\n",
    " 2177120316.0,\n",
    " 1966904126.0,\n",
    " 1977458240.0,\n",
    " 1978158529.0,\n",
    " 2168963268.0,\n",
    " 1967229895.0,\n",
    " 1952156365.0,\n",
    " 1974223567.0,\n",
    " 1961129809.0,\n",
    " 1947484375.0,\n",
    " 2157188568.0,\n",
    " 1942653919.0,\n",
    " 2187999841.0,\n",
    " 2153422184.0,\n",
    " 2153945834.0,\n",
    " 2148022776.0,\n",
    " 1971054716.0]"
   ]
  },
  {
   "cell_type": "code",
   "execution_count": null,
   "metadata": {},
   "outputs": [],
   "source": [
    "[x for x in not_sent if x in prev_run]"
   ]
  },
  {
   "cell_type": "code",
   "execution_count": null,
   "metadata": {},
   "outputs": [],
   "source": []
  },
  {
   "cell_type": "code",
   "execution_count": null,
   "metadata": {},
   "outputs": [],
   "source": []
  },
  {
   "cell_type": "code",
   "execution_count": null,
   "metadata": {},
   "outputs": [],
   "source": [
    "processed_and_received_sub_errors = processed_ids.intersection(server_received_ids)\n",
    "len(processed_and_received_sub_errors)"
   ]
  },
  {
   "cell_type": "code",
   "execution_count": null,
   "metadata": {},
   "outputs": [],
   "source": [
    "# these were processed by client and received by server\n",
    "# but were not recorded\n",
    "j = [x for x in substantive if x[0] in processed_and_received_sub_errors]\n",
    "j"
   ]
  },
  {
   "cell_type": "code",
   "execution_count": null,
   "metadata": {},
   "outputs": [],
   "source": []
  },
  {
   "cell_type": "code",
   "execution_count": null,
   "metadata": {},
   "outputs": [],
   "source": []
  },
  {
   "cell_type": "code",
   "execution_count": null,
   "metadata": {},
   "outputs": [],
   "source": []
  },
  {
   "cell_type": "markdown",
   "metadata": {},
   "source": [
    "EXCLUSIVE\n",
    "    - 30 seconds\n",
    "    - no server side queue induced errors\n",
    "\n",
    "IMMEDIATE\n",
    "    - 30 seconds\n",
    "    - no server side queue induced errors\n",
    "\n",
    "DEFERRED\n",
    "    - 30 seconds\n",
    "    - no server side queue induced errors\n",
    "\n",
    "Default (bare BEGIN)\n",
    "    - 29 seconds\n",
    "    - 60 server side errors\n",
    "\n",
    "\n",
    "\n",
    "Autocommit\n",
    "    - Long\n",
    "    - 258 server side errors"
   ]
  },
  {
   "cell_type": "code",
   "execution_count": null,
   "metadata": {},
   "outputs": [],
   "source": []
  },
  {
   "cell_type": "code",
   "execution_count": null,
   "metadata": {},
   "outputs": [],
   "source": []
  },
  {
   "cell_type": "code",
   "execution_count": null,
   "metadata": {},
   "outputs": [],
   "source": [
    "len(sent_ids)"
   ]
  },
  {
   "cell_type": "code",
   "execution_count": null,
   "metadata": {},
   "outputs": [],
   "source": [
    "client_enq_ids"
   ]
  },
  {
   "cell_type": "code",
   "execution_count": null,
   "metadata": {},
   "outputs": [],
   "source": []
  },
  {
   "cell_type": "code",
   "execution_count": null,
   "metadata": {},
   "outputs": [],
   "source": []
  },
  {
   "cell_type": "code",
   "execution_count": null,
   "metadata": {},
   "outputs": [],
   "source": []
  },
  {
   "cell_type": "code",
   "execution_count": null,
   "metadata": {},
   "outputs": [],
   "source": []
  },
  {
   "cell_type": "code",
   "execution_count": null,
   "metadata": {},
   "outputs": [],
   "source": []
  },
  {
   "cell_type": "code",
   "execution_count": null,
   "metadata": {},
   "outputs": [],
   "source": []
  },
  {
   "cell_type": "code",
   "execution_count": null,
   "metadata": {},
   "outputs": [],
   "source": [
    "def c(row):\n",
    "    return p.i[row.index + 1].timestamp - row.timestamp\n",
    "j = p.apply(lambda x: c(x))"
   ]
  },
  {
   "cell_type": "code",
   "execution_count": null,
   "metadata": {},
   "outputs": [],
   "source": [
    "p"
   ]
  },
  {
   "cell_type": "code",
   "execution_count": null,
   "metadata": {},
   "outputs": [],
   "source": []
  },
  {
   "cell_type": "code",
   "execution_count": null,
   "metadata": {},
   "outputs": [],
   "source": []
  },
  {
   "cell_type": "code",
   "execution_count": null,
   "metadata": {},
   "outputs": [],
   "source": []
  },
  {
   "cell_type": "markdown",
   "metadata": {},
   "source": [
    "uids = []\n",
    "rows = []\n",
    "print(\"Unique user ids; rows\")\n",
    "for db in otherDbNames:\n",
    "    dbPath = '%s/%s' % (environment.DB_FOLDER, db)\n",
    "    conn = sqlite3.connect( dbPath )  # Connect to the main database\n",
    "    curs = conn.cursor()  # Connect a cursor\n",
    "    r1 = conn.execute(\"select count( distinct user_id) from word_map_deux\")\n",
    "    v =  r1.fetchone()\n",
    "    uids.append(v[0])\n",
    "    r2 = conn.execute(\"select count( word) from word_map_deux\")\n",
    "    v2 =  r2.fetchone()\n",
    "    rows.append(v2[0])\n",
    "\n",
    "    print(\"%s : %s; %s \" % (db, v[0], v2[0]))\n",
    "    conn.close()\n"
   ]
  },
  {
   "cell_type": "code",
   "execution_count": null,
   "metadata": {},
   "outputs": [],
   "source": []
  },
  {
   "cell_type": "code",
   "execution_count": null,
   "metadata": {},
   "outputs": [],
   "source": []
  },
  {
   "cell_type": "code",
   "execution_count": null,
   "metadata": {},
   "outputs": [],
   "source": []
  }
 ],
 "metadata": {
  "celltoolbar": "Raw Cell Format",
  "kernelspec": {
   "display_name": "Python 3",
   "language": "python",
   "name": "python3"
  },
  "language_info": {
   "codemirror_mode": {
    "name": "ipython",
    "version": 3
   },
   "file_extension": ".py",
   "mimetype": "text/x-python",
   "name": "python",
   "nbconvert_exporter": "python",
   "pygments_lexer": "ipython3",
   "version": "3.6.4"
  },
  "toc": {
   "colors": {
    "hover_highlight": "#DAA520",
    "navigate_num": "#000000",
    "navigate_text": "#333333",
    "running_highlight": "#FF0000",
    "selected_highlight": "#FFD700",
    "sidebar_border": "#EEEEEE",
    "wrapper_background": "#FFFFFF"
   },
   "moveMenuLeft": true,
   "nav_menu": {
    "height": "12px",
    "width": "252px"
   },
   "navigate_menu": true,
   "number_sections": true,
   "sideBar": true,
   "threshold": 4,
   "toc_cell": false,
   "toc_section_display": "block",
   "toc_window_display": false,
   "widenNotebook": false
  }
 },
 "nbformat": 4,
 "nbformat_minor": 2
}
