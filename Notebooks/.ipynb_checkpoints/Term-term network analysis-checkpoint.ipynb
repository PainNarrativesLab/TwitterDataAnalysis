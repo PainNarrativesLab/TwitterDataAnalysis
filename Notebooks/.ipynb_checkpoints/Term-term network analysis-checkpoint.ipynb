{
 "cells": [
  {
   "cell_type": "markdown",
   "metadata": {},
   "source": [
    "This notebook is concerned with analyzing the co-occurrance networks of terms"
   ]
  },
  {
   "cell_type": "code",
   "execution_count": 80,
   "metadata": {
    "ExecuteTime": {
     "end_time": "2018-06-19T00:27:39.399401Z",
     "start_time": "2018-06-19T00:27:39.378687Z"
    }
   },
   "outputs": [
    {
     "name": "stdout",
     "output_type": "stream",
     "text": [
      "(bookmark:twitteranalysis) -> /Users/adam/Dropbox/PainNarrativesLab/TwitterDataAnalysis\n",
      "/Users/adam/Dropbox/PainNarrativesLab/TwitterDataAnalysis\n"
     ]
    }
   ],
   "source": [
    "%cd twitteranalysis\n",
    "import pandas as pd\n",
    "#Plotting \n",
    "%matplotlib inline\n",
    "from matplotlib import pyplot as plt\n",
    "import seaborn as sns\n",
    "import numpy as np\n",
    "\n",
    "sns.set(style=\"whitegrid\")\n",
    "\n",
    "import networkx as nx\n",
    "\n",
    "import environment\n",
    "from DataTools import DataRepositories as DR\n",
    "# from DataTools import DataConnections as DC\n",
    "# from DataTools.WordORM import Word\n",
    "# from DataTools.TweetORM import Users as User\n",
    "# from DataTools.TweetORM import Tweet\n",
    "from SearchTools.WordMaps import get_adjacent_word_counts, get_adjacent_words, get_user_ids_for_word\n",
    "\n",
    "def make_term_ids_filepath(term, path=environment.LOG_FOLDER_PATH):\n",
    "    return \"%s/temp_output/tweet-ids/%s-ids.csv\" % (path, term)\n",
    "\n",
    "EXP_TERMS_FILEPATH = '%s/experimental-terms.xlsx' % environment.EXPERIMENTS_FOLDER\n",
    "IDS_FILEPATH = \"%s/temp_output/user-ids.xlsx\" % environment.LOG_FOLDER_PATH\n",
    "\n",
    "\n",
    "# load in terms to search for\n",
    "experimentalTerms = pd.read_excel(EXP_TERMS_FILEPATH, sheet_name='terms', squeeze=True)\n",
    "termMap = pd.read_excel(EXP_TERMS_FILEPATH, sheet_name='mapping')\n",
    "\n",
    "terms = [t for t in termMap.T.index]"
   ]
  },
  {
   "cell_type": "code",
   "execution_count": 58,
   "metadata": {
    "ExecuteTime": {
     "end_time": "2018-06-19T00:08:13.296218Z",
     "start_time": "2018-06-19T00:08:13.292012Z"
    }
   },
   "outputs": [],
   "source": [
    "def create_term_network(terms):\n",
    "    \"\"\"\n",
    "    Returns a list of tuples containing unique, unordered combinations\n",
    "    of two terms\n",
    "    terms = ['a', 'b', 'c']\n",
    "    expect = [ ('a', 'b'), ('a', 'c'),('b', 'c')]\n",
    "    assert(create_term_network(terms) == expect)\n",
    "    \n",
    "    \"\"\"\n",
    "    network = []\n",
    "    i = 0\n",
    "    for term in terms:\n",
    "        i +=1\n",
    "        [network.append((term, term2)) for term2 in terms[i:]]\n",
    "        \n",
    "    return network\n",
    "        \n",
    "\n",
    "terms = ['a', 'b', 'c']\n",
    "expect = [ ('a', 'b'), ('a', 'c'),('b', 'c')]\n",
    "assert(create_term_network(terms) == expect)"
   ]
  },
  {
   "cell_type": "markdown",
   "metadata": {},
   "source": [
    "# Hashtag co-occurrance\n",
    "\n",
    "Finding co-occurrance networks in the separately stored hashtags and tweetsXtags tables"
   ]
  },
  {
   "cell_type": "markdown",
   "metadata": {
    "ExecuteTime": {
     "end_time": "2018-06-12T19:25:28.907691Z",
     "start_time": "2018-06-12T19:25:28.905490Z"
    }
   },
   "source": [
    "## Determine whether a term has been used as a hashtag"
   ]
  },
  {
   "cell_type": "code",
   "execution_count": null,
   "metadata": {
    "ExecuteTime": {
     "end_time": "2018-06-18T22:52:52.956426Z",
     "start_time": "2018-06-18T22:52:52.923690Z"
    }
   },
   "outputs": [],
   "source": [
    "def get_hashtag_id(term):\n",
    "    query = \"\"\"SELECT tagID FROM hashtags WHERE hashtag = %s\"\"\" % term\n",
    "\n",
    "def get_count_of_tweets_containing_hashtag(term):\n",
    "    query = \"\"\"SELECT h.hashtag, h.tagID, count(DISTINCT x.tweetID) AS tweetCount \n",
    "    FROM hashtags h \n",
    "    INNER JOIN tweetsXtags x ON (h.tagID = x.tagID)\n",
    "    WHERE h.hashtag = %s;\"\"\" % term\n",
    "\n",
    "def get_count_of_tweets_containing_two_hashtags(term1, term2):\n",
    "    query = \"\"\"\n",
    "        SELECT count(DISTINCT x.tweetID) \n",
    "        FROM tweetsXtags x \n",
    "        INNER JOIN (\n",
    "            SELECT x1.tweetID AS id \n",
    "                FROM tweetsXtags x1 \n",
    "                INNER JOIN (\n",
    "                    SELECT tagID AS id \n",
    "                    FROM hashtags \n",
    "                    WHERE hashtag = %s\n",
    "                    ) AS t1 \n",
    "                    ON (x1.tagID = t1.id)\n",
    "            ) AS t3\n",
    "            ON x.tweetID = t3.id\n",
    "        INNER JOIN (\n",
    "          SELECT x2.tweetID AS id \n",
    "                FROM tweetsXtags x2 \n",
    "                INNER JOIN (\n",
    "                    SELECT tagID AS id \n",
    "                    FROM hashtags \n",
    "                    WHERE hashtag = %s\n",
    "                ) AS t1 \n",
    "                ON (x2.tagID = t1.id)\n",
    "        ) AS t4\n",
    "        ON x.tweetID = t4.id \"\"\" % (term1, term2)"
   ]
  },
  {
   "cell_type": "code",
   "execution_count": 7,
   "metadata": {
    "ExecuteTime": {
     "end_time": "2018-06-18T23:14:38.351529Z",
     "start_time": "2018-06-18T23:14:38.334994Z"
    },
    "collapsed": true
   },
   "outputs": [
    {
     "data": {
      "text/plain": [
       "[('rsd', 'c.r.p.s.'),\n",
       " ('rsd', 'r.s.d.'),\n",
       " ('rsd', 'complex regional pain syndrome'),\n",
       " ('rsd', 'reflex sympathetic dystrophy'),\n",
       " ('rsd', 'migraine'),\n",
       " ('rsd', 'migraineur'),\n",
       " ('rsd', 'fibromyalgia'),\n",
       " ('rsd', 'fibro'),\n",
       " ('rsd', 'fm'),\n",
       " ('rsd', 'fms'),\n",
       " ('rsd', 'spoonie'),\n",
       " ('rsd', 'vulvodynia'),\n",
       " ('rsd', 'vulvadynia'),\n",
       " ('rsd', 'endometriosis'),\n",
       " ('rsd', 'endometriosis'),\n",
       " ('rsd', 'neuropathy'),\n",
       " ('rsd', 'arthritis'),\n",
       " ('rsd', 'oa'),\n",
       " ('rsd', 'ra'),\n",
       " ('rsd', 'shingles'),\n",
       " ('rsd', 'phn'),\n",
       " ('rsd', 'post-herpetic neuralgia'),\n",
       " ('rsd', 'back pain'),\n",
       " ('rsd', 'backpain'),\n",
       " ('rsd', 'headache'),\n",
       " ('c.r.p.s.', 'r.s.d.'),\n",
       " ('c.r.p.s.', 'complex regional pain syndrome'),\n",
       " ('c.r.p.s.', 'reflex sympathetic dystrophy'),\n",
       " ('c.r.p.s.', 'migraine'),\n",
       " ('c.r.p.s.', 'migraineur'),\n",
       " ('c.r.p.s.', 'fibromyalgia'),\n",
       " ('c.r.p.s.', 'fibro'),\n",
       " ('c.r.p.s.', 'fm'),\n",
       " ('c.r.p.s.', 'fms'),\n",
       " ('c.r.p.s.', 'spoonie'),\n",
       " ('c.r.p.s.', 'vulvodynia'),\n",
       " ('c.r.p.s.', 'vulvadynia'),\n",
       " ('c.r.p.s.', 'endometriosis'),\n",
       " ('c.r.p.s.', 'endometriosis'),\n",
       " ('c.r.p.s.', 'neuropathy'),\n",
       " ('c.r.p.s.', 'arthritis'),\n",
       " ('c.r.p.s.', 'oa'),\n",
       " ('c.r.p.s.', 'ra'),\n",
       " ('c.r.p.s.', 'shingles'),\n",
       " ('c.r.p.s.', 'phn'),\n",
       " ('c.r.p.s.', 'post-herpetic neuralgia'),\n",
       " ('c.r.p.s.', 'back pain'),\n",
       " ('c.r.p.s.', 'backpain'),\n",
       " ('c.r.p.s.', 'headache'),\n",
       " ('r.s.d.', 'complex regional pain syndrome'),\n",
       " ('r.s.d.', 'reflex sympathetic dystrophy'),\n",
       " ('r.s.d.', 'migraine'),\n",
       " ('r.s.d.', 'migraineur'),\n",
       " ('r.s.d.', 'fibromyalgia'),\n",
       " ('r.s.d.', 'fibro'),\n",
       " ('r.s.d.', 'fm'),\n",
       " ('r.s.d.', 'fms'),\n",
       " ('r.s.d.', 'spoonie'),\n",
       " ('r.s.d.', 'vulvodynia'),\n",
       " ('r.s.d.', 'vulvadynia'),\n",
       " ('r.s.d.', 'endometriosis'),\n",
       " ('r.s.d.', 'endometriosis'),\n",
       " ('r.s.d.', 'neuropathy'),\n",
       " ('r.s.d.', 'arthritis'),\n",
       " ('r.s.d.', 'oa'),\n",
       " ('r.s.d.', 'ra'),\n",
       " ('r.s.d.', 'shingles'),\n",
       " ('r.s.d.', 'phn'),\n",
       " ('r.s.d.', 'post-herpetic neuralgia'),\n",
       " ('r.s.d.', 'back pain'),\n",
       " ('r.s.d.', 'backpain'),\n",
       " ('r.s.d.', 'headache'),\n",
       " ('complex regional pain syndrome', 'reflex sympathetic dystrophy'),\n",
       " ('complex regional pain syndrome', 'migraine'),\n",
       " ('complex regional pain syndrome', 'migraineur'),\n",
       " ('complex regional pain syndrome', 'fibromyalgia'),\n",
       " ('complex regional pain syndrome', 'fibro'),\n",
       " ('complex regional pain syndrome', 'fm'),\n",
       " ('complex regional pain syndrome', 'fms'),\n",
       " ('complex regional pain syndrome', 'spoonie'),\n",
       " ('complex regional pain syndrome', 'vulvodynia'),\n",
       " ('complex regional pain syndrome', 'vulvadynia'),\n",
       " ('complex regional pain syndrome', 'endometriosis'),\n",
       " ('complex regional pain syndrome', 'endometriosis'),\n",
       " ('complex regional pain syndrome', 'neuropathy'),\n",
       " ('complex regional pain syndrome', 'arthritis'),\n",
       " ('complex regional pain syndrome', 'oa'),\n",
       " ('complex regional pain syndrome', 'ra'),\n",
       " ('complex regional pain syndrome', 'shingles'),\n",
       " ('complex regional pain syndrome', 'phn'),\n",
       " ('complex regional pain syndrome', 'post-herpetic neuralgia'),\n",
       " ('complex regional pain syndrome', 'back pain'),\n",
       " ('complex regional pain syndrome', 'backpain'),\n",
       " ('complex regional pain syndrome', 'headache'),\n",
       " ('reflex sympathetic dystrophy', 'migraine'),\n",
       " ('reflex sympathetic dystrophy', 'migraineur'),\n",
       " ('reflex sympathetic dystrophy', 'fibromyalgia'),\n",
       " ('reflex sympathetic dystrophy', 'fibro'),\n",
       " ('reflex sympathetic dystrophy', 'fm'),\n",
       " ('reflex sympathetic dystrophy', 'fms'),\n",
       " ('reflex sympathetic dystrophy', 'spoonie'),\n",
       " ('reflex sympathetic dystrophy', 'vulvodynia'),\n",
       " ('reflex sympathetic dystrophy', 'vulvadynia'),\n",
       " ('reflex sympathetic dystrophy', 'endometriosis'),\n",
       " ('reflex sympathetic dystrophy', 'endometriosis'),\n",
       " ('reflex sympathetic dystrophy', 'neuropathy'),\n",
       " ('reflex sympathetic dystrophy', 'arthritis'),\n",
       " ('reflex sympathetic dystrophy', 'oa'),\n",
       " ('reflex sympathetic dystrophy', 'ra'),\n",
       " ('reflex sympathetic dystrophy', 'shingles'),\n",
       " ('reflex sympathetic dystrophy', 'phn'),\n",
       " ('reflex sympathetic dystrophy', 'post-herpetic neuralgia'),\n",
       " ('reflex sympathetic dystrophy', 'back pain'),\n",
       " ('reflex sympathetic dystrophy', 'backpain'),\n",
       " ('reflex sympathetic dystrophy', 'headache'),\n",
       " ('migraine', 'migraineur'),\n",
       " ('migraine', 'fibromyalgia'),\n",
       " ('migraine', 'fibro'),\n",
       " ('migraine', 'fm'),\n",
       " ('migraine', 'fms'),\n",
       " ('migraine', 'spoonie'),\n",
       " ('migraine', 'vulvodynia'),\n",
       " ('migraine', 'vulvadynia'),\n",
       " ('migraine', 'endometriosis'),\n",
       " ('migraine', 'endometriosis'),\n",
       " ('migraine', 'neuropathy'),\n",
       " ('migraine', 'arthritis'),\n",
       " ('migraine', 'oa'),\n",
       " ('migraine', 'ra'),\n",
       " ('migraine', 'shingles'),\n",
       " ('migraine', 'phn'),\n",
       " ('migraine', 'post-herpetic neuralgia'),\n",
       " ('migraine', 'back pain'),\n",
       " ('migraine', 'backpain'),\n",
       " ('migraine', 'headache'),\n",
       " ('migraineur', 'fibromyalgia'),\n",
       " ('migraineur', 'fibro'),\n",
       " ('migraineur', 'fm'),\n",
       " ('migraineur', 'fms'),\n",
       " ('migraineur', 'spoonie'),\n",
       " ('migraineur', 'vulvodynia'),\n",
       " ('migraineur', 'vulvadynia'),\n",
       " ('migraineur', 'endometriosis'),\n",
       " ('migraineur', 'endometriosis'),\n",
       " ('migraineur', 'neuropathy'),\n",
       " ('migraineur', 'arthritis'),\n",
       " ('migraineur', 'oa'),\n",
       " ('migraineur', 'ra'),\n",
       " ('migraineur', 'shingles'),\n",
       " ('migraineur', 'phn'),\n",
       " ('migraineur', 'post-herpetic neuralgia'),\n",
       " ('migraineur', 'back pain'),\n",
       " ('migraineur', 'backpain'),\n",
       " ('migraineur', 'headache'),\n",
       " ('fibromyalgia', 'fibro'),\n",
       " ('fibromyalgia', 'fm'),\n",
       " ('fibromyalgia', 'fms'),\n",
       " ('fibromyalgia', 'spoonie'),\n",
       " ('fibromyalgia', 'vulvodynia'),\n",
       " ('fibromyalgia', 'vulvadynia'),\n",
       " ('fibromyalgia', 'endometriosis'),\n",
       " ('fibromyalgia', 'endometriosis'),\n",
       " ('fibromyalgia', 'neuropathy'),\n",
       " ('fibromyalgia', 'arthritis'),\n",
       " ('fibromyalgia', 'oa'),\n",
       " ('fibromyalgia', 'ra'),\n",
       " ('fibromyalgia', 'shingles'),\n",
       " ('fibromyalgia', 'phn'),\n",
       " ('fibromyalgia', 'post-herpetic neuralgia'),\n",
       " ('fibromyalgia', 'back pain'),\n",
       " ('fibromyalgia', 'backpain'),\n",
       " ('fibromyalgia', 'headache'),\n",
       " ('fibro', 'fm'),\n",
       " ('fibro', 'fms'),\n",
       " ('fibro', 'spoonie'),\n",
       " ('fibro', 'vulvodynia'),\n",
       " ('fibro', 'vulvadynia'),\n",
       " ('fibro', 'endometriosis'),\n",
       " ('fibro', 'endometriosis'),\n",
       " ('fibro', 'neuropathy'),\n",
       " ('fibro', 'arthritis'),\n",
       " ('fibro', 'oa'),\n",
       " ('fibro', 'ra'),\n",
       " ('fibro', 'shingles'),\n",
       " ('fibro', 'phn'),\n",
       " ('fibro', 'post-herpetic neuralgia'),\n",
       " ('fibro', 'back pain'),\n",
       " ('fibro', 'backpain'),\n",
       " ('fibro', 'headache'),\n",
       " ('fm', 'fms'),\n",
       " ('fm', 'spoonie'),\n",
       " ('fm', 'vulvodynia'),\n",
       " ('fm', 'vulvadynia'),\n",
       " ('fm', 'endometriosis'),\n",
       " ('fm', 'endometriosis'),\n",
       " ('fm', 'neuropathy'),\n",
       " ('fm', 'arthritis'),\n",
       " ('fm', 'oa'),\n",
       " ('fm', 'ra'),\n",
       " ('fm', 'shingles'),\n",
       " ('fm', 'phn'),\n",
       " ('fm', 'post-herpetic neuralgia'),\n",
       " ('fm', 'back pain'),\n",
       " ('fm', 'backpain'),\n",
       " ('fm', 'headache'),\n",
       " ('fms', 'spoonie'),\n",
       " ('fms', 'vulvodynia'),\n",
       " ('fms', 'vulvadynia'),\n",
       " ('fms', 'endometriosis'),\n",
       " ('fms', 'endometriosis'),\n",
       " ('fms', 'neuropathy'),\n",
       " ('fms', 'arthritis'),\n",
       " ('fms', 'oa'),\n",
       " ('fms', 'ra'),\n",
       " ('fms', 'shingles'),\n",
       " ('fms', 'phn'),\n",
       " ('fms', 'post-herpetic neuralgia'),\n",
       " ('fms', 'back pain'),\n",
       " ('fms', 'backpain'),\n",
       " ('fms', 'headache'),\n",
       " ('spoonie', 'vulvodynia'),\n",
       " ('spoonie', 'vulvadynia'),\n",
       " ('spoonie', 'endometriosis'),\n",
       " ('spoonie', 'endometriosis'),\n",
       " ('spoonie', 'neuropathy'),\n",
       " ('spoonie', 'arthritis'),\n",
       " ('spoonie', 'oa'),\n",
       " ('spoonie', 'ra'),\n",
       " ('spoonie', 'shingles'),\n",
       " ('spoonie', 'phn'),\n",
       " ('spoonie', 'post-herpetic neuralgia'),\n",
       " ('spoonie', 'back pain'),\n",
       " ('spoonie', 'backpain'),\n",
       " ('spoonie', 'headache'),\n",
       " ('vulvodynia', 'vulvadynia'),\n",
       " ('vulvodynia', 'endometriosis'),\n",
       " ('vulvodynia', 'endometriosis'),\n",
       " ('vulvodynia', 'neuropathy'),\n",
       " ('vulvodynia', 'arthritis'),\n",
       " ('vulvodynia', 'oa'),\n",
       " ('vulvodynia', 'ra'),\n",
       " ('vulvodynia', 'shingles'),\n",
       " ('vulvodynia', 'phn'),\n",
       " ('vulvodynia', 'post-herpetic neuralgia'),\n",
       " ('vulvodynia', 'back pain'),\n",
       " ('vulvodynia', 'backpain'),\n",
       " ('vulvodynia', 'headache'),\n",
       " ('vulvadynia', 'endometriosis'),\n",
       " ('vulvadynia', 'endometriosis'),\n",
       " ('vulvadynia', 'neuropathy'),\n",
       " ('vulvadynia', 'arthritis'),\n",
       " ('vulvadynia', 'oa'),\n",
       " ('vulvadynia', 'ra'),\n",
       " ('vulvadynia', 'shingles'),\n",
       " ('vulvadynia', 'phn'),\n",
       " ('vulvadynia', 'post-herpetic neuralgia'),\n",
       " ('vulvadynia', 'back pain'),\n",
       " ('vulvadynia', 'backpain'),\n",
       " ('vulvadynia', 'headache'),\n",
       " ('endometriosis', 'endometriosis'),\n",
       " ('endometriosis', 'neuropathy'),\n",
       " ('endometriosis', 'arthritis'),\n",
       " ('endometriosis', 'oa'),\n",
       " ('endometriosis', 'ra'),\n",
       " ('endometriosis', 'shingles'),\n",
       " ('endometriosis', 'phn'),\n",
       " ('endometriosis', 'post-herpetic neuralgia'),\n",
       " ('endometriosis', 'back pain'),\n",
       " ('endometriosis', 'backpain'),\n",
       " ('endometriosis', 'headache'),\n",
       " ('endometriosis', 'neuropathy'),\n",
       " ('endometriosis', 'arthritis'),\n",
       " ('endometriosis', 'oa'),\n",
       " ('endometriosis', 'ra'),\n",
       " ('endometriosis', 'shingles'),\n",
       " ('endometriosis', 'phn'),\n",
       " ('endometriosis', 'post-herpetic neuralgia'),\n",
       " ('endometriosis', 'back pain'),\n",
       " ('endometriosis', 'backpain'),\n",
       " ('endometriosis', 'headache'),\n",
       " ('neuropathy', 'arthritis'),\n",
       " ('neuropathy', 'oa'),\n",
       " ('neuropathy', 'ra'),\n",
       " ('neuropathy', 'shingles'),\n",
       " ('neuropathy', 'phn'),\n",
       " ('neuropathy', 'post-herpetic neuralgia'),\n",
       " ('neuropathy', 'back pain'),\n",
       " ('neuropathy', 'backpain'),\n",
       " ('neuropathy', 'headache'),\n",
       " ('arthritis', 'oa'),\n",
       " ('arthritis', 'ra'),\n",
       " ('arthritis', 'shingles'),\n",
       " ('arthritis', 'phn'),\n",
       " ('arthritis', 'post-herpetic neuralgia'),\n",
       " ('arthritis', 'back pain'),\n",
       " ('arthritis', 'backpain'),\n",
       " ('arthritis', 'headache'),\n",
       " ('oa', 'ra'),\n",
       " ('oa', 'shingles'),\n",
       " ('oa', 'phn'),\n",
       " ('oa', 'post-herpetic neuralgia'),\n",
       " ('oa', 'back pain'),\n",
       " ('oa', 'backpain'),\n",
       " ('oa', 'headache'),\n",
       " ('ra', 'shingles'),\n",
       " ('ra', 'phn'),\n",
       " ('ra', 'post-herpetic neuralgia'),\n",
       " ('ra', 'back pain'),\n",
       " ('ra', 'backpain'),\n",
       " ('ra', 'headache'),\n",
       " ('shingles', 'phn'),\n",
       " ('shingles', 'post-herpetic neuralgia'),\n",
       " ('shingles', 'back pain'),\n",
       " ('shingles', 'backpain'),\n",
       " ('shingles', 'headache'),\n",
       " ('phn', 'post-herpetic neuralgia'),\n",
       " ('phn', 'back pain'),\n",
       " ('phn', 'backpain'),\n",
       " ('phn', 'headache'),\n",
       " ('post-herpetic neuralgia', 'back pain'),\n",
       " ('post-herpetic neuralgia', 'backpain'),\n",
       " ('post-herpetic neuralgia', 'headache'),\n",
       " ('back pain', 'backpain'),\n",
       " ('back pain', 'headache'),\n",
       " ('backpain', 'headache')]"
      ]
     },
     "execution_count": 7,
     "metadata": {},
     "output_type": "execute_result"
    }
   ],
   "source": [
    "create_node_network(experimentalTerms.tolist())"
   ]
  },
  {
   "cell_type": "code",
   "execution_count": null,
   "metadata": {},
   "outputs": [],
   "source": []
  },
  {
   "cell_type": "code",
   "execution_count": null,
   "metadata": {},
   "outputs": [],
   "source": []
  },
  {
   "cell_type": "markdown",
   "metadata": {},
   "source": [
    "# Tweet word_map co-occcurrance\n",
    "\n",
    "Finding co-occurance networks in the tweet data stored in word_maps"
   ]
  },
  {
   "cell_type": "code",
   "execution_count": 62,
   "metadata": {
    "ExecuteTime": {
     "end_time": "2018-06-19T00:11:57.465101Z",
     "start_time": "2018-06-19T00:11:57.459756Z"
    }
   },
   "outputs": [],
   "source": [
    "\n",
    "def load_tweet_id_data(term):\n",
    "    return pd.read_csv(make_term_ids_filepath(term), names=['idx', 'id']) #.drop('idx', axis=1)\n",
    "\n",
    "def get_cooccurences(term1, term2):\n",
    "    d1 = load_tweet_id_data(term1)\n",
    "    d2 = load_tweet_id_data(term2)\n",
    "    return (term1, term2, len(d1[d1.id.isin(d2.id)]))\n"
   ]
  },
  {
   "cell_type": "code",
   "execution_count": 75,
   "metadata": {
    "ExecuteTime": {
     "end_time": "2018-06-19T00:23:51.040082Z",
     "start_time": "2018-06-19T00:23:51.036757Z"
    }
   },
   "outputs": [],
   "source": [
    "terms = [t for t in termMap.T.index]\n",
    "network = create_term_network(terms)"
   ]
  },
  {
   "cell_type": "code",
   "execution_count": 76,
   "metadata": {
    "ExecuteTime": {
     "end_time": "2018-06-19T00:24:05.410655Z",
     "start_time": "2018-06-19T00:23:51.642239Z"
    }
   },
   "outputs": [],
   "source": [
    "edges = [get_cooccurences(t1, t2) for t1, t2 in network]"
   ]
  },
  {
   "cell_type": "code",
   "execution_count": 78,
   "metadata": {
    "ExecuteTime": {
     "end_time": "2018-06-19T00:24:20.628179Z",
     "start_time": "2018-06-19T00:24:20.621493Z"
    },
    "collapsed": true
   },
   "outputs": [
    {
     "data": {
      "text/plain": [
       "[('crps', 'migraine', 1072),\n",
       " ('crps', 'fibromyalgia', 18069),\n",
       " ('crps', 'spoonie', 16795),\n",
       " ('crps', 'vulvodynia', 8),\n",
       " ('crps', 'endometriosis', 77),\n",
       " ('crps', 'neuropathy', 1529),\n",
       " ('crps', 'arthritis', 1359),\n",
       " ('crps', 'rhem_arthritis', 2039),\n",
       " ('crps', 'shingles', 63),\n",
       " ('crps', 'backpain', 840),\n",
       " ('crps', 'headache', 69),\n",
       " ('migraine', 'fibromyalgia', 7148),\n",
       " ('migraine', 'spoonie', 11184),\n",
       " ('migraine', 'vulvodynia', 13),\n",
       " ('migraine', 'endometriosis', 388),\n",
       " ('migraine', 'neuropathy', 212),\n",
       " ('migraine', 'arthritis', 74851),\n",
       " ('migraine', 'rhem_arthritis', 375),\n",
       " ('migraine', 'shingles', 101),\n",
       " ('migraine', 'backpain', 944),\n",
       " ('migraine', 'headache', 135803),\n",
       " ('fibromyalgia', 'spoonie', 86320),\n",
       " ('fibromyalgia', 'vulvodynia', 51),\n",
       " ('fibromyalgia', 'endometriosis', 3383),\n",
       " ('fibromyalgia', 'neuropathy', 4491),\n",
       " ('fibromyalgia', 'arthritis', 22229),\n",
       " ('fibromyalgia', 'rhem_arthritis', 8262),\n",
       " ('fibromyalgia', 'shingles', 224),\n",
       " ('fibromyalgia', 'backpain', 3671),\n",
       " ('fibromyalgia', 'headache', 1021),\n",
       " ('spoonie', 'vulvodynia', 22),\n",
       " ('spoonie', 'endometriosis', 2976),\n",
       " ('spoonie', 'neuropathy', 1895),\n",
       " ('spoonie', 'arthritis', 11829),\n",
       " ('spoonie', 'rhem_arthritis', 7289),\n",
       " ('spoonie', 'shingles', 295),\n",
       " ('spoonie', 'backpain', 701),\n",
       " ('spoonie', 'headache', 1553),\n",
       " ('vulvodynia', 'endometriosis', 109),\n",
       " ('vulvodynia', 'neuropathy', 17),\n",
       " ('vulvodynia', 'arthritis', 1),\n",
       " ('vulvodynia', 'rhem_arthritis', 3),\n",
       " ('vulvodynia', 'shingles', 0),\n",
       " ('vulvodynia', 'backpain', 12),\n",
       " ('vulvodynia', 'headache', 1),\n",
       " ('endometriosis', 'neuropathy', 47),\n",
       " ('endometriosis', 'arthritis', 159),\n",
       " ('endometriosis', 'rhem_arthritis', 86),\n",
       " ('endometriosis', 'shingles', 8),\n",
       " ('endometriosis', 'backpain', 104),\n",
       " ('endometriosis', 'headache', 107),\n",
       " ('neuropathy', 'arthritis', 2203),\n",
       " ('neuropathy', 'rhem_arthritis', 262),\n",
       " ('neuropathy', 'shingles', 133),\n",
       " ('neuropathy', 'backpain', 128),\n",
       " ('neuropathy', 'headache', 20),\n",
       " ('arthritis', 'rhem_arthritis', 12120),\n",
       " ('arthritis', 'shingles', 328),\n",
       " ('arthritis', 'backpain', 5441),\n",
       " ('arthritis', 'headache', 70275),\n",
       " ('rhem_arthritis', 'shingles', 24),\n",
       " ('rhem_arthritis', 'backpain', 219),\n",
       " ('rhem_arthritis', 'headache', 17),\n",
       " ('shingles', 'backpain', 10),\n",
       " ('shingles', 'headache', 5),\n",
       " ('backpain', 'headache', 333)]"
      ]
     },
     "execution_count": 78,
     "metadata": {},
     "output_type": "execute_result"
    }
   ],
   "source": [
    "edges"
   ]
  },
  {
   "cell_type": "markdown",
   "metadata": {},
   "source": [
    "### Make networkx graph object"
   ]
  },
  {
   "cell_type": "code",
   "execution_count": 94,
   "metadata": {
    "ExecuteTime": {
     "end_time": "2018-06-19T01:44:09.456970Z",
     "start_time": "2018-06-19T01:44:07.168011Z"
    }
   },
   "outputs": [
    {
     "data": {
      "text/plain": [
       "521323"
      ]
     },
     "execution_count": 94,
     "metadata": {},
     "output_type": "execute_result"
    }
   ],
   "source": [
    "G = nx.MultiGraph()   # or DiGraph, MultiGraph, MultiDiGraph, etc\n",
    "for n1, n2, degree in edges: \n",
    "    G.add_edges_from([(n1, n2) for i in range(0, degree)])\n",
    "G.size()"
   ]
  },
  {
   "cell_type": "code",
   "execution_count": null,
   "metadata": {},
   "outputs": [],
   "source": []
  },
  {
   "cell_type": "code",
   "execution_count": null,
   "metadata": {},
   "outputs": [],
   "source": []
  },
  {
   "cell_type": "code",
   "execution_count": 77,
   "metadata": {
    "ExecuteTime": {
     "end_time": "2018-06-19T00:24:15.074405Z",
     "start_time": "2018-06-19T00:24:15.069711Z"
    },
    "deletable": false,
    "editable": false,
    "run_control": {
     "frozen": true,
     "marked": true
    }
   },
   "outputs": [
    {
     "data": {
      "text/plain": [
       "66"
      ]
     },
     "execution_count": 77,
     "metadata": {},
     "output_type": "execute_result"
    }
   ],
   "source": [
    "# this doesn't get the degree of nodes right\n",
    "G = nx.Graph()   # or DiGraph, MultiGraph, MultiDiGraph, etc\n",
    "G.add_weighted_edges_from(edges)\n",
    "G.size()"
   ]
  },
  {
   "cell_type": "code",
   "execution_count": 102,
   "metadata": {
    "ExecuteTime": {
     "end_time": "2018-06-19T02:06:58.247489Z",
     "start_time": "2018-06-19T02:06:58.243593Z"
    }
   },
   "outputs": [],
   "source": [
    "GRAPHS_FOLDER = \"%s/temp_output/graphs\" % environment.LOG_FOLDER_PATH\n",
    "GRAPH_FILEPATH = \"%s/experimental-terms-in-tweets.gexf\" % GRAPHS_FOLDER\n",
    "\n",
    "def write_graph_to_file(graph, filepath=GRAPH_FILEPATH):\n",
    "    # write to file\n",
    "    nx.write_gexf(graph, filepath)\n",
    "\n",
    "@nx.utils.decorators.open_file(0,'r')\n",
    "def load_graph_from_file(filepath=GRAPH_FILEPATH):\n",
    "    return nx.read_gexf(filepath)"
   ]
  },
  {
   "cell_type": "code",
   "execution_count": 97,
   "metadata": {
    "ExecuteTime": {
     "end_time": "2018-06-19T01:46:24.768796Z",
     "start_time": "2018-06-19T01:46:08.235124Z"
    },
    "deletable": false,
    "editable": false,
    "run_control": {
     "frozen": true
    }
   },
   "outputs": [],
   "source": [
    "write_graph_to_file(G, 'experimental-terms-in-tweets')"
   ]
  },
  {
   "cell_type": "code",
   "execution_count": 98,
   "metadata": {
    "ExecuteTime": {
     "end_time": "2018-06-19T01:57:51.877536Z",
     "start_time": "2018-06-19T01:57:31.174097Z"
    },
    "collapsed": true,
    "deletable": false,
    "editable": false,
    "run_control": {
     "frozen": true
    }
   },
   "outputs": [
    {
     "ename": "AttributeError",
     "evalue": "'bool' object has no attribute 'items'",
     "output_type": "error",
     "traceback": [
      "\u001b[0;31m---------------------------------------------------------------------------\u001b[0m",
      "\u001b[0;31mAttributeError\u001b[0m                            Traceback (most recent call last)",
      "\u001b[0;32m<ipython-input-98-95f3101bc617>\u001b[0m in \u001b[0;36m<module>\u001b[0;34m()\u001b[0m\n\u001b[0;32m----> 1\u001b[0;31m \u001b[0mnx\u001b[0m\u001b[0;34m.\u001b[0m\u001b[0mdraw_networkx\u001b[0m\u001b[0;34m(\u001b[0m\u001b[0mG\u001b[0m\u001b[0;34m,\u001b[0m \u001b[0mlabels\u001b[0m\u001b[0;34m=\u001b[0m\u001b[0;32mTrue\u001b[0m\u001b[0;34m)\u001b[0m\u001b[0;34m\u001b[0m\u001b[0m\n\u001b[0m",
      "\u001b[0;32m~/.pyenv/versions/3.6.4/lib/python3.6/site-packages/networkx/drawing/nx_pylab.py\u001b[0m in \u001b[0;36mdraw_networkx\u001b[0;34m(G, pos, arrows, with_labels, **kwds)\u001b[0m\n\u001b[1;32m    278\u001b[0m     \u001b[0medge_collection\u001b[0m \u001b[0;34m=\u001b[0m \u001b[0mdraw_networkx_edges\u001b[0m\u001b[0;34m(\u001b[0m\u001b[0mG\u001b[0m\u001b[0;34m,\u001b[0m \u001b[0mpos\u001b[0m\u001b[0;34m,\u001b[0m \u001b[0marrows\u001b[0m\u001b[0;34m=\u001b[0m\u001b[0marrows\u001b[0m\u001b[0;34m,\u001b[0m \u001b[0;34m**\u001b[0m\u001b[0mkwds\u001b[0m\u001b[0;34m)\u001b[0m\u001b[0;34m\u001b[0m\u001b[0m\n\u001b[1;32m    279\u001b[0m     \u001b[0;32mif\u001b[0m \u001b[0mwith_labels\u001b[0m\u001b[0;34m:\u001b[0m\u001b[0;34m\u001b[0m\u001b[0m\n\u001b[0;32m--> 280\u001b[0;31m         \u001b[0mdraw_networkx_labels\u001b[0m\u001b[0;34m(\u001b[0m\u001b[0mG\u001b[0m\u001b[0;34m,\u001b[0m \u001b[0mpos\u001b[0m\u001b[0;34m,\u001b[0m \u001b[0;34m**\u001b[0m\u001b[0mkwds\u001b[0m\u001b[0;34m)\u001b[0m\u001b[0;34m\u001b[0m\u001b[0m\n\u001b[0m\u001b[1;32m    281\u001b[0m     \u001b[0mplt\u001b[0m\u001b[0;34m.\u001b[0m\u001b[0mdraw_if_interactive\u001b[0m\u001b[0;34m(\u001b[0m\u001b[0;34m)\u001b[0m\u001b[0;34m\u001b[0m\u001b[0m\n\u001b[1;32m    282\u001b[0m \u001b[0;34m\u001b[0m\u001b[0m\n",
      "\u001b[0;32m~/.pyenv/versions/3.6.4/lib/python3.6/site-packages/networkx/drawing/nx_pylab.py\u001b[0m in \u001b[0;36mdraw_networkx_labels\u001b[0;34m(G, pos, labels, font_size, font_color, font_family, font_weight, alpha, bbox, ax, **kwds)\u001b[0m\n\u001b[1;32m    789\u001b[0m \u001b[0;34m\u001b[0m\u001b[0m\n\u001b[1;32m    790\u001b[0m     \u001b[0mtext_items\u001b[0m \u001b[0;34m=\u001b[0m \u001b[0;34m{\u001b[0m\u001b[0;34m}\u001b[0m  \u001b[0;31m# there is no text collection so we'll fake one\u001b[0m\u001b[0;34m\u001b[0m\u001b[0m\n\u001b[0;32m--> 791\u001b[0;31m     \u001b[0;32mfor\u001b[0m \u001b[0mn\u001b[0m\u001b[0;34m,\u001b[0m \u001b[0mlabel\u001b[0m \u001b[0;32min\u001b[0m \u001b[0mlabels\u001b[0m\u001b[0;34m.\u001b[0m\u001b[0mitems\u001b[0m\u001b[0;34m(\u001b[0m\u001b[0;34m)\u001b[0m\u001b[0;34m:\u001b[0m\u001b[0;34m\u001b[0m\u001b[0m\n\u001b[0m\u001b[1;32m    792\u001b[0m         \u001b[0;34m(\u001b[0m\u001b[0mx\u001b[0m\u001b[0;34m,\u001b[0m \u001b[0my\u001b[0m\u001b[0;34m)\u001b[0m \u001b[0;34m=\u001b[0m \u001b[0mpos\u001b[0m\u001b[0;34m[\u001b[0m\u001b[0mn\u001b[0m\u001b[0;34m]\u001b[0m\u001b[0;34m\u001b[0m\u001b[0m\n\u001b[1;32m    793\u001b[0m         \u001b[0;32mif\u001b[0m \u001b[0;32mnot\u001b[0m \u001b[0mis_string_like\u001b[0m\u001b[0;34m(\u001b[0m\u001b[0mlabel\u001b[0m\u001b[0;34m)\u001b[0m\u001b[0;34m:\u001b[0m\u001b[0;34m\u001b[0m\u001b[0m\n",
      "\u001b[0;31mAttributeError\u001b[0m: 'bool' object has no attribute 'items'"
     ]
    },
    {
     "data": {
      "image/png": "[encoded data removed]",
      "text/plain": [
       "<Figure size 432x288 with 1 Axes>"
      ]
     },
     "metadata": {},
     "output_type": "display_data"
    }
   ],
   "source": [
    "nx.draw_networkx(G, labels=True)"
   ]
  },
  {
   "cell_type": "markdown",
   "metadata": {},
   "source": [
    "### Load from gexf file"
   ]
  },
  {
   "cell_type": "code",
   "execution_count": null,
   "metadata": {},
   "outputs": [],
   "source": [
    "g = load_graph_from_file()"
   ]
  },
  {
   "cell_type": "code",
   "execution_count": 99,
   "metadata": {
    "ExecuteTime": {
     "end_time": "2018-06-19T01:58:02.975815Z",
     "start_time": "2018-06-19T01:58:02.971126Z"
    }
   },
   "outputs": [
    {
     "data": {
      "text/plain": [
       "MultiDegreeView({'crps': 41920, 'migraine': 232091, 'fibromyalgia': 154869, 'spoonie': 140859, 'vulvodynia': 237, 'endometriosis': 7444, 'neuropathy': 10937, 'arthritis': 200795, 'rhem_arthritis': 30696, 'shingles': 1191, 'backpain': 12403, 'headache': 209204})"
      ]
     },
     "execution_count": 99,
     "metadata": {},
     "output_type": "execute_result"
    }
   ],
   "source": [
    "nx.degree(G)"
   ]
  },
  {
   "cell_type": "code",
   "execution_count": 115,
   "metadata": {
    "ExecuteTime": {
     "end_time": "2018-06-19T02:31:08.475153Z",
     "start_time": "2018-06-19T02:31:08.246774Z"
    }
   },
   "outputs": [
    {
     "data": {
      "text/plain": [
       "<matplotlib.axes._subplots.AxesSubplot at 0x119cc8940>"
      ]
     },
     "execution_count": 115,
     "metadata": {},
     "output_type": "execute_result"
    },
    {
     "data": {
      "image/png": "[encoded data removed]",
      "text/plain": [
       "<Figure size 432x288 with 1 Axes>"
      ]
     },
     "metadata": {},
     "output_type": "display_data"
    }
   ],
   "source": [
    "dc = nx.degree_centrality(G)\n",
    "j = []\n",
    "for r in dc.keys():\n",
    "    j.append({'term' : r, 'degree_centrality' : dc[r]})\n",
    "j = pd.DataFrame(j)\n",
    "j.set_index('term', inplace=True)\n"
   ]
  },
  {
   "cell_type": "code",
   "execution_count": 116,
   "metadata": {
    "ExecuteTime": {
     "end_time": "2018-06-19T02:32:53.230715Z",
     "start_time": "2018-06-19T02:32:52.978114Z"
    }
   },
   "outputs": [
    {
     "data": {
      "image/png": "[encoded data removed]",
      "text/plain": [
       "<Figure size 504x360 with 1 Axes>"
      ]
     },
     "metadata": {},
     "output_type": "display_data"
    }
   ],
   "source": [
    "fig, axes = plt.subplots(figsize=(7, 5))\n",
    "j.plot(kind='barh', ax=axes)\n",
    "fig.tight_layout()"
   ]
  },
  {
   "cell_type": "code",
   "execution_count": 106,
   "metadata": {
    "ExecuteTime": {
     "end_time": "2018-06-19T02:21:53.205358Z",
     "start_time": "2018-06-19T02:21:53.184785Z"
    }
   },
   "outputs": [
    {
     "ename": "NetworkXNotImplemented",
     "evalue": "not implemented for multigraph type",
     "output_type": "error",
     "traceback": [
      "\u001b[0;31m---------------------------------------------------------------------------\u001b[0m",
      "\u001b[0;31mNetworkXNotImplemented\u001b[0m                    Traceback (most recent call last)",
      "\u001b[0;32m<ipython-input-106-7a00ec9f52b5>\u001b[0m in \u001b[0;36m<module>\u001b[0;34m()\u001b[0m\n\u001b[0;32m----> 1\u001b[0;31m \u001b[0mnx\u001b[0m\u001b[0;34m.\u001b[0m\u001b[0mclustering\u001b[0m\u001b[0;34m(\u001b[0m\u001b[0mG\u001b[0m\u001b[0;34m)\u001b[0m\u001b[0;34m\u001b[0m\u001b[0m\n\u001b[0m",
      "\u001b[0;32m<decorator-gen-242>\u001b[0m in \u001b[0;36mclustering\u001b[0;34m(G, nodes, weight)\u001b[0m\n",
      "\u001b[0;32m~/.pyenv/versions/3.6.4/lib/python3.6/site-packages/networkx/utils/decorators.py\u001b[0m in \u001b[0;36m_not_implemented_for\u001b[0;34m(not_implement_for_func, *args, **kwargs)\u001b[0m\n\u001b[1;32m     71\u001b[0m             \u001b[0;32mraise\u001b[0m \u001b[0mnx\u001b[0m\u001b[0;34m.\u001b[0m\u001b[0mNetworkXNotImplemented\u001b[0m\u001b[0;34m(\u001b[0m\u001b[0mmsg\u001b[0m\u001b[0;34m)\u001b[0m\u001b[0;34m\u001b[0m\u001b[0m\n\u001b[1;32m     72\u001b[0m         \u001b[0;32melse\u001b[0m\u001b[0;34m:\u001b[0m\u001b[0;34m\u001b[0m\u001b[0m\n\u001b[0;32m---> 73\u001b[0;31m             \u001b[0;32mreturn\u001b[0m \u001b[0mnot_implement_for_func\u001b[0m\u001b[0;34m(\u001b[0m\u001b[0;34m*\u001b[0m\u001b[0margs\u001b[0m\u001b[0;34m,\u001b[0m \u001b[0;34m**\u001b[0m\u001b[0mkwargs\u001b[0m\u001b[0;34m)\u001b[0m\u001b[0;34m\u001b[0m\u001b[0m\n\u001b[0m\u001b[1;32m     74\u001b[0m     \u001b[0;32mreturn\u001b[0m \u001b[0m_not_implemented_for\u001b[0m\u001b[0;34m\u001b[0m\u001b[0m\n\u001b[1;32m     75\u001b[0m \u001b[0;34m\u001b[0m\u001b[0m\n",
      "\u001b[0;32m~/.pyenv/versions/3.6.4/lib/python3.6/site-packages/networkx/algorithms/cluster.py\u001b[0m in \u001b[0;36mclustering\u001b[0;34m(G, nodes, weight)\u001b[0m\n\u001b[1;32m    250\u001b[0m                     v, d, t in td_iter}\n\u001b[1;32m    251\u001b[0m     \u001b[0;32melse\u001b[0m\u001b[0;34m:\u001b[0m\u001b[0;34m\u001b[0m\u001b[0m\n\u001b[0;32m--> 252\u001b[0;31m         \u001b[0mtd_iter\u001b[0m \u001b[0;34m=\u001b[0m \u001b[0m_triangles_and_degree_iter\u001b[0m\u001b[0;34m(\u001b[0m\u001b[0mG\u001b[0m\u001b[0;34m,\u001b[0m \u001b[0mnodes\u001b[0m\u001b[0;34m)\u001b[0m\u001b[0;34m\u001b[0m\u001b[0m\n\u001b[0m\u001b[1;32m    253\u001b[0m         clusterc = {v: 0 if t == 0 else t / (d * (d - 1)) for\n\u001b[1;32m    254\u001b[0m                     v, d, t, _ in td_iter}\n",
      "\u001b[0;32m<decorator-gen-238>\u001b[0m in \u001b[0;36m_triangles_and_degree_iter\u001b[0;34m(G, nodes)\u001b[0m\n",
      "\u001b[0;32m~/.pyenv/versions/3.6.4/lib/python3.6/site-packages/networkx/utils/decorators.py\u001b[0m in \u001b[0;36m_not_implemented_for\u001b[0;34m(not_implement_for_func, *args, **kwargs)\u001b[0m\n\u001b[1;32m     69\u001b[0m         \u001b[0;32mif\u001b[0m \u001b[0mmatch\u001b[0m\u001b[0;34m:\u001b[0m\u001b[0;34m\u001b[0m\u001b[0m\n\u001b[1;32m     70\u001b[0m             \u001b[0mmsg\u001b[0m \u001b[0;34m=\u001b[0m \u001b[0;34m'not implemented for %s type'\u001b[0m \u001b[0;34m%\u001b[0m \u001b[0;34m' '\u001b[0m\u001b[0;34m.\u001b[0m\u001b[0mjoin\u001b[0m\u001b[0;34m(\u001b[0m\u001b[0mgraph_types\u001b[0m\u001b[0;34m)\u001b[0m\u001b[0;34m\u001b[0m\u001b[0m\n\u001b[0;32m---> 71\u001b[0;31m             \u001b[0;32mraise\u001b[0m \u001b[0mnx\u001b[0m\u001b[0;34m.\u001b[0m\u001b[0mNetworkXNotImplemented\u001b[0m\u001b[0;34m(\u001b[0m\u001b[0mmsg\u001b[0m\u001b[0;34m)\u001b[0m\u001b[0;34m\u001b[0m\u001b[0m\n\u001b[0m\u001b[1;32m     72\u001b[0m         \u001b[0;32melse\u001b[0m\u001b[0;34m:\u001b[0m\u001b[0;34m\u001b[0m\u001b[0m\n\u001b[1;32m     73\u001b[0m             \u001b[0;32mreturn\u001b[0m \u001b[0mnot_implement_for_func\u001b[0m\u001b[0;34m(\u001b[0m\u001b[0;34m*\u001b[0m\u001b[0margs\u001b[0m\u001b[0;34m,\u001b[0m \u001b[0;34m**\u001b[0m\u001b[0mkwargs\u001b[0m\u001b[0;34m)\u001b[0m\u001b[0;34m\u001b[0m\u001b[0m\n",
      "\u001b[0;31mNetworkXNotImplemented\u001b[0m: not implemented for multigraph type"
     ]
    }
   ],
   "source": [
    "nx.clustering(G)"
   ]
  },
  {
   "cell_type": "code",
   "execution_count": null,
   "metadata": {},
   "outputs": [],
   "source": []
  },
  {
   "cell_type": "code",
   "execution_count": null,
   "metadata": {},
   "outputs": [],
   "source": [
    "%run -i GraphEditingTools.py\n",
    "%run -i GraphTools.py\n",
    "\n"
   ]
  },
  {
   "cell_type": "code",
   "execution_count": null,
   "metadata": {},
   "outputs": [],
   "source": []
  },
  {
   "cell_type": "code",
   "execution_count": null,
   "metadata": {},
   "outputs": [],
   "source": []
  },
  {
   "cell_type": "code",
   "execution_count": 54,
   "metadata": {
    "ExecuteTime": {
     "end_time": "2018-06-19T00:04:40.182887Z",
     "start_time": "2018-06-19T00:04:39.823807Z"
    }
   },
   "outputs": [
    {
     "data": {
      "text/plain": [
       "('migraine', 'crps', 1072)"
      ]
     },
     "execution_count": 54,
     "metadata": {},
     "output_type": "execute_result"
    }
   ],
   "source": [
    "create_node_network('migraine', 'crps')"
   ]
  },
  {
   "cell_type": "code",
   "execution_count": 43,
   "metadata": {
    "ExecuteTime": {
     "end_time": "2018-06-19T00:00:48.845578Z",
     "start_time": "2018-06-19T00:00:48.655257Z"
    }
   },
   "outputs": [
    {
     "data": {
      "text/plain": [
       "549396"
      ]
     },
     "execution_count": 43,
     "metadata": {},
     "output_type": "execute_result"
    }
   ],
   "source": [
    "b = load_tweet_id_data('migraine')\n",
    "len(b)"
   ]
  },
  {
   "cell_type": "code",
   "execution_count": 44,
   "metadata": {
    "ExecuteTime": {
     "end_time": "2018-06-19T00:00:48.990248Z",
     "start_time": "2018-06-19T00:00:48.982705Z"
    }
   },
   "outputs": [
    {
     "data": {
      "text/html": [
       "<div>\n",
       "<style scoped>\n",
       "    .dataframe tbody tr th:only-of-type {\n",
       "        vertical-align: middle;\n",
       "    }\n",
       "\n",
       "    .dataframe tbody tr th {\n",
       "        vertical-align: top;\n",
       "    }\n",
       "\n",
       "    .dataframe thead th {\n",
       "        text-align: right;\n",
       "    }\n",
       "</style>\n",
       "<table border=\"1\" class=\"dataframe\">\n",
       "  <thead>\n",
       "    <tr style=\"text-align: right;\">\n",
       "      <th></th>\n",
       "      <th>idx</th>\n",
       "      <th>id</th>\n",
       "    </tr>\n",
       "  </thead>\n",
       "  <tbody>\n",
       "    <tr>\n",
       "      <th>0</th>\n",
       "      <td>0</td>\n",
       "      <td>704128939367768065</td>\n",
       "    </tr>\n",
       "    <tr>\n",
       "      <th>1</th>\n",
       "      <td>1</td>\n",
       "      <td>395970820537077760</td>\n",
       "    </tr>\n",
       "    <tr>\n",
       "      <th>2</th>\n",
       "      <td>2</td>\n",
       "      <td>708327114613891072</td>\n",
       "    </tr>\n",
       "  </tbody>\n",
       "</table>\n",
       "</div>"
      ],
      "text/plain": [
       "   idx                  id\n",
       "0    0  704128939367768065\n",
       "1    1  395970820537077760\n",
       "2    2  708327114613891072"
      ]
     },
     "execution_count": 44,
     "metadata": {},
     "output_type": "execute_result"
    }
   ],
   "source": [
    "b[:3]"
   ]
  },
  {
   "cell_type": "code",
   "execution_count": 45,
   "metadata": {
    "ExecuteTime": {
     "end_time": "2018-06-19T00:00:54.224446Z",
     "start_time": "2018-06-19T00:00:54.103210Z"
    }
   },
   "outputs": [
    {
     "data": {
      "text/plain": [
       "310139"
      ]
     },
     "execution_count": 45,
     "metadata": {},
     "output_type": "execute_result"
    }
   ],
   "source": [
    "c = load_tweet_id_data('crps')\n",
    "len(c)"
   ]
  },
  {
   "cell_type": "code",
   "execution_count": 26,
   "metadata": {
    "ExecuteTime": {
     "end_time": "2018-06-18T23:54:48.775438Z",
     "start_time": "2018-06-18T23:54:48.771329Z"
    }
   },
   "outputs": [
    {
     "data": {
      "text/plain": [
       "310139"
      ]
     },
     "execution_count": 26,
     "metadata": {},
     "output_type": "execute_result"
    }
   ],
   "source": [
    "len(d)"
   ]
  },
  {
   "cell_type": "code",
   "execution_count": 49,
   "metadata": {
    "ExecuteTime": {
     "end_time": "2018-06-19T00:02:17.478441Z",
     "start_time": "2018-06-19T00:02:17.466737Z"
    }
   },
   "outputs": [
    {
     "data": {
      "text/html": [
       "<div>\n",
       "<style scoped>\n",
       "    .dataframe tbody tr th:only-of-type {\n",
       "        vertical-align: middle;\n",
       "    }\n",
       "\n",
       "    .dataframe tbody tr th {\n",
       "        vertical-align: top;\n",
       "    }\n",
       "\n",
       "    .dataframe thead th {\n",
       "        text-align: right;\n",
       "    }\n",
       "</style>\n",
       "<table border=\"1\" class=\"dataframe\">\n",
       "  <thead>\n",
       "    <tr style=\"text-align: right;\">\n",
       "      <th></th>\n",
       "      <th>idx</th>\n",
       "      <th>id</th>\n",
       "    </tr>\n",
       "  </thead>\n",
       "  <tbody>\n",
       "    <tr>\n",
       "      <th>0</th>\n",
       "      <td>0</td>\n",
       "      <td>392795224520785920</td>\n",
       "    </tr>\n",
       "    <tr>\n",
       "      <th>1</th>\n",
       "      <td>1</td>\n",
       "      <td>535951556987060225</td>\n",
       "    </tr>\n",
       "    <tr>\n",
       "      <th>2</th>\n",
       "      <td>2</td>\n",
       "      <td>391614509749895170</td>\n",
       "    </tr>\n",
       "    <tr>\n",
       "      <th>3</th>\n",
       "      <td>3</td>\n",
       "      <td>545970356478279680</td>\n",
       "    </tr>\n",
       "    <tr>\n",
       "      <th>4</th>\n",
       "      <td>4</td>\n",
       "      <td>529379014033801218</td>\n",
       "    </tr>\n",
       "  </tbody>\n",
       "</table>\n",
       "</div>"
      ],
      "text/plain": [
       "   idx                  id\n",
       "0    0  392795224520785920\n",
       "1    1  535951556987060225\n",
       "2    2  391614509749895170\n",
       "3    3  545970356478279680\n",
       "4    4  529379014033801218"
      ]
     },
     "execution_count": 49,
     "metadata": {},
     "output_type": "execute_result"
    }
   ],
   "source": [
    "c[:5]"
   ]
  },
  {
   "cell_type": "code",
   "execution_count": 51,
   "metadata": {
    "ExecuteTime": {
     "end_time": "2018-06-19T00:03:00.663120Z",
     "start_time": "2018-06-19T00:03:00.635605Z"
    }
   },
   "outputs": [
    {
     "data": {
      "text/plain": [
       "1072"
      ]
     },
     "execution_count": 51,
     "metadata": {},
     "output_type": "execute_result"
    }
   ],
   "source": [
    "j = c[c.id.isin(b.id)]\n",
    "len(j)"
   ]
  },
  {
   "cell_type": "code",
   "execution_count": 52,
   "metadata": {
    "ExecuteTime": {
     "end_time": "2018-06-19T00:03:07.674283Z",
     "start_time": "2018-06-19T00:03:07.666439Z"
    }
   },
   "outputs": [
    {
     "data": {
      "text/html": [
       "<div>\n",
       "<style scoped>\n",
       "    .dataframe tbody tr th:only-of-type {\n",
       "        vertical-align: middle;\n",
       "    }\n",
       "\n",
       "    .dataframe tbody tr th {\n",
       "        vertical-align: top;\n",
       "    }\n",
       "\n",
       "    .dataframe thead th {\n",
       "        text-align: right;\n",
       "    }\n",
       "</style>\n",
       "<table border=\"1\" class=\"dataframe\">\n",
       "  <thead>\n",
       "    <tr style=\"text-align: right;\">\n",
       "      <th></th>\n",
       "      <th>idx</th>\n",
       "      <th>id</th>\n",
       "    </tr>\n",
       "  </thead>\n",
       "  <tbody>\n",
       "    <tr>\n",
       "      <th>331</th>\n",
       "      <td>331</td>\n",
       "      <td>564947260782309377</td>\n",
       "    </tr>\n",
       "    <tr>\n",
       "      <th>692</th>\n",
       "      <td>692</td>\n",
       "      <td>803742550196555776</td>\n",
       "    </tr>\n",
       "    <tr>\n",
       "      <th>737</th>\n",
       "      <td>737</td>\n",
       "      <td>621623141689860096</td>\n",
       "    </tr>\n",
       "  </tbody>\n",
       "</table>\n",
       "</div>"
      ],
      "text/plain": [
       "     idx                  id\n",
       "331  331  564947260782309377\n",
       "692  692  803742550196555776\n",
       "737  737  621623141689860096"
      ]
     },
     "execution_count": 52,
     "metadata": {},
     "output_type": "execute_result"
    }
   ],
   "source": [
    "j[:3]"
   ]
  },
  {
   "cell_type": "code",
   "execution_count": null,
   "metadata": {},
   "outputs": [],
   "source": []
  },
  {
   "cell_type": "code",
   "execution_count": null,
   "metadata": {},
   "outputs": [],
   "source": [
    " pos=nx.spring_layout(G)"
   ]
  },
  {
   "cell_type": "code",
   "execution_count": 8,
   "metadata": {
    "ExecuteTime": {
     "end_time": "2018-06-18T23:14:46.333677Z",
     "start_time": "2018-06-18T23:14:46.326230Z"
    },
    "collapsed": true
   },
   "outputs": [
    {
     "data": {
      "text/plain": [
       "0                                rsd\n",
       "1                           c.r.p.s.\n",
       "2                             r.s.d.\n",
       "3     complex regional pain syndrome\n",
       "4       reflex sympathetic dystrophy\n",
       "5                           migraine\n",
       "6                         migraineur\n",
       "7                       fibromyalgia\n",
       "8                              fibro\n",
       "9                                 fm\n",
       "10                               fms\n",
       "11                           spoonie\n",
       "12                        vulvodynia\n",
       "13                        vulvadynia\n",
       "14                     endometriosis\n",
       "15                     endometriosis\n",
       "16                        neuropathy\n",
       "17                         arthritis\n",
       "18                                oa\n",
       "19                                ra\n",
       "20                          shingles\n",
       "21                               phn\n",
       "22           post-herpetic neuralgia\n",
       "23                         back pain\n",
       "24                          backpain\n",
       "25                          headache\n",
       "Name: crps, dtype: object"
      ]
     },
     "execution_count": 8,
     "metadata": {},
     "output_type": "execute_result"
    }
   ],
   "source": [
    "experimentalTerms"
   ]
  },
  {
   "cell_type": "code",
   "execution_count": 8,
   "metadata": {
    "ExecuteTime": {
     "end_time": "2018-06-18T23:14:46.333677Z",
     "start_time": "2018-06-18T23:14:46.326230Z"
    }
   },
   "outputs": [
    {
     "data": {
      "text/plain": [
       "0                                rsd\n",
       "1                           c.r.p.s.\n",
       "2                             r.s.d.\n",
       "3     complex regional pain syndrome\n",
       "4       reflex sympathetic dystrophy\n",
       "5                           migraine\n",
       "6                         migraineur\n",
       "7                       fibromyalgia\n",
       "8                              fibro\n",
       "9                                 fm\n",
       "10                               fms\n",
       "11                           spoonie\n",
       "12                        vulvodynia\n",
       "13                        vulvadynia\n",
       "14                     endometriosis\n",
       "15                     endometriosis\n",
       "16                        neuropathy\n",
       "17                         arthritis\n",
       "18                                oa\n",
       "19                                ra\n",
       "20                          shingles\n",
       "21                               phn\n",
       "22           post-herpetic neuralgia\n",
       "23                         back pain\n",
       "24                          backpain\n",
       "25                          headache\n",
       "Name: crps, dtype: object"
      ]
     },
     "execution_count": 8,
     "metadata": {},
     "output_type": "execute_result"
    }
   ],
   "source": [
    "experimentalTerms"
   ]
  },
  {
   "cell_type": "code",
   "execution_count": 28,
   "metadata": {
    "ExecuteTime": {
     "end_time": "2018-06-18T23:54:57.595514Z",
     "start_time": "2018-06-18T23:54:57.579244Z"
    }
   },
   "outputs": [
    {
     "data": {
      "text/plain": [
       "535951556987060225"
      ]
     },
     "execution_count": 28,
     "metadata": {},
     "output_type": "execute_result"
    }
   ],
   "source": [
    "d[1]"
   ]
  },
  {
   "cell_type": "code",
   "execution_count": null,
   "metadata": {},
   "outputs": [],
   "source": []
  },
  {
   "cell_type": "markdown",
   "metadata": {},
   "source": [
    "# Temporal distribution of tweets with stored hashtags"
   ]
  }
 ],
 "metadata": {
  "kernelspec": {
   "display_name": "Python 3",
   "language": "python",
   "name": "python3"
  },
  "language_info": {
   "codemirror_mode": {
    "name": "ipython",
    "version": 3
   },
   "file_extension": ".py",
   "mimetype": "text/x-python",
   "name": "python",
   "nbconvert_exporter": "python",
   "pygments_lexer": "ipython3",
   "version": "3.6.4"
  },
  "latex_envs": {
   "LaTeX_envs_menu_present": true,
   "autoclose": false,
   "autocomplete": true,
   "bibliofile": "biblio.bib",
   "cite_by": "apalike",
   "current_citInitial": 1,
   "eqLabelWithNumbers": true,
   "eqNumInitial": 1,
   "hotkeys": {
    "equation": "Ctrl-E",
    "itemize": "Ctrl-I"
   },
   "labels_anchors": false,
   "latex_user_defs": false,
   "report_style_numbering": false,
   "user_envs_cfg": false
  },
  "toc": {
   "base_numbering": 1,
   "nav_menu": {},
   "number_sections": true,
   "sideBar": true,
   "skip_h1_title": false,
   "title_cell": "Table of Contents",
   "title_sidebar": "Contents",
   "toc_cell": false,
   "toc_position": {},
   "toc_section_display": true,
   "toc_window_display": false
  }
 },
 "nbformat": 4,
 "nbformat_minor": 2
}
