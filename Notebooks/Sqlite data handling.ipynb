{
 "cells": [
  {
   "cell_type": "markdown",
   "metadata": {},
   "source": [
    "# Initialize database files"
   ]
  },
  {
   "cell_type": "code",
   "execution_count": null,
   "metadata": {},
   "outputs": [],
   "source": []
  },
  {
   "cell_type": "code",
   "execution_count": 13,
   "metadata": {
    "ExecuteTime": {
     "end_time": "2018-05-09T00:06:58.914757Z",
     "start_time": "2018-05-09T00:06:58.904829Z"
    }
   },
   "outputs": [
    {
     "name": "stdout",
     "output_type": "stream",
     "text": [
      "(bookmark:twitteranalysis) -> /Users/adam/Dropbox/PainNarrativesLab/TwitterDataAnalysis\n",
      "/Users/adam/Dropbox/PainNarrativesLab/TwitterDataAnalysis\n"
     ]
    }
   ],
   "source": [
    "%cd twitteranalysis\n",
    "import environment\n",
    "import sqlite3\n",
    "import os\n",
    "from Loggers.Helpers import delete_files\n",
    "\n",
    "\n",
    "g = environment.sqlite_file_connection_string_generator()\n",
    "query = \"\"\"CREATE TABLE `word_map_deux` (\n",
    "`tweet_id` int(20) DEFAULT NULL,\n",
    "  `user_id` int(20) DEFAULT NULL,\n",
    "  `word` varchar(200) DEFAULT NULL,\n",
    "  `sentence_index` int(11) DEFAULT NULL,\n",
    "  `word_index` int(11) DEFAULT NULL)\"\"\"\n",
    "\n",
    "# Make master db and tables\n",
    "import sqlite3\n",
    "\n",
    "# make individual tables\n",
    "def initialize_working_tables():\n",
    "    for i in range(0, environment.MAX_DB_FILES +1):\n",
    "        try:\n",
    "            f = '%s/wordmapping%s.db' % (environment.DB_FOLDER, i)\n",
    "            conn = sqlite3.connect(f)\n",
    "            conn.execute(query)\n",
    "            conn.commit()\n",
    "            conn.close()\n",
    "        except:\n",
    "            pass\n",
    "\n",
    "def initialize_master_db():\n",
    "    try:\n",
    "        conn = sqlite3.connect(environment.MASTER_DB)\n",
    "        conn.execute(query)\n",
    "        conn.commit()\n",
    "        conn.close()\n",
    "    except:\n",
    "        pass\n",
    "\n",
    "def delete_master_db():\n",
    "    os.remove(environment.MASTER_DB)\n",
    "    \n",
    "def delete_working_files():\n",
    "    delete_files(environment.DB_FOLDER)"
   ]
  },
  {
   "cell_type": "code",
   "execution_count": null,
   "metadata": {
    "ExecuteTime": {
     "end_time": "2018-05-09T00:06:59.238645Z",
     "start_time": "2018-05-09T00:06:59.231670Z"
    }
   },
   "outputs": [],
   "source": []
  },
  {
   "cell_type": "code",
   "execution_count": 16,
   "metadata": {
    "ExecuteTime": {
     "end_time": "2018-05-09T00:06:59.534982Z",
     "start_time": "2018-05-09T00:06:59.532156Z"
    }
   },
   "outputs": [],
   "source": [
    "delete_master_db()\n",
    "initialize_master_db()"
   ]
  },
  {
   "cell_type": "code",
   "execution_count": 17,
   "metadata": {
    "ExecuteTime": {
     "end_time": "2018-05-09T00:07:00.331143Z",
     "start_time": "2018-05-09T00:07:00.314244Z"
    }
   },
   "outputs": [
    {
     "name": "stdout",
     "output_type": "stream",
     "text": [
      "removing wordmapping3.db\n",
      "removing wordmapping7.db\n",
      "removing wordmapping6.db\n",
      "removing wordmapping2.db\n",
      "removing wordmapping9.db\n",
      "removing wordmapping8.db\n",
      "removing wordmapping5.db\n",
      "removing wordmapping10.db\n",
      "removing wordmapping1.db\n",
      "removing wordmapping0.db\n",
      "removing wordmapping4.db\n"
     ]
    }
   ],
   "source": [
    "delete_working_files()\n",
    "initialize_working_tables()"
   ]
  },
  {
   "cell_type": "code",
   "execution_count": null,
   "metadata": {
    "ExecuteTime": {
     "start_time": "2018-04-28T21:44:20.126Z"
    }
   },
   "outputs": [],
   "source": [
    "\n"
   ]
  },
  {
   "cell_type": "markdown",
   "metadata": {},
   "source": [
    "# Run the user parser"
   ]
  },
  {
   "cell_type": "code",
   "execution_count": 1,
   "metadata": {
    "ExecuteTime": {
     "end_time": "2018-05-09T21:39:14.839685Z",
     "start_time": "2018-05-09T21:39:14.824216Z"
    }
   },
   "outputs": [
    {
     "name": "stdout",
     "output_type": "stream",
     "text": [
      "(bookmark:twitteranalysis) -> /Users/adam/Dropbox/PainNarrativesLab/TwitterDataAnalysis\n",
      "/Users/adam/Dropbox/PainNarrativesLab/TwitterDataAnalysis\n",
      "Starting run\n"
     ]
    },
    {
     "ename": "RuntimeError",
     "evalue": "This event loop is already running",
     "output_type": "error",
     "traceback": [
      "\u001b[0;31m---------------------------------------------------------------------------\u001b[0m",
      "\u001b[0;31mRuntimeError\u001b[0m                              Traceback (most recent call last)",
      "\u001b[0;32m~/Dropbox/PainNarrativesLab/TwitterDataAnalysis/Executables/process_user_descriptions_into_words2.py\u001b[0m in \u001b[0;36m<module>\u001b[0;34m()\u001b[0m\n\u001b[1;32m     86\u001b[0m \u001b[0;34m\u001b[0m\u001b[0m\n\u001b[1;32m     87\u001b[0m \u001b[0;32mif\u001b[0m \u001b[0m__name__\u001b[0m \u001b[0;34m==\u001b[0m \u001b[0;34m'__main__'\u001b[0m\u001b[0;34m:\u001b[0m\u001b[0;34m\u001b[0m\u001b[0m\n\u001b[0;32m---> 88\u001b[0;31m     \u001b[0mmain\u001b[0m\u001b[0;34m(\u001b[0m\u001b[0;34m)\u001b[0m\u001b[0;34m\u001b[0m\u001b[0m\n\u001b[0m",
      "\u001b[0;32m~/Dropbox/PainNarrativesLab/TwitterDataAnalysis/profiling/OptimizingTools.py\u001b[0m in \u001b[0;36mwrapper\u001b[0;34m(*args, **kwargs)\u001b[0m\n\u001b[1;32m    110\u001b[0m         \u001b[0;32mdef\u001b[0m \u001b[0mwrapper\u001b[0m\u001b[0;34m(\u001b[0m \u001b[0;34m*\u001b[0m\u001b[0margs\u001b[0m\u001b[0;34m,\u001b[0m \u001b[0;34m**\u001b[0m\u001b[0mkwargs\u001b[0m \u001b[0;34m)\u001b[0m\u001b[0;34m:\u001b[0m\u001b[0;34m\u001b[0m\u001b[0m\n\u001b[1;32m    111\u001b[0m             \u001b[0mt1\u001b[0m \u001b[0;34m=\u001b[0m \u001b[0mstandard_timestamp\u001b[0m\u001b[0;34m(\u001b[0m\u001b[0;34m)\u001b[0m\u001b[0;34m\u001b[0m\u001b[0m\n\u001b[0;32m--> 112\u001b[0;31m             \u001b[0mresult\u001b[0m \u001b[0;34m=\u001b[0m \u001b[0mfn\u001b[0m\u001b[0;34m(\u001b[0m \u001b[0;34m*\u001b[0m\u001b[0margs\u001b[0m\u001b[0;34m,\u001b[0m \u001b[0;34m**\u001b[0m\u001b[0mkwargs\u001b[0m \u001b[0;34m)\u001b[0m\u001b[0;34m\u001b[0m\u001b[0m\n\u001b[0m\u001b[1;32m    113\u001b[0m             \u001b[0mt2\u001b[0m \u001b[0;34m=\u001b[0m \u001b[0mstandard_timestamp\u001b[0m\u001b[0;34m(\u001b[0m\u001b[0;34m)\u001b[0m\u001b[0;34m\u001b[0m\u001b[0m\n\u001b[1;32m    114\u001b[0m             \u001b[0;31m# if type(log_files) is not list: log_files = [log_files]\u001b[0m\u001b[0;34m\u001b[0m\u001b[0;34m\u001b[0m\u001b[0m\n",
      "\u001b[0;32m~/Dropbox/PainNarrativesLab/TwitterDataAnalysis/Executables/process_user_descriptions_into_words2.py\u001b[0m in \u001b[0;36mmain\u001b[0;34m()\u001b[0m\n\u001b[1;32m     80\u001b[0m     \u001b[0mc\u001b[0m \u001b[0;34m=\u001b[0m \u001b[0mClient\u001b[0m\u001b[0;34m(\u001b[0m\u001b[0;34m)\u001b[0m\u001b[0;34m\u001b[0m\u001b[0m\n\u001b[1;32m     81\u001b[0m     \u001b[0mfuture\u001b[0m\u001b[0;34m.\u001b[0m\u001b[0madd_done_callback\u001b[0m\u001b[0;34m(\u001b[0m \u001b[0mc\u001b[0m\u001b[0;34m.\u001b[0m\u001b[0msend_flush_command\u001b[0m \u001b[0;34m)\u001b[0m\u001b[0;34m\u001b[0m\u001b[0m\n\u001b[0;32m---> 82\u001b[0;31m     \u001b[0mloop\u001b[0m\u001b[0;34m.\u001b[0m\u001b[0mrun_until_complete\u001b[0m\u001b[0;34m(\u001b[0m\u001b[0mfuture\u001b[0m\u001b[0;34m)\u001b[0m\u001b[0;34m\u001b[0m\u001b[0m\n\u001b[0m\u001b[1;32m     83\u001b[0m     \u001b[0mloop\u001b[0m\u001b[0;34m.\u001b[0m\u001b[0mclose\u001b[0m\u001b[0;34m(\u001b[0m\u001b[0;34m)\u001b[0m\u001b[0;34m\u001b[0m\u001b[0m\n\u001b[1;32m     84\u001b[0m     \u001b[0;32mreturn\u001b[0m \u001b[0mfuture\u001b[0m\u001b[0;34m.\u001b[0m\u001b[0mresult\u001b[0m\u001b[0;34m(\u001b[0m\u001b[0;34m)\u001b[0m\u001b[0;34m\u001b[0m\u001b[0m\n",
      "\u001b[0;32m~/.pyenv/versions/3.6.4/lib/python3.6/asyncio/base_events.py\u001b[0m in \u001b[0;36mrun_until_complete\u001b[0;34m(self, future)\u001b[0m\n\u001b[1;32m    452\u001b[0m         \u001b[0mfuture\u001b[0m\u001b[0;34m.\u001b[0m\u001b[0madd_done_callback\u001b[0m\u001b[0;34m(\u001b[0m\u001b[0m_run_until_complete_cb\u001b[0m\u001b[0;34m)\u001b[0m\u001b[0;34m\u001b[0m\u001b[0m\n\u001b[1;32m    453\u001b[0m         \u001b[0;32mtry\u001b[0m\u001b[0;34m:\u001b[0m\u001b[0;34m\u001b[0m\u001b[0m\n\u001b[0;32m--> 454\u001b[0;31m             \u001b[0mself\u001b[0m\u001b[0;34m.\u001b[0m\u001b[0mrun_forever\u001b[0m\u001b[0;34m(\u001b[0m\u001b[0;34m)\u001b[0m\u001b[0;34m\u001b[0m\u001b[0m\n\u001b[0m\u001b[1;32m    455\u001b[0m         \u001b[0;32mexcept\u001b[0m\u001b[0;34m:\u001b[0m\u001b[0;34m\u001b[0m\u001b[0m\n\u001b[1;32m    456\u001b[0m             \u001b[0;32mif\u001b[0m \u001b[0mnew_task\u001b[0m \u001b[0;32mand\u001b[0m \u001b[0mfuture\u001b[0m\u001b[0;34m.\u001b[0m\u001b[0mdone\u001b[0m\u001b[0;34m(\u001b[0m\u001b[0;34m)\u001b[0m \u001b[0;32mand\u001b[0m \u001b[0;32mnot\u001b[0m \u001b[0mfuture\u001b[0m\u001b[0;34m.\u001b[0m\u001b[0mcancelled\u001b[0m\u001b[0;34m(\u001b[0m\u001b[0;34m)\u001b[0m\u001b[0;34m:\u001b[0m\u001b[0;34m\u001b[0m\u001b[0m\n",
      "\u001b[0;32m~/.pyenv/versions/3.6.4/lib/python3.6/asyncio/base_events.py\u001b[0m in \u001b[0;36mrun_forever\u001b[0;34m(self)\u001b[0m\n\u001b[1;32m    406\u001b[0m         \u001b[0mself\u001b[0m\u001b[0;34m.\u001b[0m\u001b[0m_check_closed\u001b[0m\u001b[0;34m(\u001b[0m\u001b[0;34m)\u001b[0m\u001b[0;34m\u001b[0m\u001b[0m\n\u001b[1;32m    407\u001b[0m         \u001b[0;32mif\u001b[0m \u001b[0mself\u001b[0m\u001b[0;34m.\u001b[0m\u001b[0mis_running\u001b[0m\u001b[0;34m(\u001b[0m\u001b[0;34m)\u001b[0m\u001b[0;34m:\u001b[0m\u001b[0;34m\u001b[0m\u001b[0m\n\u001b[0;32m--> 408\u001b[0;31m             \u001b[0;32mraise\u001b[0m \u001b[0mRuntimeError\u001b[0m\u001b[0;34m(\u001b[0m\u001b[0;34m'This event loop is already running'\u001b[0m\u001b[0;34m)\u001b[0m\u001b[0;34m\u001b[0m\u001b[0m\n\u001b[0m\u001b[1;32m    409\u001b[0m         \u001b[0;32mif\u001b[0m \u001b[0mevents\u001b[0m\u001b[0;34m.\u001b[0m\u001b[0m_get_running_loop\u001b[0m\u001b[0;34m(\u001b[0m\u001b[0;34m)\u001b[0m \u001b[0;32mis\u001b[0m \u001b[0;32mnot\u001b[0m \u001b[0;32mNone\u001b[0m\u001b[0;34m:\u001b[0m\u001b[0;34m\u001b[0m\u001b[0m\n\u001b[1;32m    410\u001b[0m             raise RuntimeError(\n",
      "\u001b[0;31mRuntimeError\u001b[0m: This event loop is already running"
     ]
    },
    {
     "name": "stdout",
     "output_type": "stream",
     "text": [
      "connection ready\n",
      "Starting processing \n"
     ]
    },
    {
     "name": "stderr",
     "output_type": "stream",
     "text": [
      "Exception in callback Client.send_flush_command(<Future finished result=4352>)\n",
      "handle: <Handle Client.send_flush_command(<Future finished result=4352>)>\n",
      "Traceback (most recent call last):\n",
      "  File \"/Users/adam/.pyenv/versions/3.6.4/lib/python3.6/asyncio/events.py\", line 145, in _run\n",
      "    self._callback(*self._args)\n",
      "  File \"/Users/adam/Dropbox/PainNarrativesLab/TwitterDataAnalysis/Servers/ClientSide.py\", line 89, in send_flush_command\n",
      "    for _ in range( 0, repeat ):\n",
      "TypeError: '_asyncio.Future' object cannot be interpreted as an integer\n"
     ]
    },
    {
     "name": "stdout",
     "output_type": "stream",
     "text": [
      "4352 users processed\n",
      "Processing complete. Processed 4352 users\n",
      "requesting queue flush\n"
     ]
    }
   ],
   "source": [
    "%cd twitteranalysis\n",
    "%run -i Executables/process_user_descriptions_into_words2.py"
   ]
  },
  {
   "cell_type": "raw",
   "metadata": {},
   "source": [
    "%cd twitteranalysis\n",
    "%run -i Executables/parallel_runner.py"
   ]
  },
  {
   "cell_type": "code",
   "execution_count": null,
   "metadata": {},
   "outputs": [],
   "source": []
  },
  {
   "cell_type": "raw",
   "metadata": {
    "ExecuteTime": {
     "start_time": "2018-05-09T01:36:31.568Z"
    }
   },
   "source": [
    "%cd twitteranalysis\n",
    "%run -i Servers/DatabaseServerGrumble.py\n"
   ]
  },
  {
   "cell_type": "code",
   "execution_count": null,
   "metadata": {},
   "outputs": [],
   "source": [
    "class AsyncBatcher(object):\n",
    "    __slots__ = ['batch', 'batch_size', 'save', 'flush']\n",
    "    def __init__(self, batch_size):\n",
    "        self.batch_size = batch_size\n",
    "        self.batch = []\n",
    "    \n",
    "    "
   ]
  },
  {
   "cell_type": "code",
   "execution_count": null,
   "metadata": {},
   "outputs": [],
   "source": []
  },
  {
   "cell_type": "code",
   "execution_count": null,
   "metadata": {},
   "outputs": [],
   "source": [
    "%cd twitteranalysis\n",
    "from Executables.process_user_descriptions_into_words2 import main\n",
    "main()\n"
   ]
  },
  {
   "cell_type": "code",
   "execution_count": null,
   "metadata": {
    "ExecuteTime": {
     "end_time": "2018-05-08T23:59:34.016427Z",
     "start_time": "2018-05-08T23:59:34.006323Z"
    }
   },
   "outputs": [],
   "source": [
    "%cd twitteranalysis\n",
    "from Executables.process_user_descriptions_into_words2 import main\n",
    "main()\n"
   ]
  },
  {
   "cell_type": "markdown",
   "metadata": {},
   "source": [
    "# Clear queue"
   ]
  },
  {
   "cell_type": "code",
   "execution_count": 12,
   "metadata": {
    "ExecuteTime": {
     "end_time": "2018-05-09T00:07:34.466502Z",
     "start_time": "2018-05-09T00:07:34.461371Z"
    }
   },
   "outputs": [
    {
     "name": "stdout",
     "output_type": "stream",
     "text": [
      "(bookmark:twitteranalysis) -> /Users/adam/Dropbox/PainNarrativesLab/TwitterDataAnalysis\n",
      "/Users/adam/Dropbox/PainNarrativesLab/TwitterDataAnalysis\n",
      "requesting queue flush\n"
     ]
    }
   ],
   "source": [
    "%cd twitteranalysis\n",
    "\n",
    "from Servers.ClientSide import Client\n",
    "c = Client()\n",
    "\n",
    "# Each of the listening request handlers needs its queue flushed\n",
    "c.send_flush_command()\n",
    "\n",
    "#j = c.send_shutdown_command()"
   ]
  },
  {
   "cell_type": "code",
   "execution_count": null,
   "metadata": {
    "ExecuteTime": {
     "end_time": "2018-05-08T23:21:06.767064Z",
     "start_time": "2018-05-08T23:21:06.764920Z"
    }
   },
   "outputs": [],
   "source": [
    "j"
   ]
  },
  {
   "cell_type": "code",
   "execution_count": null,
   "metadata": {},
   "outputs": [],
   "source": []
  },
  {
   "cell_type": "markdown",
   "metadata": {},
   "source": [
    "# Merge the various sqlite files"
   ]
  },
  {
   "cell_type": "code",
   "execution_count": 18,
   "metadata": {
    "ExecuteTime": {
     "end_time": "2018-04-24T22:55:32.950432Z",
     "start_time": "2018-04-24T22:55:32.901844Z"
    }
   },
   "outputs": [
    {
     "name": "stdout",
     "output_type": "stream",
     "text": [
      "(bookmark:twitteranalysis) -> /Users/adam/Dropbox/PainNarrativesLab/TwitterDataAnalysis\n",
      "/Users/adam/Dropbox/PainNarrativesLab/TwitterDataAnalysis\n"
     ]
    }
   ],
   "source": [
    "\n",
    "%cd twitteranalysis\n",
    "import environment\n",
    "import sqlite3\n",
    "\n",
    "mainDB = environment.MASTER_DB\n",
    "columnNames = \"word_index, sentence_index, word, user_id, tweet_id\"\n",
    "    \n",
    "otherDbNames = [ 'wordmapping%s.db' % (i) \n",
    "            for i in range( 0, environment.MAX_DB_FILES +1)]\n",
    "\n",
    "otherDBs = [ '%s/%s' % (environment.DB_FOLDER, name) \n",
    "            for name in otherDbNames]\n",
    "    \n",
    "for db in otherDbNames:\n",
    "    conn = sqlite3.connect( mainDB )  # Connect to the main database\n",
    "    curs = conn.cursor()  # Connect a cursor\n",
    "    \n",
    "    dbPath = '%s/%s' % (environment.DB_FOLDER, db)\n",
    "    curs.execute( \"ATTACH DATABASE ? as ? ;\", (dbPath, 'db') )\n",
    "\n",
    "    dbNameTableName = \"db.word_map_deux\"\n",
    "    tableName = 'word_map_deux'\n",
    "    curs.execute( \"INSERT INTO %s (%s) SELECT %s FROM %s;\" % (tableName, columnNames, columnNames, dbNameTableName) )\n",
    "    conn.commit()\n",
    "    curs.close()\n",
    "    conn.close()\n"
   ]
  },
  {
   "cell_type": "code",
   "execution_count": null,
   "metadata": {},
   "outputs": [],
   "source": [
    "otherDbNames"
   ]
  },
  {
   "cell_type": "code",
   "execution_count": null,
   "metadata": {},
   "outputs": [],
   "source": []
  },
  {
   "cell_type": "markdown",
   "metadata": {
    "ExecuteTime": {
     "end_time": "2018-04-21T01:41:48.507100Z",
     "start_time": "2018-04-21T01:41:48.503056Z"
    }
   },
   "source": [
    "# Check data"
   ]
  },
  {
   "cell_type": "code",
   "execution_count": 19,
   "metadata": {
    "ExecuteTime": {
     "end_time": "2018-04-24T22:55:36.775801Z",
     "start_time": "2018-04-24T22:55:36.771158Z"
    }
   },
   "outputs": [
    {
     "name": "stdout",
     "output_type": "stream",
     "text": [
      "(bookmark:twitteranalysis) -> /Users/adam/Dropbox/PainNarrativesLab/TwitterDataAnalysis\n",
      "/Users/adam/Dropbox/PainNarrativesLab/TwitterDataAnalysis\n"
     ]
    }
   ],
   "source": [
    "%cd twitteranalysis\n",
    "import environment\n",
    "import sqlite3"
   ]
  },
  {
   "cell_type": "code",
   "execution_count": 20,
   "metadata": {},
   "outputs": [
    {
     "name": "stdout",
     "output_type": "stream",
     "text": [
      "Unique user ids; rows\n",
      "wordmapping0.db : 0; 0 \n",
      "wordmapping1.db : 599; 9999 \n",
      "wordmapping2.db : 544; 8997 \n",
      "wordmapping3.db : 481; 8008 \n",
      "wordmapping4.db : 493; 8008 \n",
      "wordmapping5.db : 476; 8003 \n",
      "wordmapping6.db : 435; 7007 \n",
      "wordmapping7.db : 400; 6500 \n",
      "wordmapping8.db : 280; 4489 \n",
      "wordmapping9.db : 184; 3003 \n",
      "wordmapping10.db : 167; 2493 \n"
     ]
    }
   ],
   "source": [
    "uids = []\n",
    "rows = []\n",
    "print(\"Unique user ids; rows\")\n",
    "for db in otherDbNames:\n",
    "    dbPath = '%s/%s' % (environment.DB_FOLDER, db)\n",
    "    conn = sqlite3.connect( dbPath )  # Connect to the main database\n",
    "    curs = conn.cursor()  # Connect a cursor\n",
    "    r1 = conn.execute(\"select count( distinct user_id) from word_map_deux\")\n",
    "    v =  r1.fetchone()\n",
    "    uids.append(v[0])\n",
    "    r2 = conn.execute(\"select count( word) from word_map_deux\")\n",
    "    v2 =  r2.fetchone()\n",
    "    rows.append(v2[0])\n",
    "\n",
    "    print(\"%s : %s; %s \" % (db, v[0], v2[0]))\n",
    "    conn.close()\n"
   ]
  },
  {
   "cell_type": "code",
   "execution_count": 21,
   "metadata": {},
   "outputs": [
    {
     "data": {
      "text/plain": [
       "4059"
      ]
     },
     "execution_count": 21,
     "metadata": {},
     "output_type": "execute_result"
    }
   ],
   "source": [
    "sum(uids)"
   ]
  },
  {
   "cell_type": "code",
   "execution_count": 22,
   "metadata": {},
   "outputs": [
    {
     "data": {
      "text/plain": [
       "66507"
      ]
     },
     "execution_count": 22,
     "metadata": {},
     "output_type": "execute_result"
    }
   ],
   "source": [
    "sum(rows)"
   ]
  },
  {
   "cell_type": "code",
   "execution_count": 23,
   "metadata": {
    "ExecuteTime": {
     "end_time": "2018-04-24T22:55:37.416442Z",
     "start_time": "2018-04-24T22:55:37.392459Z"
    }
   },
   "outputs": [
    {
     "name": "stdout",
     "output_type": "stream",
     "text": [
      "3923 Unique user ids\n",
      "66507 rows in master.db\n"
     ]
    }
   ],
   "source": [
    "conn = sqlite3.connect(environment.MASTER_DB)\n",
    "r1 = conn.execute(\"select count( distinct user_id) from word_map_deux\")\n",
    "print(\"%s Unique user ids\" % r1.fetchone())\n",
    "r2 = conn.execute(\"select count( word) from word_map_deux\")\n",
    "print(\"%s rows in master.db\" % r2.fetchone())\n",
    "conn.close()"
   ]
  },
  {
   "cell_type": "markdown",
   "metadata": {},
   "source": [
    "NB: \n",
    "    - numberUsers processed = 4352\n",
    "    - users w empty descriptions = 332\n",
    "    - users non-english = 129\n",
    "    - expected users: 3891"
   ]
  },
  {
   "cell_type": "markdown",
   "metadata": {},
   "source": [
    "5/15 11.12\n",
    "    - 4059 unique ids based on files\n",
    "    - 3923 unique ids based on master\n",
    "    - 66507 rows in master and based on files\n",
    "\n",
    "5/15 10.39\n",
    "    - 3653 unique ids based on files\n",
    "    - 3529 unique ids based on master\n",
    "    - 60060 rows in master and based on files\n",
    "    \n",
    "\n",
    "5/14 9.00\n",
    "    - 4014 unique ids based on files\n",
    "    - 2510 unique ids based on master\n",
    "    - 41973 rows in master and based on files\n",
    "\n",
    "\n",
    "Before changed to class method w separate call to flush\n",
    "    - 3591 Unique user ids\n",
    "    - 47952 rows in master.db\n",
    "\n",
    "After\n",
    "    - 4014 Unique user ids\n",
    "    - 67940 rows in master.db\n",
    "    \n",
    "\n"
   ]
  },
  {
   "cell_type": "code",
   "execution_count": 11,
   "metadata": {
    "ExecuteTime": {
     "end_time": "2018-04-24T01:45:15.506569Z",
     "start_time": "2018-04-24T01:45:15.495315Z"
    }
   },
   "outputs": [
    {
     "data": {
      "text/plain": [
       "3891"
      ]
     },
     "execution_count": 11,
     "metadata": {},
     "output_type": "execute_result"
    }
   ],
   "source": [
    "likelyNonEmpty = 4352 - 332 - 129\n",
    "likelyNonEmpty"
   ]
  },
  {
   "cell_type": "code",
   "execution_count": null,
   "metadata": {},
   "outputs": [],
   "source": []
  },
  {
   "cell_type": "code",
   "execution_count": null,
   "metadata": {
    "ExecuteTime": {
     "end_time": "2018-04-24T00:20:00.291092Z",
     "start_time": "2018-04-24T00:20:00.279946Z"
    }
   },
   "outputs": [],
   "source": [
    "conn = sqlite3.connect(environment.MASTER_DB)\n",
    "r1 = conn.execute(\"select user_id, count(word) from word_map_deux group by user_id \")\n",
    "print( r1.fetchone())\n",
    "conn.close()"
   ]
  },
  {
   "cell_type": "code",
   "execution_count": null,
   "metadata": {
    "ExecuteTime": {
     "end_time": "2018-04-24T01:37:28.570035Z",
     "start_time": "2018-04-24T01:37:28.484182Z"
    }
   },
   "outputs": [],
   "source": [
    "conn = sqlite3.connect(environment.MASTER_DB)\n",
    "curs = conn.cursor()  # Connect a cursor\n",
    "    \n",
    "r1 = curs.execute(\"select * from word_map_deux where user_id = 1460971\")\n",
    "# for i in range(0, 100):\n",
    "#     print( r1.fetchone())\n",
    "\n",
    "curs.close()"
   ]
  },
  {
   "cell_type": "code",
   "execution_count": null,
   "metadata": {
    "ExecuteTime": {
     "end_time": "2018-04-24T00:20:00.317545Z",
     "start_time": "2018-04-24T00:20:00.304443Z"
    }
   },
   "outputs": [],
   "source": [
    "\"\"\"The above tells me that the problem is the whole store getting sent to the server\"\"\""
   ]
  },
  {
   "cell_type": "code",
   "execution_count": null,
   "metadata": {},
   "outputs": [],
   "source": []
  },
  {
   "cell_type": "markdown",
   "metadata": {},
   "source": [
    "# Explore data"
   ]
  },
  {
   "cell_type": "code",
   "execution_count": null,
   "metadata": {},
   "outputs": [],
   "source": []
  },
  {
   "cell_type": "code",
   "execution_count": null,
   "metadata": {
    "ExecuteTime": {
     "end_time": "2018-04-24T00:20:00.326107Z",
     "start_time": "2018-04-24T00:20:00.321031Z"
    }
   },
   "outputs": [],
   "source": [
    "def master_row_generator():\n",
    "    conn = sqlite3.connect(environment.MASTER_DB)\n",
    "    r = conn.execute(\"select * from word_map_deux\")\n",
    "    while True:\n",
    "        yield r.fetchone()\n",
    "\n",
    "def db_row_generator(filepath):\n",
    "    conn = sqlite3.connect(filepath)\n",
    "    r = conn.execute(\"select * from word_map_deux\")\n",
    "    while True:\n",
    "        yield r.fetchone()\n"
   ]
  },
  {
   "cell_type": "code",
   "execution_count": null,
   "metadata": {
    "ExecuteTime": {
     "end_time": "2018-04-24T00:20:00.333839Z",
     "start_time": "2018-04-24T00:20:00.329695Z"
    }
   },
   "outputs": [],
   "source": [
    "gen = master_row_generator()"
   ]
  },
  {
   "cell_type": "code",
   "execution_count": null,
   "metadata": {
    "ExecuteTime": {
     "end_time": "2018-04-24T00:20:00.371382Z",
     "start_time": "2018-04-24T00:20:00.337634Z"
    }
   },
   "outputs": [],
   "source": [
    "for i in range(0, 220):\n",
    "    print(next(gen))"
   ]
  },
  {
   "cell_type": "code",
   "execution_count": null,
   "metadata": {
    "ExecuteTime": {
     "end_time": "2018-04-24T00:20:00.395516Z",
     "start_time": "2018-04-24T00:20:00.374929Z"
    }
   },
   "outputs": [],
   "source": [
    "f = '/Users/adam/Desktop/TwitterDataAnalysisLogs/dbs/wordmapping1.db'\n",
    "dgen = db_row_generator(f)\n",
    "for i in range(0, 220):\n",
    "    print(next(dgen))"
   ]
  },
  {
   "cell_type": "code",
   "execution_count": null,
   "metadata": {
    "ExecuteTime": {
     "end_time": "2018-04-24T00:20:00.404343Z",
     "start_time": "2018-04-24T00:20:00.398351Z"
    }
   },
   "outputs": [],
   "source": [
    "f = '/Users/adam/Desktop/TwitterDataAnalysisLogs/dbs/wordmapping1.db'\n",
    "conn = sqlite3.connect(f)\n",
    "r = conn.execute(\"select * from word_map_deux\")\n",
    "for i in range(0, 5):\n",
    "    print(r.fetchone())\n"
   ]
  },
  {
   "cell_type": "code",
   "execution_count": null,
   "metadata": {},
   "outputs": [],
   "source": []
  },
  {
   "cell_type": "code",
   "execution_count": null,
   "metadata": {
    "ExecuteTime": {
     "end_time": "2018-04-24T00:20:00.414091Z",
     "start_time": "2018-04-24T00:20:00.407584Z"
    }
   },
   "outputs": [],
   "source": [
    "f = '/Users/adam/Desktop/TwitterDataAnalysisLogs/dbs/wordmapping9.db'\n",
    "conn = sqlite3.connect(f)\n",
    "r = conn.execute(\"select * from word_map_deux\")\n",
    "for i in range(0, 5):\n",
    "    print(r.fetchone())\n"
   ]
  },
  {
   "cell_type": "code",
   "execution_count": null,
   "metadata": {},
   "outputs": [],
   "source": []
  },
  {
   "cell_type": "code",
   "execution_count": null,
   "metadata": {
    "ExecuteTime": {
     "end_time": "2018-04-24T00:20:00.426822Z",
     "start_time": "2018-04-24T00:20:00.418015Z"
    }
   },
   "outputs": [],
   "source": [
    "\n",
    "f = '/Users/adam/Desktop/TwitterDataAnalysisLogs/master.db'\n",
    "conn = sqlite3.connect(f)\n",
    "r = conn.execute(\"select count(word) from word_map_deux\")\n",
    "print(r.fetchone())\n",
    "conn.close()"
   ]
  },
  {
   "cell_type": "code",
   "execution_count": null,
   "metadata": {},
   "outputs": [],
   "source": []
  },
  {
   "cell_type": "markdown",
   "metadata": {
    "ExecuteTime": {
     "end_time": "2018-04-23T23:03:33.679725Z",
     "start_time": "2018-04-23T23:03:33.676906Z"
    }
   },
   "source": [
    "# Timing"
   ]
  },
  {
   "cell_type": "code",
   "execution_count": null,
   "metadata": {
    "ExecuteTime": {
     "end_time": "2018-04-24T00:20:00.442251Z",
     "start_time": "2018-04-24T00:20:00.431269Z"
    }
   },
   "outputs": [],
   "source": [
    "%cd twitteranalysis\n",
    "\n",
    "from functools import wraps\n",
    "import time\n",
    "\n",
    "from Loggers.CsvLoggers import log_query, log_query_timestamp\n",
    "import environment\n",
    "\n",
    "\n",
    "def time_and_log(fn):\n",
    "    \"\"\"\n",
    "    Decorator to time operation of method\n",
    "    From High Performance Python, p.27\n",
    "    \"\"\"\n",
    "    @wraps(fn)\n",
    "    def measure_time(*args, **kwargs):\n",
    "        t1 = time.time()\n",
    "        result = fn(*args, **kwargs)\n",
    "        t2 = time.time()\n",
    "        t2 = time.time()\n",
    "        elapsed = t2 - t1\n",
    "        log_query( elapsed )\n",
    "        log_query_timestamp()\n",
    "#         print((\"@timefn:%s took %s seconds\" % (fn.__name__, elapsed)))\n",
    "        return result\n",
    "    return measure_time\n"
   ]
  },
  {
   "cell_type": "code",
   "execution_count": null,
   "metadata": {
    "ExecuteTime": {
     "end_time": "2018-04-24T00:20:00.450150Z",
     "start_time": "2018-04-24T00:20:00.446521Z"
    }
   },
   "outputs": [],
   "source": [
    "\n",
    "@time_and_log\n",
    "def test():\n",
    "    time.sleep(2)\n",
    "    print('done')\n",
    "    "
   ]
  },
  {
   "cell_type": "code",
   "execution_count": null,
   "metadata": {
    "ExecuteTime": {
     "end_time": "2018-04-24T00:20:02.464949Z",
     "start_time": "2018-04-24T00:20:00.454176Z"
    }
   },
   "outputs": [],
   "source": [
    "test()"
   ]
  },
  {
   "cell_type": "code",
   "execution_count": null,
   "metadata": {},
   "outputs": [],
   "source": []
  }
 ],
 "metadata": {
  "celltoolbar": "Raw Cell Format",
  "kernelspec": {
   "display_name": "Python 3",
   "language": "python",
   "name": "python3"
  },
  "language_info": {
   "codemirror_mode": {
    "name": "ipython",
    "version": 3
   },
   "file_extension": ".py",
   "mimetype": "text/x-python",
   "name": "python",
   "nbconvert_exporter": "python",
   "pygments_lexer": "ipython3",
   "version": "3.6.4"
  },
  "toc": {
   "colors": {
    "hover_highlight": "#DAA520",
    "navigate_num": "#000000",
    "navigate_text": "#333333",
    "running_highlight": "#FF0000",
    "selected_highlight": "#FFD700",
    "sidebar_border": "#EEEEEE",
    "wrapper_background": "#FFFFFF"
   },
   "moveMenuLeft": true,
   "nav_menu": {
    "height": "12px",
    "width": "252px"
   },
   "navigate_menu": true,
   "number_sections": true,
   "sideBar": true,
   "threshold": 4,
   "toc_cell": false,
   "toc_section_display": "block",
   "toc_window_display": false,
   "widenNotebook": false
  }
 },
 "nbformat": 4,
 "nbformat_minor": 2
}
