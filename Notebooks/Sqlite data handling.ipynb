{
 "cells": [
  {
   "cell_type": "markdown",
   "metadata": {},
   "source": [
    "# Initialize database files"
   ]
  },
  {
   "cell_type": "code",
   "execution_count": null,
   "metadata": {
    "ExecuteTime": {
     "end_time": "2018-04-25T01:38:36.247209Z",
     "start_time": "2018-04-25T01:38:36.237339Z"
    }
   },
   "outputs": [],
   "source": [
    "%cd twitteranalysis\n",
    "import environment\n",
    "import sqlite3\n",
    "\n",
    "g = environment.sqlite_file_connection_string_generator()\n",
    "query = \"\"\"CREATE TABLE `word_map_deux` (\n",
    "`tweet_id` int(20) DEFAULT NULL,\n",
    "  `user_id` int(20) DEFAULT NULL,\n",
    "  `word` varchar(200) DEFAULT NULL,\n",
    "  `sentence_index` int(11) DEFAULT NULL,\n",
    "  `word_index` int(11) DEFAULT NULL)\"\"\"\n",
    "\n",
    "# Make master db and tables\n",
    "import sqlite3\n",
    "\n",
    "# make individual tables\n",
    "def initialize_working_tables():\n",
    "    for i in range(0, environment.MAX_DB_FILES +1):\n",
    "        try:\n",
    "            f = '%s/wordmapping%s.db' % (environment.DB_FOLDER, i)\n",
    "            conn = sqlite3.connect(f)\n",
    "            conn.execute(query)\n",
    "            conn.commit()\n",
    "            conn.close()\n",
    "        except:\n",
    "            pass\n",
    "\n",
    "def initialize_master_db():\n",
    "    try:\n",
    "        conn = sqlite3.connect(environment.MASTER_DB)\n",
    "        conn.execute(query)\n",
    "        conn.commit()\n",
    "        conn.close()\n",
    "    except:\n",
    "        pass"
   ]
  },
  {
   "cell_type": "code",
   "execution_count": null,
   "metadata": {
    "ExecuteTime": {
     "end_time": "2018-04-25T01:38:39.117179Z",
     "start_time": "2018-04-25T01:38:39.113586Z"
    }
   },
   "outputs": [],
   "source": [
    "initialize_master_db()"
   ]
  },
  {
   "cell_type": "code",
   "execution_count": null,
   "metadata": {
    "ExecuteTime": {
     "end_time": "2018-04-25T01:38:39.567734Z",
     "start_time": "2018-04-25T01:38:39.558291Z"
    }
   },
   "outputs": [],
   "source": [
    "initialize_working_tables()"
   ]
  },
  {
   "cell_type": "code",
   "execution_count": null,
   "metadata": {
    "ExecuteTime": {
     "end_time": "2018-04-24T20:54:54.725293Z",
     "start_time": "2018-04-24T20:54:54.722266Z"
    }
   },
   "outputs": [],
   "source": [
    "\n"
   ]
  },
  {
   "cell_type": "markdown",
   "metadata": {},
   "source": [
    "# Run the user parser"
   ]
  },
  {
   "cell_type": "code",
   "execution_count": 1,
   "metadata": {
    "ExecuteTime": {
     "end_time": "2018-04-27T01:10:47.204666Z",
     "start_time": "2018-04-27T01:10:16.958570Z"
    },
    "scrolled": true
   },
   "outputs": [
    {
     "name": "stdout",
     "output_type": "stream",
     "text": [
      "(bookmark:twitteranalysis) -> /Users/adam/Dropbox/PainNarrativesLab/TwitterDataAnalysis\n",
      "/Users/adam/Dropbox/PainNarrativesLab/TwitterDataAnalysis\n",
      "connection ready\n",
      "4352 users processed (not nec done)\n",
      "\n",
      "    profiles tasked: 4352 \n",
      "\n",
      "    profiles processed: 4353 \n",
      " \n",
      "    elapsed seconds: 29.57918691635132 \n",
      "\n",
      "    seconds each: 0.006796688170117491 \n",
      "\n",
      "    \n"
     ]
    },
    {
     "name": "stderr",
     "output_type": "stream",
     "text": [
      "Future exception was never retrieved\n",
      "future: <Future finished exception=HTTP 599: Timeout while connecting>\n",
      "Traceback (most recent call last):\n",
      "  File \"/Users/adam/.pyenv/versions/3.4.3/lib/python3.4/site-packages/tornado/gen.py\", line 1107, in run\n",
      "    yielded = self.gen.throw(*exc_info)\n",
      "  File \"/Users/adam/Dropbox/PainNarrativesLab/TwitterDataAnalysis/Servers/ClientSide.py\", line 133, in enque\n",
      "    response = yield self.client.send( b )\n",
      "  File \"/Users/adam/.pyenv/versions/3.4.3/lib/python3.4/site-packages/tornado/gen.py\", line 1099, in run\n",
      "    value = future.result()\n",
      "  File \"/Users/adam/.pyenv/versions/3.4.3/lib/python3.4/asyncio/futures.py\", line 275, in result\n",
      "    raise self._exception\n",
      "  File \"/Users/adam/.pyenv/versions/3.4.3/lib/python3.4/site-packages/tornado/gen.py\", line 1107, in run\n",
      "    yielded = self.gen.throw(*exc_info)\n",
      "  File \"/Users/adam/Dropbox/PainNarrativesLab/TwitterDataAnalysis/Servers/ClientSide.py\", line 79, in send\n",
      "    response = yield self.http_client.fetch( self.url, method=\"POST\", body=payload )\n",
      "  File \"/Users/adam/.pyenv/versions/3.4.3/lib/python3.4/site-packages/tornado/gen.py\", line 1099, in run\n",
      "    value = future.result()\n",
      "  File \"/Users/adam/.pyenv/versions/3.4.3/lib/python3.4/asyncio/futures.py\", line 275, in result\n",
      "    raise self._exception\n",
      "  File \"/Users/adam/.pyenv/versions/3.4.3/lib/python3.4/site-packages/tornado/stack_context.py\", line 315, in wrapped\n",
      "    ret = fn(*args, **kwargs)\n",
      "  File \"/Users/adam/.pyenv/versions/3.4.3/lib/python3.4/site-packages/tornado/simple_httpclient.py\", line 271, in _on_timeout\n",
      "    raise HTTPError(599, error_message)\n",
      "tornado.httpclient.HTTPError: HTTP 599: Timeout while connecting\n",
      "Future exception was never retrieved\n",
      "future: <Future finished exception=HTTP 599: Timeout while connecting>\n",
      "Traceback (most recent call last):\n",
      "  File \"/Users/adam/.pyenv/versions/3.4.3/lib/python3.4/site-packages/tornado/gen.py\", line 1107, in run\n",
      "    yielded = self.gen.throw(*exc_info)\n",
      "  File \"/Users/adam/Dropbox/PainNarrativesLab/TwitterDataAnalysis/Servers/ClientSide.py\", line 133, in enque\n",
      "    response = yield self.client.send( b )\n",
      "  File \"/Users/adam/.pyenv/versions/3.4.3/lib/python3.4/site-packages/tornado/gen.py\", line 1099, in run\n",
      "    value = future.result()\n",
      "  File \"/Users/adam/.pyenv/versions/3.4.3/lib/python3.4/asyncio/futures.py\", line 275, in result\n",
      "    raise self._exception\n",
      "  File \"/Users/adam/.pyenv/versions/3.4.3/lib/python3.4/site-packages/tornado/gen.py\", line 1107, in run\n",
      "    yielded = self.gen.throw(*exc_info)\n",
      "  File \"/Users/adam/Dropbox/PainNarrativesLab/TwitterDataAnalysis/Servers/ClientSide.py\", line 79, in send\n",
      "    response = yield self.http_client.fetch( self.url, method=\"POST\", body=payload )\n",
      "  File \"/Users/adam/.pyenv/versions/3.4.3/lib/python3.4/site-packages/tornado/gen.py\", line 1099, in run\n",
      "    value = future.result()\n",
      "  File \"/Users/adam/.pyenv/versions/3.4.3/lib/python3.4/asyncio/futures.py\", line 275, in result\n",
      "    raise self._exception\n",
      "  File \"/Users/adam/.pyenv/versions/3.4.3/lib/python3.4/site-packages/tornado/stack_context.py\", line 315, in wrapped\n",
      "    ret = fn(*args, **kwargs)\n",
      "  File \"/Users/adam/.pyenv/versions/3.4.3/lib/python3.4/site-packages/tornado/simple_httpclient.py\", line 271, in _on_timeout\n",
      "    raise HTTPError(599, error_message)\n",
      "tornado.httpclient.HTTPError: HTTP 599: Timeout while connecting\n",
      "Future exception was never retrieved\n",
      "future: <Future finished exception=HTTP 599: Timeout while connecting>\n",
      "Traceback (most recent call last):\n",
      "  File \"/Users/adam/.pyenv/versions/3.4.3/lib/python3.4/site-packages/tornado/gen.py\", line 1107, in run\n",
      "    yielded = self.gen.throw(*exc_info)\n",
      "  File \"/Users/adam/Dropbox/PainNarrativesLab/TwitterDataAnalysis/Servers/ClientSide.py\", line 133, in enque\n",
      "    response = yield self.client.send( b )\n",
      "  File \"/Users/adam/.pyenv/versions/3.4.3/lib/python3.4/site-packages/tornado/gen.py\", line 1099, in run\n",
      "    value = future.result()\n",
      "  File \"/Users/adam/.pyenv/versions/3.4.3/lib/python3.4/asyncio/futures.py\", line 275, in result\n",
      "    raise self._exception\n",
      "  File \"/Users/adam/.pyenv/versions/3.4.3/lib/python3.4/site-packages/tornado/gen.py\", line 1107, in run\n",
      "    yielded = self.gen.throw(*exc_info)\n",
      "  File \"/Users/adam/Dropbox/PainNarrativesLab/TwitterDataAnalysis/Servers/ClientSide.py\", line 79, in send\n",
      "    response = yield self.http_client.fetch( self.url, method=\"POST\", body=payload )\n",
      "  File \"/Users/adam/.pyenv/versions/3.4.3/lib/python3.4/site-packages/tornado/gen.py\", line 1099, in run\n",
      "    value = future.result()\n",
      "  File \"/Users/adam/.pyenv/versions/3.4.3/lib/python3.4/asyncio/futures.py\", line 275, in result\n",
      "    raise self._exception\n",
      "  File \"/Users/adam/.pyenv/versions/3.4.3/lib/python3.4/site-packages/tornado/stack_context.py\", line 315, in wrapped\n",
      "    ret = fn(*args, **kwargs)\n",
      "  File \"/Users/adam/.pyenv/versions/3.4.3/lib/python3.4/site-packages/tornado/simple_httpclient.py\", line 271, in _on_timeout\n",
      "    raise HTTPError(599, error_message)\n",
      "tornado.httpclient.HTTPError: HTTP 599: Timeout while connecting\n",
      "Future exception was never retrieved\n",
      "future: <Future finished exception=HTTP 599: Timeout while connecting>\n",
      "Traceback (most recent call last):\n",
      "  File \"/Users/adam/.pyenv/versions/3.4.3/lib/python3.4/site-packages/tornado/gen.py\", line 1107, in run\n",
      "    yielded = self.gen.throw(*exc_info)\n",
      "  File \"/Users/adam/Dropbox/PainNarrativesLab/TwitterDataAnalysis/Servers/ClientSide.py\", line 133, in enque\n",
      "    response = yield self.client.send( b )\n",
      "  File \"/Users/adam/.pyenv/versions/3.4.3/lib/python3.4/site-packages/tornado/gen.py\", line 1099, in run\n",
      "    value = future.result()\n",
      "  File \"/Users/adam/.pyenv/versions/3.4.3/lib/python3.4/asyncio/futures.py\", line 275, in result\n",
      "    raise self._exception\n",
      "  File \"/Users/adam/.pyenv/versions/3.4.3/lib/python3.4/site-packages/tornado/gen.py\", line 1107, in run\n",
      "    yielded = self.gen.throw(*exc_info)\n",
      "  File \"/Users/adam/Dropbox/PainNarrativesLab/TwitterDataAnalysis/Servers/ClientSide.py\", line 79, in send\n",
      "    response = yield self.http_client.fetch( self.url, method=\"POST\", body=payload )\n",
      "  File \"/Users/adam/.pyenv/versions/3.4.3/lib/python3.4/site-packages/tornado/gen.py\", line 1099, in run\n",
      "    value = future.result()\n",
      "  File \"/Users/adam/.pyenv/versions/3.4.3/lib/python3.4/asyncio/futures.py\", line 275, in result\n",
      "    raise self._exception\n",
      "  File \"/Users/adam/.pyenv/versions/3.4.3/lib/python3.4/site-packages/tornado/stack_context.py\", line 315, in wrapped\n",
      "    ret = fn(*args, **kwargs)\n",
      "  File \"/Users/adam/.pyenv/versions/3.4.3/lib/python3.4/site-packages/tornado/simple_httpclient.py\", line 271, in _on_timeout\n",
      "    raise HTTPError(599, error_message)\n",
      "tornado.httpclient.HTTPError: HTTP 599: Timeout while connecting\n",
      "Future exception was never retrieved\n",
      "future: <Future finished exception=HTTP 599: Timeout while connecting>\n",
      "Traceback (most recent call last):\n",
      "  File \"/Users/adam/.pyenv/versions/3.4.3/lib/python3.4/site-packages/tornado/gen.py\", line 1107, in run\n",
      "    yielded = self.gen.throw(*exc_info)\n",
      "  File \"/Users/adam/Dropbox/PainNarrativesLab/TwitterDataAnalysis/Servers/ClientSide.py\", line 133, in enque\n",
      "    response = yield self.client.send( b )\n",
      "  File \"/Users/adam/.pyenv/versions/3.4.3/lib/python3.4/site-packages/tornado/gen.py\", line 1099, in run\n",
      "    value = future.result()\n",
      "  File \"/Users/adam/.pyenv/versions/3.4.3/lib/python3.4/asyncio/futures.py\", line 275, in result\n",
      "    raise self._exception\n",
      "  File \"/Users/adam/.pyenv/versions/3.4.3/lib/python3.4/site-packages/tornado/gen.py\", line 1107, in run\n",
      "    yielded = self.gen.throw(*exc_info)\n",
      "  File \"/Users/adam/Dropbox/PainNarrativesLab/TwitterDataAnalysis/Servers/ClientSide.py\", line 79, in send\n",
      "    response = yield self.http_client.fetch( self.url, method=\"POST\", body=payload )\n",
      "  File \"/Users/adam/.pyenv/versions/3.4.3/lib/python3.4/site-packages/tornado/gen.py\", line 1099, in run\n",
      "    value = future.result()\n",
      "  File \"/Users/adam/.pyenv/versions/3.4.3/lib/python3.4/asyncio/futures.py\", line 275, in result\n",
      "    raise self._exception\n",
      "  File \"/Users/adam/.pyenv/versions/3.4.3/lib/python3.4/site-packages/tornado/stack_context.py\", line 315, in wrapped\n",
      "    ret = fn(*args, **kwargs)\n",
      "  File \"/Users/adam/.pyenv/versions/3.4.3/lib/python3.4/site-packages/tornado/simple_httpclient.py\", line 271, in _on_timeout\n",
      "    raise HTTPError(599, error_message)\n",
      "tornado.httpclient.HTTPError: HTTP 599: Timeout while connecting\n"
     ]
    },
    {
     "name": "stderr",
     "output_type": "stream",
     "text": [
      "Future exception was never retrieved\n",
      "future: <Future finished exception=HTTP 599: Timeout while connecting>\n",
      "Traceback (most recent call last):\n",
      "  File \"/Users/adam/.pyenv/versions/3.4.3/lib/python3.4/site-packages/tornado/gen.py\", line 1107, in run\n",
      "    yielded = self.gen.throw(*exc_info)\n",
      "  File \"/Users/adam/Dropbox/PainNarrativesLab/TwitterDataAnalysis/Servers/ClientSide.py\", line 133, in enque\n",
      "    response = yield self.client.send( b )\n",
      "  File \"/Users/adam/.pyenv/versions/3.4.3/lib/python3.4/site-packages/tornado/gen.py\", line 1099, in run\n",
      "    value = future.result()\n",
      "  File \"/Users/adam/.pyenv/versions/3.4.3/lib/python3.4/asyncio/futures.py\", line 275, in result\n",
      "    raise self._exception\n",
      "  File \"/Users/adam/.pyenv/versions/3.4.3/lib/python3.4/site-packages/tornado/gen.py\", line 1107, in run\n",
      "    yielded = self.gen.throw(*exc_info)\n",
      "  File \"/Users/adam/Dropbox/PainNarrativesLab/TwitterDataAnalysis/Servers/ClientSide.py\", line 79, in send\n",
      "    response = yield self.http_client.fetch( self.url, method=\"POST\", body=payload )\n",
      "  File \"/Users/adam/.pyenv/versions/3.4.3/lib/python3.4/site-packages/tornado/gen.py\", line 1099, in run\n",
      "    value = future.result()\n",
      "  File \"/Users/adam/.pyenv/versions/3.4.3/lib/python3.4/asyncio/futures.py\", line 275, in result\n",
      "    raise self._exception\n",
      "  File \"/Users/adam/.pyenv/versions/3.4.3/lib/python3.4/site-packages/tornado/stack_context.py\", line 315, in wrapped\n",
      "    ret = fn(*args, **kwargs)\n",
      "  File \"/Users/adam/.pyenv/versions/3.4.3/lib/python3.4/site-packages/tornado/simple_httpclient.py\", line 271, in _on_timeout\n",
      "    raise HTTPError(599, error_message)\n",
      "tornado.httpclient.HTTPError: HTTP 599: Timeout while connecting\n",
      "Future exception was never retrieved\n",
      "future: <Future finished exception=HTTP 599: Timeout while connecting>\n",
      "Traceback (most recent call last):\n",
      "  File \"/Users/adam/.pyenv/versions/3.4.3/lib/python3.4/site-packages/tornado/gen.py\", line 1107, in run\n",
      "    yielded = self.gen.throw(*exc_info)\n",
      "  File \"/Users/adam/Dropbox/PainNarrativesLab/TwitterDataAnalysis/Servers/ClientSide.py\", line 133, in enque\n",
      "    response = yield self.client.send( b )\n",
      "  File \"/Users/adam/.pyenv/versions/3.4.3/lib/python3.4/site-packages/tornado/gen.py\", line 1099, in run\n",
      "    value = future.result()\n",
      "  File \"/Users/adam/.pyenv/versions/3.4.3/lib/python3.4/asyncio/futures.py\", line 275, in result\n",
      "    raise self._exception\n",
      "  File \"/Users/adam/.pyenv/versions/3.4.3/lib/python3.4/site-packages/tornado/gen.py\", line 1107, in run\n",
      "    yielded = self.gen.throw(*exc_info)\n",
      "  File \"/Users/adam/Dropbox/PainNarrativesLab/TwitterDataAnalysis/Servers/ClientSide.py\", line 79, in send\n",
      "    response = yield self.http_client.fetch( self.url, method=\"POST\", body=payload )\n",
      "  File \"/Users/adam/.pyenv/versions/3.4.3/lib/python3.4/site-packages/tornado/gen.py\", line 1099, in run\n",
      "    value = future.result()\n",
      "  File \"/Users/adam/.pyenv/versions/3.4.3/lib/python3.4/asyncio/futures.py\", line 275, in result\n",
      "    raise self._exception\n",
      "  File \"/Users/adam/.pyenv/versions/3.4.3/lib/python3.4/site-packages/tornado/stack_context.py\", line 315, in wrapped\n",
      "    ret = fn(*args, **kwargs)\n",
      "  File \"/Users/adam/.pyenv/versions/3.4.3/lib/python3.4/site-packages/tornado/simple_httpclient.py\", line 271, in _on_timeout\n",
      "    raise HTTPError(599, error_message)\n",
      "tornado.httpclient.HTTPError: HTTP 599: Timeout while connecting\n",
      "Future exception was never retrieved\n",
      "future: <Future finished exception=HTTP 599: Timeout while connecting>\n",
      "Traceback (most recent call last):\n",
      "  File \"/Users/adam/.pyenv/versions/3.4.3/lib/python3.4/site-packages/tornado/gen.py\", line 1107, in run\n",
      "    yielded = self.gen.throw(*exc_info)\n",
      "  File \"/Users/adam/Dropbox/PainNarrativesLab/TwitterDataAnalysis/Servers/ClientSide.py\", line 133, in enque\n",
      "    response = yield self.client.send( b )\n",
      "  File \"/Users/adam/.pyenv/versions/3.4.3/lib/python3.4/site-packages/tornado/gen.py\", line 1099, in run\n",
      "    value = future.result()\n",
      "  File \"/Users/adam/.pyenv/versions/3.4.3/lib/python3.4/asyncio/futures.py\", line 275, in result\n",
      "    raise self._exception\n",
      "  File \"/Users/adam/.pyenv/versions/3.4.3/lib/python3.4/site-packages/tornado/gen.py\", line 1107, in run\n",
      "    yielded = self.gen.throw(*exc_info)\n",
      "  File \"/Users/adam/Dropbox/PainNarrativesLab/TwitterDataAnalysis/Servers/ClientSide.py\", line 79, in send\n",
      "    response = yield self.http_client.fetch( self.url, method=\"POST\", body=payload )\n",
      "  File \"/Users/adam/.pyenv/versions/3.4.3/lib/python3.4/site-packages/tornado/gen.py\", line 1099, in run\n",
      "    value = future.result()\n",
      "  File \"/Users/adam/.pyenv/versions/3.4.3/lib/python3.4/asyncio/futures.py\", line 275, in result\n",
      "    raise self._exception\n",
      "  File \"/Users/adam/.pyenv/versions/3.4.3/lib/python3.4/site-packages/tornado/stack_context.py\", line 315, in wrapped\n",
      "    ret = fn(*args, **kwargs)\n",
      "  File \"/Users/adam/.pyenv/versions/3.4.3/lib/python3.4/site-packages/tornado/simple_httpclient.py\", line 271, in _on_timeout\n",
      "    raise HTTPError(599, error_message)\n",
      "tornado.httpclient.HTTPError: HTTP 599: Timeout while connecting\n",
      "Future exception was never retrieved\n",
      "future: <Future finished exception=HTTP 599: Timeout while connecting>\n",
      "Traceback (most recent call last):\n",
      "  File \"/Users/adam/.pyenv/versions/3.4.3/lib/python3.4/site-packages/tornado/gen.py\", line 1107, in run\n",
      "    yielded = self.gen.throw(*exc_info)\n",
      "  File \"/Users/adam/Dropbox/PainNarrativesLab/TwitterDataAnalysis/Servers/ClientSide.py\", line 133, in enque\n",
      "    response = yield self.client.send( b )\n",
      "  File \"/Users/adam/.pyenv/versions/3.4.3/lib/python3.4/site-packages/tornado/gen.py\", line 1099, in run\n",
      "    value = future.result()\n",
      "  File \"/Users/adam/.pyenv/versions/3.4.3/lib/python3.4/asyncio/futures.py\", line 275, in result\n",
      "    raise self._exception\n",
      "  File \"/Users/adam/.pyenv/versions/3.4.3/lib/python3.4/site-packages/tornado/gen.py\", line 1107, in run\n",
      "    yielded = self.gen.throw(*exc_info)\n",
      "  File \"/Users/adam/Dropbox/PainNarrativesLab/TwitterDataAnalysis/Servers/ClientSide.py\", line 79, in send\n",
      "    response = yield self.http_client.fetch( self.url, method=\"POST\", body=payload )\n",
      "  File \"/Users/adam/.pyenv/versions/3.4.3/lib/python3.4/site-packages/tornado/gen.py\", line 1099, in run\n",
      "    value = future.result()\n",
      "  File \"/Users/adam/.pyenv/versions/3.4.3/lib/python3.4/asyncio/futures.py\", line 275, in result\n",
      "    raise self._exception\n",
      "  File \"/Users/adam/.pyenv/versions/3.4.3/lib/python3.4/site-packages/tornado/stack_context.py\", line 315, in wrapped\n",
      "    ret = fn(*args, **kwargs)\n",
      "  File \"/Users/adam/.pyenv/versions/3.4.3/lib/python3.4/site-packages/tornado/simple_httpclient.py\", line 271, in _on_timeout\n",
      "    raise HTTPError(599, error_message)\n",
      "tornado.httpclient.HTTPError: HTTP 599: Timeout while connecting\n",
      "Future exception was never retrieved\n",
      "future: <Future finished exception=HTTP 599: Timeout while connecting>\n",
      "Traceback (most recent call last):\n",
      "  File \"/Users/adam/.pyenv/versions/3.4.3/lib/python3.4/site-packages/tornado/gen.py\", line 1107, in run\n",
      "    yielded = self.gen.throw(*exc_info)\n",
      "  File \"/Users/adam/Dropbox/PainNarrativesLab/TwitterDataAnalysis/Servers/ClientSide.py\", line 133, in enque\n",
      "    response = yield self.client.send( b )\n",
      "  File \"/Users/adam/.pyenv/versions/3.4.3/lib/python3.4/site-packages/tornado/gen.py\", line 1099, in run\n",
      "    value = future.result()\n",
      "  File \"/Users/adam/.pyenv/versions/3.4.3/lib/python3.4/asyncio/futures.py\", line 275, in result\n",
      "    raise self._exception\n",
      "  File \"/Users/adam/.pyenv/versions/3.4.3/lib/python3.4/site-packages/tornado/gen.py\", line 1107, in run\n",
      "    yielded = self.gen.throw(*exc_info)\n",
      "  File \"/Users/adam/Dropbox/PainNarrativesLab/TwitterDataAnalysis/Servers/ClientSide.py\", line 79, in send\n",
      "    response = yield self.http_client.fetch( self.url, method=\"POST\", body=payload )\n",
      "  File \"/Users/adam/.pyenv/versions/3.4.3/lib/python3.4/site-packages/tornado/gen.py\", line 1099, in run\n",
      "    value = future.result()\n",
      "  File \"/Users/adam/.pyenv/versions/3.4.3/lib/python3.4/asyncio/futures.py\", line 275, in result\n",
      "    raise self._exception\n",
      "  File \"/Users/adam/.pyenv/versions/3.4.3/lib/python3.4/site-packages/tornado/stack_context.py\", line 315, in wrapped\n",
      "    ret = fn(*args, **kwargs)\n",
      "  File \"/Users/adam/.pyenv/versions/3.4.3/lib/python3.4/site-packages/tornado/simple_httpclient.py\", line 271, in _on_timeout\n",
      "    raise HTTPError(599, error_message)\n",
      "tornado.httpclient.HTTPError: HTTP 599: Timeout while connecting\n"
     ]
    }
   ],
   "source": [
    "%cd twitteranalysis\n",
    "%run -i Executables/process_user_descriptions_into_words.py\n"
   ]
  },
  {
   "cell_type": "code",
   "execution_count": null,
   "metadata": {
    "ExecuteTime": {
     "end_time": "2018-04-25T00:36:16.570961Z",
     "start_time": "2018-04-25T00:36:10.402149Z"
    }
   },
   "outputs": [],
   "source": [
    "%cd twitteranalysis\n",
    "from Executables.process_user_descriptions_into_words import main\n",
    "main()\n"
   ]
  },
  {
   "cell_type": "code",
   "execution_count": null,
   "metadata": {
    "ExecuteTime": {
     "end_time": "2018-04-25T00:35:12.218678Z",
     "start_time": "2018-04-25T00:35:12.213804Z"
    }
   },
   "outputs": [],
   "source": [
    "%cd twitteranalysis\n",
    "\n",
    "from Servers.ClientSide import Client\n",
    "c = Client()"
   ]
  },
  {
   "cell_type": "code",
   "execution_count": null,
   "metadata": {
    "ExecuteTime": {
     "end_time": "2018-04-25T00:35:12.811173Z",
     "start_time": "2018-04-25T00:35:12.802491Z"
    }
   },
   "outputs": [],
   "source": [
    "# Each of the listening request handlers needs its queue flushed\n",
    "c.send_flush_command()"
   ]
  },
  {
   "cell_type": "code",
   "execution_count": null,
   "metadata": {
    "ExecuteTime": {
     "end_time": "2018-04-25T00:35:14.070489Z",
     "start_time": "2018-04-25T00:35:14.067004Z"
    }
   },
   "outputs": [],
   "source": [
    "c.send_shutdown_command()"
   ]
  },
  {
   "cell_type": "code",
   "execution_count": null,
   "metadata": {},
   "outputs": [],
   "source": []
  },
  {
   "cell_type": "code",
   "execution_count": null,
   "metadata": {},
   "outputs": [],
   "source": []
  },
  {
   "cell_type": "markdown",
   "metadata": {},
   "source": [
    "# Merge the various sqlite files"
   ]
  },
  {
   "cell_type": "code",
   "execution_count": null,
   "metadata": {
    "ExecuteTime": {
     "end_time": "2018-04-24T22:55:32.950432Z",
     "start_time": "2018-04-24T22:55:32.901844Z"
    }
   },
   "outputs": [],
   "source": [
    "\n",
    "%cd twitteranalysis\n",
    "import environment\n",
    "import sqlite3\n",
    "\n",
    "mainDB = environment.MASTER_DB\n",
    "columnNames = \"word_index, sentence_index, word, user_id, tweet_id\"\n",
    "    \n",
    "otherDbNames = [ 'wordmapping%s.db' % (i) \n",
    "            for i in range( 0, environment.MAX_DB_FILES +1)]\n",
    "\n",
    "otherDBs = [ '%s/%s' % (environment.DB_FOLDER, name) \n",
    "            for name in otherDbNames]\n",
    "    \n",
    "for db in otherDbNames:\n",
    "    conn = sqlite3.connect( mainDB )  # Connect to the main database\n",
    "    curs = conn.cursor()  # Connect a cursor\n",
    "    \n",
    "    dbPath = '%s/%s' % (environment.DB_FOLDER, db)\n",
    "    curs.execute( \"ATTACH DATABASE ? as ? ;\", (dbPath, 'db') )\n",
    "\n",
    "    dbNameTableName = \"db.word_map_deux\"\n",
    "    tableName = 'word_map_deux'\n",
    "    curs.execute( \"INSERT INTO %s (%s) SELECT %s FROM %s;\" % (tableName, columnNames, columnNames, dbNameTableName) )\n",
    "    conn.commit()\n",
    "    curs.close()\n",
    "    conn.close()\n"
   ]
  },
  {
   "cell_type": "code",
   "execution_count": null,
   "metadata": {},
   "outputs": [],
   "source": []
  },
  {
   "cell_type": "code",
   "execution_count": null,
   "metadata": {},
   "outputs": [],
   "source": []
  },
  {
   "cell_type": "markdown",
   "metadata": {
    "ExecuteTime": {
     "end_time": "2018-04-21T01:41:48.507100Z",
     "start_time": "2018-04-21T01:41:48.503056Z"
    }
   },
   "source": [
    "# Check data"
   ]
  },
  {
   "cell_type": "code",
   "execution_count": null,
   "metadata": {
    "ExecuteTime": {
     "end_time": "2018-04-24T22:55:36.775801Z",
     "start_time": "2018-04-24T22:55:36.771158Z"
    }
   },
   "outputs": [],
   "source": [
    "%cd twitteranalysis\n",
    "import environment\n",
    "import sqlite3"
   ]
  },
  {
   "cell_type": "code",
   "execution_count": null,
   "metadata": {
    "ExecuteTime": {
     "end_time": "2018-04-24T22:55:37.416442Z",
     "start_time": "2018-04-24T22:55:37.392459Z"
    }
   },
   "outputs": [],
   "source": [
    "conn = sqlite3.connect(environment.MASTER_DB)\n",
    "r1 = conn.execute(\"select count( distinct user_id) from word_map_deux\")\n",
    "print(\"%s Unique user ids\" % r1.fetchone())\n",
    "r2 = conn.execute(\"select count( word) from word_map_deux\")\n",
    "print(\"%s rows in master.db\" % r2.fetchone())\n",
    "conn.close()"
   ]
  },
  {
   "cell_type": "markdown",
   "metadata": {},
   "source": [
    "Before changed to class method w separate call to flush\n",
    "    3591 Unique user ids\n",
    "    47952 rows in master.db\n",
    "\n",
    "After\n",
    "    4014 Unique user ids\n",
    "    67940 rows in master.db\n",
    "    \n",
    "NB: \n",
    "    numberUsers processed = 4352\n",
    "\n",
    "    users w empty descriptions = 332\n",
    "    \n",
    "    users non-english = 129"
   ]
  },
  {
   "cell_type": "code",
   "execution_count": null,
   "metadata": {
    "ExecuteTime": {
     "end_time": "2018-04-24T01:45:15.506569Z",
     "start_time": "2018-04-24T01:45:15.495315Z"
    }
   },
   "outputs": [],
   "source": [
    "4014+332"
   ]
  },
  {
   "cell_type": "code",
   "execution_count": null,
   "metadata": {},
   "outputs": [],
   "source": []
  },
  {
   "cell_type": "code",
   "execution_count": null,
   "metadata": {
    "ExecuteTime": {
     "end_time": "2018-04-24T00:20:00.291092Z",
     "start_time": "2018-04-24T00:20:00.279946Z"
    }
   },
   "outputs": [],
   "source": [
    "conn = sqlite3.connect(environment.MASTER_DB)\n",
    "r1 = conn.execute(\"select user_id, count(word) from word_map_deux group by user_id \")\n",
    "print( r1.fetchone())\n",
    "conn.close()"
   ]
  },
  {
   "cell_type": "code",
   "execution_count": null,
   "metadata": {
    "ExecuteTime": {
     "end_time": "2018-04-24T01:37:28.570035Z",
     "start_time": "2018-04-24T01:37:28.484182Z"
    }
   },
   "outputs": [],
   "source": [
    "conn = sqlite3.connect(environment.MASTER_DB)\n",
    "curs = conn.cursor()  # Connect a cursor\n",
    "    \n",
    "r1 = curs.execute(\"select * from word_map_deux where user_id = 1460971\")\n",
    "# for i in range(0, 100):\n",
    "#     print( r1.fetchone())\n",
    "\n",
    "curs.close()"
   ]
  },
  {
   "cell_type": "code",
   "execution_count": null,
   "metadata": {
    "ExecuteTime": {
     "end_time": "2018-04-24T00:20:00.317545Z",
     "start_time": "2018-04-24T00:20:00.304443Z"
    }
   },
   "outputs": [],
   "source": [
    "\"\"\"The above tells me that the problem is the whole store getting sent to the server\"\"\""
   ]
  },
  {
   "cell_type": "code",
   "execution_count": null,
   "metadata": {},
   "outputs": [],
   "source": []
  },
  {
   "cell_type": "markdown",
   "metadata": {},
   "source": [
    "# Explore data"
   ]
  },
  {
   "cell_type": "code",
   "execution_count": null,
   "metadata": {},
   "outputs": [],
   "source": []
  },
  {
   "cell_type": "code",
   "execution_count": null,
   "metadata": {
    "ExecuteTime": {
     "end_time": "2018-04-24T00:20:00.326107Z",
     "start_time": "2018-04-24T00:20:00.321031Z"
    }
   },
   "outputs": [],
   "source": [
    "def master_row_generator():\n",
    "    conn = sqlite3.connect(environment.MASTER_DB)\n",
    "    r = conn.execute(\"select * from word_map_deux\")\n",
    "    while True:\n",
    "        yield r.fetchone()\n",
    "\n",
    "def db_row_generator(filepath):\n",
    "    conn = sqlite3.connect(filepath)\n",
    "    r = conn.execute(\"select * from word_map_deux\")\n",
    "    while True:\n",
    "        yield r.fetchone()\n"
   ]
  },
  {
   "cell_type": "code",
   "execution_count": null,
   "metadata": {
    "ExecuteTime": {
     "end_time": "2018-04-24T00:20:00.333839Z",
     "start_time": "2018-04-24T00:20:00.329695Z"
    }
   },
   "outputs": [],
   "source": [
    "gen = master_row_generator()"
   ]
  },
  {
   "cell_type": "code",
   "execution_count": null,
   "metadata": {
    "ExecuteTime": {
     "end_time": "2018-04-24T00:20:00.371382Z",
     "start_time": "2018-04-24T00:20:00.337634Z"
    }
   },
   "outputs": [],
   "source": [
    "for i in range(0, 220):\n",
    "    print(next(gen))"
   ]
  },
  {
   "cell_type": "code",
   "execution_count": null,
   "metadata": {
    "ExecuteTime": {
     "end_time": "2018-04-24T00:20:00.395516Z",
     "start_time": "2018-04-24T00:20:00.374929Z"
    }
   },
   "outputs": [],
   "source": [
    "f = '/Users/adam/Desktop/TwitterDataAnalysisLogs/dbs/wordmapping1.db'\n",
    "dgen = db_row_generator(f)\n",
    "for i in range(0, 220):\n",
    "    print(next(dgen))"
   ]
  },
  {
   "cell_type": "code",
   "execution_count": null,
   "metadata": {
    "ExecuteTime": {
     "end_time": "2018-04-24T00:20:00.404343Z",
     "start_time": "2018-04-24T00:20:00.398351Z"
    }
   },
   "outputs": [],
   "source": [
    "f = '/Users/adam/Desktop/TwitterDataAnalysisLogs/dbs/wordmapping1.db'\n",
    "conn = sqlite3.connect(f)\n",
    "r = conn.execute(\"select * from word_map_deux\")\n",
    "for i in range(0, 5):\n",
    "    print(r.fetchone())\n"
   ]
  },
  {
   "cell_type": "code",
   "execution_count": null,
   "metadata": {},
   "outputs": [],
   "source": []
  },
  {
   "cell_type": "code",
   "execution_count": null,
   "metadata": {
    "ExecuteTime": {
     "end_time": "2018-04-24T00:20:00.414091Z",
     "start_time": "2018-04-24T00:20:00.407584Z"
    }
   },
   "outputs": [],
   "source": [
    "f = '/Users/adam/Desktop/TwitterDataAnalysisLogs/dbs/wordmapping9.db'\n",
    "conn = sqlite3.connect(f)\n",
    "r = conn.execute(\"select * from word_map_deux\")\n",
    "for i in range(0, 5):\n",
    "    print(r.fetchone())\n"
   ]
  },
  {
   "cell_type": "code",
   "execution_count": null,
   "metadata": {},
   "outputs": [],
   "source": []
  },
  {
   "cell_type": "code",
   "execution_count": null,
   "metadata": {
    "ExecuteTime": {
     "end_time": "2018-04-24T00:20:00.426822Z",
     "start_time": "2018-04-24T00:20:00.418015Z"
    }
   },
   "outputs": [],
   "source": [
    "\n",
    "f = '/Users/adam/Desktop/TwitterDataAnalysisLogs/master.db'\n",
    "conn = sqlite3.connect(f)\n",
    "r = conn.execute(\"select count(word) from word_map_deux\")\n",
    "print(r.fetchone())\n",
    "conn.close()"
   ]
  },
  {
   "cell_type": "code",
   "execution_count": null,
   "metadata": {},
   "outputs": [],
   "source": []
  },
  {
   "cell_type": "markdown",
   "metadata": {
    "ExecuteTime": {
     "end_time": "2018-04-23T23:03:33.679725Z",
     "start_time": "2018-04-23T23:03:33.676906Z"
    }
   },
   "source": [
    "# Timing"
   ]
  },
  {
   "cell_type": "code",
   "execution_count": null,
   "metadata": {
    "ExecuteTime": {
     "end_time": "2018-04-24T00:20:00.442251Z",
     "start_time": "2018-04-24T00:20:00.431269Z"
    }
   },
   "outputs": [],
   "source": [
    "%cd twitteranalysis\n",
    "\n",
    "from functools import wraps\n",
    "import time\n",
    "\n",
    "from Loggers.CsvLoggers import log_query, log_query_timestamp\n",
    "import environment\n",
    "\n",
    "\n",
    "def time_and_log(fn):\n",
    "    \"\"\"\n",
    "    Decorator to time operation of method\n",
    "    From High Performance Python, p.27\n",
    "    \"\"\"\n",
    "    @wraps(fn)\n",
    "    def measure_time(*args, **kwargs):\n",
    "        t1 = time.time()\n",
    "        result = fn(*args, **kwargs)\n",
    "        t2 = time.time()\n",
    "        t2 = time.time()\n",
    "        elapsed = t2 - t1\n",
    "        log_query( elapsed )\n",
    "        log_query_timestamp()\n",
    "#         print((\"@timefn:%s took %s seconds\" % (fn.__name__, elapsed)))\n",
    "        return result\n",
    "    return measure_time\n"
   ]
  },
  {
   "cell_type": "code",
   "execution_count": null,
   "metadata": {
    "ExecuteTime": {
     "end_time": "2018-04-24T00:20:00.450150Z",
     "start_time": "2018-04-24T00:20:00.446521Z"
    }
   },
   "outputs": [],
   "source": [
    "\n",
    "@time_and_log\n",
    "def test():\n",
    "    time.sleep(2)\n",
    "    print('done')\n",
    "    "
   ]
  },
  {
   "cell_type": "code",
   "execution_count": null,
   "metadata": {
    "ExecuteTime": {
     "end_time": "2018-04-24T00:20:02.464949Z",
     "start_time": "2018-04-24T00:20:00.454176Z"
    }
   },
   "outputs": [],
   "source": [
    "test()"
   ]
  },
  {
   "cell_type": "code",
   "execution_count": null,
   "metadata": {},
   "outputs": [],
   "source": []
  }
 ],
 "metadata": {
  "kernelspec": {
   "display_name": "Python 3",
   "language": "python",
   "name": "python3"
  },
  "language_info": {
   "codemirror_mode": {
    "name": "ipython",
    "version": 3
   },
   "file_extension": ".py",
   "mimetype": "text/x-python",
   "name": "python",
   "nbconvert_exporter": "python",
   "pygments_lexer": "ipython3",
   "version": "3.4.3"
  },
  "toc": {
   "colors": {
    "hover_highlight": "#DAA520",
    "navigate_num": "#000000",
    "navigate_text": "#333333",
    "running_highlight": "#FF0000",
    "selected_highlight": "#FFD700",
    "sidebar_border": "#EEEEEE",
    "wrapper_background": "#FFFFFF"
   },
   "moveMenuLeft": true,
   "nav_menu": {
    "height": "12px",
    "width": "252px"
   },
   "navigate_menu": true,
   "number_sections": true,
   "sideBar": true,
   "threshold": 4,
   "toc_cell": false,
   "toc_section_display": "block",
   "toc_window_display": false,
   "widenNotebook": false
  }
 },
 "nbformat": 4,
 "nbformat_minor": 2
}
